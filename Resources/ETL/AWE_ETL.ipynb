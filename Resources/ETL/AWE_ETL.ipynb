{
 "metadata": {
  "language_info": {
   "codemirror_mode": {
    "name": "ipython",
    "version": 3
   },
   "file_extension": ".py",
   "mimetype": "text/x-python",
   "name": "python",
   "nbconvert_exporter": "python",
   "pygments_lexer": "ipython3",
   "version": "3.7.7-final"
  },
  "orig_nbformat": 2,
  "kernelspec": {
   "name": "python3",
   "display_name": "Python 3.7.7 64-bit ('PythonData': conda)",
   "metadata": {
    "interpreter": {
     "hash": "3c5e2088a8d666f9b07449b825a0a70e79426a36469aed97a89c39f2ef3abf9d"
    }
   }
  }
 },
 "nbformat": 4,
 "nbformat_minor": 2,
 "cells": [
  {
   "cell_type": "code",
   "execution_count": 1,
   "metadata": {},
   "outputs": [],
   "source": [
    "import pandas as pd \n",
    "import pymongo\n",
    "import dns\n",
    "from pymongo import MongoClient\n",
    "import os"
   ]
  },
  {
   "cell_type": "code",
   "execution_count": 2,
   "metadata": {},
   "outputs": [
    {
     "output_type": "execute_result",
     "data": {
      "text/plain": [
       "                        _id  area_code             series id  year period  \\\n",
       "0  60377cf51a49fbce1471a91a      10180  SMU48101800500000011  2019    M12   \n",
       "1  60377cf51a49fbce1471a91b      10180  SMU48101800500000011  2019    M11   \n",
       "2  60377cf51a49fbce1471a91c      10180  SMU48101800500000011  2019    M10   \n",
       "3  60377cf51a49fbce1471a91d      10180  SMU48101800500000011  2019    M09   \n",
       "4  60377cf51a49fbce1471a91e      10180  SMU48101800500000011  2019    M08   \n",
       "\n",
       "  period_name   value  \n",
       "0    December  743.21  \n",
       "1    November  703.10  \n",
       "2     October  718.06  \n",
       "3   September  740.00  \n",
       "4      August  747.40  "
      ],
      "text/html": "<div>\n<style scoped>\n    .dataframe tbody tr th:only-of-type {\n        vertical-align: middle;\n    }\n\n    .dataframe tbody tr th {\n        vertical-align: top;\n    }\n\n    .dataframe thead th {\n        text-align: right;\n    }\n</style>\n<table border=\"1\" class=\"dataframe\">\n  <thead>\n    <tr style=\"text-align: right;\">\n      <th></th>\n      <th>_id</th>\n      <th>area_code</th>\n      <th>series id</th>\n      <th>year</th>\n      <th>period</th>\n      <th>period_name</th>\n      <th>value</th>\n    </tr>\n  </thead>\n  <tbody>\n    <tr>\n      <th>0</th>\n      <td>60377cf51a49fbce1471a91a</td>\n      <td>10180</td>\n      <td>SMU48101800500000011</td>\n      <td>2019</td>\n      <td>M12</td>\n      <td>December</td>\n      <td>743.21</td>\n    </tr>\n    <tr>\n      <th>1</th>\n      <td>60377cf51a49fbce1471a91b</td>\n      <td>10180</td>\n      <td>SMU48101800500000011</td>\n      <td>2019</td>\n      <td>M11</td>\n      <td>November</td>\n      <td>703.10</td>\n    </tr>\n    <tr>\n      <th>2</th>\n      <td>60377cf51a49fbce1471a91c</td>\n      <td>10180</td>\n      <td>SMU48101800500000011</td>\n      <td>2019</td>\n      <td>M10</td>\n      <td>October</td>\n      <td>718.06</td>\n    </tr>\n    <tr>\n      <th>3</th>\n      <td>60377cf51a49fbce1471a91d</td>\n      <td>10180</td>\n      <td>SMU48101800500000011</td>\n      <td>2019</td>\n      <td>M09</td>\n      <td>September</td>\n      <td>740.00</td>\n    </tr>\n    <tr>\n      <th>4</th>\n      <td>60377cf51a49fbce1471a91e</td>\n      <td>10180</td>\n      <td>SMU48101800500000011</td>\n      <td>2019</td>\n      <td>M08</td>\n      <td>August</td>\n      <td>747.40</td>\n    </tr>\n  </tbody>\n</table>\n</div>"
     },
     "metadata": {},
     "execution_count": 2
    }
   ],
   "source": [
    "# Create instance of MongoClient\n",
    "client = MongoClient()\n",
    "# Connection URI\n",
    "# connStr = os.getenv('MONGO_CONN')\n",
    "connStr = os.getenv('MONGO_CONN')\n",
    "client = MongoClient(connStr)\n",
    "# Select database\n",
    "db = client['MSA']\n",
    "# Select the collection within the database (in this case its GDP_raw data, check list below for other collections)\n",
    "df = db.AvgWeeklyEarningsAllEmp_raw\n",
    "# Convert entire collection to Pandas dataframe\n",
    "df_awe = pd.DataFrame(list(df.find()))\n",
    "df_awe.head()"
   ]
  },
  {
   "cell_type": "code",
   "execution_count": 3,
   "metadata": {},
   "outputs": [
    {
     "output_type": "execute_result",
     "data": {
      "text/plain": [
       "   area_code  year period period_name   value\n",
       "0      10180  2019    M12    December  743.21\n",
       "1      10180  2019    M11    November  703.10\n",
       "2      10180  2019    M10     October  718.06\n",
       "3      10180  2019    M09   September  740.00\n",
       "4      10180  2019    M08      August  747.40"
      ],
      "text/html": "<div>\n<style scoped>\n    .dataframe tbody tr th:only-of-type {\n        vertical-align: middle;\n    }\n\n    .dataframe tbody tr th {\n        vertical-align: top;\n    }\n\n    .dataframe thead th {\n        text-align: right;\n    }\n</style>\n<table border=\"1\" class=\"dataframe\">\n  <thead>\n    <tr style=\"text-align: right;\">\n      <th></th>\n      <th>area_code</th>\n      <th>year</th>\n      <th>period</th>\n      <th>period_name</th>\n      <th>value</th>\n    </tr>\n  </thead>\n  <tbody>\n    <tr>\n      <th>0</th>\n      <td>10180</td>\n      <td>2019</td>\n      <td>M12</td>\n      <td>December</td>\n      <td>743.21</td>\n    </tr>\n    <tr>\n      <th>1</th>\n      <td>10180</td>\n      <td>2019</td>\n      <td>M11</td>\n      <td>November</td>\n      <td>703.10</td>\n    </tr>\n    <tr>\n      <th>2</th>\n      <td>10180</td>\n      <td>2019</td>\n      <td>M10</td>\n      <td>October</td>\n      <td>718.06</td>\n    </tr>\n    <tr>\n      <th>3</th>\n      <td>10180</td>\n      <td>2019</td>\n      <td>M09</td>\n      <td>September</td>\n      <td>740.00</td>\n    </tr>\n    <tr>\n      <th>4</th>\n      <td>10180</td>\n      <td>2019</td>\n      <td>M08</td>\n      <td>August</td>\n      <td>747.40</td>\n    </tr>\n  </tbody>\n</table>\n</div>"
     },
     "metadata": {},
     "execution_count": 3
    }
   ],
   "source": [
    "# dropping series id and _id columns\n",
    "df_awe = df_awe.drop(columns=['series id','_id'], axis=1)\n",
    "df_awe.head()"
   ]
  },
  {
   "cell_type": "code",
   "execution_count": 4,
   "metadata": {},
   "outputs": [],
   "source": [
    "#removing M character from the period column\n",
    "\n",
    "df_awe['period'] = df_awe['period'].str.replace('[M]', '')"
   ]
  },
  {
   "cell_type": "code",
   "execution_count": 5,
   "metadata": {},
   "outputs": [],
   "source": [
    "df_awe.rename(columns={'area_code' : 'CBSA'}, inplace=True)"
   ]
  },
  {
   "cell_type": "code",
   "execution_count": 6,
   "metadata": {},
   "outputs": [
    {
     "output_type": "execute_result",
     "data": {
      "text/plain": [
       "    CBSA  year period   value\n",
       "0  10180  2019     12  743.21\n",
       "1  10180  2019     11  703.10\n",
       "2  10180  2019     10  718.06\n",
       "3  10180  2019     09  740.00\n",
       "4  10180  2019     08  747.40"
      ],
      "text/html": "<div>\n<style scoped>\n    .dataframe tbody tr th:only-of-type {\n        vertical-align: middle;\n    }\n\n    .dataframe tbody tr th {\n        vertical-align: top;\n    }\n\n    .dataframe thead th {\n        text-align: right;\n    }\n</style>\n<table border=\"1\" class=\"dataframe\">\n  <thead>\n    <tr style=\"text-align: right;\">\n      <th></th>\n      <th>CBSA</th>\n      <th>year</th>\n      <th>period</th>\n      <th>value</th>\n    </tr>\n  </thead>\n  <tbody>\n    <tr>\n      <th>0</th>\n      <td>10180</td>\n      <td>2019</td>\n      <td>12</td>\n      <td>743.21</td>\n    </tr>\n    <tr>\n      <th>1</th>\n      <td>10180</td>\n      <td>2019</td>\n      <td>11</td>\n      <td>703.10</td>\n    </tr>\n    <tr>\n      <th>2</th>\n      <td>10180</td>\n      <td>2019</td>\n      <td>10</td>\n      <td>718.06</td>\n    </tr>\n    <tr>\n      <th>3</th>\n      <td>10180</td>\n      <td>2019</td>\n      <td>09</td>\n      <td>740.00</td>\n    </tr>\n    <tr>\n      <th>4</th>\n      <td>10180</td>\n      <td>2019</td>\n      <td>08</td>\n      <td>747.40</td>\n    </tr>\n  </tbody>\n</table>\n</div>"
     },
     "metadata": {},
     "execution_count": 6
    }
   ],
   "source": [
    "df_awe = df_awe.drop(columns=['period_name'], axis=1)\n",
    "df_awe.head()"
   ]
  },
  {
   "cell_type": "code",
   "execution_count": 7,
   "metadata": {},
   "outputs": [
    {
     "output_type": "execute_result",
     "data": {
      "text/plain": [
       "CBSA        int64\n",
       "year        int64\n",
       "period     object\n",
       "value     float64\n",
       "dtype: object"
      ]
     },
     "metadata": {},
     "execution_count": 7
    }
   ],
   "source": [
    "df_awe.dtypes"
   ]
  },
  {
   "cell_type": "code",
   "execution_count": 8,
   "metadata": {},
   "outputs": [
    {
     "output_type": "execute_result",
     "data": {
      "text/plain": [
       "CBSA      int64\n",
       "year      int64\n",
       "period    int64\n",
       "value     int64\n",
       "dtype: object"
      ]
     },
     "metadata": {},
     "execution_count": 8
    }
   ],
   "source": [
    "# changing dtypes to int64\n",
    "df_awe.astype('int64').dtypes"
   ]
  },
  {
   "cell_type": "code",
   "execution_count": null,
   "metadata": {},
   "outputs": [],
   "source": [
    "df['sum']"
   ]
  },
  {
   "cell_type": "code",
   "execution_count": 16,
   "metadata": {},
   "outputs": [
    {
     "output_type": "execute_result",
     "data": {
      "text/plain": [
       "CBSA   year\n",
       "10180  2010    592.235833\n",
       "       2011    663.810000\n",
       "       2012    684.159167\n",
       "       2013    649.516667\n",
       "       2014    621.499167\n",
       "                  ...    \n",
       "93562  2015    927.505833\n",
       "       2016    974.663333\n",
       "       2017    979.781667\n",
       "       2018    996.978333\n",
       "       2019    983.575833\n",
       "Name: value, Length: 3807, dtype: float64"
      ]
     },
     "metadata": {},
     "execution_count": 16
    }
   ],
   "source": [
    "df_awe.groupby(['CBSA', 'year'])['value'].mean()\n"
   ]
  },
  {
   "cell_type": "code",
   "execution_count": null,
   "metadata": {},
   "outputs": [],
   "source": [
    "new_df = df_awe.columns()"
   ]
  }
 ]
}