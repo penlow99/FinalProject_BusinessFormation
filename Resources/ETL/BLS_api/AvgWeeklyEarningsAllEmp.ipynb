{
 "metadata": {
  "language_info": {
   "codemirror_mode": {
    "name": "ipython",
    "version": 3
   },
   "file_extension": ".py",
   "mimetype": "text/x-python",
   "name": "python",
   "nbconvert_exporter": "python",
   "pygments_lexer": "ipython3",
   "version": "3.8.5-final"
  },
  "orig_nbformat": 2,
  "kernelspec": {
   "name": "python3",
   "display_name": "Python 3.8.5 64-bit ('PythonData': conda)",
   "metadata": {
    "interpreter": {
     "hash": "e23f4f60931143176db9ec6317533e574a91510be5bd7dc0753f3d7ca18e38be"
    }
   }
  }
 },
 "nbformat": 4,
 "nbformat_minor": 2,
 "cells": [
  {
   "cell_type": "code",
   "execution_count": 20,
   "metadata": {},
   "outputs": [],
   "source": [
    "import requests\n",
    "import pandas as pd \n",
    "import json\n",
    "import pymongo\n",
    "from pymongo import MongoClient"
   ]
  },
  {
   "cell_type": "code",
   "execution_count": 21,
   "metadata": {},
   "outputs": [],
   "source": [
    "# table_header = 'Total Private-Total Private-Average Weekly Earnings of All Employees, In Dollars'\n",
    "table_name = 'AvgWeeklyEarningsAllEmp.csv'"
   ]
  },
  {
   "cell_type": "code",
   "execution_count": 23,
   "metadata": {},
   "outputs": [
    {
     "output_type": "execute_result",
     "data": {
      "text/plain": [
       "    CBSA                     MSA_Name Primary_City Primary_State  \\\n",
       "0  10180                  Abilene, TX      Abilene         Texas   \n",
       "1  10420                    Akron, OH        Akron          Ohio   \n",
       "2  10500                   Albany, GA       Albany       Georgia   \n",
       "3  10540           Albany-Lebanon, OR       Albany        Oregon   \n",
       "4  10580  Albany-Schenectady-Troy, NY       Albany      New York   \n",
       "\n",
       "  Primary_State_Code Primary_State_FIPS Primary_County  Primary_County_FIPS  \\\n",
       "0                 TX                 48         Taylor                48441   \n",
       "1                 OH                 39         Summit                39153   \n",
       "2                 GA                 13      Dougherty                13095   \n",
       "3                 OR                 41           Linn                41043   \n",
       "4                 NY                 36         Albany                36001   \n",
       "\n",
       "       lat       lng                                         County_agg  \\\n",
       "0  32.4543  -99.7384       Callahan County, Jones County, Taylor County   \n",
       "1  41.0798  -81.5219                      Portage County, Summit County   \n",
       "2  31.5776  -84.1762  Dougherty County, Lee County, Terrell County, ...   \n",
       "3  44.6274 -123.0966                                        Linn County   \n",
       "4  42.6664  -73.7987  Albany County, Rensselaer County, Saratoga Cou...   \n",
       "\n",
       "                     County_FIPS_agg  \\\n",
       "0                48059, 48253, 48441   \n",
       "1                       39133, 39153   \n",
       "2         13095, 13177, 13273, 13321   \n",
       "3                              41043   \n",
       "4  36001, 36083, 36091, 36093, 36095   \n",
       "\n",
       "                                                zips  \n",
       "0  79605 79699 79603 79601 79607 79606 79602 7960...  \n",
       "1  44306 44307 44304 44305 44302 44303 44301 4430...  \n",
       "2    31721 31701 31707 31705 31702 31703 31706 31708  \n",
       "3                                  97321 97322 97355  \n",
       "4  12208 12209 12204 12206 12207 12202 12203 1220...  "
      ],
      "text/html": "<div>\n<style scoped>\n    .dataframe tbody tr th:only-of-type {\n        vertical-align: middle;\n    }\n\n    .dataframe tbody tr th {\n        vertical-align: top;\n    }\n\n    .dataframe thead th {\n        text-align: right;\n    }\n</style>\n<table border=\"1\" class=\"dataframe\">\n  <thead>\n    <tr style=\"text-align: right;\">\n      <th></th>\n      <th>CBSA</th>\n      <th>MSA_Name</th>\n      <th>Primary_City</th>\n      <th>Primary_State</th>\n      <th>Primary_State_Code</th>\n      <th>Primary_State_FIPS</th>\n      <th>Primary_County</th>\n      <th>Primary_County_FIPS</th>\n      <th>lat</th>\n      <th>lng</th>\n      <th>County_agg</th>\n      <th>County_FIPS_agg</th>\n      <th>zips</th>\n    </tr>\n  </thead>\n  <tbody>\n    <tr>\n      <th>0</th>\n      <td>10180</td>\n      <td>Abilene, TX</td>\n      <td>Abilene</td>\n      <td>Texas</td>\n      <td>TX</td>\n      <td>48</td>\n      <td>Taylor</td>\n      <td>48441</td>\n      <td>32.4543</td>\n      <td>-99.7384</td>\n      <td>Callahan County, Jones County, Taylor County</td>\n      <td>48059, 48253, 48441</td>\n      <td>79605 79699 79603 79601 79607 79606 79602 7960...</td>\n    </tr>\n    <tr>\n      <th>1</th>\n      <td>10420</td>\n      <td>Akron, OH</td>\n      <td>Akron</td>\n      <td>Ohio</td>\n      <td>OH</td>\n      <td>39</td>\n      <td>Summit</td>\n      <td>39153</td>\n      <td>41.0798</td>\n      <td>-81.5219</td>\n      <td>Portage County, Summit County</td>\n      <td>39133, 39153</td>\n      <td>44306 44307 44304 44305 44302 44303 44301 4430...</td>\n    </tr>\n    <tr>\n      <th>2</th>\n      <td>10500</td>\n      <td>Albany, GA</td>\n      <td>Albany</td>\n      <td>Georgia</td>\n      <td>GA</td>\n      <td>13</td>\n      <td>Dougherty</td>\n      <td>13095</td>\n      <td>31.5776</td>\n      <td>-84.1762</td>\n      <td>Dougherty County, Lee County, Terrell County, ...</td>\n      <td>13095, 13177, 13273, 13321</td>\n      <td>31721 31701 31707 31705 31702 31703 31706 31708</td>\n    </tr>\n    <tr>\n      <th>3</th>\n      <td>10540</td>\n      <td>Albany-Lebanon, OR</td>\n      <td>Albany</td>\n      <td>Oregon</td>\n      <td>OR</td>\n      <td>41</td>\n      <td>Linn</td>\n      <td>41043</td>\n      <td>44.6274</td>\n      <td>-123.0966</td>\n      <td>Linn County</td>\n      <td>41043</td>\n      <td>97321 97322 97355</td>\n    </tr>\n    <tr>\n      <th>4</th>\n      <td>10580</td>\n      <td>Albany-Schenectady-Troy, NY</td>\n      <td>Albany</td>\n      <td>New York</td>\n      <td>NY</td>\n      <td>36</td>\n      <td>Albany</td>\n      <td>36001</td>\n      <td>42.6664</td>\n      <td>-73.7987</td>\n      <td>Albany County, Rensselaer County, Saratoga Cou...</td>\n      <td>36001, 36083, 36091, 36093, 36095</td>\n      <td>12208 12209 12204 12206 12207 12202 12203 1220...</td>\n    </tr>\n  </tbody>\n</table>\n</div>"
     },
     "metadata": {},
     "execution_count": 23
    }
   ],
   "source": [
    "df_master = pd.read_excel('../../master_list.xlsx', converters={'Primary_State_FIPS' : lambda x : str(x)})\n",
    "df_master.head()"
   ]
  },
  {
   "cell_type": "code",
   "execution_count": 24,
   "metadata": {},
   "outputs": [
    {
     "output_type": "execute_result",
     "data": {
      "text/plain": [
       "      CBSA                           MSA_Name  area_code  Unnamed: 3  \\\n",
       "0    10180                        Abilene, TX      10180         NaN   \n",
       "1    10420                          Akron, OH      10420         NaN   \n",
       "2    10500                         Albany, GA      10500         NaN   \n",
       "3    10540                 Albany-Lebanon, OR      10540         NaN   \n",
       "4    10580        Albany-Schenectady-Troy, NY      10580         NaN   \n",
       "..     ...                                ...        ...         ...   \n",
       "379  49420                         Yakima, WA      49420         NaN   \n",
       "380  49620                   York-Hanover, PA      49620         NaN   \n",
       "381  49660  Youngstown-Warren-Boardman, OH-PA      49660         NaN   \n",
       "382  49700                      Yuba City, CA      49700         NaN   \n",
       "383  49740                           Yuma, AZ      49740         NaN   \n",
       "\n",
       "     Unnamed: 4  \n",
       "0           NaN  \n",
       "1           NaN  \n",
       "2           NaN  \n",
       "3           NaN  \n",
       "4           NaN  \n",
       "..          ...  \n",
       "379         NaN  \n",
       "380         NaN  \n",
       "381         NaN  \n",
       "382         NaN  \n",
       "383         NaN  \n",
       "\n",
       "[384 rows x 5 columns]"
      ],
      "text/html": "<div>\n<style scoped>\n    .dataframe tbody tr th:only-of-type {\n        vertical-align: middle;\n    }\n\n    .dataframe tbody tr th {\n        vertical-align: top;\n    }\n\n    .dataframe thead th {\n        text-align: right;\n    }\n</style>\n<table border=\"1\" class=\"dataframe\">\n  <thead>\n    <tr style=\"text-align: right;\">\n      <th></th>\n      <th>CBSA</th>\n      <th>MSA_Name</th>\n      <th>area_code</th>\n      <th>Unnamed: 3</th>\n      <th>Unnamed: 4</th>\n    </tr>\n  </thead>\n  <tbody>\n    <tr>\n      <th>0</th>\n      <td>10180</td>\n      <td>Abilene, TX</td>\n      <td>10180</td>\n      <td>NaN</td>\n      <td>NaN</td>\n    </tr>\n    <tr>\n      <th>1</th>\n      <td>10420</td>\n      <td>Akron, OH</td>\n      <td>10420</td>\n      <td>NaN</td>\n      <td>NaN</td>\n    </tr>\n    <tr>\n      <th>2</th>\n      <td>10500</td>\n      <td>Albany, GA</td>\n      <td>10500</td>\n      <td>NaN</td>\n      <td>NaN</td>\n    </tr>\n    <tr>\n      <th>3</th>\n      <td>10540</td>\n      <td>Albany-Lebanon, OR</td>\n      <td>10540</td>\n      <td>NaN</td>\n      <td>NaN</td>\n    </tr>\n    <tr>\n      <th>4</th>\n      <td>10580</td>\n      <td>Albany-Schenectady-Troy, NY</td>\n      <td>10580</td>\n      <td>NaN</td>\n      <td>NaN</td>\n    </tr>\n    <tr>\n      <th>...</th>\n      <td>...</td>\n      <td>...</td>\n      <td>...</td>\n      <td>...</td>\n      <td>...</td>\n    </tr>\n    <tr>\n      <th>379</th>\n      <td>49420</td>\n      <td>Yakima, WA</td>\n      <td>49420</td>\n      <td>NaN</td>\n      <td>NaN</td>\n    </tr>\n    <tr>\n      <th>380</th>\n      <td>49620</td>\n      <td>York-Hanover, PA</td>\n      <td>49620</td>\n      <td>NaN</td>\n      <td>NaN</td>\n    </tr>\n    <tr>\n      <th>381</th>\n      <td>49660</td>\n      <td>Youngstown-Warren-Boardman, OH-PA</td>\n      <td>49660</td>\n      <td>NaN</td>\n      <td>NaN</td>\n    </tr>\n    <tr>\n      <th>382</th>\n      <td>49700</td>\n      <td>Yuba City, CA</td>\n      <td>49700</td>\n      <td>NaN</td>\n      <td>NaN</td>\n    </tr>\n    <tr>\n      <th>383</th>\n      <td>49740</td>\n      <td>Yuma, AZ</td>\n      <td>49740</td>\n      <td>NaN</td>\n      <td>NaN</td>\n    </tr>\n  </tbody>\n</table>\n<p>384 rows × 5 columns</p>\n</div>"
     },
     "metadata": {},
     "execution_count": 24
    }
   ],
   "source": [
    "df_list = pd.read_csv('../temp.csv')\n",
    "df_list"
   ]
  },
  {
   "cell_type": "code",
   "execution_count": 25,
   "metadata": {},
   "outputs": [
    {
     "output_type": "execute_result",
     "data": {
      "text/plain": [
       "    CBSA Primary_State_FIPS\n",
       "0  10180                 48\n",
       "1  10420                 39\n",
       "2  10500                 13\n",
       "3  10540                 41\n",
       "4  10580                 36"
      ],
      "text/html": "<div>\n<style scoped>\n    .dataframe tbody tr th:only-of-type {\n        vertical-align: middle;\n    }\n\n    .dataframe tbody tr th {\n        vertical-align: top;\n    }\n\n    .dataframe thead th {\n        text-align: right;\n    }\n</style>\n<table border=\"1\" class=\"dataframe\">\n  <thead>\n    <tr style=\"text-align: right;\">\n      <th></th>\n      <th>CBSA</th>\n      <th>Primary_State_FIPS</th>\n    </tr>\n  </thead>\n  <tbody>\n    <tr>\n      <th>0</th>\n      <td>10180</td>\n      <td>48</td>\n    </tr>\n    <tr>\n      <th>1</th>\n      <td>10420</td>\n      <td>39</td>\n    </tr>\n    <tr>\n      <th>2</th>\n      <td>10500</td>\n      <td>13</td>\n    </tr>\n    <tr>\n      <th>3</th>\n      <td>10540</td>\n      <td>41</td>\n    </tr>\n    <tr>\n      <th>4</th>\n      <td>10580</td>\n      <td>36</td>\n    </tr>\n  </tbody>\n</table>\n</div>"
     },
     "metadata": {},
     "execution_count": 25
    }
   ],
   "source": [
    "df_listmaker = df_master[['CBSA', 'Primary_State_FIPS']].copy()\n",
    "df_listmaker.head()"
   ]
  },
  {
   "cell_type": "code",
   "execution_count": 26,
   "metadata": {},
   "outputs": [
    {
     "output_type": "execute_result",
     "data": {
      "text/plain": [
       "      CBSA Primary_State_FIPS                           MSA_Name  area_code  \\\n",
       "0    10180                 48                        Abilene, TX      10180   \n",
       "1    10420                 39                          Akron, OH      10420   \n",
       "2    10500                 13                         Albany, GA      10500   \n",
       "3    10540                 41                 Albany-Lebanon, OR      10540   \n",
       "4    10580                 36        Albany-Schenectady-Troy, NY      10580   \n",
       "..     ...                ...                                ...        ...   \n",
       "379  49420                 53                         Yakima, WA      49420   \n",
       "380  49620                 42                   York-Hanover, PA      49620   \n",
       "381  49660                 39  Youngstown-Warren-Boardman, OH-PA      49660   \n",
       "382  49700                 06                      Yuba City, CA      49700   \n",
       "383  49740                 04                           Yuma, AZ      49740   \n",
       "\n",
       "     Unnamed: 3  Unnamed: 4  \n",
       "0           NaN         NaN  \n",
       "1           NaN         NaN  \n",
       "2           NaN         NaN  \n",
       "3           NaN         NaN  \n",
       "4           NaN         NaN  \n",
       "..          ...         ...  \n",
       "379         NaN         NaN  \n",
       "380         NaN         NaN  \n",
       "381         NaN         NaN  \n",
       "382         NaN         NaN  \n",
       "383         NaN         NaN  \n",
       "\n",
       "[384 rows x 6 columns]"
      ],
      "text/html": "<div>\n<style scoped>\n    .dataframe tbody tr th:only-of-type {\n        vertical-align: middle;\n    }\n\n    .dataframe tbody tr th {\n        vertical-align: top;\n    }\n\n    .dataframe thead th {\n        text-align: right;\n    }\n</style>\n<table border=\"1\" class=\"dataframe\">\n  <thead>\n    <tr style=\"text-align: right;\">\n      <th></th>\n      <th>CBSA</th>\n      <th>Primary_State_FIPS</th>\n      <th>MSA_Name</th>\n      <th>area_code</th>\n      <th>Unnamed: 3</th>\n      <th>Unnamed: 4</th>\n    </tr>\n  </thead>\n  <tbody>\n    <tr>\n      <th>0</th>\n      <td>10180</td>\n      <td>48</td>\n      <td>Abilene, TX</td>\n      <td>10180</td>\n      <td>NaN</td>\n      <td>NaN</td>\n    </tr>\n    <tr>\n      <th>1</th>\n      <td>10420</td>\n      <td>39</td>\n      <td>Akron, OH</td>\n      <td>10420</td>\n      <td>NaN</td>\n      <td>NaN</td>\n    </tr>\n    <tr>\n      <th>2</th>\n      <td>10500</td>\n      <td>13</td>\n      <td>Albany, GA</td>\n      <td>10500</td>\n      <td>NaN</td>\n      <td>NaN</td>\n    </tr>\n    <tr>\n      <th>3</th>\n      <td>10540</td>\n      <td>41</td>\n      <td>Albany-Lebanon, OR</td>\n      <td>10540</td>\n      <td>NaN</td>\n      <td>NaN</td>\n    </tr>\n    <tr>\n      <th>4</th>\n      <td>10580</td>\n      <td>36</td>\n      <td>Albany-Schenectady-Troy, NY</td>\n      <td>10580</td>\n      <td>NaN</td>\n      <td>NaN</td>\n    </tr>\n    <tr>\n      <th>...</th>\n      <td>...</td>\n      <td>...</td>\n      <td>...</td>\n      <td>...</td>\n      <td>...</td>\n      <td>...</td>\n    </tr>\n    <tr>\n      <th>379</th>\n      <td>49420</td>\n      <td>53</td>\n      <td>Yakima, WA</td>\n      <td>49420</td>\n      <td>NaN</td>\n      <td>NaN</td>\n    </tr>\n    <tr>\n      <th>380</th>\n      <td>49620</td>\n      <td>42</td>\n      <td>York-Hanover, PA</td>\n      <td>49620</td>\n      <td>NaN</td>\n      <td>NaN</td>\n    </tr>\n    <tr>\n      <th>381</th>\n      <td>49660</td>\n      <td>39</td>\n      <td>Youngstown-Warren-Boardman, OH-PA</td>\n      <td>49660</td>\n      <td>NaN</td>\n      <td>NaN</td>\n    </tr>\n    <tr>\n      <th>382</th>\n      <td>49700</td>\n      <td>06</td>\n      <td>Yuba City, CA</td>\n      <td>49700</td>\n      <td>NaN</td>\n      <td>NaN</td>\n    </tr>\n    <tr>\n      <th>383</th>\n      <td>49740</td>\n      <td>04</td>\n      <td>Yuma, AZ</td>\n      <td>49740</td>\n      <td>NaN</td>\n      <td>NaN</td>\n    </tr>\n  </tbody>\n</table>\n<p>384 rows × 6 columns</p>\n</div>"
     },
     "metadata": {},
     "execution_count": 26
    }
   ],
   "source": [
    "df_listmaker = df_listmaker.merge(df_list, on='CBSA')\n",
    "df_listmaker"
   ]
  },
  {
   "cell_type": "code",
   "execution_count": 18,
   "metadata": {},
   "outputs": [
    {
     "output_type": "execute_result",
     "data": {
      "text/plain": [
       "384"
      ]
     },
     "metadata": {},
     "execution_count": 18
    }
   ],
   "source": [
    "len(df_listmaker)"
   ]
  },
  {
   "cell_type": "code",
   "execution_count": 27,
   "metadata": {},
   "outputs": [],
   "source": [
    "df = pd.DataFrame(columns=[\"area_code\",\"series id\",\"year\",\"period\",\"period_name\",\"value\"])\n",
    "series = []\n",
    "for index, row in df_listmaker.iterrows():\n",
    "    # construct series id by concatenating: Prefix + State Code + CBSA Code + Supersector Code/Industry Code + Data Type Code\n",
    "    series.append('SMU' + row['Primary_State_FIPS'] + str(row['area_code']) + '05000000' + '11')"
   ]
  },
  {
   "cell_type": "code",
   "execution_count": 29,
   "metadata": {},
   "outputs": [
    {
     "output_type": "execute_result",
     "data": {
      "text/plain": [
       "'SMU22107800500000011'"
      ]
     },
     "metadata": {},
     "execution_count": 29
    }
   ],
   "source": [
    "series[6]"
   ]
  },
  {
   "cell_type": "code",
   "execution_count": 32,
   "metadata": {},
   "outputs": [
    {
     "output_type": "stream",
     "name": "stdout",
     "text": [
      "0\n",
      "1\n",
      "2\n",
      "3\n",
      "4\n",
      "5\n",
      "6\n",
      "7\n"
     ]
    }
   ],
   "source": [
    "lister = [series[i:i + 50] for i in range(0, len(series), 50)]\n",
    "\n",
    "for i in range(0, len(lister)):\n",
    "    request_series(lister[i])\n",
    "    print(i)"
   ]
  },
  {
   "cell_type": "code",
   "execution_count": 30,
   "metadata": {},
   "outputs": [],
   "source": [
    "def request_series(series_list):\n",
    "    #  print(series_list)\n",
    "    headers = {'Content-type': 'application/json'}\n",
    "    data = json.dumps({\"seriesid\": series_list,\"startyear\":\"2010\", \"endyear\":\"2019\",\"registrationkey\":\"<key here>\"})\n",
    "    p = requests.post('https://api.bls.gov/publicAPI/v2/timeseries/data/', data=data, headers=headers)\n",
    "    json_data = json.loads(p.text)\n",
    "    if json_data['status'] == 'REQUEST_SUCCEEDED':\n",
    "        add_to_df(json_data)\n",
    "    else:\n",
    "        print(json_data['status'])  "
   ]
  },
  {
   "cell_type": "code",
   "execution_count": 31,
   "metadata": {},
   "outputs": [],
   "source": [
    "def add_to_df(data):\n",
    "    for series in data['Results']['series']:\n",
    "        seriesId = series['seriesID']\n",
    "        cbsaID = seriesId[5:10]\n",
    "        for item in series['data']:\n",
    "            year = item['year']\n",
    "            period = item['period']\n",
    "            period_name = item[\"periodName\"]\n",
    "            value = item['value']\n",
    "            if 'M01' <= period <= 'M12':\n",
    "                df.loc[len(df)] = [cbsaID,seriesId,year,period,period_name,value] \n",
    " "
   ]
  },
  {
   "cell_type": "code",
   "execution_count": 33,
   "metadata": {},
   "outputs": [
    {
     "output_type": "execute_result",
     "data": {
      "text/plain": [
       "      area_code             series id  year period period_name   value\n",
       "0         10180  SMU48101800500000011  2019    M12    December  743.21\n",
       "1         10180  SMU48101800500000011  2019    M11    November  703.10\n",
       "2         10180  SMU48101800500000011  2019    M10     October  718.06\n",
       "3         10180  SMU48101800500000011  2019    M09   September  740.00\n",
       "4         10180  SMU48101800500000011  2019    M08      August  747.40\n",
       "...         ...                   ...   ...    ...         ...     ...\n",
       "45319     49740  SMU04497400500000011  2010    M05         May  523.89\n",
       "45320     49740  SMU04497400500000011  2010    M04       April  537.83\n",
       "45321     49740  SMU04497400500000011  2010    M03       March  537.59\n",
       "45322     49740  SMU04497400500000011  2010    M02    February  533.98\n",
       "45323     49740  SMU04497400500000011  2010    M01     January  504.58\n",
       "\n",
       "[45324 rows x 6 columns]"
      ],
      "text/html": "<div>\n<style scoped>\n    .dataframe tbody tr th:only-of-type {\n        vertical-align: middle;\n    }\n\n    .dataframe tbody tr th {\n        vertical-align: top;\n    }\n\n    .dataframe thead th {\n        text-align: right;\n    }\n</style>\n<table border=\"1\" class=\"dataframe\">\n  <thead>\n    <tr style=\"text-align: right;\">\n      <th></th>\n      <th>area_code</th>\n      <th>series id</th>\n      <th>year</th>\n      <th>period</th>\n      <th>period_name</th>\n      <th>value</th>\n    </tr>\n  </thead>\n  <tbody>\n    <tr>\n      <th>0</th>\n      <td>10180</td>\n      <td>SMU48101800500000011</td>\n      <td>2019</td>\n      <td>M12</td>\n      <td>December</td>\n      <td>743.21</td>\n    </tr>\n    <tr>\n      <th>1</th>\n      <td>10180</td>\n      <td>SMU48101800500000011</td>\n      <td>2019</td>\n      <td>M11</td>\n      <td>November</td>\n      <td>703.10</td>\n    </tr>\n    <tr>\n      <th>2</th>\n      <td>10180</td>\n      <td>SMU48101800500000011</td>\n      <td>2019</td>\n      <td>M10</td>\n      <td>October</td>\n      <td>718.06</td>\n    </tr>\n    <tr>\n      <th>3</th>\n      <td>10180</td>\n      <td>SMU48101800500000011</td>\n      <td>2019</td>\n      <td>M09</td>\n      <td>September</td>\n      <td>740.00</td>\n    </tr>\n    <tr>\n      <th>4</th>\n      <td>10180</td>\n      <td>SMU48101800500000011</td>\n      <td>2019</td>\n      <td>M08</td>\n      <td>August</td>\n      <td>747.40</td>\n    </tr>\n    <tr>\n      <th>...</th>\n      <td>...</td>\n      <td>...</td>\n      <td>...</td>\n      <td>...</td>\n      <td>...</td>\n      <td>...</td>\n    </tr>\n    <tr>\n      <th>45319</th>\n      <td>49740</td>\n      <td>SMU04497400500000011</td>\n      <td>2010</td>\n      <td>M05</td>\n      <td>May</td>\n      <td>523.89</td>\n    </tr>\n    <tr>\n      <th>45320</th>\n      <td>49740</td>\n      <td>SMU04497400500000011</td>\n      <td>2010</td>\n      <td>M04</td>\n      <td>April</td>\n      <td>537.83</td>\n    </tr>\n    <tr>\n      <th>45321</th>\n      <td>49740</td>\n      <td>SMU04497400500000011</td>\n      <td>2010</td>\n      <td>M03</td>\n      <td>March</td>\n      <td>537.59</td>\n    </tr>\n    <tr>\n      <th>45322</th>\n      <td>49740</td>\n      <td>SMU04497400500000011</td>\n      <td>2010</td>\n      <td>M02</td>\n      <td>February</td>\n      <td>533.98</td>\n    </tr>\n    <tr>\n      <th>45323</th>\n      <td>49740</td>\n      <td>SMU04497400500000011</td>\n      <td>2010</td>\n      <td>M01</td>\n      <td>January</td>\n      <td>504.58</td>\n    </tr>\n  </tbody>\n</table>\n<p>45324 rows × 6 columns</p>\n</div>"
     },
     "metadata": {},
     "execution_count": 33
    }
   ],
   "source": [
    "df"
   ]
  },
  {
   "cell_type": "code",
   "execution_count": 34,
   "metadata": {},
   "outputs": [],
   "source": [
    "df.to_csv(table_name, index=False)"
   ]
  },
  {
   "cell_type": "code",
   "execution_count": 61,
   "metadata": {},
   "outputs": [
    {
     "output_type": "execute_result",
     "data": {
      "text/plain": [
       "       area_code             series id  year period period_name   value\n",
       "0          10180  SMU48101800500000011  2019    M12    December  743.21\n",
       "1          10180  SMU48101800500000011  2019    M11    November  703.10\n",
       "2          10180  SMU48101800500000011  2019    M10     October  718.06\n",
       "3          10180  SMU48101800500000011  2019    M09   September  740.00\n",
       "4          10180  SMU48101800500000011  2019    M08      August  747.40\n",
       "...          ...                   ...   ...    ...         ...     ...\n",
       "45679      19340  SMU19269800500000011  2010    M05         May  542.23\n",
       "45680      19340  SMU19269800500000011  2010    M04       April  545.10\n",
       "45681      19340  SMU19269800500000011  2010    M03       March  540.63\n",
       "45682      19340  SMU19269800500000011  2010    M02    February  547.15\n",
       "45683      19340  SMU19269800500000011  2010    M01     January  551.63\n",
       "\n",
       "[45684 rows x 6 columns]"
      ],
      "text/html": "<div>\n<style scoped>\n    .dataframe tbody tr th:only-of-type {\n        vertical-align: middle;\n    }\n\n    .dataframe tbody tr th {\n        vertical-align: top;\n    }\n\n    .dataframe thead th {\n        text-align: right;\n    }\n</style>\n<table border=\"1\" class=\"dataframe\">\n  <thead>\n    <tr style=\"text-align: right;\">\n      <th></th>\n      <th>area_code</th>\n      <th>series id</th>\n      <th>year</th>\n      <th>period</th>\n      <th>period_name</th>\n      <th>value</th>\n    </tr>\n  </thead>\n  <tbody>\n    <tr>\n      <th>0</th>\n      <td>10180</td>\n      <td>SMU48101800500000011</td>\n      <td>2019</td>\n      <td>M12</td>\n      <td>December</td>\n      <td>743.21</td>\n    </tr>\n    <tr>\n      <th>1</th>\n      <td>10180</td>\n      <td>SMU48101800500000011</td>\n      <td>2019</td>\n      <td>M11</td>\n      <td>November</td>\n      <td>703.10</td>\n    </tr>\n    <tr>\n      <th>2</th>\n      <td>10180</td>\n      <td>SMU48101800500000011</td>\n      <td>2019</td>\n      <td>M10</td>\n      <td>October</td>\n      <td>718.06</td>\n    </tr>\n    <tr>\n      <th>3</th>\n      <td>10180</td>\n      <td>SMU48101800500000011</td>\n      <td>2019</td>\n      <td>M09</td>\n      <td>September</td>\n      <td>740.00</td>\n    </tr>\n    <tr>\n      <th>4</th>\n      <td>10180</td>\n      <td>SMU48101800500000011</td>\n      <td>2019</td>\n      <td>M08</td>\n      <td>August</td>\n      <td>747.40</td>\n    </tr>\n    <tr>\n      <th>...</th>\n      <td>...</td>\n      <td>...</td>\n      <td>...</td>\n      <td>...</td>\n      <td>...</td>\n      <td>...</td>\n    </tr>\n    <tr>\n      <th>45679</th>\n      <td>19340</td>\n      <td>SMU19269800500000011</td>\n      <td>2010</td>\n      <td>M05</td>\n      <td>May</td>\n      <td>542.23</td>\n    </tr>\n    <tr>\n      <th>45680</th>\n      <td>19340</td>\n      <td>SMU19269800500000011</td>\n      <td>2010</td>\n      <td>M04</td>\n      <td>April</td>\n      <td>545.10</td>\n    </tr>\n    <tr>\n      <th>45681</th>\n      <td>19340</td>\n      <td>SMU19269800500000011</td>\n      <td>2010</td>\n      <td>M03</td>\n      <td>March</td>\n      <td>540.63</td>\n    </tr>\n    <tr>\n      <th>45682</th>\n      <td>19340</td>\n      <td>SMU19269800500000011</td>\n      <td>2010</td>\n      <td>M02</td>\n      <td>February</td>\n      <td>547.15</td>\n    </tr>\n    <tr>\n      <th>45683</th>\n      <td>19340</td>\n      <td>SMU19269800500000011</td>\n      <td>2010</td>\n      <td>M01</td>\n      <td>January</td>\n      <td>551.63</td>\n    </tr>\n  </tbody>\n</table>\n<p>45684 rows × 6 columns</p>\n</div>"
     },
     "metadata": {},
     "execution_count": 61
    }
   ],
   "source": [
    "df = pd.read_csv('../CSVs/AvgWeeklyEarningsAllEmp.csv')\n",
    "df"
   ]
  },
  {
   "cell_type": "code",
   "execution_count": 60,
   "metadata": {},
   "outputs": [
    {
     "output_type": "execute_result",
     "data": {
      "text/plain": [
       "       area_code             series id  year period period_name   value\n",
       "40812      45540  SMU12455400500000011  2019    M12    December  832.12\n",
       "40813      45540  SMU12455400500000011  2019    M11    November  809.36\n",
       "40814      45540  SMU12455400500000011  2019    M10     October  816.20\n",
       "40815      45540  SMU12455400500000011  2019    M09   September  803.85\n",
       "40816      45540  SMU12455400500000011  2019    M08      August  785.40\n",
       "...          ...                   ...   ...    ...         ...     ...\n",
       "40915      45540  SMU12455400500000011  2011    M05         May  731.28\n",
       "40916      45540  SMU12455400500000011  2011    M04       April  761.20\n",
       "40917      45540  SMU12455400500000011  2011    M03       March  706.92\n",
       "40918      45540  SMU12455400500000011  2011    M02    February  695.36\n",
       "40919      45540  SMU12455400500000011  2011    M01     January  698.83\n",
       "\n",
       "[108 rows x 6 columns]"
      ],
      "text/html": "<div>\n<style scoped>\n    .dataframe tbody tr th:only-of-type {\n        vertical-align: middle;\n    }\n\n    .dataframe tbody tr th {\n        vertical-align: top;\n    }\n\n    .dataframe thead th {\n        text-align: right;\n    }\n</style>\n<table border=\"1\" class=\"dataframe\">\n  <thead>\n    <tr style=\"text-align: right;\">\n      <th></th>\n      <th>area_code</th>\n      <th>series id</th>\n      <th>year</th>\n      <th>period</th>\n      <th>period_name</th>\n      <th>value</th>\n    </tr>\n  </thead>\n  <tbody>\n    <tr>\n      <th>40812</th>\n      <td>45540</td>\n      <td>SMU12455400500000011</td>\n      <td>2019</td>\n      <td>M12</td>\n      <td>December</td>\n      <td>832.12</td>\n    </tr>\n    <tr>\n      <th>40813</th>\n      <td>45540</td>\n      <td>SMU12455400500000011</td>\n      <td>2019</td>\n      <td>M11</td>\n      <td>November</td>\n      <td>809.36</td>\n    </tr>\n    <tr>\n      <th>40814</th>\n      <td>45540</td>\n      <td>SMU12455400500000011</td>\n      <td>2019</td>\n      <td>M10</td>\n      <td>October</td>\n      <td>816.20</td>\n    </tr>\n    <tr>\n      <th>40815</th>\n      <td>45540</td>\n      <td>SMU12455400500000011</td>\n      <td>2019</td>\n      <td>M09</td>\n      <td>September</td>\n      <td>803.85</td>\n    </tr>\n    <tr>\n      <th>40816</th>\n      <td>45540</td>\n      <td>SMU12455400500000011</td>\n      <td>2019</td>\n      <td>M08</td>\n      <td>August</td>\n      <td>785.40</td>\n    </tr>\n    <tr>\n      <th>...</th>\n      <td>...</td>\n      <td>...</td>\n      <td>...</td>\n      <td>...</td>\n      <td>...</td>\n      <td>...</td>\n    </tr>\n    <tr>\n      <th>40915</th>\n      <td>45540</td>\n      <td>SMU12455400500000011</td>\n      <td>2011</td>\n      <td>M05</td>\n      <td>May</td>\n      <td>731.28</td>\n    </tr>\n    <tr>\n      <th>40916</th>\n      <td>45540</td>\n      <td>SMU12455400500000011</td>\n      <td>2011</td>\n      <td>M04</td>\n      <td>April</td>\n      <td>761.20</td>\n    </tr>\n    <tr>\n      <th>40917</th>\n      <td>45540</td>\n      <td>SMU12455400500000011</td>\n      <td>2011</td>\n      <td>M03</td>\n      <td>March</td>\n      <td>706.92</td>\n    </tr>\n    <tr>\n      <th>40918</th>\n      <td>45540</td>\n      <td>SMU12455400500000011</td>\n      <td>2011</td>\n      <td>M02</td>\n      <td>February</td>\n      <td>695.36</td>\n    </tr>\n    <tr>\n      <th>40919</th>\n      <td>45540</td>\n      <td>SMU12455400500000011</td>\n      <td>2011</td>\n      <td>M01</td>\n      <td>January</td>\n      <td>698.83</td>\n    </tr>\n  </tbody>\n</table>\n<p>108 rows × 6 columns</p>\n</div>"
     },
     "metadata": {},
     "execution_count": 60
    }
   ],
   "source": [
    "ser_45540 = df[df.area_code == 45540]\n",
    "ser_45540"
   ]
  },
  {
   "cell_type": "code",
   "execution_count": 50,
   "metadata": {},
   "outputs": [
    {
     "output_type": "execute_result",
     "data": {
      "text/plain": [
       "     area_code  series id  year  period  period_name  value\n",
       "171      27980        108   108     108          108    108\n",
       "84       19300        108   108     108          108    108\n",
       "148      25940        108   108     108          108    108\n",
       "352      48060        108   108     108          108    108\n",
       "308      42700        108   108     108          108    108\n",
       "133      24420        108   108     108          108    108\n",
       "36       14010        108   108     108          108    108\n",
       "348      47460        108   108     108          108    108\n",
       "38       14100        108   108     108          108    108\n",
       "312      43420        108   108     108          108    108\n",
       "28       13220        108   108     108          108    108\n",
       "259      37980        108   108     108          108    108\n",
       "240      35620        108   108     108          108    108\n",
       "47       15680        108   108     108          108    108\n",
       "337      46300        108   108     108          108    108\n",
       "51       16060        108   108     108          108    108\n",
       "142      25220        108   108     108          108    108\n",
       "55       16540        108   108     108          108    108\n",
       "322      44420        108   108     108          108    108\n",
       "330      45540        108   108     108          108    108\n",
       "150      26140        108   108     108          108    108\n",
       "238      35100        108   108     108          108    108\n",
       "130      24260        108   108     108          108    108\n",
       "63       16980        108   108     108          108    108\n",
       "98       20700        108   108     108          108    108\n",
       "370      71650        108   108     108          108    108\n",
       "297      41860        108   108     108          108    108\n",
       "105      21420        108   108     108          108    108\n",
       "183      29200        108   108     108          108    108\n",
       "219      33220        108   108     108          108    108\n",
       "3        10540        108   108     108          108    108\n",
       "92       19820        108   108     108          108    108\n",
       "126      23900        108   108     108          108    108\n",
       "280      40380        120   120     120          120    120\n",
       "253      37100        120   120     120          120    120\n",
       "257      37860        120   120     120          120    120\n",
       "251      36780        120   120     120          120    120\n",
       "254      37340        120   120     120          120    120\n",
       "281      40420        120   120     120          120    120\n",
       "255      37460        120   120     120          120    120\n",
       "279      40340        120   120     120          120    120\n",
       "278      40220        120   120     120          120    120\n",
       "277      40140        120   120     120          120    120\n",
       "256      37620        120   120     120          120    120\n",
       "252      36980        120   120     120          120    120\n",
       "276      40060        120   120     120          120    120\n",
       "267      39340        120   120     120          120    120\n",
       "258      37900        120   120     120          120    120\n",
       "266      39140        120   120     120          120    120\n",
       "265      38940        120   120     120          120    120"
      ],
      "text/html": "<div>\n<style scoped>\n    .dataframe tbody tr th:only-of-type {\n        vertical-align: middle;\n    }\n\n    .dataframe tbody tr th {\n        vertical-align: top;\n    }\n\n    .dataframe thead th {\n        text-align: right;\n    }\n</style>\n<table border=\"1\" class=\"dataframe\">\n  <thead>\n    <tr style=\"text-align: right;\">\n      <th></th>\n      <th>area_code</th>\n      <th>series id</th>\n      <th>year</th>\n      <th>period</th>\n      <th>period_name</th>\n      <th>value</th>\n    </tr>\n  </thead>\n  <tbody>\n    <tr>\n      <th>171</th>\n      <td>27980</td>\n      <td>108</td>\n      <td>108</td>\n      <td>108</td>\n      <td>108</td>\n      <td>108</td>\n    </tr>\n    <tr>\n      <th>84</th>\n      <td>19300</td>\n      <td>108</td>\n      <td>108</td>\n      <td>108</td>\n      <td>108</td>\n      <td>108</td>\n    </tr>\n    <tr>\n      <th>148</th>\n      <td>25940</td>\n      <td>108</td>\n      <td>108</td>\n      <td>108</td>\n      <td>108</td>\n      <td>108</td>\n    </tr>\n    <tr>\n      <th>352</th>\n      <td>48060</td>\n      <td>108</td>\n      <td>108</td>\n      <td>108</td>\n      <td>108</td>\n      <td>108</td>\n    </tr>\n    <tr>\n      <th>308</th>\n      <td>42700</td>\n      <td>108</td>\n      <td>108</td>\n      <td>108</td>\n      <td>108</td>\n      <td>108</td>\n    </tr>\n    <tr>\n      <th>133</th>\n      <td>24420</td>\n      <td>108</td>\n      <td>108</td>\n      <td>108</td>\n      <td>108</td>\n      <td>108</td>\n    </tr>\n    <tr>\n      <th>36</th>\n      <td>14010</td>\n      <td>108</td>\n      <td>108</td>\n      <td>108</td>\n      <td>108</td>\n      <td>108</td>\n    </tr>\n    <tr>\n      <th>348</th>\n      <td>47460</td>\n      <td>108</td>\n      <td>108</td>\n      <td>108</td>\n      <td>108</td>\n      <td>108</td>\n    </tr>\n    <tr>\n      <th>38</th>\n      <td>14100</td>\n      <td>108</td>\n      <td>108</td>\n      <td>108</td>\n      <td>108</td>\n      <td>108</td>\n    </tr>\n    <tr>\n      <th>312</th>\n      <td>43420</td>\n      <td>108</td>\n      <td>108</td>\n      <td>108</td>\n      <td>108</td>\n      <td>108</td>\n    </tr>\n    <tr>\n      <th>28</th>\n      <td>13220</td>\n      <td>108</td>\n      <td>108</td>\n      <td>108</td>\n      <td>108</td>\n      <td>108</td>\n    </tr>\n    <tr>\n      <th>259</th>\n      <td>37980</td>\n      <td>108</td>\n      <td>108</td>\n      <td>108</td>\n      <td>108</td>\n      <td>108</td>\n    </tr>\n    <tr>\n      <th>240</th>\n      <td>35620</td>\n      <td>108</td>\n      <td>108</td>\n      <td>108</td>\n      <td>108</td>\n      <td>108</td>\n    </tr>\n    <tr>\n      <th>47</th>\n      <td>15680</td>\n      <td>108</td>\n      <td>108</td>\n      <td>108</td>\n      <td>108</td>\n      <td>108</td>\n    </tr>\n    <tr>\n      <th>337</th>\n      <td>46300</td>\n      <td>108</td>\n      <td>108</td>\n      <td>108</td>\n      <td>108</td>\n      <td>108</td>\n    </tr>\n    <tr>\n      <th>51</th>\n      <td>16060</td>\n      <td>108</td>\n      <td>108</td>\n      <td>108</td>\n      <td>108</td>\n      <td>108</td>\n    </tr>\n    <tr>\n      <th>142</th>\n      <td>25220</td>\n      <td>108</td>\n      <td>108</td>\n      <td>108</td>\n      <td>108</td>\n      <td>108</td>\n    </tr>\n    <tr>\n      <th>55</th>\n      <td>16540</td>\n      <td>108</td>\n      <td>108</td>\n      <td>108</td>\n      <td>108</td>\n      <td>108</td>\n    </tr>\n    <tr>\n      <th>322</th>\n      <td>44420</td>\n      <td>108</td>\n      <td>108</td>\n      <td>108</td>\n      <td>108</td>\n      <td>108</td>\n    </tr>\n    <tr>\n      <th>330</th>\n      <td>45540</td>\n      <td>108</td>\n      <td>108</td>\n      <td>108</td>\n      <td>108</td>\n      <td>108</td>\n    </tr>\n    <tr>\n      <th>150</th>\n      <td>26140</td>\n      <td>108</td>\n      <td>108</td>\n      <td>108</td>\n      <td>108</td>\n      <td>108</td>\n    </tr>\n    <tr>\n      <th>238</th>\n      <td>35100</td>\n      <td>108</td>\n      <td>108</td>\n      <td>108</td>\n      <td>108</td>\n      <td>108</td>\n    </tr>\n    <tr>\n      <th>130</th>\n      <td>24260</td>\n      <td>108</td>\n      <td>108</td>\n      <td>108</td>\n      <td>108</td>\n      <td>108</td>\n    </tr>\n    <tr>\n      <th>63</th>\n      <td>16980</td>\n      <td>108</td>\n      <td>108</td>\n      <td>108</td>\n      <td>108</td>\n      <td>108</td>\n    </tr>\n    <tr>\n      <th>98</th>\n      <td>20700</td>\n      <td>108</td>\n      <td>108</td>\n      <td>108</td>\n      <td>108</td>\n      <td>108</td>\n    </tr>\n    <tr>\n      <th>370</th>\n      <td>71650</td>\n      <td>108</td>\n      <td>108</td>\n      <td>108</td>\n      <td>108</td>\n      <td>108</td>\n    </tr>\n    <tr>\n      <th>297</th>\n      <td>41860</td>\n      <td>108</td>\n      <td>108</td>\n      <td>108</td>\n      <td>108</td>\n      <td>108</td>\n    </tr>\n    <tr>\n      <th>105</th>\n      <td>21420</td>\n      <td>108</td>\n      <td>108</td>\n      <td>108</td>\n      <td>108</td>\n      <td>108</td>\n    </tr>\n    <tr>\n      <th>183</th>\n      <td>29200</td>\n      <td>108</td>\n      <td>108</td>\n      <td>108</td>\n      <td>108</td>\n      <td>108</td>\n    </tr>\n    <tr>\n      <th>219</th>\n      <td>33220</td>\n      <td>108</td>\n      <td>108</td>\n      <td>108</td>\n      <td>108</td>\n      <td>108</td>\n    </tr>\n    <tr>\n      <th>3</th>\n      <td>10540</td>\n      <td>108</td>\n      <td>108</td>\n      <td>108</td>\n      <td>108</td>\n      <td>108</td>\n    </tr>\n    <tr>\n      <th>92</th>\n      <td>19820</td>\n      <td>108</td>\n      <td>108</td>\n      <td>108</td>\n      <td>108</td>\n      <td>108</td>\n    </tr>\n    <tr>\n      <th>126</th>\n      <td>23900</td>\n      <td>108</td>\n      <td>108</td>\n      <td>108</td>\n      <td>108</td>\n      <td>108</td>\n    </tr>\n    <tr>\n      <th>280</th>\n      <td>40380</td>\n      <td>120</td>\n      <td>120</td>\n      <td>120</td>\n      <td>120</td>\n      <td>120</td>\n    </tr>\n    <tr>\n      <th>253</th>\n      <td>37100</td>\n      <td>120</td>\n      <td>120</td>\n      <td>120</td>\n      <td>120</td>\n      <td>120</td>\n    </tr>\n    <tr>\n      <th>257</th>\n      <td>37860</td>\n      <td>120</td>\n      <td>120</td>\n      <td>120</td>\n      <td>120</td>\n      <td>120</td>\n    </tr>\n    <tr>\n      <th>251</th>\n      <td>36780</td>\n      <td>120</td>\n      <td>120</td>\n      <td>120</td>\n      <td>120</td>\n      <td>120</td>\n    </tr>\n    <tr>\n      <th>254</th>\n      <td>37340</td>\n      <td>120</td>\n      <td>120</td>\n      <td>120</td>\n      <td>120</td>\n      <td>120</td>\n    </tr>\n    <tr>\n      <th>281</th>\n      <td>40420</td>\n      <td>120</td>\n      <td>120</td>\n      <td>120</td>\n      <td>120</td>\n      <td>120</td>\n    </tr>\n    <tr>\n      <th>255</th>\n      <td>37460</td>\n      <td>120</td>\n      <td>120</td>\n      <td>120</td>\n      <td>120</td>\n      <td>120</td>\n    </tr>\n    <tr>\n      <th>279</th>\n      <td>40340</td>\n      <td>120</td>\n      <td>120</td>\n      <td>120</td>\n      <td>120</td>\n      <td>120</td>\n    </tr>\n    <tr>\n      <th>278</th>\n      <td>40220</td>\n      <td>120</td>\n      <td>120</td>\n      <td>120</td>\n      <td>120</td>\n      <td>120</td>\n    </tr>\n    <tr>\n      <th>277</th>\n      <td>40140</td>\n      <td>120</td>\n      <td>120</td>\n      <td>120</td>\n      <td>120</td>\n      <td>120</td>\n    </tr>\n    <tr>\n      <th>256</th>\n      <td>37620</td>\n      <td>120</td>\n      <td>120</td>\n      <td>120</td>\n      <td>120</td>\n      <td>120</td>\n    </tr>\n    <tr>\n      <th>252</th>\n      <td>36980</td>\n      <td>120</td>\n      <td>120</td>\n      <td>120</td>\n      <td>120</td>\n      <td>120</td>\n    </tr>\n    <tr>\n      <th>276</th>\n      <td>40060</td>\n      <td>120</td>\n      <td>120</td>\n      <td>120</td>\n      <td>120</td>\n      <td>120</td>\n    </tr>\n    <tr>\n      <th>267</th>\n      <td>39340</td>\n      <td>120</td>\n      <td>120</td>\n      <td>120</td>\n      <td>120</td>\n      <td>120</td>\n    </tr>\n    <tr>\n      <th>258</th>\n      <td>37900</td>\n      <td>120</td>\n      <td>120</td>\n      <td>120</td>\n      <td>120</td>\n      <td>120</td>\n    </tr>\n    <tr>\n      <th>266</th>\n      <td>39140</td>\n      <td>120</td>\n      <td>120</td>\n      <td>120</td>\n      <td>120</td>\n      <td>120</td>\n    </tr>\n    <tr>\n      <th>265</th>\n      <td>38940</td>\n      <td>120</td>\n      <td>120</td>\n      <td>120</td>\n      <td>120</td>\n      <td>120</td>\n    </tr>\n  </tbody>\n</table>\n</div>"
     },
     "metadata": {},
     "execution_count": 50
    }
   ],
   "source": [
    "df_temp = pd.DataFrame(df.groupby('area_code').count())\n",
    "df_temp.reset_index(inplace=True)\n",
    "df_temp.sort_values(by='value').head(50)"
   ]
  },
  {
   "cell_type": "code",
   "execution_count": 9,
   "metadata": {},
   "outputs": [
    {
     "output_type": "execute_result",
     "data": {
      "text/plain": [
       "      CBSA                              MSA_Name  area_code\n",
       "0    11500                   Anniston-Oxford, AL      11500\n",
       "1    12220                    Auburn-Opelika, AL      12220\n",
       "2    13820                 Birmingham-Hoover, AL      13820\n",
       "3    19300             Daphne-Fairhope-Foley, AL      19300\n",
       "4    19460                           Decatur, AL      19460\n",
       "..     ...                                   ...        ...\n",
       "379  39100  Poughkeepsie-Newburgh-Middletown, NY    3600001\n",
       "380  39150          Prescott Valley-Prescott, AZ      39140\n",
       "381  39300             Providence-Warwick, RI-MA      77200\n",
       "382  44140                       Springfield, MA      78100\n",
       "383  49340                      Worcester, MA-CT      79600\n",
       "\n",
       "[384 rows x 3 columns]"
      ],
      "text/html": "<div>\n<style scoped>\n    .dataframe tbody tr th:only-of-type {\n        vertical-align: middle;\n    }\n\n    .dataframe tbody tr th {\n        vertical-align: top;\n    }\n\n    .dataframe thead th {\n        text-align: right;\n    }\n</style>\n<table border=\"1\" class=\"dataframe\">\n  <thead>\n    <tr style=\"text-align: right;\">\n      <th></th>\n      <th>CBSA</th>\n      <th>MSA_Name</th>\n      <th>area_code</th>\n    </tr>\n  </thead>\n  <tbody>\n    <tr>\n      <th>0</th>\n      <td>11500</td>\n      <td>Anniston-Oxford, AL</td>\n      <td>11500</td>\n    </tr>\n    <tr>\n      <th>1</th>\n      <td>12220</td>\n      <td>Auburn-Opelika, AL</td>\n      <td>12220</td>\n    </tr>\n    <tr>\n      <th>2</th>\n      <td>13820</td>\n      <td>Birmingham-Hoover, AL</td>\n      <td>13820</td>\n    </tr>\n    <tr>\n      <th>3</th>\n      <td>19300</td>\n      <td>Daphne-Fairhope-Foley, AL</td>\n      <td>19300</td>\n    </tr>\n    <tr>\n      <th>4</th>\n      <td>19460</td>\n      <td>Decatur, AL</td>\n      <td>19460</td>\n    </tr>\n    <tr>\n      <th>...</th>\n      <td>...</td>\n      <td>...</td>\n      <td>...</td>\n    </tr>\n    <tr>\n      <th>379</th>\n      <td>39100</td>\n      <td>Poughkeepsie-Newburgh-Middletown, NY</td>\n      <td>3600001</td>\n    </tr>\n    <tr>\n      <th>380</th>\n      <td>39150</td>\n      <td>Prescott Valley-Prescott, AZ</td>\n      <td>39140</td>\n    </tr>\n    <tr>\n      <th>381</th>\n      <td>39300</td>\n      <td>Providence-Warwick, RI-MA</td>\n      <td>77200</td>\n    </tr>\n    <tr>\n      <th>382</th>\n      <td>44140</td>\n      <td>Springfield, MA</td>\n      <td>78100</td>\n    </tr>\n    <tr>\n      <th>383</th>\n      <td>49340</td>\n      <td>Worcester, MA-CT</td>\n      <td>79600</td>\n    </tr>\n  </tbody>\n</table>\n<p>384 rows × 3 columns</p>\n</div>"
     },
     "metadata": {},
     "execution_count": 9
    }
   ],
   "source": [
    "df_pain = pd.read_excel('../pain_in_my_ass.xlsx')\n",
    "df_pain"
   ]
  },
  {
   "cell_type": "code",
   "execution_count": 10,
   "metadata": {},
   "outputs": [
    {
     "output_type": "execute_result",
     "data": {
      "text/plain": [
       "      CBSA                              MSA_Name  series id   year  period  \\\n",
       "0    11500                   Anniston-Oxford, AL      120.0  120.0   120.0   \n",
       "1    12220                    Auburn-Opelika, AL      120.0  120.0   120.0   \n",
       "2    13820                 Birmingham-Hoover, AL      120.0  120.0   120.0   \n",
       "3    19300             Daphne-Fairhope-Foley, AL      108.0  108.0   108.0   \n",
       "4    19460                           Decatur, AL      120.0  120.0   120.0   \n",
       "..     ...                                   ...        ...    ...     ...   \n",
       "379  39100  Poughkeepsie-Newburgh-Middletown, NY        NaN    NaN     NaN   \n",
       "380  39150          Prescott Valley-Prescott, AZ        NaN    NaN     NaN   \n",
       "381  39300             Providence-Warwick, RI-MA        NaN    NaN     NaN   \n",
       "382  44140                       Springfield, MA        NaN    NaN     NaN   \n",
       "383  49340                      Worcester, MA-CT        NaN    NaN     NaN   \n",
       "\n",
       "     period_name  value  \n",
       "0          120.0  120.0  \n",
       "1          120.0  120.0  \n",
       "2          120.0  120.0  \n",
       "3          108.0  108.0  \n",
       "4          120.0  120.0  \n",
       "..           ...    ...  \n",
       "379          NaN    NaN  \n",
       "380          NaN    NaN  \n",
       "381          NaN    NaN  \n",
       "382          NaN    NaN  \n",
       "383          NaN    NaN  \n",
       "\n",
       "[384 rows x 7 columns]"
      ],
      "text/html": "<div>\n<style scoped>\n    .dataframe tbody tr th:only-of-type {\n        vertical-align: middle;\n    }\n\n    .dataframe tbody tr th {\n        vertical-align: top;\n    }\n\n    .dataframe thead th {\n        text-align: right;\n    }\n</style>\n<table border=\"1\" class=\"dataframe\">\n  <thead>\n    <tr style=\"text-align: right;\">\n      <th></th>\n      <th>CBSA</th>\n      <th>MSA_Name</th>\n      <th>series id</th>\n      <th>year</th>\n      <th>period</th>\n      <th>period_name</th>\n      <th>value</th>\n    </tr>\n  </thead>\n  <tbody>\n    <tr>\n      <th>0</th>\n      <td>11500</td>\n      <td>Anniston-Oxford, AL</td>\n      <td>120.0</td>\n      <td>120.0</td>\n      <td>120.0</td>\n      <td>120.0</td>\n      <td>120.0</td>\n    </tr>\n    <tr>\n      <th>1</th>\n      <td>12220</td>\n      <td>Auburn-Opelika, AL</td>\n      <td>120.0</td>\n      <td>120.0</td>\n      <td>120.0</td>\n      <td>120.0</td>\n      <td>120.0</td>\n    </tr>\n    <tr>\n      <th>2</th>\n      <td>13820</td>\n      <td>Birmingham-Hoover, AL</td>\n      <td>120.0</td>\n      <td>120.0</td>\n      <td>120.0</td>\n      <td>120.0</td>\n      <td>120.0</td>\n    </tr>\n    <tr>\n      <th>3</th>\n      <td>19300</td>\n      <td>Daphne-Fairhope-Foley, AL</td>\n      <td>108.0</td>\n      <td>108.0</td>\n      <td>108.0</td>\n      <td>108.0</td>\n      <td>108.0</td>\n    </tr>\n    <tr>\n      <th>4</th>\n      <td>19460</td>\n      <td>Decatur, AL</td>\n      <td>120.0</td>\n      <td>120.0</td>\n      <td>120.0</td>\n      <td>120.0</td>\n      <td>120.0</td>\n    </tr>\n    <tr>\n      <th>...</th>\n      <td>...</td>\n      <td>...</td>\n      <td>...</td>\n      <td>...</td>\n      <td>...</td>\n      <td>...</td>\n      <td>...</td>\n    </tr>\n    <tr>\n      <th>379</th>\n      <td>39100</td>\n      <td>Poughkeepsie-Newburgh-Middletown, NY</td>\n      <td>NaN</td>\n      <td>NaN</td>\n      <td>NaN</td>\n      <td>NaN</td>\n      <td>NaN</td>\n    </tr>\n    <tr>\n      <th>380</th>\n      <td>39150</td>\n      <td>Prescott Valley-Prescott, AZ</td>\n      <td>NaN</td>\n      <td>NaN</td>\n      <td>NaN</td>\n      <td>NaN</td>\n      <td>NaN</td>\n    </tr>\n    <tr>\n      <th>381</th>\n      <td>39300</td>\n      <td>Providence-Warwick, RI-MA</td>\n      <td>NaN</td>\n      <td>NaN</td>\n      <td>NaN</td>\n      <td>NaN</td>\n      <td>NaN</td>\n    </tr>\n    <tr>\n      <th>382</th>\n      <td>44140</td>\n      <td>Springfield, MA</td>\n      <td>NaN</td>\n      <td>NaN</td>\n      <td>NaN</td>\n      <td>NaN</td>\n      <td>NaN</td>\n    </tr>\n    <tr>\n      <th>383</th>\n      <td>49340</td>\n      <td>Worcester, MA-CT</td>\n      <td>NaN</td>\n      <td>NaN</td>\n      <td>NaN</td>\n      <td>NaN</td>\n      <td>NaN</td>\n    </tr>\n  </tbody>\n</table>\n<p>384 rows × 7 columns</p>\n</div>"
     },
     "metadata": {},
     "execution_count": 10
    }
   ],
   "source": [
    "df_pain.drop(columns='area_code', inplace=True)\n",
    "df_pain = df_pain.merge(df_temp, on='CBSA', how='left')\n",
    "df_pain"
   ]
  },
  {
   "cell_type": "code",
   "execution_count": 11,
   "metadata": {},
   "outputs": [],
   "source": [
    "df_pain.to_csv('temp.csv')"
   ]
  },
  {
   "cell_type": "code",
   "execution_count": 58,
   "metadata": {},
   "outputs": [
    {
     "output_type": "execute_result",
     "data": {
      "text/plain": [
       "24500    120\n",
       "47260    120\n",
       "30980    120\n",
       "31140    120\n",
       "47580    120\n",
       "        ... \n",
       "45540    108\n",
       "19300    108\n",
       "46300    108\n",
       "24260    108\n",
       "13220    108\n",
       "Name: area_code, Length: 384, dtype: int64"
      ]
     },
     "metadata": {},
     "execution_count": 58
    }
   ],
   "source": [
    "df.area_code.value_counts()"
   ]
  },
  {
   "cell_type": "code",
   "execution_count": 40,
   "metadata": {},
   "outputs": [
    {
     "output_type": "execute_result",
     "data": {
      "text/plain": [
       "381"
      ]
     },
     "metadata": {},
     "execution_count": 40
    }
   ],
   "source": [
    "len(df['series id'].unique())"
   ]
  },
  {
   "cell_type": "code",
   "execution_count": 42,
   "metadata": {},
   "outputs": [
    {
     "output_type": "execute_result",
     "data": {
      "text/plain": [
       "                        0\n",
       "0    SMU48101800500000011\n",
       "1    SMU39104200500000011\n",
       "2    SMU13105000500000011\n",
       "3    SMU41105400500000011\n",
       "4    SMU36105800500000011\n",
       "..                    ...\n",
       "376  SMU53494200500000011\n",
       "377  SMU42496200500000011\n",
       "378  SMU39496600500000011\n",
       "379  SMU06497000500000011\n",
       "380  SMU04497400500000011\n",
       "\n",
       "[381 rows x 1 columns]"
      ],
      "text/html": "<div>\n<style scoped>\n    .dataframe tbody tr th:only-of-type {\n        vertical-align: middle;\n    }\n\n    .dataframe tbody tr th {\n        vertical-align: top;\n    }\n\n    .dataframe thead th {\n        text-align: right;\n    }\n</style>\n<table border=\"1\" class=\"dataframe\">\n  <thead>\n    <tr style=\"text-align: right;\">\n      <th></th>\n      <th>0</th>\n    </tr>\n  </thead>\n  <tbody>\n    <tr>\n      <th>0</th>\n      <td>SMU48101800500000011</td>\n    </tr>\n    <tr>\n      <th>1</th>\n      <td>SMU39104200500000011</td>\n    </tr>\n    <tr>\n      <th>2</th>\n      <td>SMU13105000500000011</td>\n    </tr>\n    <tr>\n      <th>3</th>\n      <td>SMU41105400500000011</td>\n    </tr>\n    <tr>\n      <th>4</th>\n      <td>SMU36105800500000011</td>\n    </tr>\n    <tr>\n      <th>...</th>\n      <td>...</td>\n    </tr>\n    <tr>\n      <th>376</th>\n      <td>SMU53494200500000011</td>\n    </tr>\n    <tr>\n      <th>377</th>\n      <td>SMU42496200500000011</td>\n    </tr>\n    <tr>\n      <th>378</th>\n      <td>SMU39496600500000011</td>\n    </tr>\n    <tr>\n      <th>379</th>\n      <td>SMU06497000500000011</td>\n    </tr>\n    <tr>\n      <th>380</th>\n      <td>SMU04497400500000011</td>\n    </tr>\n  </tbody>\n</table>\n<p>381 rows × 1 columns</p>\n</div>"
     },
     "metadata": {},
     "execution_count": 42
    }
   ],
   "source": [
    "df_unique = pd.DataFrame(df['series id'].unique())\n",
    "df_unique"
   ]
  },
  {
   "cell_type": "code",
   "execution_count": 43,
   "metadata": {},
   "outputs": [],
   "source": [
    "df_unique.to_csv('temp2.csv')"
   ]
  },
  {
   "cell_type": "code",
   "execution_count": 62,
   "metadata": {},
   "outputs": [
    {
     "output_type": "execute_result",
     "data": {
      "text/plain": [
       "<pymongo.results.InsertManyResult at 0x1c3fe87d640>"
      ]
     },
     "metadata": {},
     "execution_count": 62
    }
   ],
   "source": [
    "# Create instance of MongoClient\n",
    "client = MongoClient()\n",
    "# Connection URI\n",
    "client = MongoClient('<conn string>')\n",
    "# Select database\n",
    "db = client['MSA']\n",
    "# create new collection\n",
    "collection = db.AvgWeeklyEarningsAllEmp_raw\n",
    "# turn dataframe into readable format for mongo\n",
    "df_dict = df.to_dict(orient='records')\n",
    "# write dataframe to unemployment_predicted_2024 collection\n",
    "collection.insert_many(df_dict)"
   ]
  },
  {
   "cell_type": "code",
   "execution_count": null,
   "metadata": {},
   "outputs": [],
   "source": []
  }
 ]
}