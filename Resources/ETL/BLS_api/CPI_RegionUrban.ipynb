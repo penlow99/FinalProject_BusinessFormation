{
 "metadata": {
  "language_info": {
   "codemirror_mode": {
    "name": "ipython",
    "version": 3
   },
   "file_extension": ".py",
   "mimetype": "text/x-python",
   "name": "python",
   "nbconvert_exporter": "python",
   "pygments_lexer": "ipython3",
   "version": "3.8.5-final"
  },
  "orig_nbformat": 2,
  "kernelspec": {
   "name": "python3",
   "display_name": "Python 3.8.5 64-bit ('PythonData': conda)",
   "metadata": {
    "interpreter": {
     "hash": "e23f4f60931143176db9ec6317533e574a91510be5bd7dc0753f3d7ca18e38be"
    }
   }
  }
 },
 "nbformat": 4,
 "nbformat_minor": 2,
 "cells": [
  {
   "cell_type": "code",
   "execution_count": 1,
   "metadata": {},
   "outputs": [],
   "source": [
    "import requests\n",
    "import pandas as pd \n",
    "import json\n",
    "import pymongo\n",
    "from pymongo import MongoClient"
   ]
  },
  {
   "cell_type": "code",
   "execution_count": 3,
   "metadata": {},
   "outputs": [],
   "source": [
    "table_name = 'CPI_RegionUrban'"
   ]
  },
  {
   "cell_type": "code",
   "execution_count": 4,
   "metadata": {},
   "outputs": [
    {
     "output_type": "execute_result",
     "data": {
      "text/plain": [
       "  FIPS             State  Region  Division\n",
       "0   09  Connecticut            1         1\n",
       "1   23  Maine                  1         1\n",
       "2   25  Massachusetts          1         1\n",
       "3   33  New Hampshire          1         1\n",
       "4   44  Rhode Island           1         1"
      ],
      "text/html": "<div>\n<style scoped>\n    .dataframe tbody tr th:only-of-type {\n        vertical-align: middle;\n    }\n\n    .dataframe tbody tr th {\n        vertical-align: top;\n    }\n\n    .dataframe thead th {\n        text-align: right;\n    }\n</style>\n<table border=\"1\" class=\"dataframe\">\n  <thead>\n    <tr style=\"text-align: right;\">\n      <th></th>\n      <th>FIPS</th>\n      <th>State</th>\n      <th>Region</th>\n      <th>Division</th>\n    </tr>\n  </thead>\n  <tbody>\n    <tr>\n      <th>0</th>\n      <td>09</td>\n      <td>Connecticut</td>\n      <td>1</td>\n      <td>1</td>\n    </tr>\n    <tr>\n      <th>1</th>\n      <td>23</td>\n      <td>Maine</td>\n      <td>1</td>\n      <td>1</td>\n    </tr>\n    <tr>\n      <th>2</th>\n      <td>25</td>\n      <td>Massachusetts</td>\n      <td>1</td>\n      <td>1</td>\n    </tr>\n    <tr>\n      <th>3</th>\n      <td>33</td>\n      <td>New Hampshire</td>\n      <td>1</td>\n      <td>1</td>\n    </tr>\n    <tr>\n      <th>4</th>\n      <td>44</td>\n      <td>Rhode Island</td>\n      <td>1</td>\n      <td>1</td>\n    </tr>\n  </tbody>\n</table>\n</div>"
     },
     "metadata": {},
     "execution_count": 4
    }
   ],
   "source": [
    "df_region = pd.read_excel('../StateRegionDivision.xlsx', converters={'FIPS' : lambda x : str(x)})\n",
    "df_region.head()"
   ]
  },
  {
   "cell_type": "code",
   "execution_count": 5,
   "metadata": {},
   "outputs": [
    {
     "output_type": "execute_result",
     "data": {
      "text/plain": [
       "['0100', '0200', '0300', '0400']"
      ]
     },
     "metadata": {},
     "execution_count": 5
    }
   ],
   "source": [
    "regions = ['0100', '0200', '0300', '0400']\n",
    "regions"
   ]
  },
  {
   "cell_type": "code",
   "execution_count": 6,
   "metadata": {},
   "outputs": [],
   "source": [
    "# set up dataframe and create a list of the series for this dataset\n",
    "df = pd.DataFrame(columns=[\"series id\",\"year\",\"period\",\"period_name\",\"value\"])\n",
    "series = []\n",
    "for i in regions:\n",
    "    # construct series id by concatenating: Prefix + MSA Area Code + Measure Code\n",
    "    series.append('CUUR' + i + 'SA0')"
   ]
  },
  {
   "cell_type": "code",
   "execution_count": 11,
   "metadata": {},
   "outputs": [
    {
     "output_type": "execute_result",
     "data": {
      "text/plain": [
       "['CUUR0100SA0', 'CUUR0200SA0', 'CUUR0300SA0', 'CUUR0400SA0']"
      ]
     },
     "metadata": {},
     "execution_count": 11
    }
   ],
   "source": [
    "series"
   ]
  },
  {
   "cell_type": "code",
   "execution_count": 13,
   "metadata": {},
   "outputs": [],
   "source": [
    "# function to request data from the BLS api\n",
    "def request_series(series_list):\n",
    "    #  print(series_list)\n",
    "    headers = {'Content-type': 'application/json'}\n",
    "    data = json.dumps({\"seriesid\": series_list,\"startyear\":\"2010\", \"endyear\":\"2019\",\"registrationkey\":\"<key here>\"})\n",
    "    p = requests.post('https://api.bls.gov/publicAPI/v2/timeseries/data/', data=data, headers=headers)\n",
    "    json_data = json.loads(p.text)\n",
    "    if json_data['status'] == 'REQUEST_SUCCEEDED':\n",
    "        print(json_data)\n",
    "        add_to_df(json_data)\n",
    "    else:\n",
    "        print(json_data['status'])"
   ]
  },
  {
   "cell_type": "code",
   "execution_count": 9,
   "metadata": {},
   "outputs": [],
   "source": [
    "# function to add data to the dataframe\n",
    "def add_to_df(data):\n",
    "    for series in data['Results']['series']:\n",
    "        seriesId = series['seriesID']\n",
    "        for item in series['data']:\n",
    "            year = item['year']\n",
    "            period = item['period']\n",
    "            period_name = item[\"periodName\"]\n",
    "            value = item['value']\n",
    "            if 'M01' <= period <= 'M12':\n",
    "                df.loc[len(df)] = [seriesId,year,period,period_name,value]"
   ]
  },
  {
   "cell_type": "code",
   "execution_count": 12,
   "metadata": {},
   "outputs": [
    {
     "output_type": "stream",
     "name": "stdout",
     "text": [
      "CUUR0100SA0\nCUUR0200SA0\nCUUR0300SA0\nCUUR0400SA0\n"
     ]
    }
   ],
   "source": [
    "for i in series:\n",
    "    print(i)"
   ]
  },
  {
   "cell_type": "code",
   "execution_count": 2,
   "metadata": {},
   "outputs": [
    {
     "output_type": "execute_result",
     "data": {
      "text/plain": [
       "      CBSA    series id  year period period_name    value\n",
       "0    100SA  CUUR0100SA0  2019    M12    December  270.429\n",
       "1    100SA  CUUR0100SA0  2019    M11    November  270.643\n",
       "2    100SA  CUUR0100SA0  2019    M10     October  270.348\n",
       "3    100SA  CUUR0100SA0  2019    M09   September  270.563\n",
       "4    100SA  CUUR0100SA0  2019    M08      August  270.548\n",
       "..     ...          ...   ...    ...         ...      ...\n",
       "475  400SA  CUUR0400SA0  2010    M05         May  221.417\n",
       "476  400SA  CUUR0400SA0  2010    M04       April  221.202\n",
       "477  400SA  CUUR0400SA0  2010    M03       March  220.809\n",
       "478  400SA  CUUR0400SA0  2010    M02    February  220.179\n",
       "479  400SA  CUUR0400SA0  2010    M01     January  219.989\n",
       "\n",
       "[480 rows x 6 columns]"
      ],
      "text/html": "<div>\n<style scoped>\n    .dataframe tbody tr th:only-of-type {\n        vertical-align: middle;\n    }\n\n    .dataframe tbody tr th {\n        vertical-align: top;\n    }\n\n    .dataframe thead th {\n        text-align: right;\n    }\n</style>\n<table border=\"1\" class=\"dataframe\">\n  <thead>\n    <tr style=\"text-align: right;\">\n      <th></th>\n      <th>CBSA</th>\n      <th>series id</th>\n      <th>year</th>\n      <th>period</th>\n      <th>period_name</th>\n      <th>value</th>\n    </tr>\n  </thead>\n  <tbody>\n    <tr>\n      <th>0</th>\n      <td>100SA</td>\n      <td>CUUR0100SA0</td>\n      <td>2019</td>\n      <td>M12</td>\n      <td>December</td>\n      <td>270.429</td>\n    </tr>\n    <tr>\n      <th>1</th>\n      <td>100SA</td>\n      <td>CUUR0100SA0</td>\n      <td>2019</td>\n      <td>M11</td>\n      <td>November</td>\n      <td>270.643</td>\n    </tr>\n    <tr>\n      <th>2</th>\n      <td>100SA</td>\n      <td>CUUR0100SA0</td>\n      <td>2019</td>\n      <td>M10</td>\n      <td>October</td>\n      <td>270.348</td>\n    </tr>\n    <tr>\n      <th>3</th>\n      <td>100SA</td>\n      <td>CUUR0100SA0</td>\n      <td>2019</td>\n      <td>M09</td>\n      <td>September</td>\n      <td>270.563</td>\n    </tr>\n    <tr>\n      <th>4</th>\n      <td>100SA</td>\n      <td>CUUR0100SA0</td>\n      <td>2019</td>\n      <td>M08</td>\n      <td>August</td>\n      <td>270.548</td>\n    </tr>\n    <tr>\n      <th>...</th>\n      <td>...</td>\n      <td>...</td>\n      <td>...</td>\n      <td>...</td>\n      <td>...</td>\n      <td>...</td>\n    </tr>\n    <tr>\n      <th>475</th>\n      <td>400SA</td>\n      <td>CUUR0400SA0</td>\n      <td>2010</td>\n      <td>M05</td>\n      <td>May</td>\n      <td>221.417</td>\n    </tr>\n    <tr>\n      <th>476</th>\n      <td>400SA</td>\n      <td>CUUR0400SA0</td>\n      <td>2010</td>\n      <td>M04</td>\n      <td>April</td>\n      <td>221.202</td>\n    </tr>\n    <tr>\n      <th>477</th>\n      <td>400SA</td>\n      <td>CUUR0400SA0</td>\n      <td>2010</td>\n      <td>M03</td>\n      <td>March</td>\n      <td>220.809</td>\n    </tr>\n    <tr>\n      <th>478</th>\n      <td>400SA</td>\n      <td>CUUR0400SA0</td>\n      <td>2010</td>\n      <td>M02</td>\n      <td>February</td>\n      <td>220.179</td>\n    </tr>\n    <tr>\n      <th>479</th>\n      <td>400SA</td>\n      <td>CUUR0400SA0</td>\n      <td>2010</td>\n      <td>M01</td>\n      <td>January</td>\n      <td>219.989</td>\n    </tr>\n  </tbody>\n</table>\n<p>480 rows × 6 columns</p>\n</div>"
     },
     "metadata": {},
     "execution_count": 2
    }
   ],
   "source": [
    "df = pd.read_csv('../CSVs/CPI_RegionUrban.csv')\n",
    "df"
   ]
  },
  {
   "cell_type": "code",
   "execution_count": 3,
   "metadata": {},
   "outputs": [
    {
     "output_type": "execute_result",
     "data": {
      "text/plain": [
       "    CBSA    series id  year period period_name    value\n",
       "0      1  CUUR0100SA0  2019    M12    December  270.429\n",
       "1      1  CUUR0100SA0  2019    M11    November  270.643\n",
       "2      1  CUUR0100SA0  2019    M10     October  270.348\n",
       "3      1  CUUR0100SA0  2019    M09   September  270.563\n",
       "4      1  CUUR0100SA0  2019    M08      August  270.548\n",
       "..   ...          ...   ...    ...         ...      ...\n",
       "475    4  CUUR0400SA0  2010    M05         May  221.417\n",
       "476    4  CUUR0400SA0  2010    M04       April  221.202\n",
       "477    4  CUUR0400SA0  2010    M03       March  220.809\n",
       "478    4  CUUR0400SA0  2010    M02    February  220.179\n",
       "479    4  CUUR0400SA0  2010    M01     January  219.989\n",
       "\n",
       "[480 rows x 6 columns]"
      ],
      "text/html": "<div>\n<style scoped>\n    .dataframe tbody tr th:only-of-type {\n        vertical-align: middle;\n    }\n\n    .dataframe tbody tr th {\n        vertical-align: top;\n    }\n\n    .dataframe thead th {\n        text-align: right;\n    }\n</style>\n<table border=\"1\" class=\"dataframe\">\n  <thead>\n    <tr style=\"text-align: right;\">\n      <th></th>\n      <th>CBSA</th>\n      <th>series id</th>\n      <th>year</th>\n      <th>period</th>\n      <th>period_name</th>\n      <th>value</th>\n    </tr>\n  </thead>\n  <tbody>\n    <tr>\n      <th>0</th>\n      <td>1</td>\n      <td>CUUR0100SA0</td>\n      <td>2019</td>\n      <td>M12</td>\n      <td>December</td>\n      <td>270.429</td>\n    </tr>\n    <tr>\n      <th>1</th>\n      <td>1</td>\n      <td>CUUR0100SA0</td>\n      <td>2019</td>\n      <td>M11</td>\n      <td>November</td>\n      <td>270.643</td>\n    </tr>\n    <tr>\n      <th>2</th>\n      <td>1</td>\n      <td>CUUR0100SA0</td>\n      <td>2019</td>\n      <td>M10</td>\n      <td>October</td>\n      <td>270.348</td>\n    </tr>\n    <tr>\n      <th>3</th>\n      <td>1</td>\n      <td>CUUR0100SA0</td>\n      <td>2019</td>\n      <td>M09</td>\n      <td>September</td>\n      <td>270.563</td>\n    </tr>\n    <tr>\n      <th>4</th>\n      <td>1</td>\n      <td>CUUR0100SA0</td>\n      <td>2019</td>\n      <td>M08</td>\n      <td>August</td>\n      <td>270.548</td>\n    </tr>\n    <tr>\n      <th>...</th>\n      <td>...</td>\n      <td>...</td>\n      <td>...</td>\n      <td>...</td>\n      <td>...</td>\n      <td>...</td>\n    </tr>\n    <tr>\n      <th>475</th>\n      <td>4</td>\n      <td>CUUR0400SA0</td>\n      <td>2010</td>\n      <td>M05</td>\n      <td>May</td>\n      <td>221.417</td>\n    </tr>\n    <tr>\n      <th>476</th>\n      <td>4</td>\n      <td>CUUR0400SA0</td>\n      <td>2010</td>\n      <td>M04</td>\n      <td>April</td>\n      <td>221.202</td>\n    </tr>\n    <tr>\n      <th>477</th>\n      <td>4</td>\n      <td>CUUR0400SA0</td>\n      <td>2010</td>\n      <td>M03</td>\n      <td>March</td>\n      <td>220.809</td>\n    </tr>\n    <tr>\n      <th>478</th>\n      <td>4</td>\n      <td>CUUR0400SA0</td>\n      <td>2010</td>\n      <td>M02</td>\n      <td>February</td>\n      <td>220.179</td>\n    </tr>\n    <tr>\n      <th>479</th>\n      <td>4</td>\n      <td>CUUR0400SA0</td>\n      <td>2010</td>\n      <td>M01</td>\n      <td>January</td>\n      <td>219.989</td>\n    </tr>\n  </tbody>\n</table>\n<p>480 rows × 6 columns</p>\n</div>"
     },
     "metadata": {},
     "execution_count": 3
    }
   ],
   "source": [
    "df['CBSA'] = df['CBSA'].str.replace('00SA','')\n",
    "df"
   ]
  },
  {
   "cell_type": "code",
   "execution_count": 4,
   "metadata": {},
   "outputs": [
    {
     "output_type": "execute_result",
     "data": {
      "text/plain": [
       "    Region    series id  year period period_name    value\n",
       "0        1  CUUR0100SA0  2019    M12    December  270.429\n",
       "1        1  CUUR0100SA0  2019    M11    November  270.643\n",
       "2        1  CUUR0100SA0  2019    M10     October  270.348\n",
       "3        1  CUUR0100SA0  2019    M09   September  270.563\n",
       "4        1  CUUR0100SA0  2019    M08      August  270.548\n",
       "..     ...          ...   ...    ...         ...      ...\n",
       "475      4  CUUR0400SA0  2010    M05         May  221.417\n",
       "476      4  CUUR0400SA0  2010    M04       April  221.202\n",
       "477      4  CUUR0400SA0  2010    M03       March  220.809\n",
       "478      4  CUUR0400SA0  2010    M02    February  220.179\n",
       "479      4  CUUR0400SA0  2010    M01     January  219.989\n",
       "\n",
       "[480 rows x 6 columns]"
      ],
      "text/html": "<div>\n<style scoped>\n    .dataframe tbody tr th:only-of-type {\n        vertical-align: middle;\n    }\n\n    .dataframe tbody tr th {\n        vertical-align: top;\n    }\n\n    .dataframe thead th {\n        text-align: right;\n    }\n</style>\n<table border=\"1\" class=\"dataframe\">\n  <thead>\n    <tr style=\"text-align: right;\">\n      <th></th>\n      <th>Region</th>\n      <th>series id</th>\n      <th>year</th>\n      <th>period</th>\n      <th>period_name</th>\n      <th>value</th>\n    </tr>\n  </thead>\n  <tbody>\n    <tr>\n      <th>0</th>\n      <td>1</td>\n      <td>CUUR0100SA0</td>\n      <td>2019</td>\n      <td>M12</td>\n      <td>December</td>\n      <td>270.429</td>\n    </tr>\n    <tr>\n      <th>1</th>\n      <td>1</td>\n      <td>CUUR0100SA0</td>\n      <td>2019</td>\n      <td>M11</td>\n      <td>November</td>\n      <td>270.643</td>\n    </tr>\n    <tr>\n      <th>2</th>\n      <td>1</td>\n      <td>CUUR0100SA0</td>\n      <td>2019</td>\n      <td>M10</td>\n      <td>October</td>\n      <td>270.348</td>\n    </tr>\n    <tr>\n      <th>3</th>\n      <td>1</td>\n      <td>CUUR0100SA0</td>\n      <td>2019</td>\n      <td>M09</td>\n      <td>September</td>\n      <td>270.563</td>\n    </tr>\n    <tr>\n      <th>4</th>\n      <td>1</td>\n      <td>CUUR0100SA0</td>\n      <td>2019</td>\n      <td>M08</td>\n      <td>August</td>\n      <td>270.548</td>\n    </tr>\n    <tr>\n      <th>...</th>\n      <td>...</td>\n      <td>...</td>\n      <td>...</td>\n      <td>...</td>\n      <td>...</td>\n      <td>...</td>\n    </tr>\n    <tr>\n      <th>475</th>\n      <td>4</td>\n      <td>CUUR0400SA0</td>\n      <td>2010</td>\n      <td>M05</td>\n      <td>May</td>\n      <td>221.417</td>\n    </tr>\n    <tr>\n      <th>476</th>\n      <td>4</td>\n      <td>CUUR0400SA0</td>\n      <td>2010</td>\n      <td>M04</td>\n      <td>April</td>\n      <td>221.202</td>\n    </tr>\n    <tr>\n      <th>477</th>\n      <td>4</td>\n      <td>CUUR0400SA0</td>\n      <td>2010</td>\n      <td>M03</td>\n      <td>March</td>\n      <td>220.809</td>\n    </tr>\n    <tr>\n      <th>478</th>\n      <td>4</td>\n      <td>CUUR0400SA0</td>\n      <td>2010</td>\n      <td>M02</td>\n      <td>February</td>\n      <td>220.179</td>\n    </tr>\n    <tr>\n      <th>479</th>\n      <td>4</td>\n      <td>CUUR0400SA0</td>\n      <td>2010</td>\n      <td>M01</td>\n      <td>January</td>\n      <td>219.989</td>\n    </tr>\n  </tbody>\n</table>\n<p>480 rows × 6 columns</p>\n</div>"
     },
     "metadata": {},
     "execution_count": 4
    }
   ],
   "source": [
    "df.rename(columns={'CBSA' : 'Region'}, inplace=True)\n",
    "df"
   ]
  },
  {
   "cell_type": "code",
   "execution_count": 6,
   "metadata": {},
   "outputs": [],
   "source": [
    "df.to_csv('../CSVs/CPI_RegionUrban.csv', index=False)"
   ]
  },
  {
   "cell_type": "code",
   "execution_count": 7,
   "metadata": {},
   "outputs": [
    {
     "output_type": "execute_result",
     "data": {
      "text/plain": [
       "<pymongo.results.InsertManyResult at 0x1d0a543cfc0>"
      ]
     },
     "metadata": {},
     "execution_count": 7
    }
   ],
   "source": [
    "# Create instance of MongoClient\n",
    "client = MongoClient()\n",
    "# Connection URI\n",
    "client = MongoClient('<conn string>')\n",
    "# Select database\n",
    "db = client['MSA']\n",
    "# create new collection\n",
    "collection = db.CPI_RegionUrban_raw\n",
    "# turn dataframe into readable format for mongo\n",
    "df_dict = df.to_dict(orient='records')\n",
    "# write dataframe to unemployment_predicted_2024 collection\n",
    "collection.insert_many(df_dict)"
   ]
  },
  {
   "cell_type": "code",
   "execution_count": null,
   "metadata": {},
   "outputs": [],
   "source": []
  }
 ]
}