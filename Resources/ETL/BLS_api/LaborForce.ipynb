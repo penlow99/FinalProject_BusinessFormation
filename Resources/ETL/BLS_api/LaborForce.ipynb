{
 "metadata": {
  "language_info": {
   "codemirror_mode": {
    "name": "ipython",
    "version": 3
   },
   "file_extension": ".py",
   "mimetype": "text/x-python",
   "name": "python",
   "nbconvert_exporter": "python",
   "pygments_lexer": "ipython3",
   "version": "3.8.5-final"
  },
  "orig_nbformat": 2,
  "kernelspec": {
   "name": "python3",
   "display_name": "Python 3.8.5 64-bit ('PythonData': conda)",
   "metadata": {
    "interpreter": {
     "hash": "e23f4f60931143176db9ec6317533e574a91510be5bd7dc0753f3d7ca18e38be"
    }
   }
  }
 },
 "nbformat": 4,
 "nbformat_minor": 2,
 "cells": [
  {
   "cell_type": "code",
   "execution_count": 1,
   "metadata": {},
   "outputs": [],
   "source": [
    "import requests\n",
    "import pandas as pd \n",
    "import json\n",
    "import pymongo\n",
    "from pymongo import MongoClient"
   ]
  },
  {
   "cell_type": "code",
   "execution_count": 2,
   "metadata": {},
   "outputs": [],
   "source": [
    "table_name = 'LaborForce.csv'"
   ]
  },
  {
   "cell_type": "code",
   "execution_count": 3,
   "metadata": {},
   "outputs": [
    {
     "output_type": "execute_result",
     "data": {
      "text/plain": [
       "      CBSA                              MSA_Name        area_code\n",
       "0    11500                   Anniston-Oxford, AL  MT0111500000000\n",
       "1    12220                    Auburn-Opelika, AL  MT0112220000000\n",
       "2    13820                 Birmingham-Hoover, AL  MT0113820000000\n",
       "3    19300             Daphne-Fairhope-Foley, AL  MT0119300000000\n",
       "4    19460                           Decatur, AL  MT0119460000000\n",
       "..     ...                                   ...              ...\n",
       "379  39100  Poughkeepsie-Newburgh-Middletown, NY  DV3620524000000\n",
       "380  39150          Prescott Valley-Prescott, AZ  MT0439140000000\n",
       "381  39300             Providence-Warwick, RI-MA  MT4477200000000\n",
       "382  44140                       Springfield, MA  MT2578100000000\n",
       "383  49340                      Worcester, MA-CT  MT2579600000000\n",
       "\n",
       "[384 rows x 3 columns]"
      ],
      "text/html": "<div>\n<style scoped>\n    .dataframe tbody tr th:only-of-type {\n        vertical-align: middle;\n    }\n\n    .dataframe tbody tr th {\n        vertical-align: top;\n    }\n\n    .dataframe thead th {\n        text-align: right;\n    }\n</style>\n<table border=\"1\" class=\"dataframe\">\n  <thead>\n    <tr style=\"text-align: right;\">\n      <th></th>\n      <th>CBSA</th>\n      <th>MSA_Name</th>\n      <th>area_code</th>\n    </tr>\n  </thead>\n  <tbody>\n    <tr>\n      <th>0</th>\n      <td>11500</td>\n      <td>Anniston-Oxford, AL</td>\n      <td>MT0111500000000</td>\n    </tr>\n    <tr>\n      <th>1</th>\n      <td>12220</td>\n      <td>Auburn-Opelika, AL</td>\n      <td>MT0112220000000</td>\n    </tr>\n    <tr>\n      <th>2</th>\n      <td>13820</td>\n      <td>Birmingham-Hoover, AL</td>\n      <td>MT0113820000000</td>\n    </tr>\n    <tr>\n      <th>3</th>\n      <td>19300</td>\n      <td>Daphne-Fairhope-Foley, AL</td>\n      <td>MT0119300000000</td>\n    </tr>\n    <tr>\n      <th>4</th>\n      <td>19460</td>\n      <td>Decatur, AL</td>\n      <td>MT0119460000000</td>\n    </tr>\n    <tr>\n      <th>...</th>\n      <td>...</td>\n      <td>...</td>\n      <td>...</td>\n    </tr>\n    <tr>\n      <th>379</th>\n      <td>39100</td>\n      <td>Poughkeepsie-Newburgh-Middletown, NY</td>\n      <td>DV3620524000000</td>\n    </tr>\n    <tr>\n      <th>380</th>\n      <td>39150</td>\n      <td>Prescott Valley-Prescott, AZ</td>\n      <td>MT0439140000000</td>\n    </tr>\n    <tr>\n      <th>381</th>\n      <td>39300</td>\n      <td>Providence-Warwick, RI-MA</td>\n      <td>MT4477200000000</td>\n    </tr>\n    <tr>\n      <th>382</th>\n      <td>44140</td>\n      <td>Springfield, MA</td>\n      <td>MT2578100000000</td>\n    </tr>\n    <tr>\n      <th>383</th>\n      <td>49340</td>\n      <td>Worcester, MA-CT</td>\n      <td>MT2579600000000</td>\n    </tr>\n  </tbody>\n</table>\n<p>384 rows × 3 columns</p>\n</div>"
     },
     "metadata": {},
     "execution_count": 3
    }
   ],
   "source": [
    "df_local_msa = pd.read_excel('../Local_Area/local_area_msa.xlsx')\n",
    "df_local_msa"
   ]
  },
  {
   "cell_type": "code",
   "execution_count": 4,
   "metadata": {},
   "outputs": [],
   "source": [
    "# set up dataframe and create a list of the series for this dataset\n",
    "df = pd.DataFrame(columns=[\"series id\",\"year\",\"period\",\"period_name\",\"value\"])\n",
    "series = []\n",
    "for index, row in df_local_msa.iterrows():\n",
    "    # construct series id by concatenating: Prefix + MSA Area Code + Measure Code\n",
    "    series.append('LAU' + row['area_code'] + '06')"
   ]
  },
  {
   "cell_type": "code",
   "execution_count": 5,
   "metadata": {},
   "outputs": [
    {
     "output_type": "execute_result",
     "data": {
      "text/plain": [
       "'LAUMT013386000000006'"
      ]
     },
     "metadata": {},
     "execution_count": 5
    }
   ],
   "source": [
    "series[10]"
   ]
  },
  {
   "cell_type": "code",
   "execution_count": 6,
   "metadata": {},
   "outputs": [],
   "source": [
    "# function to request data from the BLS api\n",
    "def request_series(series_list):\n",
    "    #  print(series_list)\n",
    "    headers = {'Content-type': 'application/json'}\n",
    "    data = json.dumps({\"seriesid\": series_list,\"startyear\":\"2010\", \"endyear\":\"2019\",\"registrationkey\":\"<key here>\"})\n",
    "    p = requests.post('https://api.bls.gov/publicAPI/v2/timeseries/data/', data=data, headers=headers)\n",
    "    json_data = json.loads(p.text)\n",
    "    if json_data['status'] == 'REQUEST_SUCCEEDED':\n",
    "        add_to_df(json_data)\n",
    "        print(json_data)\n",
    "    else:\n",
    "        print(json_data['status'])"
   ]
  },
  {
   "cell_type": "code",
   "execution_count": 7,
   "metadata": {},
   "outputs": [],
   "source": [
    "# function to add data to the dataframe\n",
    "def add_to_df(data):\n",
    "    for series in data['Results']['series']:\n",
    "        seriesId = series['seriesID']\n",
    "        for item in series['data']:\n",
    "            year = item['year']\n",
    "            period = item['period']\n",
    "            period_name = item[\"periodName\"]\n",
    "            value = item['value']\n",
    "            if 'M01' <= period <= 'M12':\n",
    "                df.loc[len(df)] = [seriesId,year,period,period_name,value]"
   ]
  },
  {
   "cell_type": "code",
   "execution_count": 8,
   "metadata": {
    "tags": [
     "outputPrepend"
    ]
   },
   "outputs": [
    {
     "output_type": "stream",
     "name": "stdout",
     "text": [
      "', 'value': '199608', 'footnotes': [{}]}, {'year': '2012', 'period': 'M09', 'periodName': 'September', 'value': '197802', 'footnotes': [{}]}, {'year': '2012', 'period': 'M08', 'periodName': 'August', 'value': '198897', 'footnotes': [{}]}, {'year': '2012', 'period': 'M07', 'periodName': 'July', 'value': '201114', 'footnotes': [{}]}, {'year': '2012', 'period': 'M06', 'periodName': 'June', 'value': '200967', 'footnotes': [{}]}, {'year': '2012', 'period': 'M05', 'periodName': 'May', 'value': '198419', 'footnotes': [{}]}, {'year': '2012', 'period': 'M04', 'periodName': 'April', 'value': '197142', 'footnotes': [{}]}, {'year': '2012', 'period': 'M03', 'periodName': 'March', 'value': '196719', 'footnotes': [{}]}, {'year': '2012', 'period': 'M02', 'periodName': 'February', 'value': '196355', 'footnotes': [{}]}, {'year': '2012', 'period': 'M01', 'periodName': 'January', 'value': '194492', 'footnotes': [{}]}, {'year': '2011', 'period': 'M12', 'periodName': 'December', 'value': '197431', 'footnotes': [{}]}, {'year': '2011', 'period': 'M11', 'periodName': 'November', 'value': '197432', 'footnotes': [{}]}, {'year': '2011', 'period': 'M10', 'periodName': 'October', 'value': '198346', 'footnotes': [{}]}, {'year': '2011', 'period': 'M09', 'periodName': 'September', 'value': '196419', 'footnotes': [{}]}, {'year': '2011', 'period': 'M08', 'periodName': 'August', 'value': '199561', 'footnotes': [{}]}, {'year': '2011', 'period': 'M07', 'periodName': 'July', 'value': '200267', 'footnotes': [{}]}, {'year': '2011', 'period': 'M06', 'periodName': 'June', 'value': '199025', 'footnotes': [{}]}, {'year': '2011', 'period': 'M05', 'periodName': 'May', 'value': '197807', 'footnotes': [{}]}, {'year': '2011', 'period': 'M04', 'periodName': 'April', 'value': '197531', 'footnotes': [{}]}, {'year': '2011', 'period': 'M03', 'periodName': 'March', 'value': '197781', 'footnotes': [{}]}, {'year': '2011', 'period': 'M02', 'periodName': 'February', 'value': '197039', 'footnotes': [{}]}, {'year': '2011', 'period': 'M01', 'periodName': 'January', 'value': '196337', 'footnotes': [{}]}, {'year': '2010', 'period': 'M12', 'periodName': 'December', 'value': '198321', 'footnotes': [{}]}, {'year': '2010', 'period': 'M11', 'periodName': 'November', 'value': '199351', 'footnotes': [{}]}, {'year': '2010', 'period': 'M10', 'periodName': 'October', 'value': '200721', 'footnotes': [{}]}, {'year': '2010', 'period': 'M09', 'periodName': 'September', 'value': '200921', 'footnotes': [{}]}, {'year': '2010', 'period': 'M08', 'periodName': 'August', 'value': '205164', 'footnotes': [{}]}, {'year': '2010', 'period': 'M07', 'periodName': 'July', 'value': '206407', 'footnotes': [{}]}, {'year': '2010', 'period': 'M06', 'periodName': 'June', 'value': '205014', 'footnotes': [{}]}, {'year': '2010', 'period': 'M05', 'periodName': 'May', 'value': '203330', 'footnotes': [{}]}, {'year': '2010', 'period': 'M04', 'periodName': 'April', 'value': '202995', 'footnotes': [{}]}, {'year': '2010', 'period': 'M03', 'periodName': 'March', 'value': '200494', 'footnotes': [{}]}, {'year': '2010', 'period': 'M02', 'periodName': 'February', 'value': '200034', 'footnotes': [{}]}, {'year': '2010', 'period': 'M01', 'periodName': 'January', 'value': '198713', 'footnotes': [{}]}]}, {'seriesID': 'LAUMT043914000000006', 'data': [{'year': '2019', 'period': 'M12', 'periodName': 'December', 'value': '107107', 'footnotes': [{}]}, {'year': '2019', 'period': 'M11', 'periodName': 'November', 'value': '108301', 'footnotes': [{}]}, {'year': '2019', 'period': 'M10', 'periodName': 'October', 'value': '107722', 'footnotes': [{}]}, {'year': '2019', 'period': 'M09', 'periodName': 'September', 'value': '108122', 'footnotes': [{}]}, {'year': '2019', 'period': 'M08', 'periodName': 'August', 'value': '107395', 'footnotes': [{}]}, {'year': '2019', 'period': 'M07', 'periodName': 'July', 'value': '107835', 'footnotes': [{}]}, {'year': '2019', 'period': 'M06', 'periodName': 'June', 'value': '108141', 'footnotes': [{}]}, {'year': '2019', 'period': 'M05', 'periodName': 'May', 'value': '106679', 'footnotes': [{}]}, {'year': '2019', 'period': 'M04', 'periodName': 'April', 'value': '105871', 'footnotes': [{}]}, {'year': '2019', 'period': 'M03', 'periodName': 'March', 'value': '105992', 'footnotes': [{}]}, {'year': '2019', 'period': 'M02', 'periodName': 'February', 'value': '104703', 'footnotes': [{}]}, {'year': '2019', 'period': 'M01', 'periodName': 'January', 'value': '104693', 'footnotes': [{}]}, {'year': '2018', 'period': 'M12', 'periodName': 'December', 'value': '104365', 'footnotes': [{}]}, {'year': '2018', 'period': 'M11', 'periodName': 'November', 'value': '104509', 'footnotes': [{}]}, {'year': '2018', 'period': 'M10', 'periodName': 'October', 'value': '104734', 'footnotes': [{}]}, {'year': '2018', 'period': 'M09', 'periodName': 'September', 'value': '105665', 'footnotes': [{}]}, {'year': '2018', 'period': 'M08', 'periodName': 'August', 'value': '104576', 'footnotes': [{}]}, {'year': '2018', 'period': 'M07', 'periodName': 'July', 'value': '106231', 'footnotes': [{}]}, {'year': '2018', 'period': 'M06', 'periodName': 'June', 'value': '106076', 'footnotes': [{}]}, {'year': '2018', 'period': 'M05', 'periodName': 'May', 'value': '105070', 'footnotes': [{}]}, {'year': '2018', 'period': 'M04', 'periodName': 'April', 'value': '104567', 'footnotes': [{}]}, {'year': '2018', 'period': 'M03', 'periodName': 'March', 'value': '104120', 'footnotes': [{}]}, {'year': '2018', 'period': 'M02', 'periodName': 'February', 'value': '103474', 'footnotes': [{}]}, {'year': '2018', 'period': 'M01', 'periodName': 'January', 'value': '101799', 'footnotes': [{}]}, {'year': '2017', 'period': 'M12', 'periodName': 'December', 'value': '100970', 'footnotes': [{}]}, {'year': '2017', 'period': 'M11', 'periodName': 'November', 'value': '101910', 'footnotes': [{}]}, {'year': '2017', 'period': 'M10', 'periodName': 'October', 'value': '102137', 'footnotes': [{}]}, {'year': '2017', 'period': 'M09', 'periodName': 'September', 'value': '103609', 'footnotes': [{}]}, {'year': '2017', 'period': 'M08', 'periodName': 'August', 'value': '102483', 'footnotes': [{}]}, {'year': '2017', 'period': 'M07', 'periodName': 'July', 'value': '103235', 'footnotes': [{}]}, {'year': '2017', 'period': 'M06', 'periodName': 'June', 'value': '103319', 'footnotes': [{}]}, {'year': '2017', 'period': 'M05', 'periodName': 'May', 'value': '102262', 'footnotes': [{}]}, {'year': '2017', 'period': 'M04', 'periodName': 'April', 'value': '101569', 'footnotes': [{}]}, {'year': '2017', 'period': 'M03', 'periodName': 'March', 'value': '101063', 'footnotes': [{}]}, {'year': '2017', 'period': 'M02', 'periodName': 'February', 'value': '100613', 'footnotes': [{}]}, {'year': '2017', 'period': 'M01', 'periodName': 'January', 'value': '99043', 'footnotes': [{}]}, {'year': '2016', 'period': 'M12', 'periodName': 'December', 'value': '99105', 'footnotes': [{}]}, {'year': '2016', 'period': 'M11', 'periodName': 'November', 'value': '100003', 'footnotes': [{}]}, {'year': '2016', 'period': 'M10', 'periodName': 'October', 'value': '99996', 'footnotes': [{}]}, {'year': '2016', 'period': 'M09', 'periodName': 'September', 'value': '100405', 'footnotes': [{}]}, {'year': '2016', 'period': 'M08', 'periodName': 'August', 'value': '99829', 'footnotes': [{}]}, {'year': '2016', 'period': 'M07', 'periodName': 'July', 'value': '99897', 'footnotes': [{}]}, {'year': '2016', 'period': 'M06', 'periodName': 'June', 'value': '100666', 'footnotes': [{}]}, {'year': '2016', 'period': 'M05', 'periodName': 'May', 'value': '99787', 'footnotes': [{}]}, {'year': '2016', 'period': 'M04', 'periodName': 'April', 'value': '98869', 'footnotes': [{}]}, {'year': '2016', 'period': 'M03', 'periodName': 'March', 'value': '99360', 'footnotes': [{}]}, {'year': '2016', 'period': 'M02', 'periodName': 'February', 'value': '98131', 'footnotes': [{}]}, {'year': '2016', 'period': 'M01', 'periodName': 'January', 'value': '96721', 'footnotes': [{}]}, {'year': '2015', 'period': 'M12', 'periodName': 'December', 'value': '96444', 'footnotes': [{}]}, {'year': '2015', 'period': 'M11', 'periodName': 'November', 'value': '96794', 'footnotes': [{}]}, {'year': '2015', 'period': 'M10', 'periodName': 'October', 'value': '96810', 'footnotes': [{}]}, {'year': '2015', 'period': 'M09', 'periodName': 'September', 'value': '96724', 'footnotes': [{}]}, {'year': '2015', 'period': 'M08', 'periodName': 'August', 'value': '96291', 'footnotes': [{}]}, {'year': '2015', 'period': 'M07', 'periodName': 'July', 'value': '95298', 'footnotes': [{}]}, {'year': '2015', 'period': 'M06', 'periodName': 'June', 'value': '96893', 'footnotes': [{}]}, {'year': '2015', 'period': 'M05', 'periodName': 'May', 'value': '96800', 'footnotes': [{}]}, {'year': '2015', 'period': 'M04', 'periodName': 'April', 'value': '96339', 'footnotes': [{}]}, {'year': '2015', 'period': 'M03', 'periodName': 'March', 'value': '95455', 'footnotes': [{}]}, {'year': '2015', 'period': 'M02', 'periodName': 'February', 'value': '94887', 'footnotes': [{}]}, {'year': '2015', 'period': 'M01', 'periodName': 'January', 'value': '94596', 'footnotes': [{}]}, {'year': '2014', 'period': 'M12', 'periodName': 'December', 'value': '93400', 'footnotes': [{}]}, {'year': '2014', 'period': 'M11', 'periodName': 'November', 'value': '95223', 'footnotes': [{}]}, {'year': '2014', 'period': 'M10', 'periodName': 'October', 'value': '95814', 'footnotes': [{}]}, {'year': '2014', 'period': 'M09', 'periodName': 'September', 'value': '95653', 'footnotes': [{}]}, {'year': '2014', 'period': 'M08', 'periodName': 'August', 'value': '95127', 'footnotes': [{}]}, {'year': '2014', 'period': 'M07', 'periodName': 'July', 'value': '94959', 'footnotes': [{}]}, {'year': '2014', 'period': 'M06', 'periodName': 'June', 'value': '94844', 'footnotes': [{}]}, {'year': '2014', 'period': 'M05', 'periodName': 'May', 'value': '94347', 'footnotes': [{}]}, {'year': '2014', 'period': 'M04', 'periodName': 'April', 'value': '93585', 'footnotes': [{}]}, {'year': '2014', 'period': 'M03', 'periodName': 'March', 'value': '93757', 'footnotes': [{}]}, {'year': '2014', 'period': 'M02', 'periodName': 'February', 'value': '93128', 'footnotes': [{}]}, {'year': '2014', 'period': 'M01', 'periodName': 'January', 'value': '91899', 'footnotes': [{}]}, {'year': '2013', 'period': 'M12', 'periodName': 'December', 'value': '91165', 'footnotes': [{}]}, {'year': '2013', 'period': 'M11', 'periodName': 'November', 'value': '91876', 'footnotes': [{}]}, {'year': '2013', 'period': 'M10', 'periodName': 'October', 'value': '91887', 'footnotes': [{}]}, {'year': '2013', 'period': 'M09', 'periodName': 'September', 'value': '92545', 'footnotes': [{}]}, {'year': '2013', 'period': 'M08', 'periodName': 'August', 'value': '92605', 'footnotes': [{}]}, {'year': '2013', 'period': 'M07', 'periodName': 'July', 'value': '92172', 'footnotes': [{}]}, {'year': '2013', 'period': 'M06', 'periodName': 'June', 'value': '92493', 'footnotes': [{}]}, {'year': '2013', 'period': 'M05', 'periodName': 'May', 'value': '91276', 'footnotes': [{}]}, {'year': '2013', 'period': 'M04', 'periodName': 'April', 'value': '91535', 'footnotes': [{}]}, {'year': '2013', 'period': 'M03', 'periodName': 'March', 'value': '90284', 'footnotes': [{}]}, {'year': '2013', 'period': 'M02', 'periodName': 'February', 'value': '90734', 'footnotes': [{}]}, {'year': '2013', 'period': 'M01', 'periodName': 'January', 'value': '90470', 'footnotes': [{}]}, {'year': '2012', 'period': 'M12', 'periodName': 'December', 'value': '90509', 'footnotes': [{}]}, {'year': '2012', 'period': 'M11', 'periodName': 'November', 'value': '91439', 'footnotes': [{}]}, {'year': '2012', 'period': 'M10', 'periodName': 'October', 'value': '92944', 'footnotes': [{}]}, {'year': '2012', 'period': 'M09', 'periodName': 'September', 'value': '93487', 'footnotes': [{}]}, {'year': '2012', 'period': 'M08', 'periodName': 'August', 'value': '93191', 'footnotes': [{}]}, {'year': '2012', 'period': 'M07', 'periodName': 'July', 'value': '93256', 'footnotes': [{}]}, {'year': '2012', 'period': 'M06', 'periodName': 'June', 'value': '93731', 'footnotes': [{}]}, {'year': '2012', 'period': 'M05', 'periodName': 'May', 'value': '92394', 'footnotes': [{}]}, {'year': '2012', 'period': 'M04', 'periodName': 'April', 'value': '92436', 'footnotes': [{}]}, {'year': '2012', 'period': 'M03', 'periodName': 'March', 'value': '91833', 'footnotes': [{}]}, {'year': '2012', 'period': 'M02', 'periodName': 'February', 'value': '92104', 'footnotes': [{}]}, {'year': '2012', 'period': 'M01', 'periodName': 'January', 'value': '91282', 'footnotes': [{}]}, {'year': '2011', 'period': 'M12', 'periodName': 'December', 'value': '90887', 'footnotes': [{}]}, {'year': '2011', 'period': 'M11', 'periodName': 'November', 'value': '92319', 'footnotes': [{}]}, {'year': '2011', 'period': 'M10', 'periodName': 'October', 'value': '92980', 'footnotes': [{}]}, {'year': '2011', 'period': 'M09', 'periodName': 'September', 'value': '93534', 'footnotes': [{}]}, {'year': '2011', 'period': 'M08', 'periodName': 'August', 'value': '93658', 'footnotes': [{}]}, {'year': '2011', 'period': 'M07', 'periodName': 'July', 'value': '93302', 'footnotes': [{}]}, {'year': '2011', 'period': 'M06', 'periodName': 'June', 'value': '95238', 'footnotes': [{}]}, {'year': '2011', 'period': 'M05', 'periodName': 'May', 'value': '93197', 'footnotes': [{}]}, {'year': '2011', 'period': 'M04', 'periodName': 'April', 'value': '93396', 'footnotes': [{}]}, {'year': '2011', 'period': 'M03', 'periodName': 'March', 'value': '93062', 'footnotes': [{}]}, {'year': '2011', 'period': 'M02', 'periodName': 'February', 'value': '93356', 'footnotes': [{}]}, {'year': '2011', 'period': 'M01', 'periodName': 'January', 'value': '92653', 'footnotes': [{}]}, {'year': '2010', 'period': 'M12', 'periodName': 'December', 'value': '92781', 'footnotes': [{}]}, {'year': '2010', 'period': 'M11', 'periodName': 'November', 'value': '94561', 'footnotes': [{}]}, {'year': '2010', 'period': 'M10', 'periodName': 'October', 'value': '94871', 'footnotes': [{}]}, {'year': '2010', 'period': 'M09', 'periodName': 'September', 'value': '97127', 'footnotes': [{}]}, {'year': '2010', 'period': 'M08', 'periodName': 'August', 'value': '97695', 'footnotes': [{}]}, {'year': '2010', 'period': 'M07', 'periodName': 'July', 'value': '97013', 'footnotes': [{}]}, {'year': '2010', 'period': 'M06', 'periodName': 'June', 'value': '97345', 'footnotes': [{}]}, {'year': '2010', 'period': 'M05', 'periodName': 'May', 'value': '97034', 'footnotes': [{}]}, {'year': '2010', 'period': 'M04', 'periodName': 'April', 'value': '97358', 'footnotes': [{}]}, {'year': '2010', 'period': 'M03', 'periodName': 'March', 'value': '97078', 'footnotes': [{}]}, {'year': '2010', 'period': 'M02', 'periodName': 'February', 'value': '97981', 'footnotes': [{}]}, {'year': '2010', 'period': 'M01', 'periodName': 'January', 'value': '97560', 'footnotes': [{}]}]}, {'seriesID': 'LAUMT447720000000006', 'data': [{'year': '2019', 'period': 'M12', 'periodName': 'December', 'value': '695900', 'footnotes': [{}]}, {'year': '2019', 'period': 'M11', 'periodName': 'November', 'value': '697292', 'footnotes': [{}]}, {'year': '2019', 'period': 'M10', 'periodName': 'October', 'value': '693593', 'footnotes': [{}]}, {'year': '2019', 'period': 'M09', 'periodName': 'September', 'value': '691449', 'footnotes': [{}]}, {'year': '2019', 'period': 'M08', 'periodName': 'August', 'value': '695676', 'footnotes': [{}]}, {'year': '2019', 'period': 'M07', 'periodName': 'July', 'value': '696920', 'footnotes': [{}]}, {'year': '2019', 'period': 'M06', 'periodName': 'June', 'value': '693435', 'footnotes': [{}]}, {'year': '2019', 'period': 'M05', 'periodName': 'May', 'value': '685457', 'footnotes': [{}]}, {'year': '2019', 'period': 'M04', 'periodName': 'April', 'value': '683687', 'footnotes': [{}]}, {'year': '2019', 'period': 'M03', 'periodName': 'March', 'value': '686034', 'footnotes': [{}]}, {'year': '2019', 'period': 'M02', 'periodName': 'February', 'value': '688937', 'footnotes': [{}]}, {'year': '2019', 'period': 'M01', 'periodName': 'January', 'value': '688738', 'footnotes': [{}]}, {'year': '2018', 'period': 'M12', 'periodName': 'December', 'value': '691427', 'footnotes': [{}]}, {'year': '2018', 'period': 'M11', 'periodName': 'November', 'value': '693160', 'footnotes': [{}]}, {'year': '2018', 'period': 'M10', 'periodName': 'October', 'value': '689784', 'footnotes': [{}]}, {'year': '2018', 'period': 'M09', 'periodName': 'September', 'value': '689389', 'footnotes': [{}]}, {'year': '2018', 'period': 'M08', 'periodName': 'August', 'value': '693736', 'footnotes': [{}]}, {'year': '2018', 'period': 'M07', 'periodName': 'July', 'value': '697055', 'footnotes': [{}]}, {'year': '2018', 'period': 'M06', 'periodName': 'June', 'value': '693448', 'footnotes': [{}]}, {'year': '2018', 'period': 'M05', 'periodName': 'May', 'value': '686793', 'footnotes': [{}]}, {'year': '2018', 'period': 'M04', 'periodName': 'April', 'value': '684704', 'footnotes': [{}]}, {'year': '2018', 'period': 'M03', 'periodName': 'March', 'value': '685733', 'footnotes': [{}]}, {'year': '2018', 'period': 'M02', 'periodName': 'February', 'value': '687433', 'footnotes': [{}]}, {'year': '2018', 'period': 'M01', 'periodName': 'January', 'value': '684439', 'footnotes': [{}]}, {'year': '2017', 'period': 'M12', 'periodName': 'December', 'value': '687024', 'footnotes': [{}]}, {'year': '2017', 'period': 'M11', 'periodName': 'November', 'value': '688751', 'footnotes': [{}]}, {'year': '2017', 'period': 'M10', 'periodName': 'October', 'value': '684797', 'footnotes': [{}]}, {'year': '2017', 'period': 'M09', 'periodName': 'September', 'value': '684631', 'footnotes': [{}]}, {'year': '2017', 'period': 'M08', 'periodName': 'August', 'value': '688723', 'footnotes': [{}]}, {'year': '2017', 'period': 'M07', 'periodName': 'July', 'value': '691053', 'footnotes': [{}]}, {'year': '2017', 'period': 'M06', 'periodName': 'June', 'value': '687578', 'footnotes': [{}]}, {'year': '2017', 'period': 'M05', 'periodName': 'May', 'value': '679579', 'footnotes': [{}]}, {'year': '2017', 'period': 'M04', 'periodName': 'April', 'value': '677913', 'footnotes': [{}]}, {'year': '2017', 'period': 'M03', 'periodName': 'March', 'value': '679760', 'footnotes': [{}]}, {'year': '2017', 'period': 'M02', 'periodName': 'February', 'value': '681048', 'footnotes': [{}]}, {'year': '2017', 'period': 'M01', 'periodName': 'January', 'value': '679985', 'footnotes': [{}]}, {'year': '2016', 'period': 'M12', 'periodName': 'December', 'value': '681049', 'footnotes': [{}]}, {'year': '2016', 'period': 'M11', 'periodName': 'November', 'value': '683511', 'footnotes': [{}]}, {'year': '2016', 'period': 'M10', 'periodName': 'October', 'value': '681833', 'footnotes': [{}]}, {'year': '2016', 'period': 'M09', 'periodName': 'September', 'value': '681149', 'footnotes': [{}]}, {'year': '2016', 'period': 'M08', 'periodName': 'August', 'value': '685677', 'footnotes': [{}]}, {'year': '2016', 'period': 'M07', 'periodName': 'July', 'value': '688570', 'footnotes': [{}]}, {'year': '2016', 'period': 'M06', 'periodName': 'June', 'value': '685758', 'footnotes': [{}]}, {'year': '2016', 'period': 'M05', 'periodName': 'May', 'value': '677577', 'footnotes': [{}]}, {'year': '2016', 'period': 'M04', 'periodName': 'April', 'value': '676656', 'footnotes': [{}]}, {'year': '2016', 'period': 'M03', 'periodName': 'March', 'value': '679270', 'footnotes': [{}]}, {'year': '2016', 'period': 'M02', 'periodName': 'February', 'value': '679494', 'footnotes': [{}]}, {'year': '2016', 'period': 'M01', 'periodName': 'January', 'value': '678500', 'footnotes': [{}]}, {'year': '2015', 'period': 'M12', 'periodName': 'December', 'value': '681954', 'footnotes': [{}]}, {'year': '2015', 'period': 'M11', 'periodName': 'November', 'value': '683558', 'footnotes': [{}]}, {'year': '2015', 'period': 'M10', 'periodName': 'October', 'value': '680402', 'footnotes': [{}]}, {'year': '2015', 'period': 'M09', 'periodName': 'September', 'value': '679066', 'footnotes': [{}]}, {'year': '2015', 'period': 'M08', 'periodName': 'August', 'value': '684407', 'footnotes': [{}]}, {'year': '2015', 'period': 'M07', 'periodName': 'July', 'value': '688227', 'footnotes': [{}]}, {'year': '2015', 'period': 'M06', 'periodName': 'June', 'value': '686637', 'footnotes': [{}]}, {'year': '2015', 'period': 'M05', 'periodName': 'May', 'value': '681233', 'footnotes': [{}]}, {'year': '2015', 'period': 'M04', 'periodName': 'April', 'value': '678145', 'footnotes': [{}]}, {'year': '2015', 'period': 'M03', 'periodName': 'March', 'value': '679222', 'footnotes': [{}]}, {'year': '2015', 'period': 'M02', 'periodName': 'February', 'value': '680170', 'footnotes': [{}]}, {'year': '2015', 'period': 'M01', 'periodName': 'January', 'value': '682237', 'footnotes': [{}]}, {'year': '2014', 'period': 'M12', 'periodName': 'December', 'value': '683730', 'footnotes': [{}]}, {'year': '2014', 'period': 'M11', 'periodName': 'November', 'value': '685700', 'footnotes': [{}]}, {'year': '2014', 'period': 'M10', 'periodName': 'October', 'value': '682543', 'footnotes': [{}]}, {'year': '2014', 'period': 'M09', 'periodName': 'September', 'value': '682149', 'footnotes': [{}]}, {'year': '2014', 'period': 'M08', 'periodName': 'August', 'value': '687150', 'footnotes': [{}]}, {'year': '2014', 'period': 'M07', 'periodName': 'July', 'value': '689304', 'footnotes': [{}]}, {'year': '2014', 'period': 'M06', 'periodName': 'June', 'value': '686433', 'footnotes': [{}]}, {'year': '2014', 'period': 'M05', 'periodName': 'May', 'value': '679444', 'footnotes': [{}]}, {'year': '2014', 'period': 'M04', 'periodName': 'April', 'value': '677577', 'footnotes': [{}]}, {'year': '2014', 'period': 'M03', 'periodName': 'March', 'value': '680177', 'footnotes': [{}]}, {'year': '2014', 'period': 'M02', 'periodName': 'February', 'value': '680801', 'footnotes': [{}]}, {'year': '2014', 'period': 'M01', 'periodName': 'January', 'value': '680584', 'footnotes': [{}]}, {'year': '2013', 'period': 'M12', 'periodName': 'December', 'value': '681942', 'footnotes': [{}]}, {'year': '2013', 'period': 'M11', 'periodName': 'November', 'value': '684696', 'footnotes': [{}]}, {'year': '2013', 'period': 'M10', 'periodName': 'October', 'value': '682199', 'footnotes': [{}]}, {'year': '2013', 'period': 'M09', 'periodName': 'September', 'value': '682053', 'footnotes': [{}]}, {'year': '2013', 'period': 'M08', 'periodName': 'August', 'value': '686755', 'footnotes': [{}]}, {'year': '2013', 'period': 'M07', 'periodName': 'July', 'value': '688470', 'footnotes': [{}]}, {'year': '2013', 'period': 'M06', 'periodName': 'June', 'value': '685899', 'footnotes': [{}]}, {'year': '2013', 'period': 'M05', 'periodName': 'May', 'value': '676295', 'footnotes': [{}]}, {'year': '2013', 'period': 'M04', 'periodName': 'April', 'value': '675175', 'footnotes': [{}]}, {'year': '2013', 'period': 'M03', 'periodName': 'March', 'value': '677633', 'footnotes': [{}]}, {'year': '2013', 'period': 'M02', 'periodName': 'February', 'value': '679274', 'footnotes': [{}]}, {'year': '2013', 'period': 'M01', 'periodName': 'January', 'value': '680812', 'footnotes': [{}]}, {'year': '2012', 'period': 'M12', 'periodName': 'December', 'value': '682895', 'footnotes': [{}]}, {'year': '2012', 'period': 'M11', 'periodName': 'November', 'value': '684684', 'footnotes': [{}]}, {'year': '2012', 'period': 'M10', 'periodName': 'October', 'value': '683605', 'footnotes': [{}]}, {'year': '2012', 'period': 'M09', 'periodName': 'September', 'value': '682878', 'footnotes': [{}]}, {'year': '2012', 'period': 'M08', 'periodName': 'August', 'value': '687525', 'footnotes': [{}]}, {'year': '2012', 'period': 'M07', 'periodName': 'July', 'value': '687779', 'footnotes': [{}]}, {'year': '2012', 'period': 'M06', 'periodName': 'June', 'value': '685373', 'footnotes': [{}]}, {'year': '2012', 'period': 'M05', 'periodName': 'May', 'value': '677237', 'footnotes': [{}]}, {'year': '2012', 'period': 'M04', 'periodName': 'April', 'value': '675773', 'footnotes': [{}]}, {'year': '2012', 'period': 'M03', 'periodName': 'March', 'value': '678975', 'footnotes': [{}]}, {'year': '2012', 'period': 'M02', 'periodName': 'February', 'value': '680613', 'footnotes': [{}]}, {'year': '2012', 'period': 'M01', 'periodName': 'January', 'value': '679848', 'footnotes': [{}]}, {'year': '2011', 'period': 'M12', 'periodName': 'December', 'value': '683078', 'footnotes': [{}]}, {'year': '2011', 'period': 'M11', 'periodName': 'November', 'value': '686055', 'footnotes': [{}]}, {'year': '2011', 'period': 'M10', 'periodName': 'October', 'value': '683444', 'footnotes': [{}]}, {'year': '2011', 'period': 'M09', 'periodName': 'September', 'value': '681196', 'footnotes': [{}]}, {'year': '2011', 'period': 'M08', 'periodName': 'August', 'value': '686950', 'footnotes': [{}]}, {'year': '2011', 'period': 'M07', 'periodName': 'July', 'value': '688965', 'footnotes': [{}]}, {'year': '2011', 'period': 'M06', 'periodName': 'June', 'value': '687544', 'footnotes': [{}]}, {'year': '2011', 'period': 'M05', 'periodName': 'May', 'value': '679643', 'footnotes': [{}]}, {'year': '2011', 'period': 'M04', 'periodName': 'April', 'value': '679716', 'footnotes': [{}]}, {'year': '2011', 'period': 'M03', 'periodName': 'March', 'value': '682146', 'footnotes': [{}]}, {'year': '2011', 'period': 'M02', 'periodName': 'February', 'value': '683152', 'footnotes': [{}]}, {'year': '2011', 'period': 'M01', 'periodName': 'January', 'value': '684228', 'footnotes': [{}]}, {'year': '2010', 'period': 'M12', 'periodName': 'December', 'value': '688633', 'footnotes': [{}]}, {'year': '2010', 'period': 'M11', 'periodName': 'November', 'value': '691950', 'footnotes': [{}]}, {'year': '2010', 'period': 'M10', 'periodName': 'October', 'value': '688779', 'footnotes': [{}]}, {'year': '2010', 'period': 'M09', 'periodName': 'September', 'value': '689926', 'footnotes': [{}]}, {'year': '2010', 'period': 'M08', 'periodName': 'August', 'value': '698592', 'footnotes': [{}]}, {'year': '2010', 'period': 'M07', 'periodName': 'July', 'value': '699424', 'footnotes': [{}]}, {'year': '2010', 'period': 'M06', 'periodName': 'June', 'value': '695040', 'footnotes': [{}]}, {'year': '2010', 'period': 'M05', 'periodName': 'May', 'value': '688148', 'footnotes': [{}]}, {'year': '2010', 'period': 'M04', 'periodName': 'April', 'value': '687738', 'footnotes': [{}]}, {'year': '2010', 'period': 'M03', 'periodName': 'March', 'value': '688093', 'footnotes': [{}]}, {'year': '2010', 'period': 'M02', 'periodName': 'February', 'value': '688350', 'footnotes': [{}]}, {'year': '2010', 'period': 'M01', 'periodName': 'January', 'value': '689076', 'footnotes': [{}]}]}, {'seriesID': 'LAUMT257810000000006', 'data': [{'year': '2019', 'period': 'M12', 'periodName': 'December', 'value': '381201', 'footnotes': [{}]}, {'year': '2019', 'period': 'M11', 'periodName': 'November', 'value': '382344', 'footnotes': [{}]}, {'year': '2019', 'period': 'M10', 'periodName': 'October', 'value': '380896', 'footnotes': [{}]}, {'year': '2019', 'period': 'M09', 'periodName': 'September', 'value': '377658', 'footnotes': [{}]}, {'year': '2019', 'period': 'M08', 'periodName': 'August', 'value': '376056', 'footnotes': [{}]}, {'year': '2019', 'period': 'M07', 'periodName': 'July', 'value': '377564', 'footnotes': [{}]}, {'year': '2019', 'period': 'M06', 'periodName': 'June', 'value': '378212', 'footnotes': [{}]}, {'year': '2019', 'period': 'M05', 'periodName': 'May', 'value': '377675', 'footnotes': [{}]}, {'year': '2019', 'period': 'M04', 'periodName': 'April', 'value': '378841', 'footnotes': [{}]}, {'year': '2019', 'period': 'M03', 'periodName': 'March', 'value': '380460', 'footnotes': [{}]}, {'year': '2019', 'period': 'M02', 'periodName': 'February', 'value': '380904', 'footnotes': [{}]}, {'year': '2019', 'period': 'M01', 'periodName': 'January', 'value': '378063', 'footnotes': [{}]}, {'year': '2018', 'period': 'M12', 'periodName': 'December', 'value': '380440', 'footnotes': [{}]}, {'year': '2018', 'period': 'M11', 'periodName': 'November', 'value': '381206', 'footnotes': [{}]}, {'year': '2018', 'period': 'M10', 'periodName': 'October', 'value': '380020', 'footnotes': [{}]}, {'year': '2018', 'period': 'M09', 'periodName': 'September', 'value': '377994', 'footnotes': [{}]}, {'year': '2018', 'period': 'M08', 'periodName': 'August', 'value': '377667', 'footnotes': [{}]}, {'year': '2018', 'period': 'M07', 'periodName': 'July', 'value': '379152', 'footnotes': [{}]}, {'year': '2018', 'period': 'M06', 'periodName': 'June', 'value': '380176', 'footnotes': [{}]}, {'year': '2018', 'period': 'M05', 'periodName': 'May', 'value': '376287', 'footnotes': [{}]}, {'year': '2018', 'period': 'M04', 'periodName': 'April', 'value': '377290', 'footnotes': [{}]}, {'year': '2018', 'period': 'M03', 'periodName': 'March', 'value': '376613', 'footnotes': [{}]}, {'year': '2018', 'period': 'M02', 'periodName': 'February', 'value': '375165', 'footnotes': [{}]}, {'year': '2018', 'period': 'M01', 'periodName': 'January', 'value': '370463', 'footnotes': [{}]}, {'year': '2017', 'period': 'M12', 'periodName': 'December', 'value': '372906', 'footnotes': [{}]}, {'year': '2017', 'period': 'M11', 'periodName': 'November', 'value': '372925', 'footnotes': [{}]}, {'year': '2017', 'period': 'M10', 'periodName': 'October', 'value': '371982', 'footnotes': [{}]}, {'year': '2017', 'period': 'M09', 'periodName': 'September', 'value': '369725', 'footnotes': [{}]}, {'year': '2017', 'period': 'M08', 'periodName': 'August', 'value': '370268', 'footnotes': [{}]}, {'year': '2017', 'period': 'M07', 'periodName': 'July', 'value': '372243', 'footnotes': [{}]}, {'year': '2017', 'period': 'M06', 'periodName': 'June', 'value': '373141', 'footnotes': [{}]}, {'year': '2017', 'period': 'M05', 'periodName': 'May', 'value': '370786', 'footnotes': [{}]}, {'year': '2017', 'period': 'M04', 'periodName': 'April', 'value': '372275', 'footnotes': [{}]}, {'year': '2017', 'period': 'M03', 'periodName': 'March', 'value': '372147', 'footnotes': [{}]}, {'year': '2017', 'period': 'M02', 'periodName': 'February', 'value': '371226', 'footnotes': [{}]}, {'year': '2017', 'period': 'M01', 'periodName': 'January', 'value': '366784', 'footnotes': [{}]}, {'year': '2016', 'period': 'M12', 'periodName': 'December', 'value': '367872', 'footnotes': [{}]}, {'year': '2016', 'period': 'M11', 'periodName': 'November', 'value': '367912', 'footnotes': [{}]}, {'year': '2016', 'period': 'M10', 'periodName': 'October', 'value': '367297', 'footnotes': [{}]}, {'year': '2016', 'period': 'M09', 'periodName': 'September', 'value': '364830', 'footnotes': [{}]}, {'year': '2016', 'period': 'M08', 'periodName': 'August', 'value': '365950', 'footnotes': [{}]}, {'year': '2016', 'period': 'M07', 'periodName': 'July', 'value': '367577', 'footnotes': [{}]}, {'year': '2016', 'period': 'M06', 'periodName': 'June', 'value': '367151', 'footnotes': [{}]}, {'year': '2016', 'period': 'M05', 'periodName': 'May', 'value': '365297', 'footnotes': [{}]}, {'year': '2016', 'period': 'M04', 'periodName': 'April', 'value': '366599', 'footnotes': [{}]}, {'year': '2016', 'period': 'M03', 'periodName': 'March', 'value': '367824', 'footnotes': [{}]}, {'year': '2016', 'period': 'M02', 'periodName': 'February', 'value': '366394', 'footnotes': [{}]}, {'year': '2016', 'period': 'M01', 'periodName': 'January', 'value': '363366', 'footnotes': [{}]}, {'year': '2015', 'period': 'M12', 'periodName': 'December', 'value': '364129', 'footnotes': [{}]}, {'year': '2015', 'period': 'M11', 'periodName': 'November', 'value': '363941', 'footnotes': [{}]}, {'year': '2015', 'period': 'M10', 'periodName': 'October', 'value': '363558', 'footnotes': [{}]}, {'year': '2015', 'period': 'M09', 'periodName': 'September', 'value': '359980', 'footnotes': [{}]}, {'year': '2015', 'period': 'M08', 'periodName': 'August', 'value': '363811', 'footnotes': [{}]}, {'year': '2015', 'period': 'M07', 'periodName': 'July', 'value': '366269', 'footnotes': [{}]}, {'year': '2015', 'period': 'M06', 'periodName': 'June', 'value': '369228', 'footnotes': [{}]}, {'year': '2015', 'period': 'M05', 'periodName': 'May', 'value': '368016', 'footnotes': [{}]}, {'year': '2015', 'period': 'M04', 'periodName': 'April', 'value': '367892', 'footnotes': [{}]}, {'year': '2015', 'period': 'M03', 'periodName': 'March', 'value': '368886', 'footnotes': [{}]}, {'year': '2015', 'period': 'M02', 'periodName': 'February', 'value': '369565', 'footnotes': [{}]}, {'year': '2015', 'period': 'M01', 'periodName': 'January', 'value': '367000', 'footnotes': [{}]}, {'year': '2014', 'period': 'M12', 'periodName': 'December', 'value': '367449', 'footnotes': [{}]}, {'year': '2014', 'period': 'M11', 'periodName': 'November', 'value': '368054', 'footnotes': [{}]}, {'year': '2014', 'period': 'M10', 'periodName': 'October', 'value': '367774', 'footnotes': [{}]}, {'year': '2014', 'period': 'M09', 'periodName': 'September', 'value': '363075', 'footnotes': [{}]}, {'year': '2014', 'period': 'M08', 'periodName': 'August', 'value': '366568', 'footnotes': [{}]}, {'year': '2014', 'period': 'M07', 'periodName': 'July', 'value': '367266', 'footnotes': [{}]}, {'year': '2014', 'period': 'M06', 'periodName': 'June', 'value': '366744', 'footnotes': [{}]}, {'year': '2014', 'period': 'M05', 'periodName': 'May', 'value': '364614', 'footnotes': [{}]}, {'year': '2014', 'period': 'M04', 'periodName': 'April', 'value': '364586', 'footnotes': [{}]}, {'year': '2014', 'period': 'M03', 'periodName': 'March', 'value': '364762', 'footnotes': [{}]}, {'year': '2014', 'period': 'M02', 'periodName': 'February', 'value': '362651', 'footnotes': [{}]}, {'year': '2014', 'period': 'M01', 'periodName': 'January', 'value': '359705', 'footnotes': [{}]}, {'year': '2013', 'period': 'M12', 'periodName': 'December', 'value': '361318', 'footnotes': [{}]}, {'year': '2013', 'period': 'M11', 'periodName': 'November', 'value': '360660', 'footnotes': [{}]}, {'year': '2013', 'period': 'M10', 'periodName': 'October', 'value': '359964', 'footnotes': [{}]}, {'year': '2013', 'period': 'M09', 'periodName': 'September', 'value': '360025', 'footnotes': [{}]}, {'year': '2013', 'period': 'M08', 'periodName': 'August', 'value': '359631', 'footnotes': [{}]}, {'year': '2013', 'period': 'M07', 'periodName': 'July', 'value': '360969', 'footnotes': [{}]}, {'year': '2013', 'period': 'M06', 'periodName': 'June', 'value': '363557', 'footnotes': [{}]}, {'year': '2013', 'period': 'M05', 'periodName': 'May', 'value': '361580', 'footnotes': [{}]}, {'year': '2013', 'period': 'M04', 'periodName': 'April', 'value': '361919', 'footnotes': [{}]}, {'year': '2013', 'period': 'M03', 'periodName': 'March', 'value': '360687', 'footnotes': [{}]}, {'year': '2013', 'period': 'M02', 'periodName': 'February', 'value': '359993', 'footnotes': [{}]}, {'year': '2013', 'period': 'M01', 'periodName': 'January', 'value': '358335', 'footnotes': [{}]}, {'year': '2012', 'period': 'M12', 'periodName': 'December', 'value': '359164', 'footnotes': [{}]}, {'year': '2012', 'period': 'M11', 'periodName': 'November', 'value': '360103', 'footnotes': [{}]}, {'year': '2012', 'period': 'M10', 'periodName': 'October', 'value': '361332', 'footnotes': [{}]}, {'year': '2012', 'period': 'M09', 'periodName': 'September', 'value': '358634', 'footnotes': [{}]}, {'year': '2012', 'period': 'M08', 'periodName': 'August', 'value': '358190', 'footnotes': [{}]}, {'year': '2012', 'period': 'M07', 'periodName': 'July', 'value': '359766', 'footnotes': [{}]}, {'year': '2012', 'period': 'M06', 'periodName': 'June', 'value': '365108', 'footnotes': [{}]}, {'year': '2012', 'period': 'M05', 'periodName': 'May', 'value': '361659', 'footnotes': [{}]}, {'year': '2012', 'period': 'M04', 'periodName': 'April', 'value': '361356', 'footnotes': [{}]}, {'year': '2012', 'period': 'M03', 'periodName': 'March', 'value': '361122', 'footnotes': [{}]}, {'year': '2012', 'period': 'M02', 'periodName': 'February', 'value': '358711', 'footnotes': [{}]}, {'year': '2012', 'period': 'M01', 'periodName': 'January', 'value': '356675', 'footnotes': [{}]}, {'year': '2011', 'period': 'M12', 'periodName': 'December', 'value': '358833', 'footnotes': [{}]}, {'year': '2011', 'period': 'M11', 'periodName': 'November', 'value': '358809', 'footnotes': [{}]}, {'year': '2011', 'period': 'M10', 'periodName': 'October', 'value': '360153', 'footnotes': [{}]}, {'year': '2011', 'period': 'M09', 'periodName': 'September', 'value': '359603', 'footnotes': [{}]}, {'year': '2011', 'period': 'M08', 'periodName': 'August', 'value': '358830', 'footnotes': [{}]}, {'year': '2011', 'period': 'M07', 'periodName': 'July', 'value': '360044', 'footnotes': [{}]}, {'year': '2011', 'period': 'M06', 'periodName': 'June', 'value': '364124', 'footnotes': [{}]}, {'year': '2011', 'period': 'M05', 'periodName': 'May', 'value': '360544', 'footnotes': [{}]}, {'year': '2011', 'period': 'M04', 'periodName': 'April', 'value': '361122', 'footnotes': [{}]}, {'year': '2011', 'period': 'M03', 'periodName': 'March', 'value': '362590', 'footnotes': [{}]}, {'year': '2011', 'period': 'M02', 'periodName': 'February', 'value': '361935', 'footnotes': [{}]}, {'year': '2011', 'period': 'M01', 'periodName': 'January', 'value': '360543', 'footnotes': [{}]}, {'year': '2010', 'period': 'M12', 'periodName': 'December', 'value': '363094', 'footnotes': [{}]}, {'year': '2010', 'period': 'M11', 'periodName': 'November', 'value': '364484', 'footnotes': [{}]}, {'year': '2010', 'period': 'M10', 'periodName': 'October', 'value': '363406', 'footnotes': [{}]}, {'year': '2010', 'period': 'M09', 'periodName': 'September', 'value': '361326', 'footnotes': [{}]}, {'year': '2010', 'period': 'M08', 'periodName': 'August', 'value': '362312', 'footnotes': [{}]}, {'year': '2010', 'period': 'M07', 'periodName': 'July', 'value': '364214', 'footnotes': [{}]}, {'year': '2010', 'period': 'M06', 'periodName': 'June', 'value': '365441', 'footnotes': [{}]}, {'year': '2010', 'period': 'M05', 'periodName': 'May', 'value': '363806', 'footnotes': [{}]}, {'year': '2010', 'period': 'M04', 'periodName': 'April', 'value': '364135', 'footnotes': [{}]}, {'year': '2010', 'period': 'M03', 'periodName': 'March', 'value': '362954', 'footnotes': [{}]}, {'year': '2010', 'period': 'M02', 'periodName': 'February', 'value': '361489', 'footnotes': [{}]}, {'year': '2010', 'period': 'M01', 'periodName': 'January', 'value': '360161', 'footnotes': [{}]}]}, {'seriesID': 'LAUMT257960000000006', 'data': [{'year': '2019', 'period': 'M12', 'periodName': 'December', 'value': '366599', 'footnotes': [{}]}, {'year': '2019', 'period': 'M11', 'periodName': 'November', 'value': '365861', 'footnotes': [{}]}, {'year': '2019', 'period': 'M10', 'periodName': 'October', 'value': '363777', 'footnotes': [{}]}, {'year': '2019', 'period': 'M09', 'periodName': 'September', 'value': '360877', 'footnotes': [{}]}, {'year': '2019', 'period': 'M08', 'periodName': 'August', 'value': '363031', 'footnotes': [{}]}, {'year': '2019', 'period': 'M07', 'periodName': 'July', 'value': '363284', 'footnotes': [{}]}, {'year': '2019', 'period': 'M06', 'periodName': 'June', 'value': '364616', 'footnotes': [{}]}, {'year': '2019', 'period': 'M05', 'periodName': 'May', 'value': '361479', 'footnotes': [{}]}, {'year': '2019', 'period': 'M04', 'periodName': 'April', 'value': '361650', 'footnotes': [{}]}, {'year': '2019', 'period': 'M03', 'periodName': 'March', 'value': '363777', 'footnotes': [{}]}, {'year': '2019', 'period': 'M02', 'periodName': 'February', 'value': '364059', 'footnotes': [{}]}, {'year': '2019', 'period': 'M01', 'periodName': 'January', 'value': '362588', 'footnotes': [{}]}, {'year': '2018', 'period': 'M12', 'periodName': 'December', 'value': '363438', 'footnotes': [{}]}, {'year': '2018', 'period': 'M11', 'periodName': 'November', 'value': '363811', 'footnotes': [{}]}, {'year': '2018', 'period': 'M10', 'periodName': 'October', 'value': '361982', 'footnotes': [{}]}, {'year': '2018', 'period': 'M09', 'periodName': 'September', 'value': '359119', 'footnotes': [{}]}, {'year': '2018', 'period': 'M08', 'periodName': 'August', 'value': '360997', 'footnotes': [{}]}, {'year': '2018', 'period': 'M07', 'periodName': 'July', 'value': '363022', 'footnotes': [{}]}, {'year': '2018', 'period': 'M06', 'periodName': 'June', 'value': '364114', 'footnotes': [{}]}, {'year': '2018', 'period': 'M05', 'periodName': 'May', 'value': '360765', 'footnotes': [{}]}, {'year': '2018', 'period': 'M04', 'periodName': 'April', 'value': '359900', 'footnotes': [{}]}, {'year': '2018', 'period': 'M03', 'periodName': 'March', 'value': '361457', 'footnotes': [{}]}, {'year': '2018', 'period': 'M02', 'periodName': 'February', 'value': '359903', 'footnotes': [{}]}, {'year': '2018', 'period': 'M01', 'periodName': 'January', 'value': '356396', 'footnotes': [{}]}, {'year': '2017', 'period': 'M12', 'periodName': 'December', 'value': '356093', 'footnotes': [{}]}, {'year': '2017', 'period': 'M11', 'periodName': 'November', 'value': '355245', 'footnotes': [{}]}, {'year': '2017', 'period': 'M10', 'periodName': 'October', 'value': '353750', 'footnotes': [{}]}, {'year': '2017', 'period': 'M09', 'periodName': 'September', 'value': '352711', 'footnotes': [{}]}, {'year': '2017', 'period': 'M08', 'periodName': 'August', 'value': '353873', 'footnotes': [{}]}, {'year': '2017', 'period': 'M07', 'periodName': 'July', 'value': '355058', 'footnotes': [{}]}, {'year': '2017', 'period': 'M06', 'periodName': 'June', 'value': '356110', 'footnotes': [{}]}, {'year': '2017', 'period': 'M05', 'periodName': 'May', 'value': '353115', 'footnotes': [{}]}, {'year': '2017', 'period': 'M04', 'periodName': 'April', 'value': '352949', 'footnotes': [{}]}, {'year': '2017', 'period': 'M03', 'periodName': 'March', 'value': '355333', 'footnotes': [{}]}, {'year': '2017', 'period': 'M02', 'periodName': 'February', 'value': '353452', 'footnotes': [{}]}, {'year': '2017', 'period': 'M01', 'periodName': 'January', 'value': '351602', 'footnotes': [{}]}, {'year': '2016', 'period': 'M12', 'periodName': 'December', 'value': '349603', 'footnotes': [{}]}, {'year': '2016', 'period': 'M11', 'periodName': 'November', 'value': '349879', 'footnotes': [{}]}, {'year': '2016', 'period': 'M10', 'periodName': 'October', 'value': '348313', 'footnotes': [{}]}, {'year': '2016', 'period': 'M09', 'periodName': 'September', 'value': '346918', 'footnotes': [{}]}, {'year': '2016', 'period': 'M08', 'periodName': 'August', 'value': '349436', 'footnotes': [{}]}, {'year': '2016', 'period': 'M07', 'periodName': 'July', 'value': '350253', 'footnotes': [{}]}, {'year': '2016', 'period': 'M06', 'periodName': 'June', 'value': '351657', 'footnotes': [{}]}, {'year': '2016', 'period': 'M05', 'periodName': 'May', 'value': '347730', 'footnotes': [{}]}, {'year': '2016', 'period': 'M04', 'periodName': 'April', 'value': '346834', 'footnotes': [{}]}, {'year': '2016', 'period': 'M03', 'periodName': 'March', 'value': '348072', 'footnotes': [{}]}, {'year': '2016', 'period': 'M02', 'periodName': 'February', 'value': '346552', 'footnotes': [{}]}, {'year': '2016', 'period': 'M01', 'periodName': 'January', 'value': '345444', 'footnotes': [{}]}, {'year': '2015', 'period': 'M12', 'periodName': 'December', 'value': '345494', 'footnotes': [{}]}, {'year': '2015', 'period': 'M11', 'periodName': 'November', 'value': '344587', 'footnotes': [{}]}, {'year': '2015', 'period': 'M10', 'periodName': 'October', 'value': '343508', 'footnotes': [{}]}, {'year': '2015', 'period': 'M09', 'periodName': 'September', 'value': '341328', 'footnotes': [{}]}, {'year': '2015', 'period': 'M08', 'periodName': 'August', 'value': '345609', 'footnotes': [{}]}, {'year': '2015', 'period': 'M07', 'periodName': 'July', 'value': '346583', 'footnotes': [{}]}, {'year': '2015', 'period': 'M06', 'periodName': 'June', 'value': '350188', 'footnotes': [{}]}, {'year': '2015', 'period': 'M05', 'periodName': 'May', 'value': '347669', 'footnotes': [{}]}, {'year': '2015', 'period': 'M04', 'periodName': 'April', 'value': '346922', 'footnotes': [{}]}, {'year': '2015', 'period': 'M03', 'periodName': 'March', 'value': '348991', 'footnotes': [{}]}, {'year': '2015', 'period': 'M02', 'periodName': 'February', 'value': '348950', 'footnotes': [{}]}, {'year': '2015', 'period': 'M01', 'periodName': 'January', 'value': '348364', 'footnotes': [{}]}, {'year': '2014', 'period': 'M12', 'periodName': 'December', 'value': '347957', 'footnotes': [{}]}, {'year': '2014', 'period': 'M11', 'periodName': 'November', 'value': '349125', 'footnotes': [{}]}, {'year': '2014', 'period': 'M10', 'periodName': 'October', 'value': '347696', 'footnotes': [{}]}, {'year': '2014', 'period': 'M09', 'periodName': 'September', 'value': '344350', 'footnotes': [{}]}, {'year': '2014', 'period': 'M08', 'periodName': 'August', 'value': '348050', 'footnotes': [{}]}, {'year': '2014', 'period': 'M07', 'periodName': 'July', 'value': '348145', 'footnotes': [{}]}, {'year': '2014', 'period': 'M06', 'periodName': 'June', 'value': '349112', 'footnotes': [{}]}, {'year': '2014', 'period': 'M05', 'periodName': 'May', 'value': '344462', 'footnotes': [{}]}, {'year': '2014', 'period': 'M04', 'periodName': 'April', 'value': '343139', 'footnotes': [{}]}, {'year': '2014', 'period': 'M03', 'periodName': 'March', 'value': '345417', 'footnotes': [{}]}, {'year': '2014', 'period': 'M02', 'periodName': 'February', 'value': '343334', 'footnotes': [{}]}, {'year': '2014', 'period': 'M01', 'periodName': 'January', 'value': '342097', 'footnotes': [{}]}, {'year': '2013', 'period': 'M12', 'periodName': 'December', 'value': '340149', 'footnotes': [{}]}, {'year': '2013', 'period': 'M11', 'periodName': 'November', 'value': '340761', 'footnotes': [{}]}, {'year': '2013', 'period': 'M10', 'periodName': 'October', 'value': '338906', 'footnotes': [{}]}, {'year': '2013', 'period': 'M09', 'periodName': 'September', 'value': '338589', 'footnotes': [{}]}, {'year': '2013', 'period': 'M08', 'periodName': 'August', 'value': '342447', 'footnotes': [{}]}, {'year': '2013', 'period': 'M07', 'periodName': 'July', 'value': '342815', 'footnotes': [{}]}, {'year': '2013', 'period': 'M06', 'periodName': 'June', 'value': '345665', 'footnotes': [{}]}, {'year': '2013', 'period': 'M05', 'periodName': 'May', 'value': '340981', 'footnotes': [{}]}, {'year': '2013', 'period': 'M04', 'periodName': 'April', 'value': '339402', 'footnotes': [{}]}, {'year': '2013', 'period': 'M03', 'periodName': 'March', 'value': '340828', 'footnotes': [{}]}, {'year': '2013', 'period': 'M02', 'periodName': 'February', 'value': '340320', 'footnotes': [{}]}, {'year': '2013', 'period': 'M01', 'periodName': 'January', 'value': '340857', 'footnotes': [{}]}, {'year': '2012', 'period': 'M12', 'periodName': 'December', 'value': '339486', 'footnotes': [{}]}, {'year': '2012', 'period': 'M11', 'periodName': 'November', 'value': '340566', 'footnotes': [{}]}, {'year': '2012', 'period': 'M10', 'periodName': 'October', 'value': '340454', 'footnotes': [{}]}, {'year': '2012', 'period': 'M09', 'periodName': 'September', 'value': '338014', 'footnotes': [{}]}, {'year': '2012', 'period': 'M08', 'periodName': 'August', 'value': '341103', 'footnotes': [{}]}, {'year': '2012', 'period': 'M07', 'periodName': 'July', 'value': '341762', 'footnotes': [{}]}, {'year': '2012', 'period': 'M06', 'periodName': 'June', 'value': '343091', 'footnotes': [{}]}, {'year': '2012', 'period': 'M05', 'periodName': 'May', 'value': '337220', 'footnotes': [{}]}, {'year': '2012', 'period': 'M04', 'periodName': 'April', 'value': '336387', 'footnotes': [{}]}, {'year': '2012', 'period': 'M03', 'periodName': 'March', 'value': '338801', 'footnotes': [{}]}, {'year': '2012', 'period': 'M02', 'periodName': 'February', 'value': '337804', 'footnotes': [{}]}, {'year': '2012', 'period': 'M01', 'periodName': 'January', 'value': '338349', 'footnotes': [{}]}, {'year': '2011', 'period': 'M12', 'periodName': 'December', 'value': '340049', 'footnotes': [{}]}, {'year': '2011', 'period': 'M11', 'periodName': 'November', 'value': '341099', 'footnotes': [{}]}, {'year': '2011', 'period': 'M10', 'periodName': 'October', 'value': '339696', 'footnotes': [{}]}, {'year': '2011', 'period': 'M09', 'periodName': 'September', 'value': '337842', 'footnotes': [{}]}, {'year': '2011', 'period': 'M08', 'periodName': 'August', 'value': '340337', 'footnotes': [{}]}, {'year': '2011', 'period': 'M07', 'periodName': 'July', 'value': '340589', 'footnotes': [{}]}, {'year': '2011', 'period': 'M06', 'periodName': 'June', 'value': '342288', 'footnotes': [{}]}, {'year': '2011', 'period': 'M05', 'periodName': 'May', 'value': '337487', 'footnotes': [{}]}, {'year': '2011', 'period': 'M04', 'periodName': 'April', 'value': '337844', 'footnotes': [{}]}, {'year': '2011', 'period': 'M03', 'periodName': 'March', 'value': '340136', 'footnotes': [{}]}, {'year': '2011', 'period': 'M02', 'periodName': 'February', 'value': '339513', 'footnotes': [{}]}, {'year': '2011', 'period': 'M01', 'periodName': 'January', 'value': '340609', 'footnotes': [{}]}, {'year': '2010', 'period': 'M12', 'periodName': 'December', 'value': '340603', 'footnotes': [{}]}, {'year': '2010', 'period': 'M11', 'periodName': 'November', 'value': '340677', 'footnotes': [{}]}, {'year': '2010', 'period': 'M10', 'periodName': 'October', 'value': '339239', 'footnotes': [{}]}, {'year': '2010', 'period': 'M09', 'periodName': 'September', 'value': '338537', 'footnotes': [{}]}, {'year': '2010', 'period': 'M08', 'periodName': 'August', 'value': '342833', 'footnotes': [{}]}, {'year': '2010', 'period': 'M07', 'periodName': 'July', 'value': '342610', 'footnotes': [{}]}, {'year': '2010', 'period': 'M06', 'periodName': 'June', 'value': '344669', 'footnotes': [{}]}, {'year': '2010', 'period': 'M05', 'periodName': 'May', 'value': '339705', 'footnotes': [{}]}, {'year': '2010', 'period': 'M04', 'periodName': 'April', 'value': '339684', 'footnotes': [{}]}, {'year': '2010', 'period': 'M03', 'periodName': 'March', 'value': '339383', 'footnotes': [{}]}, {'year': '2010', 'period': 'M02', 'periodName': 'February', 'value': '339162', 'footnotes': [{}]}, {'year': '2010', 'period': 'M01', 'periodName': 'January', 'value': '339965', 'footnotes': [{}]}]}]}}\n",
      "7\n"
     ]
    }
   ],
   "source": [
    "# Break up the series codes into chunks of 50, request it, get it back, and load it in a dataframe\n",
    "lister = [series[i:i + 50] for i in range(0, len(series), 50)]\n",
    "\n",
    "for i in range(0, len(lister)):\n",
    "    request_series(lister[i])\n",
    "    print(i)"
   ]
  },
  {
   "cell_type": "code",
   "execution_count": 9,
   "metadata": {},
   "outputs": [
    {
     "output_type": "execute_result",
     "data": {
      "text/plain": [
       "                  series id  year period period_name   value\n",
       "0      LAUMT011150000000006  2019    M12    December   46320\n",
       "1      LAUMT011150000000006  2019    M11    November   46408\n",
       "2      LAUMT011150000000006  2019    M10     October   46508\n",
       "3      LAUMT011150000000006  2019    M09   September   45820\n",
       "4      LAUMT011150000000006  2019    M08      August   46104\n",
       "...                     ...   ...    ...         ...     ...\n",
       "46075  LAUMT257960000000006  2010    M05         May  339705\n",
       "46076  LAUMT257960000000006  2010    M04       April  339684\n",
       "46077  LAUMT257960000000006  2010    M03       March  339383\n",
       "46078  LAUMT257960000000006  2010    M02    February  339162\n",
       "46079  LAUMT257960000000006  2010    M01     January  339965\n",
       "\n",
       "[46080 rows x 5 columns]"
      ],
      "text/html": "<div>\n<style scoped>\n    .dataframe tbody tr th:only-of-type {\n        vertical-align: middle;\n    }\n\n    .dataframe tbody tr th {\n        vertical-align: top;\n    }\n\n    .dataframe thead th {\n        text-align: right;\n    }\n</style>\n<table border=\"1\" class=\"dataframe\">\n  <thead>\n    <tr style=\"text-align: right;\">\n      <th></th>\n      <th>series id</th>\n      <th>year</th>\n      <th>period</th>\n      <th>period_name</th>\n      <th>value</th>\n    </tr>\n  </thead>\n  <tbody>\n    <tr>\n      <th>0</th>\n      <td>LAUMT011150000000006</td>\n      <td>2019</td>\n      <td>M12</td>\n      <td>December</td>\n      <td>46320</td>\n    </tr>\n    <tr>\n      <th>1</th>\n      <td>LAUMT011150000000006</td>\n      <td>2019</td>\n      <td>M11</td>\n      <td>November</td>\n      <td>46408</td>\n    </tr>\n    <tr>\n      <th>2</th>\n      <td>LAUMT011150000000006</td>\n      <td>2019</td>\n      <td>M10</td>\n      <td>October</td>\n      <td>46508</td>\n    </tr>\n    <tr>\n      <th>3</th>\n      <td>LAUMT011150000000006</td>\n      <td>2019</td>\n      <td>M09</td>\n      <td>September</td>\n      <td>45820</td>\n    </tr>\n    <tr>\n      <th>4</th>\n      <td>LAUMT011150000000006</td>\n      <td>2019</td>\n      <td>M08</td>\n      <td>August</td>\n      <td>46104</td>\n    </tr>\n    <tr>\n      <th>...</th>\n      <td>...</td>\n      <td>...</td>\n      <td>...</td>\n      <td>...</td>\n      <td>...</td>\n    </tr>\n    <tr>\n      <th>46075</th>\n      <td>LAUMT257960000000006</td>\n      <td>2010</td>\n      <td>M05</td>\n      <td>May</td>\n      <td>339705</td>\n    </tr>\n    <tr>\n      <th>46076</th>\n      <td>LAUMT257960000000006</td>\n      <td>2010</td>\n      <td>M04</td>\n      <td>April</td>\n      <td>339684</td>\n    </tr>\n    <tr>\n      <th>46077</th>\n      <td>LAUMT257960000000006</td>\n      <td>2010</td>\n      <td>M03</td>\n      <td>March</td>\n      <td>339383</td>\n    </tr>\n    <tr>\n      <th>46078</th>\n      <td>LAUMT257960000000006</td>\n      <td>2010</td>\n      <td>M02</td>\n      <td>February</td>\n      <td>339162</td>\n    </tr>\n    <tr>\n      <th>46079</th>\n      <td>LAUMT257960000000006</td>\n      <td>2010</td>\n      <td>M01</td>\n      <td>January</td>\n      <td>339965</td>\n    </tr>\n  </tbody>\n</table>\n<p>46080 rows × 5 columns</p>\n</div>"
     },
     "metadata": {},
     "execution_count": 9
    }
   ],
   "source": [
    "df"
   ]
  },
  {
   "cell_type": "code",
   "execution_count": 11,
   "metadata": {},
   "outputs": [
    {
     "output_type": "execute_result",
     "data": {
      "text/plain": [
       "                      year  period  period_name  value\n",
       "series id                                             \n",
       "LAUDV362052400000006   120     120          120    120\n",
       "LAUMT394966000000006   120     120          120    120\n",
       "LAUMT394826000000006   120     120          120    120\n",
       "LAUMT394578000000006   120     120          120    120\n",
       "LAUMT394422000000006   120     120          120    120\n",
       "...                    ...     ...          ...    ...\n",
       "LAUMT181402000000006   120     120          120    120\n",
       "LAUMT174410000000006   120     120          120    120\n",
       "LAUMT174042000000006   120     120          120    120\n",
       "LAUMT561622000000006   120     120          120    120\n",
       "LAUMT561694000000006   120     120          120    120\n",
       "\n",
       "[384 rows x 4 columns]"
      ],
      "text/html": "<div>\n<style scoped>\n    .dataframe tbody tr th:only-of-type {\n        vertical-align: middle;\n    }\n\n    .dataframe tbody tr th {\n        vertical-align: top;\n    }\n\n    .dataframe thead th {\n        text-align: right;\n    }\n</style>\n<table border=\"1\" class=\"dataframe\">\n  <thead>\n    <tr style=\"text-align: right;\">\n      <th></th>\n      <th>year</th>\n      <th>period</th>\n      <th>period_name</th>\n      <th>value</th>\n    </tr>\n    <tr>\n      <th>series id</th>\n      <th></th>\n      <th></th>\n      <th></th>\n      <th></th>\n    </tr>\n  </thead>\n  <tbody>\n    <tr>\n      <th>LAUDV362052400000006</th>\n      <td>120</td>\n      <td>120</td>\n      <td>120</td>\n      <td>120</td>\n    </tr>\n    <tr>\n      <th>LAUMT394966000000006</th>\n      <td>120</td>\n      <td>120</td>\n      <td>120</td>\n      <td>120</td>\n    </tr>\n    <tr>\n      <th>LAUMT394826000000006</th>\n      <td>120</td>\n      <td>120</td>\n      <td>120</td>\n      <td>120</td>\n    </tr>\n    <tr>\n      <th>LAUMT394578000000006</th>\n      <td>120</td>\n      <td>120</td>\n      <td>120</td>\n      <td>120</td>\n    </tr>\n    <tr>\n      <th>LAUMT394422000000006</th>\n      <td>120</td>\n      <td>120</td>\n      <td>120</td>\n      <td>120</td>\n    </tr>\n    <tr>\n      <th>...</th>\n      <td>...</td>\n      <td>...</td>\n      <td>...</td>\n      <td>...</td>\n    </tr>\n    <tr>\n      <th>LAUMT181402000000006</th>\n      <td>120</td>\n      <td>120</td>\n      <td>120</td>\n      <td>120</td>\n    </tr>\n    <tr>\n      <th>LAUMT174410000000006</th>\n      <td>120</td>\n      <td>120</td>\n      <td>120</td>\n      <td>120</td>\n    </tr>\n    <tr>\n      <th>LAUMT174042000000006</th>\n      <td>120</td>\n      <td>120</td>\n      <td>120</td>\n      <td>120</td>\n    </tr>\n    <tr>\n      <th>LAUMT561622000000006</th>\n      <td>120</td>\n      <td>120</td>\n      <td>120</td>\n      <td>120</td>\n    </tr>\n    <tr>\n      <th>LAUMT561694000000006</th>\n      <td>120</td>\n      <td>120</td>\n      <td>120</td>\n      <td>120</td>\n    </tr>\n  </tbody>\n</table>\n<p>384 rows × 4 columns</p>\n</div>"
     },
     "metadata": {},
     "execution_count": 11
    }
   ],
   "source": [
    "df.groupby('series id').count().sort_values(by='value')"
   ]
  },
  {
   "cell_type": "code",
   "execution_count": 12,
   "metadata": {},
   "outputs": [
    {
     "output_type": "execute_result",
     "data": {
      "text/plain": [
       "    CBSA        area_code\n",
       "0  11500  MT0111500000000\n",
       "1  12220  MT0112220000000\n",
       "2  13820  MT0113820000000\n",
       "3  19300  MT0119300000000\n",
       "4  19460  MT0119460000000"
      ],
      "text/html": "<div>\n<style scoped>\n    .dataframe tbody tr th:only-of-type {\n        vertical-align: middle;\n    }\n\n    .dataframe tbody tr th {\n        vertical-align: top;\n    }\n\n    .dataframe thead th {\n        text-align: right;\n    }\n</style>\n<table border=\"1\" class=\"dataframe\">\n  <thead>\n    <tr style=\"text-align: right;\">\n      <th></th>\n      <th>CBSA</th>\n      <th>area_code</th>\n    </tr>\n  </thead>\n  <tbody>\n    <tr>\n      <th>0</th>\n      <td>11500</td>\n      <td>MT0111500000000</td>\n    </tr>\n    <tr>\n      <th>1</th>\n      <td>12220</td>\n      <td>MT0112220000000</td>\n    </tr>\n    <tr>\n      <th>2</th>\n      <td>13820</td>\n      <td>MT0113820000000</td>\n    </tr>\n    <tr>\n      <th>3</th>\n      <td>19300</td>\n      <td>MT0119300000000</td>\n    </tr>\n    <tr>\n      <th>4</th>\n      <td>19460</td>\n      <td>MT0119460000000</td>\n    </tr>\n  </tbody>\n</table>\n</div>"
     },
     "metadata": {},
     "execution_count": 12
    }
   ],
   "source": [
    "df_cbsa = df_local_msa[['CBSA', 'area_code']].copy()\n",
    "df_cbsa.head()"
   ]
  },
  {
   "cell_type": "code",
   "execution_count": 13,
   "metadata": {},
   "outputs": [
    {
     "output_type": "execute_result",
     "data": {
      "text/plain": [
       "      CBSA        area_code             series id\n",
       "0    11500  MT0111500000000  LAUMT011150000000006\n",
       "1    12220  MT0112220000000  LAUMT011222000000006\n",
       "2    13820  MT0113820000000  LAUMT011382000000006\n",
       "3    19300  MT0119300000000  LAUMT011930000000006\n",
       "4    19460  MT0119460000000  LAUMT011946000000006\n",
       "..     ...              ...                   ...\n",
       "379  39100  DV3620524000000  LAUDV362052400000006\n",
       "380  39150  MT0439140000000  LAUMT043914000000006\n",
       "381  39300  MT4477200000000  LAUMT447720000000006\n",
       "382  44140  MT2578100000000  LAUMT257810000000006\n",
       "383  49340  MT2579600000000  LAUMT257960000000006\n",
       "\n",
       "[384 rows x 3 columns]"
      ],
      "text/html": "<div>\n<style scoped>\n    .dataframe tbody tr th:only-of-type {\n        vertical-align: middle;\n    }\n\n    .dataframe tbody tr th {\n        vertical-align: top;\n    }\n\n    .dataframe thead th {\n        text-align: right;\n    }\n</style>\n<table border=\"1\" class=\"dataframe\">\n  <thead>\n    <tr style=\"text-align: right;\">\n      <th></th>\n      <th>CBSA</th>\n      <th>area_code</th>\n      <th>series id</th>\n    </tr>\n  </thead>\n  <tbody>\n    <tr>\n      <th>0</th>\n      <td>11500</td>\n      <td>MT0111500000000</td>\n      <td>LAUMT011150000000006</td>\n    </tr>\n    <tr>\n      <th>1</th>\n      <td>12220</td>\n      <td>MT0112220000000</td>\n      <td>LAUMT011222000000006</td>\n    </tr>\n    <tr>\n      <th>2</th>\n      <td>13820</td>\n      <td>MT0113820000000</td>\n      <td>LAUMT011382000000006</td>\n    </tr>\n    <tr>\n      <th>3</th>\n      <td>19300</td>\n      <td>MT0119300000000</td>\n      <td>LAUMT011930000000006</td>\n    </tr>\n    <tr>\n      <th>4</th>\n      <td>19460</td>\n      <td>MT0119460000000</td>\n      <td>LAUMT011946000000006</td>\n    </tr>\n    <tr>\n      <th>...</th>\n      <td>...</td>\n      <td>...</td>\n      <td>...</td>\n    </tr>\n    <tr>\n      <th>379</th>\n      <td>39100</td>\n      <td>DV3620524000000</td>\n      <td>LAUDV362052400000006</td>\n    </tr>\n    <tr>\n      <th>380</th>\n      <td>39150</td>\n      <td>MT0439140000000</td>\n      <td>LAUMT043914000000006</td>\n    </tr>\n    <tr>\n      <th>381</th>\n      <td>39300</td>\n      <td>MT4477200000000</td>\n      <td>LAUMT447720000000006</td>\n    </tr>\n    <tr>\n      <th>382</th>\n      <td>44140</td>\n      <td>MT2578100000000</td>\n      <td>LAUMT257810000000006</td>\n    </tr>\n    <tr>\n      <th>383</th>\n      <td>49340</td>\n      <td>MT2579600000000</td>\n      <td>LAUMT257960000000006</td>\n    </tr>\n  </tbody>\n</table>\n<p>384 rows × 3 columns</p>\n</div>"
     },
     "metadata": {},
     "execution_count": 13
    }
   ],
   "source": [
    "df_cbsa['series id'] = 'LAU' + df_cbsa['area_code'] + '06'\n",
    "df_cbsa"
   ]
  },
  {
   "cell_type": "code",
   "execution_count": 14,
   "metadata": {},
   "outputs": [
    {
     "output_type": "execute_result",
     "data": {
      "text/plain": [
       "        CBSA        area_code             series id  year period period_name  \\\n",
       "0      11500  MT0111500000000  LAUMT011150000000006  2019    M12    December   \n",
       "1      11500  MT0111500000000  LAUMT011150000000006  2019    M11    November   \n",
       "2      11500  MT0111500000000  LAUMT011150000000006  2019    M10     October   \n",
       "3      11500  MT0111500000000  LAUMT011150000000006  2019    M09   September   \n",
       "4      11500  MT0111500000000  LAUMT011150000000006  2019    M08      August   \n",
       "...      ...              ...                   ...   ...    ...         ...   \n",
       "46075  49340  MT2579600000000  LAUMT257960000000006  2010    M05         May   \n",
       "46076  49340  MT2579600000000  LAUMT257960000000006  2010    M04       April   \n",
       "46077  49340  MT2579600000000  LAUMT257960000000006  2010    M03       March   \n",
       "46078  49340  MT2579600000000  LAUMT257960000000006  2010    M02    February   \n",
       "46079  49340  MT2579600000000  LAUMT257960000000006  2010    M01     January   \n",
       "\n",
       "        value  \n",
       "0       46320  \n",
       "1       46408  \n",
       "2       46508  \n",
       "3       45820  \n",
       "4       46104  \n",
       "...       ...  \n",
       "46075  339705  \n",
       "46076  339684  \n",
       "46077  339383  \n",
       "46078  339162  \n",
       "46079  339965  \n",
       "\n",
       "[46080 rows x 7 columns]"
      ],
      "text/html": "<div>\n<style scoped>\n    .dataframe tbody tr th:only-of-type {\n        vertical-align: middle;\n    }\n\n    .dataframe tbody tr th {\n        vertical-align: top;\n    }\n\n    .dataframe thead th {\n        text-align: right;\n    }\n</style>\n<table border=\"1\" class=\"dataframe\">\n  <thead>\n    <tr style=\"text-align: right;\">\n      <th></th>\n      <th>CBSA</th>\n      <th>area_code</th>\n      <th>series id</th>\n      <th>year</th>\n      <th>period</th>\n      <th>period_name</th>\n      <th>value</th>\n    </tr>\n  </thead>\n  <tbody>\n    <tr>\n      <th>0</th>\n      <td>11500</td>\n      <td>MT0111500000000</td>\n      <td>LAUMT011150000000006</td>\n      <td>2019</td>\n      <td>M12</td>\n      <td>December</td>\n      <td>46320</td>\n    </tr>\n    <tr>\n      <th>1</th>\n      <td>11500</td>\n      <td>MT0111500000000</td>\n      <td>LAUMT011150000000006</td>\n      <td>2019</td>\n      <td>M11</td>\n      <td>November</td>\n      <td>46408</td>\n    </tr>\n    <tr>\n      <th>2</th>\n      <td>11500</td>\n      <td>MT0111500000000</td>\n      <td>LAUMT011150000000006</td>\n      <td>2019</td>\n      <td>M10</td>\n      <td>October</td>\n      <td>46508</td>\n    </tr>\n    <tr>\n      <th>3</th>\n      <td>11500</td>\n      <td>MT0111500000000</td>\n      <td>LAUMT011150000000006</td>\n      <td>2019</td>\n      <td>M09</td>\n      <td>September</td>\n      <td>45820</td>\n    </tr>\n    <tr>\n      <th>4</th>\n      <td>11500</td>\n      <td>MT0111500000000</td>\n      <td>LAUMT011150000000006</td>\n      <td>2019</td>\n      <td>M08</td>\n      <td>August</td>\n      <td>46104</td>\n    </tr>\n    <tr>\n      <th>...</th>\n      <td>...</td>\n      <td>...</td>\n      <td>...</td>\n      <td>...</td>\n      <td>...</td>\n      <td>...</td>\n      <td>...</td>\n    </tr>\n    <tr>\n      <th>46075</th>\n      <td>49340</td>\n      <td>MT2579600000000</td>\n      <td>LAUMT257960000000006</td>\n      <td>2010</td>\n      <td>M05</td>\n      <td>May</td>\n      <td>339705</td>\n    </tr>\n    <tr>\n      <th>46076</th>\n      <td>49340</td>\n      <td>MT2579600000000</td>\n      <td>LAUMT257960000000006</td>\n      <td>2010</td>\n      <td>M04</td>\n      <td>April</td>\n      <td>339684</td>\n    </tr>\n    <tr>\n      <th>46077</th>\n      <td>49340</td>\n      <td>MT2579600000000</td>\n      <td>LAUMT257960000000006</td>\n      <td>2010</td>\n      <td>M03</td>\n      <td>March</td>\n      <td>339383</td>\n    </tr>\n    <tr>\n      <th>46078</th>\n      <td>49340</td>\n      <td>MT2579600000000</td>\n      <td>LAUMT257960000000006</td>\n      <td>2010</td>\n      <td>M02</td>\n      <td>February</td>\n      <td>339162</td>\n    </tr>\n    <tr>\n      <th>46079</th>\n      <td>49340</td>\n      <td>MT2579600000000</td>\n      <td>LAUMT257960000000006</td>\n      <td>2010</td>\n      <td>M01</td>\n      <td>January</td>\n      <td>339965</td>\n    </tr>\n  </tbody>\n</table>\n<p>46080 rows × 7 columns</p>\n</div>"
     },
     "metadata": {},
     "execution_count": 14
    }
   ],
   "source": [
    "df_combined = pd.merge(df_cbsa, df, on=\"series id\")\n",
    "df_combined"
   ]
  },
  {
   "cell_type": "code",
   "execution_count": 15,
   "metadata": {},
   "outputs": [
    {
     "output_type": "execute_result",
     "data": {
      "text/plain": [
       "    CBSA             series id  year period period_name  value\n",
       "0  11500  LAUMT011150000000006  2019    M12    December  46320\n",
       "1  11500  LAUMT011150000000006  2019    M11    November  46408\n",
       "2  11500  LAUMT011150000000006  2019    M10     October  46508\n",
       "3  11500  LAUMT011150000000006  2019    M09   September  45820\n",
       "4  11500  LAUMT011150000000006  2019    M08      August  46104"
      ],
      "text/html": "<div>\n<style scoped>\n    .dataframe tbody tr th:only-of-type {\n        vertical-align: middle;\n    }\n\n    .dataframe tbody tr th {\n        vertical-align: top;\n    }\n\n    .dataframe thead th {\n        text-align: right;\n    }\n</style>\n<table border=\"1\" class=\"dataframe\">\n  <thead>\n    <tr style=\"text-align: right;\">\n      <th></th>\n      <th>CBSA</th>\n      <th>series id</th>\n      <th>year</th>\n      <th>period</th>\n      <th>period_name</th>\n      <th>value</th>\n    </tr>\n  </thead>\n  <tbody>\n    <tr>\n      <th>0</th>\n      <td>11500</td>\n      <td>LAUMT011150000000006</td>\n      <td>2019</td>\n      <td>M12</td>\n      <td>December</td>\n      <td>46320</td>\n    </tr>\n    <tr>\n      <th>1</th>\n      <td>11500</td>\n      <td>LAUMT011150000000006</td>\n      <td>2019</td>\n      <td>M11</td>\n      <td>November</td>\n      <td>46408</td>\n    </tr>\n    <tr>\n      <th>2</th>\n      <td>11500</td>\n      <td>LAUMT011150000000006</td>\n      <td>2019</td>\n      <td>M10</td>\n      <td>October</td>\n      <td>46508</td>\n    </tr>\n    <tr>\n      <th>3</th>\n      <td>11500</td>\n      <td>LAUMT011150000000006</td>\n      <td>2019</td>\n      <td>M09</td>\n      <td>September</td>\n      <td>45820</td>\n    </tr>\n    <tr>\n      <th>4</th>\n      <td>11500</td>\n      <td>LAUMT011150000000006</td>\n      <td>2019</td>\n      <td>M08</td>\n      <td>August</td>\n      <td>46104</td>\n    </tr>\n  </tbody>\n</table>\n</div>"
     },
     "metadata": {},
     "execution_count": 15
    }
   ],
   "source": [
    "df_combined.drop(columns=['area_code'], inplace=True)\n",
    "df_combined.head()"
   ]
  },
  {
   "cell_type": "code",
   "execution_count": 17,
   "metadata": {},
   "outputs": [],
   "source": [
    "df_combined.to_csv('../CSVs/' + table_name, index=False)"
   ]
  },
  {
   "cell_type": "code",
   "execution_count": 18,
   "metadata": {},
   "outputs": [
    {
     "output_type": "execute_result",
     "data": {
      "text/plain": [
       "        CBSA             series id  year period period_name   value\n",
       "0      11500  LAUMT011150000000006  2019    M12    December   46320\n",
       "1      11500  LAUMT011150000000006  2019    M11    November   46408\n",
       "2      11500  LAUMT011150000000006  2019    M10     October   46508\n",
       "3      11500  LAUMT011150000000006  2019    M09   September   45820\n",
       "4      11500  LAUMT011150000000006  2019    M08      August   46104\n",
       "...      ...                   ...   ...    ...         ...     ...\n",
       "46075  49340  LAUMT257960000000006  2010    M05         May  339705\n",
       "46076  49340  LAUMT257960000000006  2010    M04       April  339684\n",
       "46077  49340  LAUMT257960000000006  2010    M03       March  339383\n",
       "46078  49340  LAUMT257960000000006  2010    M02    February  339162\n",
       "46079  49340  LAUMT257960000000006  2010    M01     January  339965\n",
       "\n",
       "[46080 rows x 6 columns]"
      ],
      "text/html": "<div>\n<style scoped>\n    .dataframe tbody tr th:only-of-type {\n        vertical-align: middle;\n    }\n\n    .dataframe tbody tr th {\n        vertical-align: top;\n    }\n\n    .dataframe thead th {\n        text-align: right;\n    }\n</style>\n<table border=\"1\" class=\"dataframe\">\n  <thead>\n    <tr style=\"text-align: right;\">\n      <th></th>\n      <th>CBSA</th>\n      <th>series id</th>\n      <th>year</th>\n      <th>period</th>\n      <th>period_name</th>\n      <th>value</th>\n    </tr>\n  </thead>\n  <tbody>\n    <tr>\n      <th>0</th>\n      <td>11500</td>\n      <td>LAUMT011150000000006</td>\n      <td>2019</td>\n      <td>M12</td>\n      <td>December</td>\n      <td>46320</td>\n    </tr>\n    <tr>\n      <th>1</th>\n      <td>11500</td>\n      <td>LAUMT011150000000006</td>\n      <td>2019</td>\n      <td>M11</td>\n      <td>November</td>\n      <td>46408</td>\n    </tr>\n    <tr>\n      <th>2</th>\n      <td>11500</td>\n      <td>LAUMT011150000000006</td>\n      <td>2019</td>\n      <td>M10</td>\n      <td>October</td>\n      <td>46508</td>\n    </tr>\n    <tr>\n      <th>3</th>\n      <td>11500</td>\n      <td>LAUMT011150000000006</td>\n      <td>2019</td>\n      <td>M09</td>\n      <td>September</td>\n      <td>45820</td>\n    </tr>\n    <tr>\n      <th>4</th>\n      <td>11500</td>\n      <td>LAUMT011150000000006</td>\n      <td>2019</td>\n      <td>M08</td>\n      <td>August</td>\n      <td>46104</td>\n    </tr>\n    <tr>\n      <th>...</th>\n      <td>...</td>\n      <td>...</td>\n      <td>...</td>\n      <td>...</td>\n      <td>...</td>\n      <td>...</td>\n    </tr>\n    <tr>\n      <th>46075</th>\n      <td>49340</td>\n      <td>LAUMT257960000000006</td>\n      <td>2010</td>\n      <td>M05</td>\n      <td>May</td>\n      <td>339705</td>\n    </tr>\n    <tr>\n      <th>46076</th>\n      <td>49340</td>\n      <td>LAUMT257960000000006</td>\n      <td>2010</td>\n      <td>M04</td>\n      <td>April</td>\n      <td>339684</td>\n    </tr>\n    <tr>\n      <th>46077</th>\n      <td>49340</td>\n      <td>LAUMT257960000000006</td>\n      <td>2010</td>\n      <td>M03</td>\n      <td>March</td>\n      <td>339383</td>\n    </tr>\n    <tr>\n      <th>46078</th>\n      <td>49340</td>\n      <td>LAUMT257960000000006</td>\n      <td>2010</td>\n      <td>M02</td>\n      <td>February</td>\n      <td>339162</td>\n    </tr>\n    <tr>\n      <th>46079</th>\n      <td>49340</td>\n      <td>LAUMT257960000000006</td>\n      <td>2010</td>\n      <td>M01</td>\n      <td>January</td>\n      <td>339965</td>\n    </tr>\n  </tbody>\n</table>\n<p>46080 rows × 6 columns</p>\n</div>"
     },
     "metadata": {},
     "execution_count": 18
    }
   ],
   "source": [
    "df_combined"
   ]
  },
  {
   "cell_type": "code",
   "execution_count": 20,
   "metadata": {},
   "outputs": [
    {
     "output_type": "execute_result",
     "data": {
      "text/plain": [
       "<pymongo.results.InsertManyResult at 0x1afe7b5fc80>"
      ]
     },
     "metadata": {},
     "execution_count": 20
    }
   ],
   "source": [
    "# Create instance of MongoClient\n",
    "client = MongoClient()\n",
    "# Connection URI\n",
    "client = MongoClient('<conn string>')\n",
    "# Select database\n",
    "db = client['MSA']\n",
    "# create new collection\n",
    "collection = db.LaborForce_raw\n",
    "# turn dataframe into readable format for mongo\n",
    "df_dict = df_combined.to_dict(orient='records')\n",
    "# write dataframe to unemployment_predicted_2024 collection\n",
    "collection.insert_many(df_dict)"
   ]
  },
  {
   "cell_type": "code",
   "execution_count": null,
   "metadata": {},
   "outputs": [],
   "source": []
  }
 ]
}