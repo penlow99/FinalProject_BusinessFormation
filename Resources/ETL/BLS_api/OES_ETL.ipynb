{
 "metadata": {
  "language_info": {
   "codemirror_mode": {
    "name": "ipython",
    "version": 3
   },
   "file_extension": ".py",
   "mimetype": "text/x-python",
   "name": "python",
   "nbconvert_exporter": "python",
   "pygments_lexer": "ipython3",
   "version": "3.8.5-final"
  },
  "orig_nbformat": 2,
  "kernelspec": {
   "name": "python3",
   "display_name": "Python 3.8.5 64-bit ('PythonData': conda)",
   "metadata": {
    "interpreter": {
     "hash": "e23f4f60931143176db9ec6317533e574a91510be5bd7dc0753f3d7ca18e38be"
    }
   }
  }
 },
 "nbformat": 4,
 "nbformat_minor": 2,
 "cells": [
  {
   "cell_type": "code",
   "execution_count": 1,
   "metadata": {},
   "outputs": [],
   "source": [
    "import pandas as pd"
   ]
  },
  {
   "cell_type": "code",
   "execution_count": 82,
   "metadata": {},
   "outputs": [],
   "source": [
    "df_1 = pd.read_excel('../OES/oesm13ma/MSA_M2013_dl_1_AK_IN.xls')\n",
    "df_2 = pd.read_excel('../OES/oesm13ma/MSA_M2013_dl_2_KS_NY.xls')\n",
    "df_3 = pd.read_excel('../OES/oesm13ma/MSA_M2013_dl_3_OH_WY.xls')"
   ]
  },
  {
   "cell_type": "code",
   "execution_count": null,
   "metadata": {},
   "outputs": [],
   "source": []
  },
  {
   "cell_type": "code",
   "execution_count": 135,
   "metadata": {},
   "outputs": [],
   "source": [
    "# df_concat = pd.concat([df_1, df_2, df_3], ignore_index=True)\n",
    "df_concat = pd.read_excel('../OES/oesm19ma/MSA_M2019_dl.xlsx')"
   ]
  },
  {
   "cell_type": "code",
   "execution_count": 136,
   "metadata": {},
   "outputs": [
    {
     "output_type": "stream",
     "name": "stdout",
     "text": [
      "<class 'pandas.core.frame.DataFrame'>\nRangeIndex: 142410 entries, 0 to 142409\nData columns (total 27 columns):\n #   Column        Non-Null Count   Dtype  \n---  ------        --------------   -----  \n 0   area          142410 non-null  int64  \n 1   area_title    142410 non-null  object \n 2   PRIM_STATE    142410 non-null  object \n 3   own_code      142410 non-null  int64  \n 4   occ_code      142410 non-null  object \n 5   occ_title     142410 non-null  object \n 6   o_group       142410 non-null  object \n 7   tot_emp       142410 non-null  object \n 8   emp_prse      142410 non-null  object \n 9   jobs_1000     142410 non-null  object \n 10  loc_quotient  142410 non-null  object \n 11  pct_total     0 non-null       float64\n 12  h_mean        142410 non-null  object \n 13  a_mean        142410 non-null  object \n 14  mean_prse     142410 non-null  object \n 15  h_pct10       142410 non-null  object \n 16  h_pct25       142410 non-null  object \n 17  h_median      142410 non-null  object \n 18  h_pct75       142410 non-null  object \n 19  h_pct90       142410 non-null  object \n 20  a_pct10       142410 non-null  object \n 21  a_pct25       142410 non-null  object \n 22  a_median      142410 non-null  object \n 23  a_pct75       142410 non-null  object \n 24  a_pct90       142410 non-null  object \n 25  annual        7341 non-null    object \n 26  hourly        238 non-null     object \ndtypes: float64(1), int64(2), object(24)\nmemory usage: 29.3+ MB\n"
     ]
    }
   ],
   "source": [
    "df_concat.info()"
   ]
  },
  {
   "cell_type": "code",
   "execution_count": 137,
   "metadata": {},
   "outputs": [
    {
     "output_type": "execute_result",
     "data": {
      "text/plain": [
       "187"
      ]
     },
     "metadata": {},
     "execution_count": 137
    }
   ],
   "source": [
    "df_total = df_concat[df_concat.PRIM_STATE != 'PR']\n",
    "len(df_total.PRIM_STATE.unique())"
   ]
  },
  {
   "cell_type": "code",
   "execution_count": 139,
   "metadata": {},
   "outputs": [
    {
     "output_type": "execute_result",
     "data": {
      "text/plain": [
       "         area        area_title PRIM_STATE  own_code occ_code  \\\n",
       "0       10180       Abilene, TX         TX      1235  00-0000   \n",
       "1       10180       Abilene, TX         TX      1235  11-0000   \n",
       "2       10180       Abilene, TX         TX      1235  11-1021   \n",
       "3       10180       Abilene, TX         TX      1235  11-2022   \n",
       "4       10180       Abilene, TX         TX      1235  11-2030   \n",
       "...       ...               ...        ...       ...      ...   \n",
       "142405  79600  Worcester, MA-CT      MA-CT      1235  53-7062   \n",
       "142406  79600  Worcester, MA-CT      MA-CT      1235  53-7063   \n",
       "142407  79600  Worcester, MA-CT      MA-CT      1235  53-7064   \n",
       "142408  79600  Worcester, MA-CT      MA-CT      1235  53-7065   \n",
       "142409  79600  Worcester, MA-CT      MA-CT      1235  53-7081   \n",
       "\n",
       "                                                occ_title   o_group tot_emp  \\\n",
       "0                                         All Occupations     total   66510   \n",
       "1                                  Management Occupations     major    2670   \n",
       "2                         General and Operations Managers  detailed    1100   \n",
       "3                                          Sales Managers  detailed     110   \n",
       "4               Public Relations and Fundraising Managers  detailed      40   \n",
       "...                                                   ...       ...     ...   \n",
       "142405  Laborers and Freight, Stock, and Material Move...  detailed    5490   \n",
       "142406                     Machine Feeders and Offbearers  detailed     150   \n",
       "142407                        Packers and Packagers, Hand  detailed    1340   \n",
       "142408                         Stockers and Order Fillers  detailed    4230   \n",
       "142409          Refuse and Recyclable Material Collectors  detailed     160   \n",
       "\n",
       "       emp_prse jobs_1000  ... h_median  h_pct75 h_pct90 a_pct10 a_pct25  \\\n",
       "0           3.1      1000  ...    15.64    24.05   35.21   18580   22810   \n",
       "1           5.8    40.137  ...    37.51    51.88   75.57   37140   56610   \n",
       "2           7.7    16.499  ...    35.51    51.38   74.29   22810   50350   \n",
       "3          18.8     1.728  ...    57.65    74.55    99.8   47360   72140   \n",
       "4          29.7     0.571  ...        *        *       *       *       *   \n",
       "...         ...       ...  ...      ...      ...     ...     ...     ...   \n",
       "142405      6.7    19.107  ...    14.59    18.45   22.71   25340   26280   \n",
       "142406     21.6     0.515  ...    15.39    19.24   22.95   26390   28450   \n",
       "142407     20.6     4.656  ...    13.44    15.06   19.09   25280   25900   \n",
       "142408      5.4    14.725  ...    14.27    17.71   22.76   25310   26190   \n",
       "142409     36.6      0.54  ...     22.1    25.58   28.74   27800   35720   \n",
       "\n",
       "       a_median a_pct75 a_pct90 annual hourly  \n",
       "0         32530   50030   73230    NaN    NaN  \n",
       "1         78030  107910  157190    NaN    NaN  \n",
       "2         73850  106870  154520    NaN    NaN  \n",
       "3        119920  155050  207570    NaN    NaN  \n",
       "4             *       *       *    NaN    NaN  \n",
       "...         ...     ...     ...    ...    ...  \n",
       "142405    30350   38380   47240    NaN    NaN  \n",
       "142406    32020   40010   47740    NaN    NaN  \n",
       "142407    27960   31330   39700    NaN    NaN  \n",
       "142408    29690   36840   47350    NaN    NaN  \n",
       "142409    45970   53200   59780    NaN    NaN  \n",
       "\n",
       "[141626 rows x 27 columns]"
      ],
      "text/html": "<div>\n<style scoped>\n    .dataframe tbody tr th:only-of-type {\n        vertical-align: middle;\n    }\n\n    .dataframe tbody tr th {\n        vertical-align: top;\n    }\n\n    .dataframe thead th {\n        text-align: right;\n    }\n</style>\n<table border=\"1\" class=\"dataframe\">\n  <thead>\n    <tr style=\"text-align: right;\">\n      <th></th>\n      <th>area</th>\n      <th>area_title</th>\n      <th>PRIM_STATE</th>\n      <th>own_code</th>\n      <th>occ_code</th>\n      <th>occ_title</th>\n      <th>o_group</th>\n      <th>tot_emp</th>\n      <th>emp_prse</th>\n      <th>jobs_1000</th>\n      <th>...</th>\n      <th>h_median</th>\n      <th>h_pct75</th>\n      <th>h_pct90</th>\n      <th>a_pct10</th>\n      <th>a_pct25</th>\n      <th>a_median</th>\n      <th>a_pct75</th>\n      <th>a_pct90</th>\n      <th>annual</th>\n      <th>hourly</th>\n    </tr>\n  </thead>\n  <tbody>\n    <tr>\n      <th>0</th>\n      <td>10180</td>\n      <td>Abilene, TX</td>\n      <td>TX</td>\n      <td>1235</td>\n      <td>00-0000</td>\n      <td>All Occupations</td>\n      <td>total</td>\n      <td>66510</td>\n      <td>3.1</td>\n      <td>1000</td>\n      <td>...</td>\n      <td>15.64</td>\n      <td>24.05</td>\n      <td>35.21</td>\n      <td>18580</td>\n      <td>22810</td>\n      <td>32530</td>\n      <td>50030</td>\n      <td>73230</td>\n      <td>NaN</td>\n      <td>NaN</td>\n    </tr>\n    <tr>\n      <th>1</th>\n      <td>10180</td>\n      <td>Abilene, TX</td>\n      <td>TX</td>\n      <td>1235</td>\n      <td>11-0000</td>\n      <td>Management Occupations</td>\n      <td>major</td>\n      <td>2670</td>\n      <td>5.8</td>\n      <td>40.137</td>\n      <td>...</td>\n      <td>37.51</td>\n      <td>51.88</td>\n      <td>75.57</td>\n      <td>37140</td>\n      <td>56610</td>\n      <td>78030</td>\n      <td>107910</td>\n      <td>157190</td>\n      <td>NaN</td>\n      <td>NaN</td>\n    </tr>\n    <tr>\n      <th>2</th>\n      <td>10180</td>\n      <td>Abilene, TX</td>\n      <td>TX</td>\n      <td>1235</td>\n      <td>11-1021</td>\n      <td>General and Operations Managers</td>\n      <td>detailed</td>\n      <td>1100</td>\n      <td>7.7</td>\n      <td>16.499</td>\n      <td>...</td>\n      <td>35.51</td>\n      <td>51.38</td>\n      <td>74.29</td>\n      <td>22810</td>\n      <td>50350</td>\n      <td>73850</td>\n      <td>106870</td>\n      <td>154520</td>\n      <td>NaN</td>\n      <td>NaN</td>\n    </tr>\n    <tr>\n      <th>3</th>\n      <td>10180</td>\n      <td>Abilene, TX</td>\n      <td>TX</td>\n      <td>1235</td>\n      <td>11-2022</td>\n      <td>Sales Managers</td>\n      <td>detailed</td>\n      <td>110</td>\n      <td>18.8</td>\n      <td>1.728</td>\n      <td>...</td>\n      <td>57.65</td>\n      <td>74.55</td>\n      <td>99.8</td>\n      <td>47360</td>\n      <td>72140</td>\n      <td>119920</td>\n      <td>155050</td>\n      <td>207570</td>\n      <td>NaN</td>\n      <td>NaN</td>\n    </tr>\n    <tr>\n      <th>4</th>\n      <td>10180</td>\n      <td>Abilene, TX</td>\n      <td>TX</td>\n      <td>1235</td>\n      <td>11-2030</td>\n      <td>Public Relations and Fundraising Managers</td>\n      <td>detailed</td>\n      <td>40</td>\n      <td>29.7</td>\n      <td>0.571</td>\n      <td>...</td>\n      <td>*</td>\n      <td>*</td>\n      <td>*</td>\n      <td>*</td>\n      <td>*</td>\n      <td>*</td>\n      <td>*</td>\n      <td>*</td>\n      <td>NaN</td>\n      <td>NaN</td>\n    </tr>\n    <tr>\n      <th>...</th>\n      <td>...</td>\n      <td>...</td>\n      <td>...</td>\n      <td>...</td>\n      <td>...</td>\n      <td>...</td>\n      <td>...</td>\n      <td>...</td>\n      <td>...</td>\n      <td>...</td>\n      <td>...</td>\n      <td>...</td>\n      <td>...</td>\n      <td>...</td>\n      <td>...</td>\n      <td>...</td>\n      <td>...</td>\n      <td>...</td>\n      <td>...</td>\n      <td>...</td>\n      <td>...</td>\n    </tr>\n    <tr>\n      <th>142405</th>\n      <td>79600</td>\n      <td>Worcester, MA-CT</td>\n      <td>MA-CT</td>\n      <td>1235</td>\n      <td>53-7062</td>\n      <td>Laborers and Freight, Stock, and Material Move...</td>\n      <td>detailed</td>\n      <td>5490</td>\n      <td>6.7</td>\n      <td>19.107</td>\n      <td>...</td>\n      <td>14.59</td>\n      <td>18.45</td>\n      <td>22.71</td>\n      <td>25340</td>\n      <td>26280</td>\n      <td>30350</td>\n      <td>38380</td>\n      <td>47240</td>\n      <td>NaN</td>\n      <td>NaN</td>\n    </tr>\n    <tr>\n      <th>142406</th>\n      <td>79600</td>\n      <td>Worcester, MA-CT</td>\n      <td>MA-CT</td>\n      <td>1235</td>\n      <td>53-7063</td>\n      <td>Machine Feeders and Offbearers</td>\n      <td>detailed</td>\n      <td>150</td>\n      <td>21.6</td>\n      <td>0.515</td>\n      <td>...</td>\n      <td>15.39</td>\n      <td>19.24</td>\n      <td>22.95</td>\n      <td>26390</td>\n      <td>28450</td>\n      <td>32020</td>\n      <td>40010</td>\n      <td>47740</td>\n      <td>NaN</td>\n      <td>NaN</td>\n    </tr>\n    <tr>\n      <th>142407</th>\n      <td>79600</td>\n      <td>Worcester, MA-CT</td>\n      <td>MA-CT</td>\n      <td>1235</td>\n      <td>53-7064</td>\n      <td>Packers and Packagers, Hand</td>\n      <td>detailed</td>\n      <td>1340</td>\n      <td>20.6</td>\n      <td>4.656</td>\n      <td>...</td>\n      <td>13.44</td>\n      <td>15.06</td>\n      <td>19.09</td>\n      <td>25280</td>\n      <td>25900</td>\n      <td>27960</td>\n      <td>31330</td>\n      <td>39700</td>\n      <td>NaN</td>\n      <td>NaN</td>\n    </tr>\n    <tr>\n      <th>142408</th>\n      <td>79600</td>\n      <td>Worcester, MA-CT</td>\n      <td>MA-CT</td>\n      <td>1235</td>\n      <td>53-7065</td>\n      <td>Stockers and Order Fillers</td>\n      <td>detailed</td>\n      <td>4230</td>\n      <td>5.4</td>\n      <td>14.725</td>\n      <td>...</td>\n      <td>14.27</td>\n      <td>17.71</td>\n      <td>22.76</td>\n      <td>25310</td>\n      <td>26190</td>\n      <td>29690</td>\n      <td>36840</td>\n      <td>47350</td>\n      <td>NaN</td>\n      <td>NaN</td>\n    </tr>\n    <tr>\n      <th>142409</th>\n      <td>79600</td>\n      <td>Worcester, MA-CT</td>\n      <td>MA-CT</td>\n      <td>1235</td>\n      <td>53-7081</td>\n      <td>Refuse and Recyclable Material Collectors</td>\n      <td>detailed</td>\n      <td>160</td>\n      <td>36.6</td>\n      <td>0.54</td>\n      <td>...</td>\n      <td>22.1</td>\n      <td>25.58</td>\n      <td>28.74</td>\n      <td>27800</td>\n      <td>35720</td>\n      <td>45970</td>\n      <td>53200</td>\n      <td>59780</td>\n      <td>NaN</td>\n      <td>NaN</td>\n    </tr>\n  </tbody>\n</table>\n<p>141626 rows × 27 columns</p>\n</div>"
     },
     "metadata": {},
     "execution_count": 139
    }
   ],
   "source": [
    "df_total"
   ]
  },
  {
   "cell_type": "code",
   "execution_count": 140,
   "metadata": {},
   "outputs": [],
   "source": [
    "df_total.to_csv('../OES/oesm19ma/total.csv', index=False)"
   ]
  },
  {
   "cell_type": "code",
   "execution_count": 141,
   "metadata": {},
   "outputs": [
    {
     "output_type": "execute_result",
     "data": {
      "text/plain": [
       "      AREA   CBSA                              MSA_Name  state_code\n",
       "0    10180  10180                           Abilene, TX          48\n",
       "1    10420  10420                             Akron, OH          39\n",
       "2    10500  10500                            Albany, GA          13\n",
       "3    41420  10540                    Albany-Lebanon, OR          41\n",
       "4    10580  10580           Albany-Schenectady-Troy, NY          36\n",
       "..     ...    ...                                   ...         ...\n",
       "379  76750  38860           Portland-South Portland, ME          23\n",
       "380  77200  39300             Providence-Warwick, RI-MA          44\n",
       "381  78100  44140                       Springfield, MA          25\n",
       "382  79600  49340                      Worcester, MA-CT          25\n",
       "383  39100  39100  Poughkeepsie-Newburgh-Middletown, NY          36\n",
       "\n",
       "[384 rows x 4 columns]"
      ],
      "text/html": "<div>\n<style scoped>\n    .dataframe tbody tr th:only-of-type {\n        vertical-align: middle;\n    }\n\n    .dataframe tbody tr th {\n        vertical-align: top;\n    }\n\n    .dataframe thead th {\n        text-align: right;\n    }\n</style>\n<table border=\"1\" class=\"dataframe\">\n  <thead>\n    <tr style=\"text-align: right;\">\n      <th></th>\n      <th>AREA</th>\n      <th>CBSA</th>\n      <th>MSA_Name</th>\n      <th>state_code</th>\n    </tr>\n  </thead>\n  <tbody>\n    <tr>\n      <th>0</th>\n      <td>10180</td>\n      <td>10180</td>\n      <td>Abilene, TX</td>\n      <td>48</td>\n    </tr>\n    <tr>\n      <th>1</th>\n      <td>10420</td>\n      <td>10420</td>\n      <td>Akron, OH</td>\n      <td>39</td>\n    </tr>\n    <tr>\n      <th>2</th>\n      <td>10500</td>\n      <td>10500</td>\n      <td>Albany, GA</td>\n      <td>13</td>\n    </tr>\n    <tr>\n      <th>3</th>\n      <td>41420</td>\n      <td>10540</td>\n      <td>Albany-Lebanon, OR</td>\n      <td>41</td>\n    </tr>\n    <tr>\n      <th>4</th>\n      <td>10580</td>\n      <td>10580</td>\n      <td>Albany-Schenectady-Troy, NY</td>\n      <td>36</td>\n    </tr>\n    <tr>\n      <th>...</th>\n      <td>...</td>\n      <td>...</td>\n      <td>...</td>\n      <td>...</td>\n    </tr>\n    <tr>\n      <th>379</th>\n      <td>76750</td>\n      <td>38860</td>\n      <td>Portland-South Portland, ME</td>\n      <td>23</td>\n    </tr>\n    <tr>\n      <th>380</th>\n      <td>77200</td>\n      <td>39300</td>\n      <td>Providence-Warwick, RI-MA</td>\n      <td>44</td>\n    </tr>\n    <tr>\n      <th>381</th>\n      <td>78100</td>\n      <td>44140</td>\n      <td>Springfield, MA</td>\n      <td>25</td>\n    </tr>\n    <tr>\n      <th>382</th>\n      <td>79600</td>\n      <td>49340</td>\n      <td>Worcester, MA-CT</td>\n      <td>25</td>\n    </tr>\n    <tr>\n      <th>383</th>\n      <td>39100</td>\n      <td>39100</td>\n      <td>Poughkeepsie-Newburgh-Middletown, NY</td>\n      <td>36</td>\n    </tr>\n  </tbody>\n</table>\n<p>384 rows × 4 columns</p>\n</div>"
     },
     "metadata": {},
     "execution_count": 141
    }
   ],
   "source": [
    "df_oes_list = pd.read_csv('../OES/oes_codes.csv')\n",
    "df_oes_list"
   ]
  },
  {
   "cell_type": "code",
   "execution_count": 143,
   "metadata": {},
   "outputs": [
    {
     "output_type": "execute_result",
     "data": {
      "text/plain": [
       "         area                   area_title PRIM_STATE  own_code occ_code  \\\n",
       "0       10180                  Abilene, TX         TX      1235  00-0000   \n",
       "467     10420                    Akron, OH         OH      1235  00-0000   \n",
       "979     10500                   Albany, GA         GA      1235  00-0000   \n",
       "1217    10540                   Albany, OR         OR      1235  00-0000   \n",
       "1472    10580  Albany-Schenectady-Troy, NY         NY      1235  00-0000   \n",
       "...       ...                          ...        ...       ...      ...   \n",
       "140165  76900            Portsmouth, NH-ME      NH-ME      1235  00-0000   \n",
       "140505  77200    Providence-Warwick, RI-MA      RI-MA      1235  00-0000   \n",
       "141113  78100           Springfield, MA-CT      MA-CT      1235  00-0000   \n",
       "141642  78700                Waterbury, CT         CT      1235  00-0000   \n",
       "141921  79600             Worcester, MA-CT      MA-CT      1235  00-0000   \n",
       "\n",
       "              occ_title o_group tot_emp emp_prse jobs_1000  ... h_median  \\\n",
       "0       All Occupations   total   66510      3.1      1000  ...    15.64   \n",
       "467     All Occupations   total  329610      1.2      1000  ...    18.57   \n",
       "979     All Occupations   total   59000      2.2      1000  ...    15.06   \n",
       "1217    All Occupations   total   45140      2.1      1000  ...    18.55   \n",
       "1472    All Occupations   total  452910      1.3      1000  ...    21.43   \n",
       "...                 ...     ...     ...      ...       ...  ...      ...   \n",
       "140165  All Occupations   total   96120      1.5      1000  ...    22.45   \n",
       "140505  All Occupations   total  579060      0.7      1000  ...    20.53   \n",
       "141113  All Occupations   total  334500      1.6      1000  ...     20.3   \n",
       "141642  All Occupations   total   67790      2.8      1000  ...    20.11   \n",
       "141921  All Occupations   total  287340      1.2      1000  ...    21.15   \n",
       "\n",
       "        h_pct75 h_pct90 a_pct10 a_pct25 a_median a_pct75 a_pct90 annual hourly  \n",
       "0         24.05   35.21   18580   22810    32530   50030   73230    NaN    NaN  \n",
       "467       29.38    42.4   19840   25680    38640   61100   88180    NaN    NaN  \n",
       "979       24.91   36.58   17640   20960    31320   51820   76090    NaN    NaN  \n",
       "1217      27.67   39.01   24250   28300    38580   57560   81130    NaN    NaN  \n",
       "1472      32.99    48.3   24580   29900    44580   68620  100460    NaN    NaN  \n",
       "...         ...     ...     ...     ...      ...     ...     ...    ...    ...  \n",
       "140165     35.2   51.73   23500   31260    46690   73220  107610    NaN    NaN  \n",
       "140505     33.2   49.06   24480   28940    42700   69050  102050    NaN    NaN  \n",
       "141113    31.19   45.62   25510   29910    42230   64870   94890    NaN    NaN  \n",
       "141642    31.17   45.53   23650   28350    41830   64830   94700    NaN    NaN  \n",
       "141921    32.76   48.03   25630   30450    44000   68140   99900    NaN    NaN  \n",
       "\n",
       "[391 rows x 27 columns]"
      ],
      "text/html": "<div>\n<style scoped>\n    .dataframe tbody tr th:only-of-type {\n        vertical-align: middle;\n    }\n\n    .dataframe tbody tr th {\n        vertical-align: top;\n    }\n\n    .dataframe thead th {\n        text-align: right;\n    }\n</style>\n<table border=\"1\" class=\"dataframe\">\n  <thead>\n    <tr style=\"text-align: right;\">\n      <th></th>\n      <th>area</th>\n      <th>area_title</th>\n      <th>PRIM_STATE</th>\n      <th>own_code</th>\n      <th>occ_code</th>\n      <th>occ_title</th>\n      <th>o_group</th>\n      <th>tot_emp</th>\n      <th>emp_prse</th>\n      <th>jobs_1000</th>\n      <th>...</th>\n      <th>h_median</th>\n      <th>h_pct75</th>\n      <th>h_pct90</th>\n      <th>a_pct10</th>\n      <th>a_pct25</th>\n      <th>a_median</th>\n      <th>a_pct75</th>\n      <th>a_pct90</th>\n      <th>annual</th>\n      <th>hourly</th>\n    </tr>\n  </thead>\n  <tbody>\n    <tr>\n      <th>0</th>\n      <td>10180</td>\n      <td>Abilene, TX</td>\n      <td>TX</td>\n      <td>1235</td>\n      <td>00-0000</td>\n      <td>All Occupations</td>\n      <td>total</td>\n      <td>66510</td>\n      <td>3.1</td>\n      <td>1000</td>\n      <td>...</td>\n      <td>15.64</td>\n      <td>24.05</td>\n      <td>35.21</td>\n      <td>18580</td>\n      <td>22810</td>\n      <td>32530</td>\n      <td>50030</td>\n      <td>73230</td>\n      <td>NaN</td>\n      <td>NaN</td>\n    </tr>\n    <tr>\n      <th>467</th>\n      <td>10420</td>\n      <td>Akron, OH</td>\n      <td>OH</td>\n      <td>1235</td>\n      <td>00-0000</td>\n      <td>All Occupations</td>\n      <td>total</td>\n      <td>329610</td>\n      <td>1.2</td>\n      <td>1000</td>\n      <td>...</td>\n      <td>18.57</td>\n      <td>29.38</td>\n      <td>42.4</td>\n      <td>19840</td>\n      <td>25680</td>\n      <td>38640</td>\n      <td>61100</td>\n      <td>88180</td>\n      <td>NaN</td>\n      <td>NaN</td>\n    </tr>\n    <tr>\n      <th>979</th>\n      <td>10500</td>\n      <td>Albany, GA</td>\n      <td>GA</td>\n      <td>1235</td>\n      <td>00-0000</td>\n      <td>All Occupations</td>\n      <td>total</td>\n      <td>59000</td>\n      <td>2.2</td>\n      <td>1000</td>\n      <td>...</td>\n      <td>15.06</td>\n      <td>24.91</td>\n      <td>36.58</td>\n      <td>17640</td>\n      <td>20960</td>\n      <td>31320</td>\n      <td>51820</td>\n      <td>76090</td>\n      <td>NaN</td>\n      <td>NaN</td>\n    </tr>\n    <tr>\n      <th>1217</th>\n      <td>10540</td>\n      <td>Albany, OR</td>\n      <td>OR</td>\n      <td>1235</td>\n      <td>00-0000</td>\n      <td>All Occupations</td>\n      <td>total</td>\n      <td>45140</td>\n      <td>2.1</td>\n      <td>1000</td>\n      <td>...</td>\n      <td>18.55</td>\n      <td>27.67</td>\n      <td>39.01</td>\n      <td>24250</td>\n      <td>28300</td>\n      <td>38580</td>\n      <td>57560</td>\n      <td>81130</td>\n      <td>NaN</td>\n      <td>NaN</td>\n    </tr>\n    <tr>\n      <th>1472</th>\n      <td>10580</td>\n      <td>Albany-Schenectady-Troy, NY</td>\n      <td>NY</td>\n      <td>1235</td>\n      <td>00-0000</td>\n      <td>All Occupations</td>\n      <td>total</td>\n      <td>452910</td>\n      <td>1.3</td>\n      <td>1000</td>\n      <td>...</td>\n      <td>21.43</td>\n      <td>32.99</td>\n      <td>48.3</td>\n      <td>24580</td>\n      <td>29900</td>\n      <td>44580</td>\n      <td>68620</td>\n      <td>100460</td>\n      <td>NaN</td>\n      <td>NaN</td>\n    </tr>\n    <tr>\n      <th>...</th>\n      <td>...</td>\n      <td>...</td>\n      <td>...</td>\n      <td>...</td>\n      <td>...</td>\n      <td>...</td>\n      <td>...</td>\n      <td>...</td>\n      <td>...</td>\n      <td>...</td>\n      <td>...</td>\n      <td>...</td>\n      <td>...</td>\n      <td>...</td>\n      <td>...</td>\n      <td>...</td>\n      <td>...</td>\n      <td>...</td>\n      <td>...</td>\n      <td>...</td>\n      <td>...</td>\n    </tr>\n    <tr>\n      <th>140165</th>\n      <td>76900</td>\n      <td>Portsmouth, NH-ME</td>\n      <td>NH-ME</td>\n      <td>1235</td>\n      <td>00-0000</td>\n      <td>All Occupations</td>\n      <td>total</td>\n      <td>96120</td>\n      <td>1.5</td>\n      <td>1000</td>\n      <td>...</td>\n      <td>22.45</td>\n      <td>35.2</td>\n      <td>51.73</td>\n      <td>23500</td>\n      <td>31260</td>\n      <td>46690</td>\n      <td>73220</td>\n      <td>107610</td>\n      <td>NaN</td>\n      <td>NaN</td>\n    </tr>\n    <tr>\n      <th>140505</th>\n      <td>77200</td>\n      <td>Providence-Warwick, RI-MA</td>\n      <td>RI-MA</td>\n      <td>1235</td>\n      <td>00-0000</td>\n      <td>All Occupations</td>\n      <td>total</td>\n      <td>579060</td>\n      <td>0.7</td>\n      <td>1000</td>\n      <td>...</td>\n      <td>20.53</td>\n      <td>33.2</td>\n      <td>49.06</td>\n      <td>24480</td>\n      <td>28940</td>\n      <td>42700</td>\n      <td>69050</td>\n      <td>102050</td>\n      <td>NaN</td>\n      <td>NaN</td>\n    </tr>\n    <tr>\n      <th>141113</th>\n      <td>78100</td>\n      <td>Springfield, MA-CT</td>\n      <td>MA-CT</td>\n      <td>1235</td>\n      <td>00-0000</td>\n      <td>All Occupations</td>\n      <td>total</td>\n      <td>334500</td>\n      <td>1.6</td>\n      <td>1000</td>\n      <td>...</td>\n      <td>20.3</td>\n      <td>31.19</td>\n      <td>45.62</td>\n      <td>25510</td>\n      <td>29910</td>\n      <td>42230</td>\n      <td>64870</td>\n      <td>94890</td>\n      <td>NaN</td>\n      <td>NaN</td>\n    </tr>\n    <tr>\n      <th>141642</th>\n      <td>78700</td>\n      <td>Waterbury, CT</td>\n      <td>CT</td>\n      <td>1235</td>\n      <td>00-0000</td>\n      <td>All Occupations</td>\n      <td>total</td>\n      <td>67790</td>\n      <td>2.8</td>\n      <td>1000</td>\n      <td>...</td>\n      <td>20.11</td>\n      <td>31.17</td>\n      <td>45.53</td>\n      <td>23650</td>\n      <td>28350</td>\n      <td>41830</td>\n      <td>64830</td>\n      <td>94700</td>\n      <td>NaN</td>\n      <td>NaN</td>\n    </tr>\n    <tr>\n      <th>141921</th>\n      <td>79600</td>\n      <td>Worcester, MA-CT</td>\n      <td>MA-CT</td>\n      <td>1235</td>\n      <td>00-0000</td>\n      <td>All Occupations</td>\n      <td>total</td>\n      <td>287340</td>\n      <td>1.2</td>\n      <td>1000</td>\n      <td>...</td>\n      <td>21.15</td>\n      <td>32.76</td>\n      <td>48.03</td>\n      <td>25630</td>\n      <td>30450</td>\n      <td>44000</td>\n      <td>68140</td>\n      <td>99900</td>\n      <td>NaN</td>\n      <td>NaN</td>\n    </tr>\n  </tbody>\n</table>\n<p>391 rows × 27 columns</p>\n</div>"
     },
     "metadata": {},
     "execution_count": 143
    }
   ],
   "source": [
    "# df_all = df_total[df_total['OCC_CODE'] == '00-0000']\n",
    "df_all = df_total[df_total['occ_code'] == '00-0000']\n",
    "df_all"
   ]
  },
  {
   "cell_type": "code",
   "execution_count": 146,
   "metadata": {},
   "outputs": [
    {
     "output_type": "execute_result",
     "data": {
      "text/plain": [
       "      AREA   CBSA                              MSA_Name  state_code     area  \\\n",
       "0    10180  10180                           Abilene, TX          48  10180.0   \n",
       "1    10420  10420                             Akron, OH          39  10420.0   \n",
       "2    10500  10500                            Albany, GA          13  10500.0   \n",
       "3    41420  10540                    Albany-Lebanon, OR          41  41420.0   \n",
       "4    10580  10580           Albany-Schenectady-Troy, NY          36  10580.0   \n",
       "..     ...    ...                                   ...         ...      ...   \n",
       "379  76750  38860           Portland-South Portland, ME          23  76750.0   \n",
       "380  77200  39300             Providence-Warwick, RI-MA          44  77200.0   \n",
       "381  78100  44140                       Springfield, MA          25  78100.0   \n",
       "382  79600  49340                      Worcester, MA-CT          25  79600.0   \n",
       "383  39100  39100  Poughkeepsie-Newburgh-Middletown, NY          36      NaN   \n",
       "\n",
       "                      area_title PRIM_STATE  own_code occ_code  \\\n",
       "0                    Abilene, TX         TX    1235.0  00-0000   \n",
       "1                      Akron, OH         OH    1235.0  00-0000   \n",
       "2                     Albany, GA         GA    1235.0  00-0000   \n",
       "3                      Salem, OR         OR    1235.0  00-0000   \n",
       "4    Albany-Schenectady-Troy, NY         NY    1235.0  00-0000   \n",
       "..                           ...        ...       ...      ...   \n",
       "379  Portland-South Portland, ME   Portland    1235.0  00-0000   \n",
       "380    Providence-Warwick, RI-MA      RI-MA    1235.0  00-0000   \n",
       "381           Springfield, MA-CT      MA-CT    1235.0  00-0000   \n",
       "382             Worcester, MA-CT      MA-CT    1235.0  00-0000   \n",
       "383                          NaN        NaN       NaN      NaN   \n",
       "\n",
       "           occ_title  ... h_median h_pct75 h_pct90 a_pct10 a_pct25  a_median  \\\n",
       "0    All Occupations  ...    15.64   24.05   35.21   18580   22810     32530   \n",
       "1    All Occupations  ...    18.57   29.38    42.4   19840   25680     38640   \n",
       "2    All Occupations  ...    15.06   24.91   36.58   17640   20960     31320   \n",
       "3    All Occupations  ...    18.92   29.53   43.69   24160   27960     39360   \n",
       "4    All Occupations  ...    21.43   32.99    48.3   24580   29900     44580   \n",
       "..               ...  ...      ...     ...     ...     ...     ...       ...   \n",
       "379  All Occupations  ...    19.79   29.91   44.94   24230   29400     41160   \n",
       "380  All Occupations  ...    20.53    33.2   49.06   24480   28940     42700   \n",
       "381  All Occupations  ...     20.3   31.19   45.62   25510   29910     42230   \n",
       "382  All Occupations  ...    21.15   32.76   48.03   25630   30450     44000   \n",
       "383              NaN  ...      NaN     NaN     NaN     NaN     NaN       NaN   \n",
       "\n",
       "    a_pct75 a_pct90 annual hourly  \n",
       "0     50030   73230    NaN    NaN  \n",
       "1     61100   88180    NaN    NaN  \n",
       "2     51820   76090    NaN    NaN  \n",
       "3     61430   90870    NaN    NaN  \n",
       "4     68620  100460    NaN    NaN  \n",
       "..      ...     ...    ...    ...  \n",
       "379   62220   93470    NaN    NaN  \n",
       "380   69050  102050    NaN    NaN  \n",
       "381   64870   94890    NaN    NaN  \n",
       "382   68140   99900    NaN    NaN  \n",
       "383     NaN     NaN    NaN    NaN  \n",
       "\n",
       "[384 rows x 31 columns]"
      ],
      "text/html": "<div>\n<style scoped>\n    .dataframe tbody tr th:only-of-type {\n        vertical-align: middle;\n    }\n\n    .dataframe tbody tr th {\n        vertical-align: top;\n    }\n\n    .dataframe thead th {\n        text-align: right;\n    }\n</style>\n<table border=\"1\" class=\"dataframe\">\n  <thead>\n    <tr style=\"text-align: right;\">\n      <th></th>\n      <th>AREA</th>\n      <th>CBSA</th>\n      <th>MSA_Name</th>\n      <th>state_code</th>\n      <th>area</th>\n      <th>area_title</th>\n      <th>PRIM_STATE</th>\n      <th>own_code</th>\n      <th>occ_code</th>\n      <th>occ_title</th>\n      <th>...</th>\n      <th>h_median</th>\n      <th>h_pct75</th>\n      <th>h_pct90</th>\n      <th>a_pct10</th>\n      <th>a_pct25</th>\n      <th>a_median</th>\n      <th>a_pct75</th>\n      <th>a_pct90</th>\n      <th>annual</th>\n      <th>hourly</th>\n    </tr>\n  </thead>\n  <tbody>\n    <tr>\n      <th>0</th>\n      <td>10180</td>\n      <td>10180</td>\n      <td>Abilene, TX</td>\n      <td>48</td>\n      <td>10180.0</td>\n      <td>Abilene, TX</td>\n      <td>TX</td>\n      <td>1235.0</td>\n      <td>00-0000</td>\n      <td>All Occupations</td>\n      <td>...</td>\n      <td>15.64</td>\n      <td>24.05</td>\n      <td>35.21</td>\n      <td>18580</td>\n      <td>22810</td>\n      <td>32530</td>\n      <td>50030</td>\n      <td>73230</td>\n      <td>NaN</td>\n      <td>NaN</td>\n    </tr>\n    <tr>\n      <th>1</th>\n      <td>10420</td>\n      <td>10420</td>\n      <td>Akron, OH</td>\n      <td>39</td>\n      <td>10420.0</td>\n      <td>Akron, OH</td>\n      <td>OH</td>\n      <td>1235.0</td>\n      <td>00-0000</td>\n      <td>All Occupations</td>\n      <td>...</td>\n      <td>18.57</td>\n      <td>29.38</td>\n      <td>42.4</td>\n      <td>19840</td>\n      <td>25680</td>\n      <td>38640</td>\n      <td>61100</td>\n      <td>88180</td>\n      <td>NaN</td>\n      <td>NaN</td>\n    </tr>\n    <tr>\n      <th>2</th>\n      <td>10500</td>\n      <td>10500</td>\n      <td>Albany, GA</td>\n      <td>13</td>\n      <td>10500.0</td>\n      <td>Albany, GA</td>\n      <td>GA</td>\n      <td>1235.0</td>\n      <td>00-0000</td>\n      <td>All Occupations</td>\n      <td>...</td>\n      <td>15.06</td>\n      <td>24.91</td>\n      <td>36.58</td>\n      <td>17640</td>\n      <td>20960</td>\n      <td>31320</td>\n      <td>51820</td>\n      <td>76090</td>\n      <td>NaN</td>\n      <td>NaN</td>\n    </tr>\n    <tr>\n      <th>3</th>\n      <td>41420</td>\n      <td>10540</td>\n      <td>Albany-Lebanon, OR</td>\n      <td>41</td>\n      <td>41420.0</td>\n      <td>Salem, OR</td>\n      <td>OR</td>\n      <td>1235.0</td>\n      <td>00-0000</td>\n      <td>All Occupations</td>\n      <td>...</td>\n      <td>18.92</td>\n      <td>29.53</td>\n      <td>43.69</td>\n      <td>24160</td>\n      <td>27960</td>\n      <td>39360</td>\n      <td>61430</td>\n      <td>90870</td>\n      <td>NaN</td>\n      <td>NaN</td>\n    </tr>\n    <tr>\n      <th>4</th>\n      <td>10580</td>\n      <td>10580</td>\n      <td>Albany-Schenectady-Troy, NY</td>\n      <td>36</td>\n      <td>10580.0</td>\n      <td>Albany-Schenectady-Troy, NY</td>\n      <td>NY</td>\n      <td>1235.0</td>\n      <td>00-0000</td>\n      <td>All Occupations</td>\n      <td>...</td>\n      <td>21.43</td>\n      <td>32.99</td>\n      <td>48.3</td>\n      <td>24580</td>\n      <td>29900</td>\n      <td>44580</td>\n      <td>68620</td>\n      <td>100460</td>\n      <td>NaN</td>\n      <td>NaN</td>\n    </tr>\n    <tr>\n      <th>...</th>\n      <td>...</td>\n      <td>...</td>\n      <td>...</td>\n      <td>...</td>\n      <td>...</td>\n      <td>...</td>\n      <td>...</td>\n      <td>...</td>\n      <td>...</td>\n      <td>...</td>\n      <td>...</td>\n      <td>...</td>\n      <td>...</td>\n      <td>...</td>\n      <td>...</td>\n      <td>...</td>\n      <td>...</td>\n      <td>...</td>\n      <td>...</td>\n      <td>...</td>\n      <td>...</td>\n    </tr>\n    <tr>\n      <th>379</th>\n      <td>76750</td>\n      <td>38860</td>\n      <td>Portland-South Portland, ME</td>\n      <td>23</td>\n      <td>76750.0</td>\n      <td>Portland-South Portland, ME</td>\n      <td>Portland</td>\n      <td>1235.0</td>\n      <td>00-0000</td>\n      <td>All Occupations</td>\n      <td>...</td>\n      <td>19.79</td>\n      <td>29.91</td>\n      <td>44.94</td>\n      <td>24230</td>\n      <td>29400</td>\n      <td>41160</td>\n      <td>62220</td>\n      <td>93470</td>\n      <td>NaN</td>\n      <td>NaN</td>\n    </tr>\n    <tr>\n      <th>380</th>\n      <td>77200</td>\n      <td>39300</td>\n      <td>Providence-Warwick, RI-MA</td>\n      <td>44</td>\n      <td>77200.0</td>\n      <td>Providence-Warwick, RI-MA</td>\n      <td>RI-MA</td>\n      <td>1235.0</td>\n      <td>00-0000</td>\n      <td>All Occupations</td>\n      <td>...</td>\n      <td>20.53</td>\n      <td>33.2</td>\n      <td>49.06</td>\n      <td>24480</td>\n      <td>28940</td>\n      <td>42700</td>\n      <td>69050</td>\n      <td>102050</td>\n      <td>NaN</td>\n      <td>NaN</td>\n    </tr>\n    <tr>\n      <th>381</th>\n      <td>78100</td>\n      <td>44140</td>\n      <td>Springfield, MA</td>\n      <td>25</td>\n      <td>78100.0</td>\n      <td>Springfield, MA-CT</td>\n      <td>MA-CT</td>\n      <td>1235.0</td>\n      <td>00-0000</td>\n      <td>All Occupations</td>\n      <td>...</td>\n      <td>20.3</td>\n      <td>31.19</td>\n      <td>45.62</td>\n      <td>25510</td>\n      <td>29910</td>\n      <td>42230</td>\n      <td>64870</td>\n      <td>94890</td>\n      <td>NaN</td>\n      <td>NaN</td>\n    </tr>\n    <tr>\n      <th>382</th>\n      <td>79600</td>\n      <td>49340</td>\n      <td>Worcester, MA-CT</td>\n      <td>25</td>\n      <td>79600.0</td>\n      <td>Worcester, MA-CT</td>\n      <td>MA-CT</td>\n      <td>1235.0</td>\n      <td>00-0000</td>\n      <td>All Occupations</td>\n      <td>...</td>\n      <td>21.15</td>\n      <td>32.76</td>\n      <td>48.03</td>\n      <td>25630</td>\n      <td>30450</td>\n      <td>44000</td>\n      <td>68140</td>\n      <td>99900</td>\n      <td>NaN</td>\n      <td>NaN</td>\n    </tr>\n    <tr>\n      <th>383</th>\n      <td>39100</td>\n      <td>39100</td>\n      <td>Poughkeepsie-Newburgh-Middletown, NY</td>\n      <td>36</td>\n      <td>NaN</td>\n      <td>NaN</td>\n      <td>NaN</td>\n      <td>NaN</td>\n      <td>NaN</td>\n      <td>NaN</td>\n      <td>...</td>\n      <td>NaN</td>\n      <td>NaN</td>\n      <td>NaN</td>\n      <td>NaN</td>\n      <td>NaN</td>\n      <td>NaN</td>\n      <td>NaN</td>\n      <td>NaN</td>\n      <td>NaN</td>\n      <td>NaN</td>\n    </tr>\n  </tbody>\n</table>\n<p>384 rows × 31 columns</p>\n</div>"
     },
     "metadata": {},
     "execution_count": 146
    }
   ],
   "source": [
    "# df_all_merged = df_oes_list.merge(df_all, how='left',  on='AREA')\n",
    "df_all_merged = df_oes_list.merge(df_all, how='left',  left_on='AREA', right_on='area')\n",
    "df_all_merged"
   ]
  },
  {
   "cell_type": "code",
   "execution_count": 147,
   "metadata": {},
   "outputs": [],
   "source": [
    "df_all_merged.to_csv('../OES/2019_all.csv', index=False)"
   ]
  },
  {
   "cell_type": "code",
   "execution_count": 148,
   "metadata": {},
   "outputs": [],
   "source": [
    "import pymongo\n",
    "from pymongo import MongoClient"
   ]
  },
  {
   "cell_type": "code",
   "execution_count": 152,
   "metadata": {},
   "outputs": [],
   "source": [
    "file_list = ['2010_all.csv','2011_all.csv','2012_all.csv','2013_all.csv','2014_all.csv','2015_all.csv','2016_all.csv','2017_all.csv','2018_all.csv','2019_all.csv']"
   ]
  },
  {
   "cell_type": "code",
   "execution_count": 156,
   "metadata": {},
   "outputs": [],
   "source": [
    "df_oes = pd.DataFrame()\n",
    "for file in file_list:\n",
    "    df_temp = pd.read_csv('../OES/' + file)\n",
    "    df_oes = pd.concat([df_oes, df_temp], ignore_index=True)"
   ]
  },
  {
   "cell_type": "code",
   "execution_count": 157,
   "metadata": {},
   "outputs": [
    {
     "output_type": "execute_result",
     "data": {
      "text/plain": [
       "      YEAR   AREA   CBSA                              MSA_Name  state_code  \\\n",
       "0     2010  10180  10180                           Abilene, TX          48   \n",
       "1     2010  10420  10420                             Akron, OH          39   \n",
       "2     2010  10500  10500                            Albany, GA          13   \n",
       "3     2010  41420  10540                    Albany-Lebanon, OR          41   \n",
       "4     2010  10580  10580           Albany-Schenectady-Troy, NY          36   \n",
       "...    ...    ...    ...                                   ...         ...   \n",
       "3835  2019  76750  38860           Portland-South Portland, ME          23   \n",
       "3836  2019  77200  39300             Providence-Warwick, RI-MA          44   \n",
       "3837  2019  78100  44140                       Springfield, MA          25   \n",
       "3838  2019  79600  49340                      Worcester, MA-CT          25   \n",
       "3839  2019  39100  39100  Poughkeepsie-Newburgh-Middletown, NY          36   \n",
       "\n",
       "     PRIM_STATE                    AREA_NAME OCC_CODE        OCC_TITLE  GROUP  \\\n",
       "0            TX                  Abilene, TX  00-0000  All Occupations  total   \n",
       "1            OH                    Akron, OH  00-0000  All Occupations  total   \n",
       "2            GA                   Albany, GA  00-0000  All Occupations  total   \n",
       "3            OR                    Salem, OR  00-0000  All Occupations  total   \n",
       "4            NY  Albany-Schenectady-Troy, NY  00-0000  All Occupations  total   \n",
       "...         ...                          ...      ...              ...    ...   \n",
       "3835      76750  Portland-South Portland, ME  00-0000  All Occupations  total   \n",
       "3836      77200    Providence-Warwick, RI-MA  00-0000  All Occupations  total   \n",
       "3837      78100           Springfield, MA-CT  00-0000  All Occupations  total   \n",
       "3838      79600             Worcester, MA-CT  00-0000  All Occupations  total   \n",
       "3839        NaN                          NaN  00-0000  All Occupations  total   \n",
       "\n",
       "      ...  H_PCT75  H_PCT90  A_PCT10  A_PCT25  A_MEDIAN  A_PCT75  A_PCT90  \\\n",
       "0     ...    20.05    29.41    16170    18510     26800    41710    61170   \n",
       "1     ...    24.10    35.29    16930    20680     31760    50120    73410   \n",
       "2     ...    21.56    30.80    16060    18620     26970    44850    64060   \n",
       "3     ...    23.64    34.19    18920    22610     33200    49180    71120   \n",
       "4     ...    27.70    39.86    18630    24750     37780    57620    82900   \n",
       "...   ...      ...      ...      ...      ...       ...      ...      ...   \n",
       "3835  ...    29.91    44.94    24230    29400     41160    62220    93470   \n",
       "3836  ...    33.20    49.06    24480    28940     42700    69050   102050   \n",
       "3837  ...    31.19    45.62    25510    29910     42230    64870    94890   \n",
       "3838  ...    32.76    48.03    25630    30450     44000    68140    99900   \n",
       "3839  ...    28.98    41.93    24340    28130     39380    60270    87210   \n",
       "\n",
       "      ANNUAL  HOURLY  OCC_GROUP  \n",
       "0        NaN     NaN        NaN  \n",
       "1        NaN     NaN        NaN  \n",
       "2        NaN     NaN        NaN  \n",
       "3        NaN     NaN        NaN  \n",
       "4        NaN     NaN        NaN  \n",
       "...      ...     ...        ...  \n",
       "3835     NaN     NaN        NaN  \n",
       "3836     NaN     NaN        NaN  \n",
       "3837     NaN     NaN        NaN  \n",
       "3838     NaN     NaN        NaN  \n",
       "3839     NaN     NaN        NaN  \n",
       "\n",
       "[3840 rows x 30 columns]"
      ],
      "text/html": "<div>\n<style scoped>\n    .dataframe tbody tr th:only-of-type {\n        vertical-align: middle;\n    }\n\n    .dataframe tbody tr th {\n        vertical-align: top;\n    }\n\n    .dataframe thead th {\n        text-align: right;\n    }\n</style>\n<table border=\"1\" class=\"dataframe\">\n  <thead>\n    <tr style=\"text-align: right;\">\n      <th></th>\n      <th>YEAR</th>\n      <th>AREA</th>\n      <th>CBSA</th>\n      <th>MSA_Name</th>\n      <th>state_code</th>\n      <th>PRIM_STATE</th>\n      <th>AREA_NAME</th>\n      <th>OCC_CODE</th>\n      <th>OCC_TITLE</th>\n      <th>GROUP</th>\n      <th>...</th>\n      <th>H_PCT75</th>\n      <th>H_PCT90</th>\n      <th>A_PCT10</th>\n      <th>A_PCT25</th>\n      <th>A_MEDIAN</th>\n      <th>A_PCT75</th>\n      <th>A_PCT90</th>\n      <th>ANNUAL</th>\n      <th>HOURLY</th>\n      <th>OCC_GROUP</th>\n    </tr>\n  </thead>\n  <tbody>\n    <tr>\n      <th>0</th>\n      <td>2010</td>\n      <td>10180</td>\n      <td>10180</td>\n      <td>Abilene, TX</td>\n      <td>48</td>\n      <td>TX</td>\n      <td>Abilene, TX</td>\n      <td>00-0000</td>\n      <td>All Occupations</td>\n      <td>total</td>\n      <td>...</td>\n      <td>20.05</td>\n      <td>29.41</td>\n      <td>16170</td>\n      <td>18510</td>\n      <td>26800</td>\n      <td>41710</td>\n      <td>61170</td>\n      <td>NaN</td>\n      <td>NaN</td>\n      <td>NaN</td>\n    </tr>\n    <tr>\n      <th>1</th>\n      <td>2010</td>\n      <td>10420</td>\n      <td>10420</td>\n      <td>Akron, OH</td>\n      <td>39</td>\n      <td>OH</td>\n      <td>Akron, OH</td>\n      <td>00-0000</td>\n      <td>All Occupations</td>\n      <td>total</td>\n      <td>...</td>\n      <td>24.10</td>\n      <td>35.29</td>\n      <td>16930</td>\n      <td>20680</td>\n      <td>31760</td>\n      <td>50120</td>\n      <td>73410</td>\n      <td>NaN</td>\n      <td>NaN</td>\n      <td>NaN</td>\n    </tr>\n    <tr>\n      <th>2</th>\n      <td>2010</td>\n      <td>10500</td>\n      <td>10500</td>\n      <td>Albany, GA</td>\n      <td>13</td>\n      <td>GA</td>\n      <td>Albany, GA</td>\n      <td>00-0000</td>\n      <td>All Occupations</td>\n      <td>total</td>\n      <td>...</td>\n      <td>21.56</td>\n      <td>30.80</td>\n      <td>16060</td>\n      <td>18620</td>\n      <td>26970</td>\n      <td>44850</td>\n      <td>64060</td>\n      <td>NaN</td>\n      <td>NaN</td>\n      <td>NaN</td>\n    </tr>\n    <tr>\n      <th>3</th>\n      <td>2010</td>\n      <td>41420</td>\n      <td>10540</td>\n      <td>Albany-Lebanon, OR</td>\n      <td>41</td>\n      <td>OR</td>\n      <td>Salem, OR</td>\n      <td>00-0000</td>\n      <td>All Occupations</td>\n      <td>total</td>\n      <td>...</td>\n      <td>23.64</td>\n      <td>34.19</td>\n      <td>18920</td>\n      <td>22610</td>\n      <td>33200</td>\n      <td>49180</td>\n      <td>71120</td>\n      <td>NaN</td>\n      <td>NaN</td>\n      <td>NaN</td>\n    </tr>\n    <tr>\n      <th>4</th>\n      <td>2010</td>\n      <td>10580</td>\n      <td>10580</td>\n      <td>Albany-Schenectady-Troy, NY</td>\n      <td>36</td>\n      <td>NY</td>\n      <td>Albany-Schenectady-Troy, NY</td>\n      <td>00-0000</td>\n      <td>All Occupations</td>\n      <td>total</td>\n      <td>...</td>\n      <td>27.70</td>\n      <td>39.86</td>\n      <td>18630</td>\n      <td>24750</td>\n      <td>37780</td>\n      <td>57620</td>\n      <td>82900</td>\n      <td>NaN</td>\n      <td>NaN</td>\n      <td>NaN</td>\n    </tr>\n    <tr>\n      <th>...</th>\n      <td>...</td>\n      <td>...</td>\n      <td>...</td>\n      <td>...</td>\n      <td>...</td>\n      <td>...</td>\n      <td>...</td>\n      <td>...</td>\n      <td>...</td>\n      <td>...</td>\n      <td>...</td>\n      <td>...</td>\n      <td>...</td>\n      <td>...</td>\n      <td>...</td>\n      <td>...</td>\n      <td>...</td>\n      <td>...</td>\n      <td>...</td>\n      <td>...</td>\n      <td>...</td>\n    </tr>\n    <tr>\n      <th>3835</th>\n      <td>2019</td>\n      <td>76750</td>\n      <td>38860</td>\n      <td>Portland-South Portland, ME</td>\n      <td>23</td>\n      <td>76750</td>\n      <td>Portland-South Portland, ME</td>\n      <td>00-0000</td>\n      <td>All Occupations</td>\n      <td>total</td>\n      <td>...</td>\n      <td>29.91</td>\n      <td>44.94</td>\n      <td>24230</td>\n      <td>29400</td>\n      <td>41160</td>\n      <td>62220</td>\n      <td>93470</td>\n      <td>NaN</td>\n      <td>NaN</td>\n      <td>NaN</td>\n    </tr>\n    <tr>\n      <th>3836</th>\n      <td>2019</td>\n      <td>77200</td>\n      <td>39300</td>\n      <td>Providence-Warwick, RI-MA</td>\n      <td>44</td>\n      <td>77200</td>\n      <td>Providence-Warwick, RI-MA</td>\n      <td>00-0000</td>\n      <td>All Occupations</td>\n      <td>total</td>\n      <td>...</td>\n      <td>33.20</td>\n      <td>49.06</td>\n      <td>24480</td>\n      <td>28940</td>\n      <td>42700</td>\n      <td>69050</td>\n      <td>102050</td>\n      <td>NaN</td>\n      <td>NaN</td>\n      <td>NaN</td>\n    </tr>\n    <tr>\n      <th>3837</th>\n      <td>2019</td>\n      <td>78100</td>\n      <td>44140</td>\n      <td>Springfield, MA</td>\n      <td>25</td>\n      <td>78100</td>\n      <td>Springfield, MA-CT</td>\n      <td>00-0000</td>\n      <td>All Occupations</td>\n      <td>total</td>\n      <td>...</td>\n      <td>31.19</td>\n      <td>45.62</td>\n      <td>25510</td>\n      <td>29910</td>\n      <td>42230</td>\n      <td>64870</td>\n      <td>94890</td>\n      <td>NaN</td>\n      <td>NaN</td>\n      <td>NaN</td>\n    </tr>\n    <tr>\n      <th>3838</th>\n      <td>2019</td>\n      <td>79600</td>\n      <td>49340</td>\n      <td>Worcester, MA-CT</td>\n      <td>25</td>\n      <td>79600</td>\n      <td>Worcester, MA-CT</td>\n      <td>00-0000</td>\n      <td>All Occupations</td>\n      <td>total</td>\n      <td>...</td>\n      <td>32.76</td>\n      <td>48.03</td>\n      <td>25630</td>\n      <td>30450</td>\n      <td>44000</td>\n      <td>68140</td>\n      <td>99900</td>\n      <td>NaN</td>\n      <td>NaN</td>\n      <td>NaN</td>\n    </tr>\n    <tr>\n      <th>3839</th>\n      <td>2019</td>\n      <td>39100</td>\n      <td>39100</td>\n      <td>Poughkeepsie-Newburgh-Middletown, NY</td>\n      <td>36</td>\n      <td>NaN</td>\n      <td>NaN</td>\n      <td>00-0000</td>\n      <td>All Occupations</td>\n      <td>total</td>\n      <td>...</td>\n      <td>28.98</td>\n      <td>41.93</td>\n      <td>24340</td>\n      <td>28130</td>\n      <td>39380</td>\n      <td>60270</td>\n      <td>87210</td>\n      <td>NaN</td>\n      <td>NaN</td>\n      <td>NaN</td>\n    </tr>\n  </tbody>\n</table>\n<p>3840 rows × 30 columns</p>\n</div>"
     },
     "metadata": {},
     "execution_count": 157
    }
   ],
   "source": [
    "df_oes"
   ]
  },
  {
   "cell_type": "code",
   "execution_count": 158,
   "metadata": {},
   "outputs": [
    {
     "output_type": "stream",
     "name": "stdout",
     "text": [
      "<class 'pandas.core.frame.DataFrame'>\nRangeIndex: 3840 entries, 0 to 3839\nData columns (total 30 columns):\n #   Column        Non-Null Count  Dtype  \n---  ------        --------------  -----  \n 0   YEAR          3840 non-null   int64  \n 1   AREA          3840 non-null   int64  \n 2   CBSA          3840 non-null   int64  \n 3   MSA_Name      3840 non-null   object \n 4   state_code    3840 non-null   int64  \n 5   PRIM_STATE    3786 non-null   object \n 6   AREA_NAME     3765 non-null   object \n 7   OCC_CODE      3840 non-null   object \n 8   OCC_TITLE     3840 non-null   object \n 9   GROUP         1152 non-null   object \n 10  TOT_EMP       3840 non-null   int64  \n 11  EMP_PRSE      3840 non-null   float64\n 12  JOBS_1000     3840 non-null   int64  \n 13  LOC QUOTIENT  3840 non-null   int64  \n 14  H_MEAN        3840 non-null   float64\n 15  A_MEAN        3840 non-null   int64  \n 16  MEAN_PRSE     3840 non-null   float64\n 17  H_PCT10       3840 non-null   float64\n 18  H_PCT25       3840 non-null   float64\n 19  H_MEDIAN      3840 non-null   float64\n 20  H_PCT75       3840 non-null   float64\n 21  H_PCT90       3840 non-null   float64\n 22  A_PCT10       3840 non-null   int64  \n 23  A_PCT25       3840 non-null   int64  \n 24  A_MEDIAN      3840 non-null   int64  \n 25  A_PCT75       3840 non-null   int64  \n 26  A_PCT90       3840 non-null   int64  \n 27  ANNUAL        0 non-null      float64\n 28  HOURLY        0 non-null      float64\n 29  OCC_GROUP     2688 non-null   object \ndtypes: float64(10), int64(13), object(7)\nmemory usage: 900.1+ KB\n"
     ]
    }
   ],
   "source": [
    "df_oes.info()"
   ]
  },
  {
   "cell_type": "code",
   "execution_count": 159,
   "metadata": {},
   "outputs": [
    {
     "output_type": "execute_result",
     "data": {
      "text/plain": [
       "<pymongo.results.InsertManyResult at 0x21a5b767080>"
      ]
     },
     "metadata": {},
     "execution_count": 159
    }
   ],
   "source": [
    "# Create instance of MongoClient\n",
    "client = MongoClient()\n",
    "# Connection URI\n",
    "client = MongoClient('<conn string>')\n",
    "# Select database\n",
    "db = client['MSA']\n",
    "# create new collection\n",
    "collection = db.OES_raw\n",
    "# turn dataframe into readable format for mongo\n",
    "df_dict = df_oes.to_dict(orient='records')\n",
    "# write dataframe to unemployment_predicted_2024 collection\n",
    "collection.insert_many(df_dict)"
   ]
  },
  {
   "cell_type": "code",
   "execution_count": null,
   "metadata": {},
   "outputs": [],
   "source": []
  }
 ]
}