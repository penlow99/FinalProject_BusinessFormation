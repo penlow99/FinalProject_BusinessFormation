{
 "metadata": {
  "language_info": {
   "codemirror_mode": {
    "name": "ipython",
    "version": 3
   },
   "file_extension": ".py",
   "mimetype": "text/x-python",
   "name": "python",
   "nbconvert_exporter": "python",
   "pygments_lexer": "ipython3",
   "version": "3.8.5-final"
  },
  "orig_nbformat": 2,
  "kernelspec": {
   "name": "python3",
   "display_name": "Python 3.8.5 64-bit",
   "metadata": {
    "interpreter": {
     "hash": "e23f4f60931143176db9ec6317533e574a91510be5bd7dc0753f3d7ca18e38be"
    }
   }
  }
 },
 "nbformat": 4,
 "nbformat_minor": 2,
 "cells": [
  {
   "cell_type": "code",
   "execution_count": 1,
   "metadata": {},
   "outputs": [],
   "source": [
    "import requests\n",
    "import pandas as pd \n",
    "import json\n",
    "import pymongo\n",
    "from pymongo import MongoClient"
   ]
  },
  {
   "cell_type": "code",
   "execution_count": 2,
   "metadata": {},
   "outputs": [],
   "source": [
    "table_name = 'UnemploymentRate.csv'"
   ]
  },
  {
   "cell_type": "code",
   "execution_count": 2,
   "metadata": {},
   "outputs": [
    {
     "output_type": "execute_result",
     "data": {
      "text/plain": [
       "      CBSA                              MSA_Name        area_code\n",
       "0    11500                   Anniston-Oxford, AL  MT0111500000000\n",
       "1    12220                    Auburn-Opelika, AL  MT0112220000000\n",
       "2    13820                 Birmingham-Hoover, AL  MT0113820000000\n",
       "3    19300             Daphne-Fairhope-Foley, AL  MT0119300000000\n",
       "4    19460                           Decatur, AL  MT0119460000000\n",
       "..     ...                                   ...              ...\n",
       "379  39100  Poughkeepsie-Newburgh-Middletown, NY  DV3620524000000\n",
       "380  39150          Prescott Valley-Prescott, AZ  MT0439140000000\n",
       "381  39300             Providence-Warwick, RI-MA  MT4477200000000\n",
       "382  44140                       Springfield, MA  MT2578100000000\n",
       "383  49340                      Worcester, MA-CT  MT2579600000000\n",
       "\n",
       "[384 rows x 3 columns]"
      ],
      "text/html": "<div>\n<style scoped>\n    .dataframe tbody tr th:only-of-type {\n        vertical-align: middle;\n    }\n\n    .dataframe tbody tr th {\n        vertical-align: top;\n    }\n\n    .dataframe thead th {\n        text-align: right;\n    }\n</style>\n<table border=\"1\" class=\"dataframe\">\n  <thead>\n    <tr style=\"text-align: right;\">\n      <th></th>\n      <th>CBSA</th>\n      <th>MSA_Name</th>\n      <th>area_code</th>\n    </tr>\n  </thead>\n  <tbody>\n    <tr>\n      <th>0</th>\n      <td>11500</td>\n      <td>Anniston-Oxford, AL</td>\n      <td>MT0111500000000</td>\n    </tr>\n    <tr>\n      <th>1</th>\n      <td>12220</td>\n      <td>Auburn-Opelika, AL</td>\n      <td>MT0112220000000</td>\n    </tr>\n    <tr>\n      <th>2</th>\n      <td>13820</td>\n      <td>Birmingham-Hoover, AL</td>\n      <td>MT0113820000000</td>\n    </tr>\n    <tr>\n      <th>3</th>\n      <td>19300</td>\n      <td>Daphne-Fairhope-Foley, AL</td>\n      <td>MT0119300000000</td>\n    </tr>\n    <tr>\n      <th>4</th>\n      <td>19460</td>\n      <td>Decatur, AL</td>\n      <td>MT0119460000000</td>\n    </tr>\n    <tr>\n      <th>...</th>\n      <td>...</td>\n      <td>...</td>\n      <td>...</td>\n    </tr>\n    <tr>\n      <th>379</th>\n      <td>39100</td>\n      <td>Poughkeepsie-Newburgh-Middletown, NY</td>\n      <td>DV3620524000000</td>\n    </tr>\n    <tr>\n      <th>380</th>\n      <td>39150</td>\n      <td>Prescott Valley-Prescott, AZ</td>\n      <td>MT0439140000000</td>\n    </tr>\n    <tr>\n      <th>381</th>\n      <td>39300</td>\n      <td>Providence-Warwick, RI-MA</td>\n      <td>MT4477200000000</td>\n    </tr>\n    <tr>\n      <th>382</th>\n      <td>44140</td>\n      <td>Springfield, MA</td>\n      <td>MT2578100000000</td>\n    </tr>\n    <tr>\n      <th>383</th>\n      <td>49340</td>\n      <td>Worcester, MA-CT</td>\n      <td>MT2579600000000</td>\n    </tr>\n  </tbody>\n</table>\n<p>384 rows × 3 columns</p>\n</div>"
     },
     "metadata": {},
     "execution_count": 2
    }
   ],
   "source": [
    "df_local_msa = pd.read_excel('../Local_Area/local_area_msa.xlsx')\n",
    "df_local_msa"
   ]
  },
  {
   "cell_type": "code",
   "execution_count": 23,
   "metadata": {},
   "outputs": [],
   "source": [
    "df = pd.DataFrame(columns=[\"series id\",\"year\",\"period\",\"period_name\",\"value\"])\n",
    "series = []\n",
    "for index, row in df_local_msa.iterrows():\n",
    "    # construct series id by concatenating: Prefix + MSA Area Code + Measure Code\n",
    "    series.append('LAU' + row['area_code'] + '03')"
   ]
  },
  {
   "cell_type": "code",
   "execution_count": 24,
   "metadata": {},
   "outputs": [
    {
     "output_type": "execute_result",
     "data": {
      "text/plain": [
       "'LAUMT011150000000003'"
      ]
     },
     "metadata": {},
     "execution_count": 24
    }
   ],
   "source": [
    "series[0]"
   ]
  },
  {
   "cell_type": "code",
   "execution_count": 25,
   "metadata": {},
   "outputs": [],
   "source": [
    "def request_series(series_list):\n",
    "    #  print(series_list)\n",
    "    headers = {'Content-type': 'application/json'}\n",
    "    data = json.dumps({\"seriesid\": series_list,\"startyear\":\"2010\", \"endyear\":\"2019\",\"registrationkey\":\"<key here>\"})\n",
    "    p = requests.post('https://api.bls.gov/publicAPI/v2/timeseries/data/', data=data, headers=headers)\n",
    "    json_data = json.loads(p.text)\n",
    "    if json_data['status'] == 'REQUEST_SUCCEEDED':\n",
    "        add_to_df(json_data)\n",
    "    else:\n",
    "        print(json_data['status'])"
   ]
  },
  {
   "cell_type": "code",
   "execution_count": 26,
   "metadata": {},
   "outputs": [],
   "source": [
    "def add_to_df(data):\n",
    "    for series in data['Results']['series']:\n",
    "        seriesId = series['seriesID']\n",
    "        for item in series['data']:\n",
    "            year = item['year']\n",
    "            period = item['period']\n",
    "            period_name = item[\"periodName\"]\n",
    "            value = item['value']\n",
    "            if 'M01' <= period <= 'M12':\n",
    "                df.loc[len(df)] = [seriesId,year,period,period_name,value]"
   ]
  },
  {
   "cell_type": "code",
   "execution_count": 27,
   "metadata": {},
   "outputs": [
    {
     "output_type": "stream",
     "name": "stdout",
     "text": [
      "0\n",
      "1\n",
      "2\n",
      "3\n",
      "4\n",
      "5\n",
      "6\n",
      "7\n"
     ]
    }
   ],
   "source": [
    "lister = [series[i:i + 50] for i in range(0, len(series), 50)]\n",
    "\n",
    "for i in range(0, len(lister)):\n",
    "    request_series(lister[i])\n",
    "    print(i)"
   ]
  },
  {
   "cell_type": "code",
   "execution_count": 28,
   "metadata": {},
   "outputs": [
    {
     "output_type": "execute_result",
     "data": {
      "text/plain": [
       "                  series id  year period period_name value\n",
       "0      LAUMT011150000000003  2019    M12    December   3.0\n",
       "1      LAUMT011150000000003  2019    M11    November   2.9\n",
       "2      LAUMT011150000000003  2019    M10     October   3.0\n",
       "3      LAUMT011150000000003  2019    M09   September   3.0\n",
       "4      LAUMT011150000000003  2019    M08      August   3.4\n",
       "...                     ...   ...    ...         ...   ...\n",
       "46075  LAUMT257960000000003  2010    M05         May   8.8\n",
       "46076  LAUMT257960000000003  2010    M04       April   8.8\n",
       "46077  LAUMT257960000000003  2010    M03       March   9.4\n",
       "46078  LAUMT257960000000003  2010    M02    February   9.6\n",
       "46079  LAUMT257960000000003  2010    M01     January   9.9\n",
       "\n",
       "[46080 rows x 5 columns]"
      ],
      "text/html": "<div>\n<style scoped>\n    .dataframe tbody tr th:only-of-type {\n        vertical-align: middle;\n    }\n\n    .dataframe tbody tr th {\n        vertical-align: top;\n    }\n\n    .dataframe thead th {\n        text-align: right;\n    }\n</style>\n<table border=\"1\" class=\"dataframe\">\n  <thead>\n    <tr style=\"text-align: right;\">\n      <th></th>\n      <th>series id</th>\n      <th>year</th>\n      <th>period</th>\n      <th>period_name</th>\n      <th>value</th>\n    </tr>\n  </thead>\n  <tbody>\n    <tr>\n      <th>0</th>\n      <td>LAUMT011150000000003</td>\n      <td>2019</td>\n      <td>M12</td>\n      <td>December</td>\n      <td>3.0</td>\n    </tr>\n    <tr>\n      <th>1</th>\n      <td>LAUMT011150000000003</td>\n      <td>2019</td>\n      <td>M11</td>\n      <td>November</td>\n      <td>2.9</td>\n    </tr>\n    <tr>\n      <th>2</th>\n      <td>LAUMT011150000000003</td>\n      <td>2019</td>\n      <td>M10</td>\n      <td>October</td>\n      <td>3.0</td>\n    </tr>\n    <tr>\n      <th>3</th>\n      <td>LAUMT011150000000003</td>\n      <td>2019</td>\n      <td>M09</td>\n      <td>September</td>\n      <td>3.0</td>\n    </tr>\n    <tr>\n      <th>4</th>\n      <td>LAUMT011150000000003</td>\n      <td>2019</td>\n      <td>M08</td>\n      <td>August</td>\n      <td>3.4</td>\n    </tr>\n    <tr>\n      <th>...</th>\n      <td>...</td>\n      <td>...</td>\n      <td>...</td>\n      <td>...</td>\n      <td>...</td>\n    </tr>\n    <tr>\n      <th>46075</th>\n      <td>LAUMT257960000000003</td>\n      <td>2010</td>\n      <td>M05</td>\n      <td>May</td>\n      <td>8.8</td>\n    </tr>\n    <tr>\n      <th>46076</th>\n      <td>LAUMT257960000000003</td>\n      <td>2010</td>\n      <td>M04</td>\n      <td>April</td>\n      <td>8.8</td>\n    </tr>\n    <tr>\n      <th>46077</th>\n      <td>LAUMT257960000000003</td>\n      <td>2010</td>\n      <td>M03</td>\n      <td>March</td>\n      <td>9.4</td>\n    </tr>\n    <tr>\n      <th>46078</th>\n      <td>LAUMT257960000000003</td>\n      <td>2010</td>\n      <td>M02</td>\n      <td>February</td>\n      <td>9.6</td>\n    </tr>\n    <tr>\n      <th>46079</th>\n      <td>LAUMT257960000000003</td>\n      <td>2010</td>\n      <td>M01</td>\n      <td>January</td>\n      <td>9.9</td>\n    </tr>\n  </tbody>\n</table>\n<p>46080 rows × 5 columns</p>\n</div>"
     },
     "metadata": {},
     "execution_count": 28
    }
   ],
   "source": [
    "df"
   ]
  },
  {
   "cell_type": "code",
   "execution_count": 38,
   "metadata": {},
   "outputs": [
    {
     "output_type": "execute_result",
     "data": {
      "text/plain": [
       "384"
      ]
     },
     "metadata": {},
     "execution_count": 38
    }
   ],
   "source": [
    "len(df['series id'].unique())"
   ]
  },
  {
   "cell_type": "code",
   "execution_count": 29,
   "metadata": {},
   "outputs": [
    {
     "output_type": "execute_result",
     "data": {
      "text/plain": [
       "                      year  period  period_name  value\n",
       "series id                                             \n",
       "LAUDV362052400000003   120     120          120    120\n",
       "LAUMT011150000000003   120     120          120    120\n",
       "LAUMT011222000000003   120     120          120    120\n",
       "LAUMT011382000000003   120     120          120    120\n",
       "LAUMT011930000000003   120     120          120    120\n",
       "...                    ...     ...          ...    ...\n",
       "LAUMT553954000000003   120     120          120    120\n",
       "LAUMT554310000000003   120     120          120    120\n",
       "LAUMT554814000000003   120     120          120    120\n",
       "LAUMT561622000000003   120     120          120    120\n",
       "LAUMT561694000000003   120     120          120    120\n",
       "\n",
       "[384 rows x 4 columns]"
      ],
      "text/html": "<div>\n<style scoped>\n    .dataframe tbody tr th:only-of-type {\n        vertical-align: middle;\n    }\n\n    .dataframe tbody tr th {\n        vertical-align: top;\n    }\n\n    .dataframe thead th {\n        text-align: right;\n    }\n</style>\n<table border=\"1\" class=\"dataframe\">\n  <thead>\n    <tr style=\"text-align: right;\">\n      <th></th>\n      <th>year</th>\n      <th>period</th>\n      <th>period_name</th>\n      <th>value</th>\n    </tr>\n    <tr>\n      <th>series id</th>\n      <th></th>\n      <th></th>\n      <th></th>\n      <th></th>\n    </tr>\n  </thead>\n  <tbody>\n    <tr>\n      <th>LAUDV362052400000003</th>\n      <td>120</td>\n      <td>120</td>\n      <td>120</td>\n      <td>120</td>\n    </tr>\n    <tr>\n      <th>LAUMT011150000000003</th>\n      <td>120</td>\n      <td>120</td>\n      <td>120</td>\n      <td>120</td>\n    </tr>\n    <tr>\n      <th>LAUMT011222000000003</th>\n      <td>120</td>\n      <td>120</td>\n      <td>120</td>\n      <td>120</td>\n    </tr>\n    <tr>\n      <th>LAUMT011382000000003</th>\n      <td>120</td>\n      <td>120</td>\n      <td>120</td>\n      <td>120</td>\n    </tr>\n    <tr>\n      <th>LAUMT011930000000003</th>\n      <td>120</td>\n      <td>120</td>\n      <td>120</td>\n      <td>120</td>\n    </tr>\n    <tr>\n      <th>...</th>\n      <td>...</td>\n      <td>...</td>\n      <td>...</td>\n      <td>...</td>\n    </tr>\n    <tr>\n      <th>LAUMT553954000000003</th>\n      <td>120</td>\n      <td>120</td>\n      <td>120</td>\n      <td>120</td>\n    </tr>\n    <tr>\n      <th>LAUMT554310000000003</th>\n      <td>120</td>\n      <td>120</td>\n      <td>120</td>\n      <td>120</td>\n    </tr>\n    <tr>\n      <th>LAUMT554814000000003</th>\n      <td>120</td>\n      <td>120</td>\n      <td>120</td>\n      <td>120</td>\n    </tr>\n    <tr>\n      <th>LAUMT561622000000003</th>\n      <td>120</td>\n      <td>120</td>\n      <td>120</td>\n      <td>120</td>\n    </tr>\n    <tr>\n      <th>LAUMT561694000000003</th>\n      <td>120</td>\n      <td>120</td>\n      <td>120</td>\n      <td>120</td>\n    </tr>\n  </tbody>\n</table>\n<p>384 rows × 4 columns</p>\n</div>"
     },
     "metadata": {},
     "execution_count": 29
    }
   ],
   "source": [
    "df.groupby('series id').count()"
   ]
  },
  {
   "cell_type": "code",
   "execution_count": 5,
   "metadata": {},
   "outputs": [
    {
     "output_type": "execute_result",
     "data": {
      "text/plain": [
       "    CBSA        area_code\n",
       "0  11500  MT0111500000000\n",
       "1  12220  MT0112220000000\n",
       "2  13820  MT0113820000000\n",
       "3  19300  MT0119300000000\n",
       "4  19460  MT0119460000000"
      ],
      "text/html": "<div>\n<style scoped>\n    .dataframe tbody tr th:only-of-type {\n        vertical-align: middle;\n    }\n\n    .dataframe tbody tr th {\n        vertical-align: top;\n    }\n\n    .dataframe thead th {\n        text-align: right;\n    }\n</style>\n<table border=\"1\" class=\"dataframe\">\n  <thead>\n    <tr style=\"text-align: right;\">\n      <th></th>\n      <th>CBSA</th>\n      <th>area_code</th>\n    </tr>\n  </thead>\n  <tbody>\n    <tr>\n      <th>0</th>\n      <td>11500</td>\n      <td>MT0111500000000</td>\n    </tr>\n    <tr>\n      <th>1</th>\n      <td>12220</td>\n      <td>MT0112220000000</td>\n    </tr>\n    <tr>\n      <th>2</th>\n      <td>13820</td>\n      <td>MT0113820000000</td>\n    </tr>\n    <tr>\n      <th>3</th>\n      <td>19300</td>\n      <td>MT0119300000000</td>\n    </tr>\n    <tr>\n      <th>4</th>\n      <td>19460</td>\n      <td>MT0119460000000</td>\n    </tr>\n  </tbody>\n</table>\n</div>"
     },
     "metadata": {},
     "execution_count": 5
    }
   ],
   "source": [
    "df_cbsa = df_local_msa[['CBSA', 'area_code']].copy()\n",
    "df_cbsa.head()"
   ]
  },
  {
   "cell_type": "code",
   "execution_count": 6,
   "metadata": {},
   "outputs": [
    {
     "output_type": "execute_result",
     "data": {
      "text/plain": [
       "      CBSA        area_code             series id\n",
       "0    11500  MT0111500000000  LAUMT011150000000003\n",
       "1    12220  MT0112220000000  LAUMT011222000000003\n",
       "2    13820  MT0113820000000  LAUMT011382000000003\n",
       "3    19300  MT0119300000000  LAUMT011930000000003\n",
       "4    19460  MT0119460000000  LAUMT011946000000003\n",
       "..     ...              ...                   ...\n",
       "379  39100  DV3620524000000  LAUDV362052400000003\n",
       "380  39150  MT0439140000000  LAUMT043914000000003\n",
       "381  39300  MT4477200000000  LAUMT447720000000003\n",
       "382  44140  MT2578100000000  LAUMT257810000000003\n",
       "383  49340  MT2579600000000  LAUMT257960000000003\n",
       "\n",
       "[384 rows x 3 columns]"
      ],
      "text/html": "<div>\n<style scoped>\n    .dataframe tbody tr th:only-of-type {\n        vertical-align: middle;\n    }\n\n    .dataframe tbody tr th {\n        vertical-align: top;\n    }\n\n    .dataframe thead th {\n        text-align: right;\n    }\n</style>\n<table border=\"1\" class=\"dataframe\">\n  <thead>\n    <tr style=\"text-align: right;\">\n      <th></th>\n      <th>CBSA</th>\n      <th>area_code</th>\n      <th>series id</th>\n    </tr>\n  </thead>\n  <tbody>\n    <tr>\n      <th>0</th>\n      <td>11500</td>\n      <td>MT0111500000000</td>\n      <td>LAUMT011150000000003</td>\n    </tr>\n    <tr>\n      <th>1</th>\n      <td>12220</td>\n      <td>MT0112220000000</td>\n      <td>LAUMT011222000000003</td>\n    </tr>\n    <tr>\n      <th>2</th>\n      <td>13820</td>\n      <td>MT0113820000000</td>\n      <td>LAUMT011382000000003</td>\n    </tr>\n    <tr>\n      <th>3</th>\n      <td>19300</td>\n      <td>MT0119300000000</td>\n      <td>LAUMT011930000000003</td>\n    </tr>\n    <tr>\n      <th>4</th>\n      <td>19460</td>\n      <td>MT0119460000000</td>\n      <td>LAUMT011946000000003</td>\n    </tr>\n    <tr>\n      <th>...</th>\n      <td>...</td>\n      <td>...</td>\n      <td>...</td>\n    </tr>\n    <tr>\n      <th>379</th>\n      <td>39100</td>\n      <td>DV3620524000000</td>\n      <td>LAUDV362052400000003</td>\n    </tr>\n    <tr>\n      <th>380</th>\n      <td>39150</td>\n      <td>MT0439140000000</td>\n      <td>LAUMT043914000000003</td>\n    </tr>\n    <tr>\n      <th>381</th>\n      <td>39300</td>\n      <td>MT4477200000000</td>\n      <td>LAUMT447720000000003</td>\n    </tr>\n    <tr>\n      <th>382</th>\n      <td>44140</td>\n      <td>MT2578100000000</td>\n      <td>LAUMT257810000000003</td>\n    </tr>\n    <tr>\n      <th>383</th>\n      <td>49340</td>\n      <td>MT2579600000000</td>\n      <td>LAUMT257960000000003</td>\n    </tr>\n  </tbody>\n</table>\n<p>384 rows × 3 columns</p>\n</div>"
     },
     "metadata": {},
     "execution_count": 6
    }
   ],
   "source": [
    "df_cbsa['series id'] = 'LAU' + df_cbsa['area_code'] + '03'\n",
    "df_cbsa"
   ]
  },
  {
   "cell_type": "code",
   "execution_count": 7,
   "metadata": {},
   "outputs": [
    {
     "output_type": "execute_result",
     "data": {
      "text/plain": [
       "        CBSA        area_code             series id  year period period_name  \\\n",
       "0      11500  MT0111500000000  LAUMT011150000000003  2019    M12    December   \n",
       "1      11500  MT0111500000000  LAUMT011150000000003  2019    M11    November   \n",
       "2      11500  MT0111500000000  LAUMT011150000000003  2019    M10     October   \n",
       "3      11500  MT0111500000000  LAUMT011150000000003  2019    M09   September   \n",
       "4      11500  MT0111500000000  LAUMT011150000000003  2019    M08      August   \n",
       "...      ...              ...                   ...   ...    ...         ...   \n",
       "46075  49340  MT2579600000000  LAUMT257960000000003  2010    M05         May   \n",
       "46076  49340  MT2579600000000  LAUMT257960000000003  2010    M04       April   \n",
       "46077  49340  MT2579600000000  LAUMT257960000000003  2010    M03       March   \n",
       "46078  49340  MT2579600000000  LAUMT257960000000003  2010    M02    February   \n",
       "46079  49340  MT2579600000000  LAUMT257960000000003  2010    M01     January   \n",
       "\n",
       "       value  \n",
       "0        3.0  \n",
       "1        2.9  \n",
       "2        3.0  \n",
       "3        3.0  \n",
       "4        3.4  \n",
       "...      ...  \n",
       "46075    8.8  \n",
       "46076    8.8  \n",
       "46077    9.4  \n",
       "46078    9.6  \n",
       "46079    9.9  \n",
       "\n",
       "[46080 rows x 7 columns]"
      ],
      "text/html": "<div>\n<style scoped>\n    .dataframe tbody tr th:only-of-type {\n        vertical-align: middle;\n    }\n\n    .dataframe tbody tr th {\n        vertical-align: top;\n    }\n\n    .dataframe thead th {\n        text-align: right;\n    }\n</style>\n<table border=\"1\" class=\"dataframe\">\n  <thead>\n    <tr style=\"text-align: right;\">\n      <th></th>\n      <th>CBSA</th>\n      <th>area_code</th>\n      <th>series id</th>\n      <th>year</th>\n      <th>period</th>\n      <th>period_name</th>\n      <th>value</th>\n    </tr>\n  </thead>\n  <tbody>\n    <tr>\n      <th>0</th>\n      <td>11500</td>\n      <td>MT0111500000000</td>\n      <td>LAUMT011150000000003</td>\n      <td>2019</td>\n      <td>M12</td>\n      <td>December</td>\n      <td>3.0</td>\n    </tr>\n    <tr>\n      <th>1</th>\n      <td>11500</td>\n      <td>MT0111500000000</td>\n      <td>LAUMT011150000000003</td>\n      <td>2019</td>\n      <td>M11</td>\n      <td>November</td>\n      <td>2.9</td>\n    </tr>\n    <tr>\n      <th>2</th>\n      <td>11500</td>\n      <td>MT0111500000000</td>\n      <td>LAUMT011150000000003</td>\n      <td>2019</td>\n      <td>M10</td>\n      <td>October</td>\n      <td>3.0</td>\n    </tr>\n    <tr>\n      <th>3</th>\n      <td>11500</td>\n      <td>MT0111500000000</td>\n      <td>LAUMT011150000000003</td>\n      <td>2019</td>\n      <td>M09</td>\n      <td>September</td>\n      <td>3.0</td>\n    </tr>\n    <tr>\n      <th>4</th>\n      <td>11500</td>\n      <td>MT0111500000000</td>\n      <td>LAUMT011150000000003</td>\n      <td>2019</td>\n      <td>M08</td>\n      <td>August</td>\n      <td>3.4</td>\n    </tr>\n    <tr>\n      <th>...</th>\n      <td>...</td>\n      <td>...</td>\n      <td>...</td>\n      <td>...</td>\n      <td>...</td>\n      <td>...</td>\n      <td>...</td>\n    </tr>\n    <tr>\n      <th>46075</th>\n      <td>49340</td>\n      <td>MT2579600000000</td>\n      <td>LAUMT257960000000003</td>\n      <td>2010</td>\n      <td>M05</td>\n      <td>May</td>\n      <td>8.8</td>\n    </tr>\n    <tr>\n      <th>46076</th>\n      <td>49340</td>\n      <td>MT2579600000000</td>\n      <td>LAUMT257960000000003</td>\n      <td>2010</td>\n      <td>M04</td>\n      <td>April</td>\n      <td>8.8</td>\n    </tr>\n    <tr>\n      <th>46077</th>\n      <td>49340</td>\n      <td>MT2579600000000</td>\n      <td>LAUMT257960000000003</td>\n      <td>2010</td>\n      <td>M03</td>\n      <td>March</td>\n      <td>9.4</td>\n    </tr>\n    <tr>\n      <th>46078</th>\n      <td>49340</td>\n      <td>MT2579600000000</td>\n      <td>LAUMT257960000000003</td>\n      <td>2010</td>\n      <td>M02</td>\n      <td>February</td>\n      <td>9.6</td>\n    </tr>\n    <tr>\n      <th>46079</th>\n      <td>49340</td>\n      <td>MT2579600000000</td>\n      <td>LAUMT257960000000003</td>\n      <td>2010</td>\n      <td>M01</td>\n      <td>January</td>\n      <td>9.9</td>\n    </tr>\n  </tbody>\n</table>\n<p>46080 rows × 7 columns</p>\n</div>"
     },
     "metadata": {},
     "execution_count": 7
    }
   ],
   "source": [
    "df_combined = pd.merge(df_cbsa, df, on=\"series id\")\n",
    "df_combined"
   ]
  },
  {
   "cell_type": "code",
   "execution_count": 8,
   "metadata": {},
   "outputs": [
    {
     "output_type": "execute_result",
     "data": {
      "text/plain": [
       "    CBSA             series id  year period period_name  value\n",
       "0  11500  LAUMT011150000000003  2019    M12    December    3.0\n",
       "1  11500  LAUMT011150000000003  2019    M11    November    2.9\n",
       "2  11500  LAUMT011150000000003  2019    M10     October    3.0\n",
       "3  11500  LAUMT011150000000003  2019    M09   September    3.0\n",
       "4  11500  LAUMT011150000000003  2019    M08      August    3.4"
      ],
      "text/html": "<div>\n<style scoped>\n    .dataframe tbody tr th:only-of-type {\n        vertical-align: middle;\n    }\n\n    .dataframe tbody tr th {\n        vertical-align: top;\n    }\n\n    .dataframe thead th {\n        text-align: right;\n    }\n</style>\n<table border=\"1\" class=\"dataframe\">\n  <thead>\n    <tr style=\"text-align: right;\">\n      <th></th>\n      <th>CBSA</th>\n      <th>series id</th>\n      <th>year</th>\n      <th>period</th>\n      <th>period_name</th>\n      <th>value</th>\n    </tr>\n  </thead>\n  <tbody>\n    <tr>\n      <th>0</th>\n      <td>11500</td>\n      <td>LAUMT011150000000003</td>\n      <td>2019</td>\n      <td>M12</td>\n      <td>December</td>\n      <td>3.0</td>\n    </tr>\n    <tr>\n      <th>1</th>\n      <td>11500</td>\n      <td>LAUMT011150000000003</td>\n      <td>2019</td>\n      <td>M11</td>\n      <td>November</td>\n      <td>2.9</td>\n    </tr>\n    <tr>\n      <th>2</th>\n      <td>11500</td>\n      <td>LAUMT011150000000003</td>\n      <td>2019</td>\n      <td>M10</td>\n      <td>October</td>\n      <td>3.0</td>\n    </tr>\n    <tr>\n      <th>3</th>\n      <td>11500</td>\n      <td>LAUMT011150000000003</td>\n      <td>2019</td>\n      <td>M09</td>\n      <td>September</td>\n      <td>3.0</td>\n    </tr>\n    <tr>\n      <th>4</th>\n      <td>11500</td>\n      <td>LAUMT011150000000003</td>\n      <td>2019</td>\n      <td>M08</td>\n      <td>August</td>\n      <td>3.4</td>\n    </tr>\n  </tbody>\n</table>\n</div>"
     },
     "metadata": {},
     "execution_count": 8
    }
   ],
   "source": [
    "df_combined.drop(columns=['area_code'], inplace=True)\n",
    "df_combined.head()"
   ]
  },
  {
   "cell_type": "code",
   "execution_count": 9,
   "metadata": {},
   "outputs": [
    {
     "output_type": "stream",
     "name": "stdout",
     "text": [
      "<class 'pandas.core.frame.DataFrame'>\nInt64Index: 46080 entries, 0 to 46079\nData columns (total 6 columns):\n #   Column       Non-Null Count  Dtype  \n---  ------       --------------  -----  \n 0   CBSA         46080 non-null  int64  \n 1   series id    46080 non-null  object \n 2   year         46080 non-null  int64  \n 3   period       46080 non-null  object \n 4   period_name  46080 non-null  object \n 5   value        46080 non-null  float64\ndtypes: float64(1), int64(2), object(3)\nmemory usage: 3.7+ MB\n"
     ]
    }
   ],
   "source": [
    "df_combined.info()"
   ]
  },
  {
   "cell_type": "code",
   "execution_count": 43,
   "metadata": {},
   "outputs": [],
   "source": [
    "df.to_csv('../CSVs/UnemploymentRate.csv', index=False)"
   ]
  },
  {
   "cell_type": "code",
   "execution_count": 3,
   "metadata": {},
   "outputs": [
    {
     "output_type": "execute_result",
     "data": {
      "text/plain": [
       "                  series id  year period period_name  value\n",
       "0      LAUMT011150000000003  2019    M12    December    3.0\n",
       "1      LAUMT011150000000003  2019    M11    November    2.9\n",
       "2      LAUMT011150000000003  2019    M10     October    3.0\n",
       "3      LAUMT011150000000003  2019    M09   September    3.0\n",
       "4      LAUMT011150000000003  2019    M08      August    3.4\n",
       "...                     ...   ...    ...         ...    ...\n",
       "46075  LAUMT257960000000003  2010    M05         May    8.8\n",
       "46076  LAUMT257960000000003  2010    M04       April    8.8\n",
       "46077  LAUMT257960000000003  2010    M03       March    9.4\n",
       "46078  LAUMT257960000000003  2010    M02    February    9.6\n",
       "46079  LAUMT257960000000003  2010    M01     January    9.9\n",
       "\n",
       "[46080 rows x 5 columns]"
      ],
      "text/html": "<div>\n<style scoped>\n    .dataframe tbody tr th:only-of-type {\n        vertical-align: middle;\n    }\n\n    .dataframe tbody tr th {\n        vertical-align: top;\n    }\n\n    .dataframe thead th {\n        text-align: right;\n    }\n</style>\n<table border=\"1\" class=\"dataframe\">\n  <thead>\n    <tr style=\"text-align: right;\">\n      <th></th>\n      <th>series id</th>\n      <th>year</th>\n      <th>period</th>\n      <th>period_name</th>\n      <th>value</th>\n    </tr>\n  </thead>\n  <tbody>\n    <tr>\n      <th>0</th>\n      <td>LAUMT011150000000003</td>\n      <td>2019</td>\n      <td>M12</td>\n      <td>December</td>\n      <td>3.0</td>\n    </tr>\n    <tr>\n      <th>1</th>\n      <td>LAUMT011150000000003</td>\n      <td>2019</td>\n      <td>M11</td>\n      <td>November</td>\n      <td>2.9</td>\n    </tr>\n    <tr>\n      <th>2</th>\n      <td>LAUMT011150000000003</td>\n      <td>2019</td>\n      <td>M10</td>\n      <td>October</td>\n      <td>3.0</td>\n    </tr>\n    <tr>\n      <th>3</th>\n      <td>LAUMT011150000000003</td>\n      <td>2019</td>\n      <td>M09</td>\n      <td>September</td>\n      <td>3.0</td>\n    </tr>\n    <tr>\n      <th>4</th>\n      <td>LAUMT011150000000003</td>\n      <td>2019</td>\n      <td>M08</td>\n      <td>August</td>\n      <td>3.4</td>\n    </tr>\n    <tr>\n      <th>...</th>\n      <td>...</td>\n      <td>...</td>\n      <td>...</td>\n      <td>...</td>\n      <td>...</td>\n    </tr>\n    <tr>\n      <th>46075</th>\n      <td>LAUMT257960000000003</td>\n      <td>2010</td>\n      <td>M05</td>\n      <td>May</td>\n      <td>8.8</td>\n    </tr>\n    <tr>\n      <th>46076</th>\n      <td>LAUMT257960000000003</td>\n      <td>2010</td>\n      <td>M04</td>\n      <td>April</td>\n      <td>8.8</td>\n    </tr>\n    <tr>\n      <th>46077</th>\n      <td>LAUMT257960000000003</td>\n      <td>2010</td>\n      <td>M03</td>\n      <td>March</td>\n      <td>9.4</td>\n    </tr>\n    <tr>\n      <th>46078</th>\n      <td>LAUMT257960000000003</td>\n      <td>2010</td>\n      <td>M02</td>\n      <td>February</td>\n      <td>9.6</td>\n    </tr>\n    <tr>\n      <th>46079</th>\n      <td>LAUMT257960000000003</td>\n      <td>2010</td>\n      <td>M01</td>\n      <td>January</td>\n      <td>9.9</td>\n    </tr>\n  </tbody>\n</table>\n<p>46080 rows × 5 columns</p>\n</div>"
     },
     "metadata": {},
     "execution_count": 3
    }
   ],
   "source": [
    "df = pd.read_csv('../CSVs/UnemploymentRate.csv')\n",
    "df"
   ]
  },
  {
   "cell_type": "code",
   "execution_count": null,
   "metadata": {},
   "outputs": [],
   "source": []
  },
  {
   "cell_type": "code",
   "execution_count": 10,
   "metadata": {},
   "outputs": [
    {
     "output_type": "execute_result",
     "data": {
      "text/plain": [
       "<pymongo.results.InsertManyResult at 0x251e35275c0>"
      ]
     },
     "metadata": {},
     "execution_count": 10
    }
   ],
   "source": [
    "# Create instance of MongoClient\n",
    "client = MongoClient()\n",
    "# Connection URI\n",
    "client = MongoClient('<conn string here>')\n",
    "# Select database\n",
    "db = client['MSA']\n",
    "# create new collection\n",
    "collection = db.UnemploymentRate_raw\n",
    "# turn dataframe into readable format for mongo\n",
    "df_dict = df_combined.to_dict(orient='records')\n",
    "# write dataframe to unemployment_predicted_2024 collection\n",
    "collection.insert_many(df_dict)"
   ]
  },
  {
   "cell_type": "code",
   "execution_count": null,
   "metadata": {},
   "outputs": [],
   "source": []
  }
 ]
}