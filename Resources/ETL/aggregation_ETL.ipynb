{
 "metadata": {
  "language_info": {
   "codemirror_mode": {
    "name": "ipython",
    "version": 3
   },
   "file_extension": ".py",
   "mimetype": "text/x-python",
   "name": "python",
   "nbconvert_exporter": "python",
   "pygments_lexer": "ipython3",
   "version": "3.8.5-final"
  },
  "orig_nbformat": 2,
  "kernelspec": {
   "name": "python3",
   "display_name": "Python 3.8.5 64-bit ('PythonData': conda)",
   "metadata": {
    "interpreter": {
     "hash": "e23f4f60931143176db9ec6317533e574a91510be5bd7dc0753f3d7ca18e38be"
    }
   }
  }
 },
 "nbformat": 4,
 "nbformat_minor": 2,
 "cells": [
  {
   "cell_type": "code",
   "execution_count": 1,
   "metadata": {},
   "outputs": [],
   "source": [
    "import pandas as pd \n",
    "import pymongo\n",
    "import dns\n",
    "from pymongo import MongoClient\n",
    "import os"
   ]
  },
  {
   "cell_type": "code",
   "execution_count": 14,
   "metadata": {},
   "outputs": [
    {
     "output_type": "execute_result",
     "data": {
      "text/plain": [
       "                        _id   CBSA                  MSA  year      month  \\\n",
       "0  603818923390f928b3bdb22b  11500  Anniston-Oxford, AL  2019   December   \n",
       "1  603818923390f928b3bdb22c  11500  Anniston-Oxford, AL  2019   November   \n",
       "2  603818923390f928b3bdb22d  11500  Anniston-Oxford, AL  2019    October   \n",
       "3  603818923390f928b3bdb22e  11500  Anniston-Oxford, AL  2019  September   \n",
       "4  603818923390f928b3bdb22f  11500  Anniston-Oxford, AL  2019     August   \n",
       "\n",
       "   value  \n",
       "0  44930  \n",
       "1  45076  \n",
       "2  45127  \n",
       "3  44455  \n",
       "4  44535  "
      ],
      "text/html": "<div>\n<style scoped>\n    .dataframe tbody tr th:only-of-type {\n        vertical-align: middle;\n    }\n\n    .dataframe tbody tr th {\n        vertical-align: top;\n    }\n\n    .dataframe thead th {\n        text-align: right;\n    }\n</style>\n<table border=\"1\" class=\"dataframe\">\n  <thead>\n    <tr style=\"text-align: right;\">\n      <th></th>\n      <th>_id</th>\n      <th>CBSA</th>\n      <th>MSA</th>\n      <th>year</th>\n      <th>month</th>\n      <th>value</th>\n    </tr>\n  </thead>\n  <tbody>\n    <tr>\n      <th>0</th>\n      <td>603818923390f928b3bdb22b</td>\n      <td>11500</td>\n      <td>Anniston-Oxford, AL</td>\n      <td>2019</td>\n      <td>December</td>\n      <td>44930</td>\n    </tr>\n    <tr>\n      <th>1</th>\n      <td>603818923390f928b3bdb22c</td>\n      <td>11500</td>\n      <td>Anniston-Oxford, AL</td>\n      <td>2019</td>\n      <td>November</td>\n      <td>45076</td>\n    </tr>\n    <tr>\n      <th>2</th>\n      <td>603818923390f928b3bdb22d</td>\n      <td>11500</td>\n      <td>Anniston-Oxford, AL</td>\n      <td>2019</td>\n      <td>October</td>\n      <td>45127</td>\n    </tr>\n    <tr>\n      <th>3</th>\n      <td>603818923390f928b3bdb22e</td>\n      <td>11500</td>\n      <td>Anniston-Oxford, AL</td>\n      <td>2019</td>\n      <td>September</td>\n      <td>44455</td>\n    </tr>\n    <tr>\n      <th>4</th>\n      <td>603818923390f928b3bdb22f</td>\n      <td>11500</td>\n      <td>Anniston-Oxford, AL</td>\n      <td>2019</td>\n      <td>August</td>\n      <td>44535</td>\n    </tr>\n  </tbody>\n</table>\n</div>"
     },
     "metadata": {},
     "execution_count": 14
    }
   ],
   "source": [
    "# Start with employment data\n",
    "\n",
    "# Create instance of MongoClient\n",
    "client = MongoClient()\n",
    "# Connection URI\n",
    "connStr = os.getenv('MONGO_CONN')\n",
    "client = MongoClient(connStr)\n",
    "# Select database\n",
    "db = client['MSA']\n",
    "# Select the collection within the database\n",
    "data = db.Employment_clean\n",
    "# Convert entire collection to Pandas dataframe\n",
    "df_emp_total = pd.DataFrame(list(data.find()))\n",
    "df_emp_total.head()"
   ]
  },
  {
   "cell_type": "code",
   "execution_count": 15,
   "metadata": {},
   "outputs": [
    {
     "output_type": "stream",
     "name": "stdout",
     "text": [
      "<class 'pandas.core.frame.DataFrame'>\nRangeIndex: 46080 entries, 0 to 46079\nData columns (total 6 columns):\n #   Column  Non-Null Count  Dtype \n---  ------  --------------  ----- \n 0   _id     46080 non-null  object\n 1   CBSA    46080 non-null  int64 \n 2   MSA     46080 non-null  object\n 3   year    46080 non-null  int64 \n 4   month   46080 non-null  object\n 5   value   46080 non-null  int64 \ndtypes: int64(3), object(3)\nmemory usage: 2.1+ MB\n"
     ]
    }
   ],
   "source": [
    "df_emp_total.info()"
   ]
  },
  {
   "cell_type": "code",
   "execution_count": 16,
   "metadata": {},
   "outputs": [
    {
     "output_type": "execute_result",
     "data": {
      "text/plain": [
       "                            _id   CBSA                  MSA  year     month  \\\n",
       "0      603818923390f928b3bdb22b  11500  Anniston-Oxford, AL  2019  December   \n",
       "12     603818923390f928b3bdb237  11500  Anniston-Oxford, AL  2018  December   \n",
       "24     603818923390f928b3bdb243  11500  Anniston-Oxford, AL  2017  December   \n",
       "36     603818923390f928b3bdb24f  11500  Anniston-Oxford, AL  2016  December   \n",
       "48     603818923390f928b3bdb25b  11500  Anniston-Oxford, AL  2015  December   \n",
       "...                         ...    ...                  ...   ...       ...   \n",
       "46020  603818923390f928b3be65ef  49340     Worcester, MA-CT  2014  December   \n",
       "46032  603818923390f928b3be65fb  49340     Worcester, MA-CT  2013  December   \n",
       "46044  603818923390f928b3be6607  49340     Worcester, MA-CT  2012  December   \n",
       "46056  603818923390f928b3be6613  49340     Worcester, MA-CT  2011  December   \n",
       "46068  603818923390f928b3be661f  49340     Worcester, MA-CT  2010  December   \n",
       "\n",
       "        value  \n",
       "0       44930  \n",
       "12      44317  \n",
       "24      43746  \n",
       "36      43310  \n",
       "48      42421  \n",
       "...       ...  \n",
       "46020  329934  \n",
       "46032  318688  \n",
       "46044  315202  \n",
       "46056  316265  \n",
       "46068  313224  \n",
       "\n",
       "[3840 rows x 6 columns]"
      ],
      "text/html": "<div>\n<style scoped>\n    .dataframe tbody tr th:only-of-type {\n        vertical-align: middle;\n    }\n\n    .dataframe tbody tr th {\n        vertical-align: top;\n    }\n\n    .dataframe thead th {\n        text-align: right;\n    }\n</style>\n<table border=\"1\" class=\"dataframe\">\n  <thead>\n    <tr style=\"text-align: right;\">\n      <th></th>\n      <th>_id</th>\n      <th>CBSA</th>\n      <th>MSA</th>\n      <th>year</th>\n      <th>month</th>\n      <th>value</th>\n    </tr>\n  </thead>\n  <tbody>\n    <tr>\n      <th>0</th>\n      <td>603818923390f928b3bdb22b</td>\n      <td>11500</td>\n      <td>Anniston-Oxford, AL</td>\n      <td>2019</td>\n      <td>December</td>\n      <td>44930</td>\n    </tr>\n    <tr>\n      <th>12</th>\n      <td>603818923390f928b3bdb237</td>\n      <td>11500</td>\n      <td>Anniston-Oxford, AL</td>\n      <td>2018</td>\n      <td>December</td>\n      <td>44317</td>\n    </tr>\n    <tr>\n      <th>24</th>\n      <td>603818923390f928b3bdb243</td>\n      <td>11500</td>\n      <td>Anniston-Oxford, AL</td>\n      <td>2017</td>\n      <td>December</td>\n      <td>43746</td>\n    </tr>\n    <tr>\n      <th>36</th>\n      <td>603818923390f928b3bdb24f</td>\n      <td>11500</td>\n      <td>Anniston-Oxford, AL</td>\n      <td>2016</td>\n      <td>December</td>\n      <td>43310</td>\n    </tr>\n    <tr>\n      <th>48</th>\n      <td>603818923390f928b3bdb25b</td>\n      <td>11500</td>\n      <td>Anniston-Oxford, AL</td>\n      <td>2015</td>\n      <td>December</td>\n      <td>42421</td>\n    </tr>\n    <tr>\n      <th>...</th>\n      <td>...</td>\n      <td>...</td>\n      <td>...</td>\n      <td>...</td>\n      <td>...</td>\n      <td>...</td>\n    </tr>\n    <tr>\n      <th>46020</th>\n      <td>603818923390f928b3be65ef</td>\n      <td>49340</td>\n      <td>Worcester, MA-CT</td>\n      <td>2014</td>\n      <td>December</td>\n      <td>329934</td>\n    </tr>\n    <tr>\n      <th>46032</th>\n      <td>603818923390f928b3be65fb</td>\n      <td>49340</td>\n      <td>Worcester, MA-CT</td>\n      <td>2013</td>\n      <td>December</td>\n      <td>318688</td>\n    </tr>\n    <tr>\n      <th>46044</th>\n      <td>603818923390f928b3be6607</td>\n      <td>49340</td>\n      <td>Worcester, MA-CT</td>\n      <td>2012</td>\n      <td>December</td>\n      <td>315202</td>\n    </tr>\n    <tr>\n      <th>46056</th>\n      <td>603818923390f928b3be6613</td>\n      <td>49340</td>\n      <td>Worcester, MA-CT</td>\n      <td>2011</td>\n      <td>December</td>\n      <td>316265</td>\n    </tr>\n    <tr>\n      <th>46068</th>\n      <td>603818923390f928b3be661f</td>\n      <td>49340</td>\n      <td>Worcester, MA-CT</td>\n      <td>2010</td>\n      <td>December</td>\n      <td>313224</td>\n    </tr>\n  </tbody>\n</table>\n<p>3840 rows × 6 columns</p>\n</div>"
     },
     "metadata": {},
     "execution_count": 16
    }
   ],
   "source": [
    "df_emp_total = df_emp_total[df_emp_total['month'] == 'December']\n",
    "df_emp_total"
   ]
  },
  {
   "cell_type": "code",
   "execution_count": 18,
   "metadata": {},
   "outputs": [
    {
     "output_type": "execute_result",
     "data": {
      "text/plain": [
       "     CBSA  year  value\n",
       "0   11500  2019  44930\n",
       "12  11500  2018  44317\n",
       "24  11500  2017  43746\n",
       "36  11500  2016  43310\n",
       "48  11500  2015  42421"
      ],
      "text/html": "<div>\n<style scoped>\n    .dataframe tbody tr th:only-of-type {\n        vertical-align: middle;\n    }\n\n    .dataframe tbody tr th {\n        vertical-align: top;\n    }\n\n    .dataframe thead th {\n        text-align: right;\n    }\n</style>\n<table border=\"1\" class=\"dataframe\">\n  <thead>\n    <tr style=\"text-align: right;\">\n      <th></th>\n      <th>CBSA</th>\n      <th>year</th>\n      <th>value</th>\n    </tr>\n  </thead>\n  <tbody>\n    <tr>\n      <th>0</th>\n      <td>11500</td>\n      <td>2019</td>\n      <td>44930</td>\n    </tr>\n    <tr>\n      <th>12</th>\n      <td>11500</td>\n      <td>2018</td>\n      <td>44317</td>\n    </tr>\n    <tr>\n      <th>24</th>\n      <td>11500</td>\n      <td>2017</td>\n      <td>43746</td>\n    </tr>\n    <tr>\n      <th>36</th>\n      <td>11500</td>\n      <td>2016</td>\n      <td>43310</td>\n    </tr>\n    <tr>\n      <th>48</th>\n      <td>11500</td>\n      <td>2015</td>\n      <td>42421</td>\n    </tr>\n  </tbody>\n</table>\n</div>"
     },
     "metadata": {},
     "execution_count": 18
    }
   ],
   "source": [
    "df_emp_total.drop(columns=['month', 'MSA', '_id'], inplace=True)\n",
    "df_emp_total.head()"
   ]
  },
  {
   "cell_type": "code",
   "execution_count": 21,
   "metadata": {},
   "outputs": [
    {
     "output_type": "execute_result",
     "data": {
      "text/plain": [
       "        CBSA  year  value\n",
       "36348  10180  2010  71455\n",
       "36252  10180  2018  74942\n",
       "36264  10180  2017  73630\n",
       "36276  10180  2016  71786\n",
       "36240  10180  2019  77346\n",
       "...      ...   ...    ...\n",
       "2364   49740  2012  72913\n",
       "2376   49740  2011  72344\n",
       "2280   49740  2019  87383\n",
       "2352   49740  2013  72013\n",
       "2292   49740  2018  86532\n",
       "\n",
       "[3840 rows x 3 columns]"
      ],
      "text/html": "<div>\n<style scoped>\n    .dataframe tbody tr th:only-of-type {\n        vertical-align: middle;\n    }\n\n    .dataframe tbody tr th {\n        vertical-align: top;\n    }\n\n    .dataframe thead th {\n        text-align: right;\n    }\n</style>\n<table border=\"1\" class=\"dataframe\">\n  <thead>\n    <tr style=\"text-align: right;\">\n      <th></th>\n      <th>CBSA</th>\n      <th>year</th>\n      <th>value</th>\n    </tr>\n  </thead>\n  <tbody>\n    <tr>\n      <th>36348</th>\n      <td>10180</td>\n      <td>2010</td>\n      <td>71455</td>\n    </tr>\n    <tr>\n      <th>36252</th>\n      <td>10180</td>\n      <td>2018</td>\n      <td>74942</td>\n    </tr>\n    <tr>\n      <th>36264</th>\n      <td>10180</td>\n      <td>2017</td>\n      <td>73630</td>\n    </tr>\n    <tr>\n      <th>36276</th>\n      <td>10180</td>\n      <td>2016</td>\n      <td>71786</td>\n    </tr>\n    <tr>\n      <th>36240</th>\n      <td>10180</td>\n      <td>2019</td>\n      <td>77346</td>\n    </tr>\n    <tr>\n      <th>...</th>\n      <td>...</td>\n      <td>...</td>\n      <td>...</td>\n    </tr>\n    <tr>\n      <th>2364</th>\n      <td>49740</td>\n      <td>2012</td>\n      <td>72913</td>\n    </tr>\n    <tr>\n      <th>2376</th>\n      <td>49740</td>\n      <td>2011</td>\n      <td>72344</td>\n    </tr>\n    <tr>\n      <th>2280</th>\n      <td>49740</td>\n      <td>2019</td>\n      <td>87383</td>\n    </tr>\n    <tr>\n      <th>2352</th>\n      <td>49740</td>\n      <td>2013</td>\n      <td>72013</td>\n    </tr>\n    <tr>\n      <th>2292</th>\n      <td>49740</td>\n      <td>2018</td>\n      <td>86532</td>\n    </tr>\n  </tbody>\n</table>\n<p>3840 rows × 3 columns</p>\n</div>"
     },
     "metadata": {},
     "execution_count": 21
    }
   ],
   "source": [
    "df_emp_total.sort_values(by='CBSA', inplace=True)\n",
    "df_emp_total"
   ]
  },
  {
   "cell_type": "code",
   "execution_count": 28,
   "metadata": {},
   "outputs": [
    {
     "output_type": "execute_result",
     "data": {
      "text/plain": [
       "year   CBSA    2010    2011    2012    2013    2014    2015    2016    2017  \\\n",
       "0     10180   71455   72162   72210   72877   72614   71810   71786   73630   \n",
       "1     10420  333843  333177  333872  333060  341435  340759  340621  342135   \n",
       "2     10500   62624   63468   62213   61378   61231   62158   64476   64247   \n",
       "3     10540   49886   49832   48453   48629   50348   52528   54219   55353   \n",
       "4     10580  417173  415614  422290  422015  419228  426623  423587  422072   \n",
       "..      ...     ...     ...     ...     ...     ...     ...     ...     ...   \n",
       "379   49420  100992  100872  100803   99456  103473  104395  108536  111456   \n",
       "380   49620  212564  214874  216426  216079  219070  222944  223961  224295   \n",
       "381   49660  238069  239089  237392  235580  237477  234932  230271  227637   \n",
       "382   49700   60165   61217   61259   61659   62462   64438   64836   67064   \n",
       "383   49740   71292   72344   72913   72013   75191   75684   79071   82863   \n",
       "\n",
       "year    2018    2019  \n",
       "0      74942   77346  \n",
       "1     344267  343479  \n",
       "2      63869   64581  \n",
       "3      56139   56468  \n",
       "4     428744  433120  \n",
       "..       ...     ...  \n",
       "379   114141  118684  \n",
       "380   226766  228723  \n",
       "381   227149  223658  \n",
       "382    67306   72021  \n",
       "383    86532   87383  \n",
       "\n",
       "[384 rows x 11 columns]"
      ],
      "text/html": "<div>\n<style scoped>\n    .dataframe tbody tr th:only-of-type {\n        vertical-align: middle;\n    }\n\n    .dataframe tbody tr th {\n        vertical-align: top;\n    }\n\n    .dataframe thead th {\n        text-align: right;\n    }\n</style>\n<table border=\"1\" class=\"dataframe\">\n  <thead>\n    <tr style=\"text-align: right;\">\n      <th>year</th>\n      <th>CBSA</th>\n      <th>2010</th>\n      <th>2011</th>\n      <th>2012</th>\n      <th>2013</th>\n      <th>2014</th>\n      <th>2015</th>\n      <th>2016</th>\n      <th>2017</th>\n      <th>2018</th>\n      <th>2019</th>\n    </tr>\n  </thead>\n  <tbody>\n    <tr>\n      <th>0</th>\n      <td>10180</td>\n      <td>71455</td>\n      <td>72162</td>\n      <td>72210</td>\n      <td>72877</td>\n      <td>72614</td>\n      <td>71810</td>\n      <td>71786</td>\n      <td>73630</td>\n      <td>74942</td>\n      <td>77346</td>\n    </tr>\n    <tr>\n      <th>1</th>\n      <td>10420</td>\n      <td>333843</td>\n      <td>333177</td>\n      <td>333872</td>\n      <td>333060</td>\n      <td>341435</td>\n      <td>340759</td>\n      <td>340621</td>\n      <td>342135</td>\n      <td>344267</td>\n      <td>343479</td>\n    </tr>\n    <tr>\n      <th>2</th>\n      <td>10500</td>\n      <td>62624</td>\n      <td>63468</td>\n      <td>62213</td>\n      <td>61378</td>\n      <td>61231</td>\n      <td>62158</td>\n      <td>64476</td>\n      <td>64247</td>\n      <td>63869</td>\n      <td>64581</td>\n    </tr>\n    <tr>\n      <th>3</th>\n      <td>10540</td>\n      <td>49886</td>\n      <td>49832</td>\n      <td>48453</td>\n      <td>48629</td>\n      <td>50348</td>\n      <td>52528</td>\n      <td>54219</td>\n      <td>55353</td>\n      <td>56139</td>\n      <td>56468</td>\n    </tr>\n    <tr>\n      <th>4</th>\n      <td>10580</td>\n      <td>417173</td>\n      <td>415614</td>\n      <td>422290</td>\n      <td>422015</td>\n      <td>419228</td>\n      <td>426623</td>\n      <td>423587</td>\n      <td>422072</td>\n      <td>428744</td>\n      <td>433120</td>\n    </tr>\n    <tr>\n      <th>...</th>\n      <td>...</td>\n      <td>...</td>\n      <td>...</td>\n      <td>...</td>\n      <td>...</td>\n      <td>...</td>\n      <td>...</td>\n      <td>...</td>\n      <td>...</td>\n      <td>...</td>\n      <td>...</td>\n    </tr>\n    <tr>\n      <th>379</th>\n      <td>49420</td>\n      <td>100992</td>\n      <td>100872</td>\n      <td>100803</td>\n      <td>99456</td>\n      <td>103473</td>\n      <td>104395</td>\n      <td>108536</td>\n      <td>111456</td>\n      <td>114141</td>\n      <td>118684</td>\n    </tr>\n    <tr>\n      <th>380</th>\n      <td>49620</td>\n      <td>212564</td>\n      <td>214874</td>\n      <td>216426</td>\n      <td>216079</td>\n      <td>219070</td>\n      <td>222944</td>\n      <td>223961</td>\n      <td>224295</td>\n      <td>226766</td>\n      <td>228723</td>\n    </tr>\n    <tr>\n      <th>381</th>\n      <td>49660</td>\n      <td>238069</td>\n      <td>239089</td>\n      <td>237392</td>\n      <td>235580</td>\n      <td>237477</td>\n      <td>234932</td>\n      <td>230271</td>\n      <td>227637</td>\n      <td>227149</td>\n      <td>223658</td>\n    </tr>\n    <tr>\n      <th>382</th>\n      <td>49700</td>\n      <td>60165</td>\n      <td>61217</td>\n      <td>61259</td>\n      <td>61659</td>\n      <td>62462</td>\n      <td>64438</td>\n      <td>64836</td>\n      <td>67064</td>\n      <td>67306</td>\n      <td>72021</td>\n    </tr>\n    <tr>\n      <th>383</th>\n      <td>49740</td>\n      <td>71292</td>\n      <td>72344</td>\n      <td>72913</td>\n      <td>72013</td>\n      <td>75191</td>\n      <td>75684</td>\n      <td>79071</td>\n      <td>82863</td>\n      <td>86532</td>\n      <td>87383</td>\n    </tr>\n  </tbody>\n</table>\n<p>384 rows × 11 columns</p>\n</div>"
     },
     "metadata": {},
     "execution_count": 28
    }
   ],
   "source": [
    "df_emp_pivot = pd.pivot_table(df_emp_total, values = 'value', index=['CBSA'], columns = 'year').reset_index()\n",
    "df_emp_pivot"
   ]
  },
  {
   "cell_type": "code",
   "execution_count": 36,
   "metadata": {},
   "outputs": [
    {
     "output_type": "execute_result",
     "data": {
      "text/plain": [
       "    CBSA    2010    2011    2012    2013    2014    2015    2016    2017  \\\n",
       "0  10180   71455   72162   72210   72877   72614   71810   71786   73630   \n",
       "1  10420  333843  333177  333872  333060  341435  340759  340621  342135   \n",
       "2  10500   62624   63468   62213   61378   61231   62158   64476   64247   \n",
       "3  10540   49886   49832   48453   48629   50348   52528   54219   55353   \n",
       "4  10580  417173  415614  422290  422015  419228  426623  423587  422072   \n",
       "\n",
       "     2018    2019  \n",
       "0   74942   77346  \n",
       "1  344267  343479  \n",
       "2   63869   64581  \n",
       "3   56139   56468  \n",
       "4  428744  433120  "
      ],
      "text/html": "<div>\n<style scoped>\n    .dataframe tbody tr th:only-of-type {\n        vertical-align: middle;\n    }\n\n    .dataframe tbody tr th {\n        vertical-align: top;\n    }\n\n    .dataframe thead th {\n        text-align: right;\n    }\n</style>\n<table border=\"1\" class=\"dataframe\">\n  <thead>\n    <tr style=\"text-align: right;\">\n      <th></th>\n      <th>CBSA</th>\n      <th>2010</th>\n      <th>2011</th>\n      <th>2012</th>\n      <th>2013</th>\n      <th>2014</th>\n      <th>2015</th>\n      <th>2016</th>\n      <th>2017</th>\n      <th>2018</th>\n      <th>2019</th>\n    </tr>\n  </thead>\n  <tbody>\n    <tr>\n      <th>0</th>\n      <td>10180</td>\n      <td>71455</td>\n      <td>72162</td>\n      <td>72210</td>\n      <td>72877</td>\n      <td>72614</td>\n      <td>71810</td>\n      <td>71786</td>\n      <td>73630</td>\n      <td>74942</td>\n      <td>77346</td>\n    </tr>\n    <tr>\n      <th>1</th>\n      <td>10420</td>\n      <td>333843</td>\n      <td>333177</td>\n      <td>333872</td>\n      <td>333060</td>\n      <td>341435</td>\n      <td>340759</td>\n      <td>340621</td>\n      <td>342135</td>\n      <td>344267</td>\n      <td>343479</td>\n    </tr>\n    <tr>\n      <th>2</th>\n      <td>10500</td>\n      <td>62624</td>\n      <td>63468</td>\n      <td>62213</td>\n      <td>61378</td>\n      <td>61231</td>\n      <td>62158</td>\n      <td>64476</td>\n      <td>64247</td>\n      <td>63869</td>\n      <td>64581</td>\n    </tr>\n    <tr>\n      <th>3</th>\n      <td>10540</td>\n      <td>49886</td>\n      <td>49832</td>\n      <td>48453</td>\n      <td>48629</td>\n      <td>50348</td>\n      <td>52528</td>\n      <td>54219</td>\n      <td>55353</td>\n      <td>56139</td>\n      <td>56468</td>\n    </tr>\n    <tr>\n      <th>4</th>\n      <td>10580</td>\n      <td>417173</td>\n      <td>415614</td>\n      <td>422290</td>\n      <td>422015</td>\n      <td>419228</td>\n      <td>426623</td>\n      <td>423587</td>\n      <td>422072</td>\n      <td>428744</td>\n      <td>433120</td>\n    </tr>\n  </tbody>\n</table>\n</div>"
     },
     "metadata": {},
     "execution_count": 36
    }
   ],
   "source": [
    "df_emp_pivot = df_emp_pivot.rename_axis(None, axis=1)\n",
    "df_emp_pivot.head()"
   ]
  },
  {
   "cell_type": "code",
   "execution_count": 44,
   "metadata": {},
   "outputs": [
    {
     "output_type": "execute_result",
     "data": {
      "text/plain": [
       "Index(['CBSA', '2010', '2011', '2012', '2013', '2014', '2015', '2016', '2017',\n",
       "       '2018', '2019'],\n",
       "      dtype='object')"
      ]
     },
     "metadata": {},
     "execution_count": 44
    }
   ],
   "source": [
    "col_list = df_emp_pivot.columns\n",
    "new_col_list = []\n",
    "for col in col_list:\n",
    "    new_col_list.append(str(col))\n",
    "df_emp_pivot.columns = new_col_list\n",
    "df_emp_pivot.columns"
   ]
  },
  {
   "cell_type": "code",
   "execution_count": 45,
   "metadata": {},
   "outputs": [
    {
     "output_type": "execute_result",
     "data": {
      "text/plain": [
       "<pymongo.results.InsertManyResult at 0x29a0eca8e40>"
      ]
     },
     "metadata": {},
     "execution_count": 45
    }
   ],
   "source": [
    "# export employment clean dataframe back to mongo\n",
    "employment_clean_collection = db.Employment_clean\n",
    "df_dict = df_emp_pivot.to_dict(orient = 'records')\n",
    "employment_clean_collection.insert_many(df_dict)"
   ]
  },
  {
   "cell_type": "code",
   "execution_count": 58,
   "metadata": {},
   "outputs": [],
   "source": [
    "### Now lets put this together in a function\n",
    "def clean_raw_data(df_raw):\n",
    "    df_raw = df_raw[df_raw['month'] == 'December']\n",
    "    # df_raw.drop(columns=['month', 'MSA', '_id'], inplace=True)\n",
    "    df_raw.drop(columns=['month', '_id'], inplace=True)\n",
    "    df_raw.sort_values(by='CBSA', inplace=True)\n",
    "    df_pivot = pd.pivot_table(df_raw, values = 'value', index=['CBSA'], columns = 'year').reset_index()\n",
    "    df_pivot = df_pivot.rename_axis(None, axis=1)\n",
    "    col_list = df_pivot.columns\n",
    "    new_col_list = []\n",
    "    for col in col_list:\n",
    "        new_col_list.append(str(col))\n",
    "    df_pivot.columns = new_col_list\n",
    "    return df_pivot"
   ]
  },
  {
   "cell_type": "code",
   "execution_count": 52,
   "metadata": {},
   "outputs": [
    {
     "output_type": "execute_result",
     "data": {
      "text/plain": [
       "                            _id   CBSA                  MSA  year      month  \\\n",
       "0      6037cfefd5c52ef30a33a881  11500  Anniston-Oxford, AL  2019   December   \n",
       "1      6037cfefd5c52ef30a33a882  11500  Anniston-Oxford, AL  2019   November   \n",
       "2      6037cfefd5c52ef30a33a883  11500  Anniston-Oxford, AL  2019    October   \n",
       "3      6037cfefd5c52ef30a33a884  11500  Anniston-Oxford, AL  2019  September   \n",
       "4      6037cfefd5c52ef30a33a885  11500  Anniston-Oxford, AL  2019     August   \n",
       "...                         ...    ...                  ...   ...        ...   \n",
       "46075  6037cfefd5c52ef30a345c7c  49340     Worcester, MA-CT  2010        May   \n",
       "46076  6037cfefd5c52ef30a345c7d  49340     Worcester, MA-CT  2010      April   \n",
       "46077  6037cfefd5c52ef30a345c7e  49340     Worcester, MA-CT  2010      March   \n",
       "46078  6037cfefd5c52ef30a345c7f  49340     Worcester, MA-CT  2010   February   \n",
       "46079  6037cfefd5c52ef30a345c80  49340     Worcester, MA-CT  2010    January   \n",
       "\n",
       "        value  \n",
       "0       46320  \n",
       "1       46408  \n",
       "2       46508  \n",
       "3       45820  \n",
       "4       46104  \n",
       "...       ...  \n",
       "46075  339705  \n",
       "46076  339684  \n",
       "46077  339383  \n",
       "46078  339162  \n",
       "46079  339965  \n",
       "\n",
       "[46080 rows x 6 columns]"
      ],
      "text/html": "<div>\n<style scoped>\n    .dataframe tbody tr th:only-of-type {\n        vertical-align: middle;\n    }\n\n    .dataframe tbody tr th {\n        vertical-align: top;\n    }\n\n    .dataframe thead th {\n        text-align: right;\n    }\n</style>\n<table border=\"1\" class=\"dataframe\">\n  <thead>\n    <tr style=\"text-align: right;\">\n      <th></th>\n      <th>_id</th>\n      <th>CBSA</th>\n      <th>MSA</th>\n      <th>year</th>\n      <th>month</th>\n      <th>value</th>\n    </tr>\n  </thead>\n  <tbody>\n    <tr>\n      <th>0</th>\n      <td>6037cfefd5c52ef30a33a881</td>\n      <td>11500</td>\n      <td>Anniston-Oxford, AL</td>\n      <td>2019</td>\n      <td>December</td>\n      <td>46320</td>\n    </tr>\n    <tr>\n      <th>1</th>\n      <td>6037cfefd5c52ef30a33a882</td>\n      <td>11500</td>\n      <td>Anniston-Oxford, AL</td>\n      <td>2019</td>\n      <td>November</td>\n      <td>46408</td>\n    </tr>\n    <tr>\n      <th>2</th>\n      <td>6037cfefd5c52ef30a33a883</td>\n      <td>11500</td>\n      <td>Anniston-Oxford, AL</td>\n      <td>2019</td>\n      <td>October</td>\n      <td>46508</td>\n    </tr>\n    <tr>\n      <th>3</th>\n      <td>6037cfefd5c52ef30a33a884</td>\n      <td>11500</td>\n      <td>Anniston-Oxford, AL</td>\n      <td>2019</td>\n      <td>September</td>\n      <td>45820</td>\n    </tr>\n    <tr>\n      <th>4</th>\n      <td>6037cfefd5c52ef30a33a885</td>\n      <td>11500</td>\n      <td>Anniston-Oxford, AL</td>\n      <td>2019</td>\n      <td>August</td>\n      <td>46104</td>\n    </tr>\n    <tr>\n      <th>...</th>\n      <td>...</td>\n      <td>...</td>\n      <td>...</td>\n      <td>...</td>\n      <td>...</td>\n      <td>...</td>\n    </tr>\n    <tr>\n      <th>46075</th>\n      <td>6037cfefd5c52ef30a345c7c</td>\n      <td>49340</td>\n      <td>Worcester, MA-CT</td>\n      <td>2010</td>\n      <td>May</td>\n      <td>339705</td>\n    </tr>\n    <tr>\n      <th>46076</th>\n      <td>6037cfefd5c52ef30a345c7d</td>\n      <td>49340</td>\n      <td>Worcester, MA-CT</td>\n      <td>2010</td>\n      <td>April</td>\n      <td>339684</td>\n    </tr>\n    <tr>\n      <th>46077</th>\n      <td>6037cfefd5c52ef30a345c7e</td>\n      <td>49340</td>\n      <td>Worcester, MA-CT</td>\n      <td>2010</td>\n      <td>March</td>\n      <td>339383</td>\n    </tr>\n    <tr>\n      <th>46078</th>\n      <td>6037cfefd5c52ef30a345c7f</td>\n      <td>49340</td>\n      <td>Worcester, MA-CT</td>\n      <td>2010</td>\n      <td>February</td>\n      <td>339162</td>\n    </tr>\n    <tr>\n      <th>46079</th>\n      <td>6037cfefd5c52ef30a345c80</td>\n      <td>49340</td>\n      <td>Worcester, MA-CT</td>\n      <td>2010</td>\n      <td>January</td>\n      <td>339965</td>\n    </tr>\n  </tbody>\n</table>\n<p>46080 rows × 6 columns</p>\n</div>"
     },
     "metadata": {},
     "execution_count": 52
    }
   ],
   "source": [
    "### Lets do labor force now\n",
    "\n",
    "# Create instance of MongoClient\n",
    "client = MongoClient()\n",
    "# Connection URI\n",
    "connStr = os.getenv('MONGO_CONN')\n",
    "client = MongoClient(connStr)\n",
    "# Select database\n",
    "db = client['MSA']\n",
    "# Select the collection within the database\n",
    "data = db.LaborForce_clean\n",
    "# Convert entire collection to Pandas dataframe\n",
    "df_total = pd.DataFrame(list(data.find()))\n",
    "df_total"
   ]
  },
  {
   "cell_type": "code",
   "execution_count": 56,
   "metadata": {},
   "outputs": [
    {
     "output_type": "execute_result",
     "data": {
      "text/plain": [
       "      CBSA    2010    2011    2012    2013    2014    2015    2016    2017  \\\n",
       "0    10180   76486   76723   76209   76347   75197   74411   74615   76071   \n",
       "1    10420  369203  361648  360436  356986  359933  358167  359554  358853   \n",
       "2    10500   70825   71135   69101   67391   65957   66377   68471   67478   \n",
       "3    10540   56691   56016   54190   53221   54075   55841   56853   57888   \n",
       "4    10580  449154  447519  453433  445629  438706  444496  441435  440205   \n",
       "..     ...     ...     ...     ...     ...     ...     ...     ...     ...   \n",
       "379  49420  114826  115596  114403  112408  115915  116743  119089  121256   \n",
       "380  49620  229344  231145  232525  228768  229489  232244  233206  232871   \n",
       "381  49660  265800  261511  259693  254507  251949  253137  245454  241154   \n",
       "382  49700   74371   74220   72725   71203   70521   71757   71897   72796   \n",
       "383  49740   91811   92140   94341   93805   93026   91577   93528   96511   \n",
       "\n",
       "       2018    2019  \n",
       "0     77323   79499  \n",
       "1    360974  357787  \n",
       "2     67082   66999  \n",
       "3     58764   58446  \n",
       "4    444430  449737  \n",
       "..      ...     ...  \n",
       "379  124890  128962  \n",
       "380  234409  237714  \n",
       "381  240643  236372  \n",
       "382   72979   77036  \n",
       "383  100793  101964  \n",
       "\n",
       "[384 rows x 11 columns]"
      ],
      "text/html": "<div>\n<style scoped>\n    .dataframe tbody tr th:only-of-type {\n        vertical-align: middle;\n    }\n\n    .dataframe tbody tr th {\n        vertical-align: top;\n    }\n\n    .dataframe thead th {\n        text-align: right;\n    }\n</style>\n<table border=\"1\" class=\"dataframe\">\n  <thead>\n    <tr style=\"text-align: right;\">\n      <th></th>\n      <th>CBSA</th>\n      <th>2010</th>\n      <th>2011</th>\n      <th>2012</th>\n      <th>2013</th>\n      <th>2014</th>\n      <th>2015</th>\n      <th>2016</th>\n      <th>2017</th>\n      <th>2018</th>\n      <th>2019</th>\n    </tr>\n  </thead>\n  <tbody>\n    <tr>\n      <th>0</th>\n      <td>10180</td>\n      <td>76486</td>\n      <td>76723</td>\n      <td>76209</td>\n      <td>76347</td>\n      <td>75197</td>\n      <td>74411</td>\n      <td>74615</td>\n      <td>76071</td>\n      <td>77323</td>\n      <td>79499</td>\n    </tr>\n    <tr>\n      <th>1</th>\n      <td>10420</td>\n      <td>369203</td>\n      <td>361648</td>\n      <td>360436</td>\n      <td>356986</td>\n      <td>359933</td>\n      <td>358167</td>\n      <td>359554</td>\n      <td>358853</td>\n      <td>360974</td>\n      <td>357787</td>\n    </tr>\n    <tr>\n      <th>2</th>\n      <td>10500</td>\n      <td>70825</td>\n      <td>71135</td>\n      <td>69101</td>\n      <td>67391</td>\n      <td>65957</td>\n      <td>66377</td>\n      <td>68471</td>\n      <td>67478</td>\n      <td>67082</td>\n      <td>66999</td>\n    </tr>\n    <tr>\n      <th>3</th>\n      <td>10540</td>\n      <td>56691</td>\n      <td>56016</td>\n      <td>54190</td>\n      <td>53221</td>\n      <td>54075</td>\n      <td>55841</td>\n      <td>56853</td>\n      <td>57888</td>\n      <td>58764</td>\n      <td>58446</td>\n    </tr>\n    <tr>\n      <th>4</th>\n      <td>10580</td>\n      <td>449154</td>\n      <td>447519</td>\n      <td>453433</td>\n      <td>445629</td>\n      <td>438706</td>\n      <td>444496</td>\n      <td>441435</td>\n      <td>440205</td>\n      <td>444430</td>\n      <td>449737</td>\n    </tr>\n    <tr>\n      <th>...</th>\n      <td>...</td>\n      <td>...</td>\n      <td>...</td>\n      <td>...</td>\n      <td>...</td>\n      <td>...</td>\n      <td>...</td>\n      <td>...</td>\n      <td>...</td>\n      <td>...</td>\n      <td>...</td>\n    </tr>\n    <tr>\n      <th>379</th>\n      <td>49420</td>\n      <td>114826</td>\n      <td>115596</td>\n      <td>114403</td>\n      <td>112408</td>\n      <td>115915</td>\n      <td>116743</td>\n      <td>119089</td>\n      <td>121256</td>\n      <td>124890</td>\n      <td>128962</td>\n    </tr>\n    <tr>\n      <th>380</th>\n      <td>49620</td>\n      <td>229344</td>\n      <td>231145</td>\n      <td>232525</td>\n      <td>228768</td>\n      <td>229489</td>\n      <td>232244</td>\n      <td>233206</td>\n      <td>232871</td>\n      <td>234409</td>\n      <td>237714</td>\n    </tr>\n    <tr>\n      <th>381</th>\n      <td>49660</td>\n      <td>265800</td>\n      <td>261511</td>\n      <td>259693</td>\n      <td>254507</td>\n      <td>251949</td>\n      <td>253137</td>\n      <td>245454</td>\n      <td>241154</td>\n      <td>240643</td>\n      <td>236372</td>\n    </tr>\n    <tr>\n      <th>382</th>\n      <td>49700</td>\n      <td>74371</td>\n      <td>74220</td>\n      <td>72725</td>\n      <td>71203</td>\n      <td>70521</td>\n      <td>71757</td>\n      <td>71897</td>\n      <td>72796</td>\n      <td>72979</td>\n      <td>77036</td>\n    </tr>\n    <tr>\n      <th>383</th>\n      <td>49740</td>\n      <td>91811</td>\n      <td>92140</td>\n      <td>94341</td>\n      <td>93805</td>\n      <td>93026</td>\n      <td>91577</td>\n      <td>93528</td>\n      <td>96511</td>\n      <td>100793</td>\n      <td>101964</td>\n    </tr>\n  </tbody>\n</table>\n<p>384 rows × 11 columns</p>\n</div>"
     },
     "metadata": {},
     "execution_count": 56
    }
   ],
   "source": [
    "df_clean = clean_raw_data(df_total)\n",
    "df_clean"
   ]
  },
  {
   "cell_type": "code",
   "execution_count": 57,
   "metadata": {},
   "outputs": [
    {
     "output_type": "execute_result",
     "data": {
      "text/plain": [
       "<pymongo.results.InsertManyResult at 0x29a087817c0>"
      ]
     },
     "metadata": {},
     "execution_count": 57
    }
   ],
   "source": [
    "# export labor force clean dataframe back to mongo\n",
    "clean_collection = db.LaborForce_clean\n",
    "df_dict = df_clean.to_dict(orient = 'records')\n",
    "clean_collection.insert_many(df_dict)"
   ]
  },
  {
   "cell_type": "code",
   "execution_count": 59,
   "metadata": {},
   "outputs": [
    {
     "output_type": "execute_result",
     "data": {
      "text/plain": [
       "                            _id   CBSA  year      month  value\n",
       "0      6038baa2f3720aac8688bb68  11500  2019   December    3.0\n",
       "1      6038baa2f3720aac8688bb69  11500  2019   November    2.9\n",
       "2      6038baa2f3720aac8688bb6a  11500  2019    October    3.0\n",
       "3      6038baa2f3720aac8688bb6b  11500  2019  September    3.0\n",
       "4      6038baa2f3720aac8688bb6c  11500  2019     August    3.4\n",
       "...                         ...    ...   ...        ...    ...\n",
       "46075  6038baa3f3720aac86896f63  49340  2010        May    8.8\n",
       "46076  6038baa3f3720aac86896f64  49340  2010      April    8.8\n",
       "46077  6038baa3f3720aac86896f65  49340  2010      March    9.4\n",
       "46078  6038baa3f3720aac86896f66  49340  2010   February    9.6\n",
       "46079  6038baa3f3720aac86896f67  49340  2010    January    9.9\n",
       "\n",
       "[46080 rows x 5 columns]"
      ],
      "text/html": "<div>\n<style scoped>\n    .dataframe tbody tr th:only-of-type {\n        vertical-align: middle;\n    }\n\n    .dataframe tbody tr th {\n        vertical-align: top;\n    }\n\n    .dataframe thead th {\n        text-align: right;\n    }\n</style>\n<table border=\"1\" class=\"dataframe\">\n  <thead>\n    <tr style=\"text-align: right;\">\n      <th></th>\n      <th>_id</th>\n      <th>CBSA</th>\n      <th>year</th>\n      <th>month</th>\n      <th>value</th>\n    </tr>\n  </thead>\n  <tbody>\n    <tr>\n      <th>0</th>\n      <td>6038baa2f3720aac8688bb68</td>\n      <td>11500</td>\n      <td>2019</td>\n      <td>December</td>\n      <td>3.0</td>\n    </tr>\n    <tr>\n      <th>1</th>\n      <td>6038baa2f3720aac8688bb69</td>\n      <td>11500</td>\n      <td>2019</td>\n      <td>November</td>\n      <td>2.9</td>\n    </tr>\n    <tr>\n      <th>2</th>\n      <td>6038baa2f3720aac8688bb6a</td>\n      <td>11500</td>\n      <td>2019</td>\n      <td>October</td>\n      <td>3.0</td>\n    </tr>\n    <tr>\n      <th>3</th>\n      <td>6038baa2f3720aac8688bb6b</td>\n      <td>11500</td>\n      <td>2019</td>\n      <td>September</td>\n      <td>3.0</td>\n    </tr>\n    <tr>\n      <th>4</th>\n      <td>6038baa2f3720aac8688bb6c</td>\n      <td>11500</td>\n      <td>2019</td>\n      <td>August</td>\n      <td>3.4</td>\n    </tr>\n    <tr>\n      <th>...</th>\n      <td>...</td>\n      <td>...</td>\n      <td>...</td>\n      <td>...</td>\n      <td>...</td>\n    </tr>\n    <tr>\n      <th>46075</th>\n      <td>6038baa3f3720aac86896f63</td>\n      <td>49340</td>\n      <td>2010</td>\n      <td>May</td>\n      <td>8.8</td>\n    </tr>\n    <tr>\n      <th>46076</th>\n      <td>6038baa3f3720aac86896f64</td>\n      <td>49340</td>\n      <td>2010</td>\n      <td>April</td>\n      <td>8.8</td>\n    </tr>\n    <tr>\n      <th>46077</th>\n      <td>6038baa3f3720aac86896f65</td>\n      <td>49340</td>\n      <td>2010</td>\n      <td>March</td>\n      <td>9.4</td>\n    </tr>\n    <tr>\n      <th>46078</th>\n      <td>6038baa3f3720aac86896f66</td>\n      <td>49340</td>\n      <td>2010</td>\n      <td>February</td>\n      <td>9.6</td>\n    </tr>\n    <tr>\n      <th>46079</th>\n      <td>6038baa3f3720aac86896f67</td>\n      <td>49340</td>\n      <td>2010</td>\n      <td>January</td>\n      <td>9.9</td>\n    </tr>\n  </tbody>\n</table>\n<p>46080 rows × 5 columns</p>\n</div>"
     },
     "metadata": {},
     "execution_count": 59
    }
   ],
   "source": [
    "### Next we do UnemploymentRate\n",
    "\n",
    "# Create instance of MongoClient\n",
    "client = MongoClient()\n",
    "# Connection URI\n",
    "connStr = os.getenv('MONGO_CONN')\n",
    "client = MongoClient(connStr)\n",
    "# Select database\n",
    "db = client['MSA']\n",
    "# Select the collection within the database\n",
    "data = db.UnemploymentRate_clean\n",
    "# Convert entire collection to Pandas dataframe\n",
    "df_total = pd.DataFrame(list(data.find()))\n",
    "df_total"
   ]
  },
  {
   "cell_type": "code",
   "execution_count": 60,
   "metadata": {},
   "outputs": [
    {
     "output_type": "execute_result",
     "data": {
      "text/plain": [
       "      CBSA  2010  2011  2012  2013  2014  2015  2016  2017  2018  2019\n",
       "0    10180   6.6   5.9   5.2   4.5   3.4   3.5   3.8   3.2   3.1   2.7\n",
       "1    10420   9.6   7.9   7.4   6.7   5.1   4.9   5.3   4.7   4.6   4.0\n",
       "2    10500  11.6  10.8  10.0   8.9   7.2   6.4   5.8   4.8   4.8   3.6\n",
       "3    10540  12.0  11.0  10.6   8.6   6.9   5.9   4.6   4.4   4.5   3.4\n",
       "4    10580   7.1   7.1   6.9   5.3   4.4   4.0   4.0   4.1   3.5   3.7\n",
       "..     ...   ...   ...   ...   ...   ...   ...   ...   ...   ...   ...\n",
       "379  49420  12.0  12.7  11.9  11.5  10.7  10.6   8.9   8.1   8.6   8.0\n",
       "380  49620   7.3   7.0   6.9   5.5   4.5   4.0   4.0   3.7   3.3   3.8\n",
       "381  49660  10.4   8.6   8.6   7.4   5.7   7.2   6.2   5.6   5.6   5.4\n",
       "382  49700  19.1  17.5  15.8  13.4  11.4  10.2   9.8   7.9   7.8   6.5\n",
       "383  49740  22.3  21.5  22.7  23.2  19.2  17.4  15.5  14.1  14.1  14.3\n",
       "\n",
       "[384 rows x 11 columns]"
      ],
      "text/html": "<div>\n<style scoped>\n    .dataframe tbody tr th:only-of-type {\n        vertical-align: middle;\n    }\n\n    .dataframe tbody tr th {\n        vertical-align: top;\n    }\n\n    .dataframe thead th {\n        text-align: right;\n    }\n</style>\n<table border=\"1\" class=\"dataframe\">\n  <thead>\n    <tr style=\"text-align: right;\">\n      <th></th>\n      <th>CBSA</th>\n      <th>2010</th>\n      <th>2011</th>\n      <th>2012</th>\n      <th>2013</th>\n      <th>2014</th>\n      <th>2015</th>\n      <th>2016</th>\n      <th>2017</th>\n      <th>2018</th>\n      <th>2019</th>\n    </tr>\n  </thead>\n  <tbody>\n    <tr>\n      <th>0</th>\n      <td>10180</td>\n      <td>6.6</td>\n      <td>5.9</td>\n      <td>5.2</td>\n      <td>4.5</td>\n      <td>3.4</td>\n      <td>3.5</td>\n      <td>3.8</td>\n      <td>3.2</td>\n      <td>3.1</td>\n      <td>2.7</td>\n    </tr>\n    <tr>\n      <th>1</th>\n      <td>10420</td>\n      <td>9.6</td>\n      <td>7.9</td>\n      <td>7.4</td>\n      <td>6.7</td>\n      <td>5.1</td>\n      <td>4.9</td>\n      <td>5.3</td>\n      <td>4.7</td>\n      <td>4.6</td>\n      <td>4.0</td>\n    </tr>\n    <tr>\n      <th>2</th>\n      <td>10500</td>\n      <td>11.6</td>\n      <td>10.8</td>\n      <td>10.0</td>\n      <td>8.9</td>\n      <td>7.2</td>\n      <td>6.4</td>\n      <td>5.8</td>\n      <td>4.8</td>\n      <td>4.8</td>\n      <td>3.6</td>\n    </tr>\n    <tr>\n      <th>3</th>\n      <td>10540</td>\n      <td>12.0</td>\n      <td>11.0</td>\n      <td>10.6</td>\n      <td>8.6</td>\n      <td>6.9</td>\n      <td>5.9</td>\n      <td>4.6</td>\n      <td>4.4</td>\n      <td>4.5</td>\n      <td>3.4</td>\n    </tr>\n    <tr>\n      <th>4</th>\n      <td>10580</td>\n      <td>7.1</td>\n      <td>7.1</td>\n      <td>6.9</td>\n      <td>5.3</td>\n      <td>4.4</td>\n      <td>4.0</td>\n      <td>4.0</td>\n      <td>4.1</td>\n      <td>3.5</td>\n      <td>3.7</td>\n    </tr>\n    <tr>\n      <th>...</th>\n      <td>...</td>\n      <td>...</td>\n      <td>...</td>\n      <td>...</td>\n      <td>...</td>\n      <td>...</td>\n      <td>...</td>\n      <td>...</td>\n      <td>...</td>\n      <td>...</td>\n      <td>...</td>\n    </tr>\n    <tr>\n      <th>379</th>\n      <td>49420</td>\n      <td>12.0</td>\n      <td>12.7</td>\n      <td>11.9</td>\n      <td>11.5</td>\n      <td>10.7</td>\n      <td>10.6</td>\n      <td>8.9</td>\n      <td>8.1</td>\n      <td>8.6</td>\n      <td>8.0</td>\n    </tr>\n    <tr>\n      <th>380</th>\n      <td>49620</td>\n      <td>7.3</td>\n      <td>7.0</td>\n      <td>6.9</td>\n      <td>5.5</td>\n      <td>4.5</td>\n      <td>4.0</td>\n      <td>4.0</td>\n      <td>3.7</td>\n      <td>3.3</td>\n      <td>3.8</td>\n    </tr>\n    <tr>\n      <th>381</th>\n      <td>49660</td>\n      <td>10.4</td>\n      <td>8.6</td>\n      <td>8.6</td>\n      <td>7.4</td>\n      <td>5.7</td>\n      <td>7.2</td>\n      <td>6.2</td>\n      <td>5.6</td>\n      <td>5.6</td>\n      <td>5.4</td>\n    </tr>\n    <tr>\n      <th>382</th>\n      <td>49700</td>\n      <td>19.1</td>\n      <td>17.5</td>\n      <td>15.8</td>\n      <td>13.4</td>\n      <td>11.4</td>\n      <td>10.2</td>\n      <td>9.8</td>\n      <td>7.9</td>\n      <td>7.8</td>\n      <td>6.5</td>\n    </tr>\n    <tr>\n      <th>383</th>\n      <td>49740</td>\n      <td>22.3</td>\n      <td>21.5</td>\n      <td>22.7</td>\n      <td>23.2</td>\n      <td>19.2</td>\n      <td>17.4</td>\n      <td>15.5</td>\n      <td>14.1</td>\n      <td>14.1</td>\n      <td>14.3</td>\n    </tr>\n  </tbody>\n</table>\n<p>384 rows × 11 columns</p>\n</div>"
     },
     "metadata": {},
     "execution_count": 60
    }
   ],
   "source": [
    "df_clean = clean_raw_data(df_total)\n",
    "df_clean"
   ]
  },
  {
   "cell_type": "code",
   "execution_count": 61,
   "metadata": {},
   "outputs": [
    {
     "output_type": "execute_result",
     "data": {
      "text/plain": [
       "<pymongo.results.InsertManyResult at 0x29a0c8d3500>"
      ]
     },
     "metadata": {},
     "execution_count": 61
    }
   ],
   "source": [
    "# export unemployment clean dataframe back to mongo\n",
    "clean_collection = db.UnemploymentRate_clean\n",
    "df_dict = df_clean.to_dict(orient = 'records')\n",
    "clean_collection.insert_many(df_dict)"
   ]
  },
  {
   "cell_type": "code",
   "execution_count": 62,
   "metadata": {},
   "outputs": [
    {
     "output_type": "execute_result",
     "data": {
      "text/plain": [
       "                          _id   CBSA                                    NAME  \\\n",
       "0    6031813991cc653aeedfe7c7  11540                            Appleton, WI   \n",
       "1    6031813991cc653aeedfe7c9  12020                Athens-Clarke County, GA   \n",
       "2    6031813991cc653aeedfe7e0  14010                         Bloomington, IL   \n",
       "3    6031813991cc653aeedfe7ed  15540         Burlington-South Burlington, VT   \n",
       "4    6031813991cc653aeedfe818  19660  Deltona-Daytona Beach-Ormond Beach, FL   \n",
       "..                        ...    ...                                     ...   \n",
       "379  6031813991cc653aeedfe8ca  38340                          Pittsfield, MA   \n",
       "380  6031813991cc653aeedfe8ef  41700           San Antonio-New Braunfels, TX   \n",
       "381  6031813991cc653aeedfe8f3  42100              Santa Cruz-Watsonville, CA   \n",
       "382  6031813991cc653aeedfe908  44180                         Springfield, MO   \n",
       "383  6031813991cc653aeedfe90c  44700                            Stockton, CA   \n",
       "\n",
       "        2010     2011     2012     2013     2014     2015     2016     2017  \\\n",
       "0     225948   227548   228656   229978   231627   233146   234200   235811   \n",
       "1     193439   194375   195984   197590   198361   202565   205402   209106   \n",
       "2     169810   170909   172721   175037   174105   173141   173070   172754   \n",
       "3     211538   213235   213962   214827   215676   217152   217447   218975   \n",
       "4     590506   591926   594969   600236   608604   621166   635859   647867   \n",
       "..       ...      ...      ...      ...      ...      ...      ...      ...   \n",
       "379   131317   130547   130284   129488   128856   127858   127067   126353   \n",
       "380  2153009  2193923  2236981  2280002  2328894  2379232  2426276  2472121   \n",
       "381   263147   264858   266340   268816   270861   273503   274396   274856   \n",
       "382   437349   440432   444329   448427   451556   455593   457917   462090   \n",
       "383   687127   694354   699593   702046   711579   722271   732809   743296   \n",
       "\n",
       "        2018     2019  \n",
       "0     237011   237974  \n",
       "1     211468   213750  \n",
       "2     172410   171517  \n",
       "3     219939   220411  \n",
       "4     658186   668365  \n",
       "..       ...      ...  \n",
       "379   125901   124944  \n",
       "380  2512379  2550960  \n",
       "381   273841   273213  \n",
       "382   466273   470300  \n",
       "383   752491   762148  \n",
       "\n",
       "[384 rows x 13 columns]"
      ],
      "text/html": "<div>\n<style scoped>\n    .dataframe tbody tr th:only-of-type {\n        vertical-align: middle;\n    }\n\n    .dataframe tbody tr th {\n        vertical-align: top;\n    }\n\n    .dataframe thead th {\n        text-align: right;\n    }\n</style>\n<table border=\"1\" class=\"dataframe\">\n  <thead>\n    <tr style=\"text-align: right;\">\n      <th></th>\n      <th>_id</th>\n      <th>CBSA</th>\n      <th>NAME</th>\n      <th>2010</th>\n      <th>2011</th>\n      <th>2012</th>\n      <th>2013</th>\n      <th>2014</th>\n      <th>2015</th>\n      <th>2016</th>\n      <th>2017</th>\n      <th>2018</th>\n      <th>2019</th>\n    </tr>\n  </thead>\n  <tbody>\n    <tr>\n      <th>0</th>\n      <td>6031813991cc653aeedfe7c7</td>\n      <td>11540</td>\n      <td>Appleton, WI</td>\n      <td>225948</td>\n      <td>227548</td>\n      <td>228656</td>\n      <td>229978</td>\n      <td>231627</td>\n      <td>233146</td>\n      <td>234200</td>\n      <td>235811</td>\n      <td>237011</td>\n      <td>237974</td>\n    </tr>\n    <tr>\n      <th>1</th>\n      <td>6031813991cc653aeedfe7c9</td>\n      <td>12020</td>\n      <td>Athens-Clarke County, GA</td>\n      <td>193439</td>\n      <td>194375</td>\n      <td>195984</td>\n      <td>197590</td>\n      <td>198361</td>\n      <td>202565</td>\n      <td>205402</td>\n      <td>209106</td>\n      <td>211468</td>\n      <td>213750</td>\n    </tr>\n    <tr>\n      <th>2</th>\n      <td>6031813991cc653aeedfe7e0</td>\n      <td>14010</td>\n      <td>Bloomington, IL</td>\n      <td>169810</td>\n      <td>170909</td>\n      <td>172721</td>\n      <td>175037</td>\n      <td>174105</td>\n      <td>173141</td>\n      <td>173070</td>\n      <td>172754</td>\n      <td>172410</td>\n      <td>171517</td>\n    </tr>\n    <tr>\n      <th>3</th>\n      <td>6031813991cc653aeedfe7ed</td>\n      <td>15540</td>\n      <td>Burlington-South Burlington, VT</td>\n      <td>211538</td>\n      <td>213235</td>\n      <td>213962</td>\n      <td>214827</td>\n      <td>215676</td>\n      <td>217152</td>\n      <td>217447</td>\n      <td>218975</td>\n      <td>219939</td>\n      <td>220411</td>\n    </tr>\n    <tr>\n      <th>4</th>\n      <td>6031813991cc653aeedfe818</td>\n      <td>19660</td>\n      <td>Deltona-Daytona Beach-Ormond Beach, FL</td>\n      <td>590506</td>\n      <td>591926</td>\n      <td>594969</td>\n      <td>600236</td>\n      <td>608604</td>\n      <td>621166</td>\n      <td>635859</td>\n      <td>647867</td>\n      <td>658186</td>\n      <td>668365</td>\n    </tr>\n    <tr>\n      <th>...</th>\n      <td>...</td>\n      <td>...</td>\n      <td>...</td>\n      <td>...</td>\n      <td>...</td>\n      <td>...</td>\n      <td>...</td>\n      <td>...</td>\n      <td>...</td>\n      <td>...</td>\n      <td>...</td>\n      <td>...</td>\n      <td>...</td>\n    </tr>\n    <tr>\n      <th>379</th>\n      <td>6031813991cc653aeedfe8ca</td>\n      <td>38340</td>\n      <td>Pittsfield, MA</td>\n      <td>131317</td>\n      <td>130547</td>\n      <td>130284</td>\n      <td>129488</td>\n      <td>128856</td>\n      <td>127858</td>\n      <td>127067</td>\n      <td>126353</td>\n      <td>125901</td>\n      <td>124944</td>\n    </tr>\n    <tr>\n      <th>380</th>\n      <td>6031813991cc653aeedfe8ef</td>\n      <td>41700</td>\n      <td>San Antonio-New Braunfels, TX</td>\n      <td>2153009</td>\n      <td>2193923</td>\n      <td>2236981</td>\n      <td>2280002</td>\n      <td>2328894</td>\n      <td>2379232</td>\n      <td>2426276</td>\n      <td>2472121</td>\n      <td>2512379</td>\n      <td>2550960</td>\n    </tr>\n    <tr>\n      <th>381</th>\n      <td>6031813991cc653aeedfe8f3</td>\n      <td>42100</td>\n      <td>Santa Cruz-Watsonville, CA</td>\n      <td>263147</td>\n      <td>264858</td>\n      <td>266340</td>\n      <td>268816</td>\n      <td>270861</td>\n      <td>273503</td>\n      <td>274396</td>\n      <td>274856</td>\n      <td>273841</td>\n      <td>273213</td>\n    </tr>\n    <tr>\n      <th>382</th>\n      <td>6031813991cc653aeedfe908</td>\n      <td>44180</td>\n      <td>Springfield, MO</td>\n      <td>437349</td>\n      <td>440432</td>\n      <td>444329</td>\n      <td>448427</td>\n      <td>451556</td>\n      <td>455593</td>\n      <td>457917</td>\n      <td>462090</td>\n      <td>466273</td>\n      <td>470300</td>\n    </tr>\n    <tr>\n      <th>383</th>\n      <td>6031813991cc653aeedfe90c</td>\n      <td>44700</td>\n      <td>Stockton, CA</td>\n      <td>687127</td>\n      <td>694354</td>\n      <td>699593</td>\n      <td>702046</td>\n      <td>711579</td>\n      <td>722271</td>\n      <td>732809</td>\n      <td>743296</td>\n      <td>752491</td>\n      <td>762148</td>\n    </tr>\n  </tbody>\n</table>\n<p>384 rows × 13 columns</p>\n</div>"
     },
     "metadata": {},
     "execution_count": 62
    }
   ],
   "source": [
    "### Now clean up population\n",
    "\n",
    "# Create instance of MongoClient\n",
    "client = MongoClient()\n",
    "# Connection URI\n",
    "connStr = os.getenv('MONGO_CONN')\n",
    "client = MongoClient(connStr)\n",
    "# Select database\n",
    "db = client['MSA']\n",
    "# Select the collection within the database\n",
    "data = db.population_clean\n",
    "# Convert entire collection to Pandas dataframe\n",
    "df_total = pd.DataFrame(list(data.find()))\n",
    "df_total"
   ]
  },
  {
   "cell_type": "code",
   "execution_count": 63,
   "metadata": {},
   "outputs": [
    {
     "output_type": "execute_result",
     "data": {
      "text/plain": [
       "      CBSA     2010     2011     2012     2013     2014     2015     2016  \\\n",
       "0    11540   225948   227548   228656   229978   231627   233146   234200   \n",
       "1    12020   193439   194375   195984   197590   198361   202565   205402   \n",
       "2    14010   169810   170909   172721   175037   174105   173141   173070   \n",
       "3    15540   211538   213235   213962   214827   215676   217152   217447   \n",
       "4    19660   590506   591926   594969   600236   608604   621166   635859   \n",
       "..     ...      ...      ...      ...      ...      ...      ...      ...   \n",
       "379  38340   131317   130547   130284   129488   128856   127858   127067   \n",
       "380  41700  2153009  2193923  2236981  2280002  2328894  2379232  2426276   \n",
       "381  42100   263147   264858   266340   268816   270861   273503   274396   \n",
       "382  44180   437349   440432   444329   448427   451556   455593   457917   \n",
       "383  44700   687127   694354   699593   702046   711579   722271   732809   \n",
       "\n",
       "        2017     2018     2019  \n",
       "0     235811   237011   237974  \n",
       "1     209106   211468   213750  \n",
       "2     172754   172410   171517  \n",
       "3     218975   219939   220411  \n",
       "4     647867   658186   668365  \n",
       "..       ...      ...      ...  \n",
       "379   126353   125901   124944  \n",
       "380  2472121  2512379  2550960  \n",
       "381   274856   273841   273213  \n",
       "382   462090   466273   470300  \n",
       "383   743296   752491   762148  \n",
       "\n",
       "[384 rows x 11 columns]"
      ],
      "text/html": "<div>\n<style scoped>\n    .dataframe tbody tr th:only-of-type {\n        vertical-align: middle;\n    }\n\n    .dataframe tbody tr th {\n        vertical-align: top;\n    }\n\n    .dataframe thead th {\n        text-align: right;\n    }\n</style>\n<table border=\"1\" class=\"dataframe\">\n  <thead>\n    <tr style=\"text-align: right;\">\n      <th></th>\n      <th>CBSA</th>\n      <th>2010</th>\n      <th>2011</th>\n      <th>2012</th>\n      <th>2013</th>\n      <th>2014</th>\n      <th>2015</th>\n      <th>2016</th>\n      <th>2017</th>\n      <th>2018</th>\n      <th>2019</th>\n    </tr>\n  </thead>\n  <tbody>\n    <tr>\n      <th>0</th>\n      <td>11540</td>\n      <td>225948</td>\n      <td>227548</td>\n      <td>228656</td>\n      <td>229978</td>\n      <td>231627</td>\n      <td>233146</td>\n      <td>234200</td>\n      <td>235811</td>\n      <td>237011</td>\n      <td>237974</td>\n    </tr>\n    <tr>\n      <th>1</th>\n      <td>12020</td>\n      <td>193439</td>\n      <td>194375</td>\n      <td>195984</td>\n      <td>197590</td>\n      <td>198361</td>\n      <td>202565</td>\n      <td>205402</td>\n      <td>209106</td>\n      <td>211468</td>\n      <td>213750</td>\n    </tr>\n    <tr>\n      <th>2</th>\n      <td>14010</td>\n      <td>169810</td>\n      <td>170909</td>\n      <td>172721</td>\n      <td>175037</td>\n      <td>174105</td>\n      <td>173141</td>\n      <td>173070</td>\n      <td>172754</td>\n      <td>172410</td>\n      <td>171517</td>\n    </tr>\n    <tr>\n      <th>3</th>\n      <td>15540</td>\n      <td>211538</td>\n      <td>213235</td>\n      <td>213962</td>\n      <td>214827</td>\n      <td>215676</td>\n      <td>217152</td>\n      <td>217447</td>\n      <td>218975</td>\n      <td>219939</td>\n      <td>220411</td>\n    </tr>\n    <tr>\n      <th>4</th>\n      <td>19660</td>\n      <td>590506</td>\n      <td>591926</td>\n      <td>594969</td>\n      <td>600236</td>\n      <td>608604</td>\n      <td>621166</td>\n      <td>635859</td>\n      <td>647867</td>\n      <td>658186</td>\n      <td>668365</td>\n    </tr>\n    <tr>\n      <th>...</th>\n      <td>...</td>\n      <td>...</td>\n      <td>...</td>\n      <td>...</td>\n      <td>...</td>\n      <td>...</td>\n      <td>...</td>\n      <td>...</td>\n      <td>...</td>\n      <td>...</td>\n      <td>...</td>\n    </tr>\n    <tr>\n      <th>379</th>\n      <td>38340</td>\n      <td>131317</td>\n      <td>130547</td>\n      <td>130284</td>\n      <td>129488</td>\n      <td>128856</td>\n      <td>127858</td>\n      <td>127067</td>\n      <td>126353</td>\n      <td>125901</td>\n      <td>124944</td>\n    </tr>\n    <tr>\n      <th>380</th>\n      <td>41700</td>\n      <td>2153009</td>\n      <td>2193923</td>\n      <td>2236981</td>\n      <td>2280002</td>\n      <td>2328894</td>\n      <td>2379232</td>\n      <td>2426276</td>\n      <td>2472121</td>\n      <td>2512379</td>\n      <td>2550960</td>\n    </tr>\n    <tr>\n      <th>381</th>\n      <td>42100</td>\n      <td>263147</td>\n      <td>264858</td>\n      <td>266340</td>\n      <td>268816</td>\n      <td>270861</td>\n      <td>273503</td>\n      <td>274396</td>\n      <td>274856</td>\n      <td>273841</td>\n      <td>273213</td>\n    </tr>\n    <tr>\n      <th>382</th>\n      <td>44180</td>\n      <td>437349</td>\n      <td>440432</td>\n      <td>444329</td>\n      <td>448427</td>\n      <td>451556</td>\n      <td>455593</td>\n      <td>457917</td>\n      <td>462090</td>\n      <td>466273</td>\n      <td>470300</td>\n    </tr>\n    <tr>\n      <th>383</th>\n      <td>44700</td>\n      <td>687127</td>\n      <td>694354</td>\n      <td>699593</td>\n      <td>702046</td>\n      <td>711579</td>\n      <td>722271</td>\n      <td>732809</td>\n      <td>743296</td>\n      <td>752491</td>\n      <td>762148</td>\n    </tr>\n  </tbody>\n</table>\n<p>384 rows × 11 columns</p>\n</div>"
     },
     "metadata": {},
     "execution_count": 63
    }
   ],
   "source": [
    "df_total.drop(columns=['_id', 'NAME'], inplace=True)"
   ]
  },
  {
   "cell_type": "code",
   "execution_count": 67,
   "metadata": {},
   "outputs": [
    {
     "output_type": "execute_result",
     "data": {
      "text/plain": [
       "      CBSA    2010    2011    2012    2013    2014    2015    2016    2017  \\\n",
       "0    10180  165585  166634  167442  167473  168342  169688  170017  170429   \n",
       "1    10420  703031  703200  702109  703621  704908  704382  703524  703987   \n",
       "2    10500  154145  154545  153976  152667  151949  150387  149137  148090   \n",
       "3    10540  116891  118164  118273  118405  119042  120236  122769  125035   \n",
       "4    10580  871082  872778  874698  877065  878113  879085  879792  882158   \n",
       "..     ...     ...     ...     ...     ...     ...     ...     ...     ...   \n",
       "379  49420  244256  245926  246127  246485  246870  247800  249327  249922   \n",
       "380  49620  435413  436701  437466  438932  440475  441741  443693  445484   \n",
       "381  49660  564826  562347  558530  555850  553039  548798  544582  541545   \n",
       "382  49700  167099  166971  166963  167597  168311  169327  170694  172782   \n",
       "383  49740  197127  202841  202475  202420  204054  205186  207247  209507   \n",
       "\n",
       "       2018    2019  \n",
       "0    171150  172060  \n",
       "1    703855  703479  \n",
       "2    147840  146726  \n",
       "3    127451  129749  \n",
       "4    882263  880381  \n",
       "..      ...     ...  \n",
       "379  250562  250873  \n",
       "380  447847  449058  \n",
       "381  538226  536081  \n",
       "382  173905  175639  \n",
       "383  211612  213787  \n",
       "\n",
       "[384 rows x 11 columns]"
      ],
      "text/html": "<div>\n<style scoped>\n    .dataframe tbody tr th:only-of-type {\n        vertical-align: middle;\n    }\n\n    .dataframe tbody tr th {\n        vertical-align: top;\n    }\n\n    .dataframe thead th {\n        text-align: right;\n    }\n</style>\n<table border=\"1\" class=\"dataframe\">\n  <thead>\n    <tr style=\"text-align: right;\">\n      <th></th>\n      <th>CBSA</th>\n      <th>2010</th>\n      <th>2011</th>\n      <th>2012</th>\n      <th>2013</th>\n      <th>2014</th>\n      <th>2015</th>\n      <th>2016</th>\n      <th>2017</th>\n      <th>2018</th>\n      <th>2019</th>\n    </tr>\n  </thead>\n  <tbody>\n    <tr>\n      <th>0</th>\n      <td>10180</td>\n      <td>165585</td>\n      <td>166634</td>\n      <td>167442</td>\n      <td>167473</td>\n      <td>168342</td>\n      <td>169688</td>\n      <td>170017</td>\n      <td>170429</td>\n      <td>171150</td>\n      <td>172060</td>\n    </tr>\n    <tr>\n      <th>1</th>\n      <td>10420</td>\n      <td>703031</td>\n      <td>703200</td>\n      <td>702109</td>\n      <td>703621</td>\n      <td>704908</td>\n      <td>704382</td>\n      <td>703524</td>\n      <td>703987</td>\n      <td>703855</td>\n      <td>703479</td>\n    </tr>\n    <tr>\n      <th>2</th>\n      <td>10500</td>\n      <td>154145</td>\n      <td>154545</td>\n      <td>153976</td>\n      <td>152667</td>\n      <td>151949</td>\n      <td>150387</td>\n      <td>149137</td>\n      <td>148090</td>\n      <td>147840</td>\n      <td>146726</td>\n    </tr>\n    <tr>\n      <th>3</th>\n      <td>10540</td>\n      <td>116891</td>\n      <td>118164</td>\n      <td>118273</td>\n      <td>118405</td>\n      <td>119042</td>\n      <td>120236</td>\n      <td>122769</td>\n      <td>125035</td>\n      <td>127451</td>\n      <td>129749</td>\n    </tr>\n    <tr>\n      <th>4</th>\n      <td>10580</td>\n      <td>871082</td>\n      <td>872778</td>\n      <td>874698</td>\n      <td>877065</td>\n      <td>878113</td>\n      <td>879085</td>\n      <td>879792</td>\n      <td>882158</td>\n      <td>882263</td>\n      <td>880381</td>\n    </tr>\n    <tr>\n      <th>...</th>\n      <td>...</td>\n      <td>...</td>\n      <td>...</td>\n      <td>...</td>\n      <td>...</td>\n      <td>...</td>\n      <td>...</td>\n      <td>...</td>\n      <td>...</td>\n      <td>...</td>\n      <td>...</td>\n    </tr>\n    <tr>\n      <th>379</th>\n      <td>49420</td>\n      <td>244256</td>\n      <td>245926</td>\n      <td>246127</td>\n      <td>246485</td>\n      <td>246870</td>\n      <td>247800</td>\n      <td>249327</td>\n      <td>249922</td>\n      <td>250562</td>\n      <td>250873</td>\n    </tr>\n    <tr>\n      <th>380</th>\n      <td>49620</td>\n      <td>435413</td>\n      <td>436701</td>\n      <td>437466</td>\n      <td>438932</td>\n      <td>440475</td>\n      <td>441741</td>\n      <td>443693</td>\n      <td>445484</td>\n      <td>447847</td>\n      <td>449058</td>\n    </tr>\n    <tr>\n      <th>381</th>\n      <td>49660</td>\n      <td>564826</td>\n      <td>562347</td>\n      <td>558530</td>\n      <td>555850</td>\n      <td>553039</td>\n      <td>548798</td>\n      <td>544582</td>\n      <td>541545</td>\n      <td>538226</td>\n      <td>536081</td>\n    </tr>\n    <tr>\n      <th>382</th>\n      <td>49700</td>\n      <td>167099</td>\n      <td>166971</td>\n      <td>166963</td>\n      <td>167597</td>\n      <td>168311</td>\n      <td>169327</td>\n      <td>170694</td>\n      <td>172782</td>\n      <td>173905</td>\n      <td>175639</td>\n    </tr>\n    <tr>\n      <th>383</th>\n      <td>49740</td>\n      <td>197127</td>\n      <td>202841</td>\n      <td>202475</td>\n      <td>202420</td>\n      <td>204054</td>\n      <td>205186</td>\n      <td>207247</td>\n      <td>209507</td>\n      <td>211612</td>\n      <td>213787</td>\n    </tr>\n  </tbody>\n</table>\n<p>384 rows × 11 columns</p>\n</div>"
     },
     "metadata": {},
     "execution_count": 67
    }
   ],
   "source": [
    "df_total.sort_values(by='CBSA').reset_index(drop=True)"
   ]
  },
  {
   "cell_type": "code",
   "execution_count": 68,
   "metadata": {},
   "outputs": [
    {
     "output_type": "execute_result",
     "data": {
      "text/plain": [
       "<pymongo.results.InsertManyResult at 0x29a128dcdc0>"
      ]
     },
     "metadata": {},
     "execution_count": 68
    }
   ],
   "source": [
    "# export unemployment clean dataframe back to mongo\n",
    "clean_collection = db.Population_clean\n",
    "df_dict = df_total.to_dict(orient = 'records')\n",
    "clean_collection.insert_many(df_dict)"
   ]
  },
  {
   "cell_type": "code",
   "execution_count": 69,
   "metadata": {},
   "outputs": [
    {
     "output_type": "execute_result",
     "data": {
      "text/plain": [
       "                           _id  YEAR   AREA   CBSA  \\\n",
       "0     6038df3058e7618ae577d9cd  2010  10180  10180   \n",
       "1     6038df3058e7618ae577d9ce  2010  10420  10420   \n",
       "2     6038df3058e7618ae577d9cf  2010  10500  10500   \n",
       "3     6038df3058e7618ae577d9d0  2010  41420  10540   \n",
       "4     6038df3058e7618ae577d9d1  2010  10580  10580   \n",
       "...                        ...   ...    ...    ...   \n",
       "3835  6038df3058e7618ae577e8c8  2019  76750  38860   \n",
       "3836  6038df3058e7618ae577e8c9  2019  77200  39300   \n",
       "3837  6038df3058e7618ae577e8ca  2019  78100  44140   \n",
       "3838  6038df3058e7618ae577e8cb  2019  79600  49340   \n",
       "3839  6038df3058e7618ae577e8cc  2019  39100  39100   \n",
       "\n",
       "                                  MSA_Name  state_code PRIM_STATE  \\\n",
       "0                              Abilene, TX          48         TX   \n",
       "1                                Akron, OH          39         OH   \n",
       "2                               Albany, GA          13         GA   \n",
       "3                       Albany-Lebanon, OR          41         OR   \n",
       "4              Albany-Schenectady-Troy, NY          36         NY   \n",
       "...                                    ...         ...        ...   \n",
       "3835           Portland-South Portland, ME          23      76750   \n",
       "3836             Providence-Warwick, RI-MA          44      77200   \n",
       "3837                       Springfield, MA          25      78100   \n",
       "3838                      Worcester, MA-CT          25      79600   \n",
       "3839  Poughkeepsie-Newburgh-Middletown, NY          36        NaN   \n",
       "\n",
       "                        AREA_NAME OCC_CODE        OCC_TITLE  ... H_PCT75  \\\n",
       "0                     Abilene, TX  00-0000  All Occupations  ...   20.05   \n",
       "1                       Akron, OH  00-0000  All Occupations  ...   24.10   \n",
       "2                      Albany, GA  00-0000  All Occupations  ...   21.56   \n",
       "3                       Salem, OR  00-0000  All Occupations  ...   23.64   \n",
       "4     Albany-Schenectady-Troy, NY  00-0000  All Occupations  ...   27.70   \n",
       "...                           ...      ...              ...  ...     ...   \n",
       "3835  Portland-South Portland, ME  00-0000  All Occupations  ...   29.91   \n",
       "3836    Providence-Warwick, RI-MA  00-0000  All Occupations  ...   33.20   \n",
       "3837           Springfield, MA-CT  00-0000  All Occupations  ...   31.19   \n",
       "3838             Worcester, MA-CT  00-0000  All Occupations  ...   32.76   \n",
       "3839                          NaN  00-0000  All Occupations  ...   28.98   \n",
       "\n",
       "      H_PCT90  A_PCT10  A_PCT25  A_MEDIAN  A_PCT75  A_PCT90  ANNUAL  HOURLY  \\\n",
       "0       29.41    16170    18510     26800    41710    61170     NaN     NaN   \n",
       "1       35.29    16930    20680     31760    50120    73410     NaN     NaN   \n",
       "2       30.80    16060    18620     26970    44850    64060     NaN     NaN   \n",
       "3       34.19    18920    22610     33200    49180    71120     NaN     NaN   \n",
       "4       39.86    18630    24750     37780    57620    82900     NaN     NaN   \n",
       "...       ...      ...      ...       ...      ...      ...     ...     ...   \n",
       "3835    44.94    24230    29400     41160    62220    93470     NaN     NaN   \n",
       "3836    49.06    24480    28940     42700    69050   102050     NaN     NaN   \n",
       "3837    45.62    25510    29910     42230    64870    94890     NaN     NaN   \n",
       "3838    48.03    25630    30450     44000    68140    99900     NaN     NaN   \n",
       "3839    41.93    24340    28130     39380    60270    87210     NaN     NaN   \n",
       "\n",
       "      OCC_GROUP  \n",
       "0           NaN  \n",
       "1           NaN  \n",
       "2           NaN  \n",
       "3           NaN  \n",
       "4           NaN  \n",
       "...         ...  \n",
       "3835        NaN  \n",
       "3836        NaN  \n",
       "3837        NaN  \n",
       "3838        NaN  \n",
       "3839        NaN  \n",
       "\n",
       "[3840 rows x 31 columns]"
      ],
      "text/html": "<div>\n<style scoped>\n    .dataframe tbody tr th:only-of-type {\n        vertical-align: middle;\n    }\n\n    .dataframe tbody tr th {\n        vertical-align: top;\n    }\n\n    .dataframe thead th {\n        text-align: right;\n    }\n</style>\n<table border=\"1\" class=\"dataframe\">\n  <thead>\n    <tr style=\"text-align: right;\">\n      <th></th>\n      <th>_id</th>\n      <th>YEAR</th>\n      <th>AREA</th>\n      <th>CBSA</th>\n      <th>MSA_Name</th>\n      <th>state_code</th>\n      <th>PRIM_STATE</th>\n      <th>AREA_NAME</th>\n      <th>OCC_CODE</th>\n      <th>OCC_TITLE</th>\n      <th>...</th>\n      <th>H_PCT75</th>\n      <th>H_PCT90</th>\n      <th>A_PCT10</th>\n      <th>A_PCT25</th>\n      <th>A_MEDIAN</th>\n      <th>A_PCT75</th>\n      <th>A_PCT90</th>\n      <th>ANNUAL</th>\n      <th>HOURLY</th>\n      <th>OCC_GROUP</th>\n    </tr>\n  </thead>\n  <tbody>\n    <tr>\n      <th>0</th>\n      <td>6038df3058e7618ae577d9cd</td>\n      <td>2010</td>\n      <td>10180</td>\n      <td>10180</td>\n      <td>Abilene, TX</td>\n      <td>48</td>\n      <td>TX</td>\n      <td>Abilene, TX</td>\n      <td>00-0000</td>\n      <td>All Occupations</td>\n      <td>...</td>\n      <td>20.05</td>\n      <td>29.41</td>\n      <td>16170</td>\n      <td>18510</td>\n      <td>26800</td>\n      <td>41710</td>\n      <td>61170</td>\n      <td>NaN</td>\n      <td>NaN</td>\n      <td>NaN</td>\n    </tr>\n    <tr>\n      <th>1</th>\n      <td>6038df3058e7618ae577d9ce</td>\n      <td>2010</td>\n      <td>10420</td>\n      <td>10420</td>\n      <td>Akron, OH</td>\n      <td>39</td>\n      <td>OH</td>\n      <td>Akron, OH</td>\n      <td>00-0000</td>\n      <td>All Occupations</td>\n      <td>...</td>\n      <td>24.10</td>\n      <td>35.29</td>\n      <td>16930</td>\n      <td>20680</td>\n      <td>31760</td>\n      <td>50120</td>\n      <td>73410</td>\n      <td>NaN</td>\n      <td>NaN</td>\n      <td>NaN</td>\n    </tr>\n    <tr>\n      <th>2</th>\n      <td>6038df3058e7618ae577d9cf</td>\n      <td>2010</td>\n      <td>10500</td>\n      <td>10500</td>\n      <td>Albany, GA</td>\n      <td>13</td>\n      <td>GA</td>\n      <td>Albany, GA</td>\n      <td>00-0000</td>\n      <td>All Occupations</td>\n      <td>...</td>\n      <td>21.56</td>\n      <td>30.80</td>\n      <td>16060</td>\n      <td>18620</td>\n      <td>26970</td>\n      <td>44850</td>\n      <td>64060</td>\n      <td>NaN</td>\n      <td>NaN</td>\n      <td>NaN</td>\n    </tr>\n    <tr>\n      <th>3</th>\n      <td>6038df3058e7618ae577d9d0</td>\n      <td>2010</td>\n      <td>41420</td>\n      <td>10540</td>\n      <td>Albany-Lebanon, OR</td>\n      <td>41</td>\n      <td>OR</td>\n      <td>Salem, OR</td>\n      <td>00-0000</td>\n      <td>All Occupations</td>\n      <td>...</td>\n      <td>23.64</td>\n      <td>34.19</td>\n      <td>18920</td>\n      <td>22610</td>\n      <td>33200</td>\n      <td>49180</td>\n      <td>71120</td>\n      <td>NaN</td>\n      <td>NaN</td>\n      <td>NaN</td>\n    </tr>\n    <tr>\n      <th>4</th>\n      <td>6038df3058e7618ae577d9d1</td>\n      <td>2010</td>\n      <td>10580</td>\n      <td>10580</td>\n      <td>Albany-Schenectady-Troy, NY</td>\n      <td>36</td>\n      <td>NY</td>\n      <td>Albany-Schenectady-Troy, NY</td>\n      <td>00-0000</td>\n      <td>All Occupations</td>\n      <td>...</td>\n      <td>27.70</td>\n      <td>39.86</td>\n      <td>18630</td>\n      <td>24750</td>\n      <td>37780</td>\n      <td>57620</td>\n      <td>82900</td>\n      <td>NaN</td>\n      <td>NaN</td>\n      <td>NaN</td>\n    </tr>\n    <tr>\n      <th>...</th>\n      <td>...</td>\n      <td>...</td>\n      <td>...</td>\n      <td>...</td>\n      <td>...</td>\n      <td>...</td>\n      <td>...</td>\n      <td>...</td>\n      <td>...</td>\n      <td>...</td>\n      <td>...</td>\n      <td>...</td>\n      <td>...</td>\n      <td>...</td>\n      <td>...</td>\n      <td>...</td>\n      <td>...</td>\n      <td>...</td>\n      <td>...</td>\n      <td>...</td>\n      <td>...</td>\n    </tr>\n    <tr>\n      <th>3835</th>\n      <td>6038df3058e7618ae577e8c8</td>\n      <td>2019</td>\n      <td>76750</td>\n      <td>38860</td>\n      <td>Portland-South Portland, ME</td>\n      <td>23</td>\n      <td>76750</td>\n      <td>Portland-South Portland, ME</td>\n      <td>00-0000</td>\n      <td>All Occupations</td>\n      <td>...</td>\n      <td>29.91</td>\n      <td>44.94</td>\n      <td>24230</td>\n      <td>29400</td>\n      <td>41160</td>\n      <td>62220</td>\n      <td>93470</td>\n      <td>NaN</td>\n      <td>NaN</td>\n      <td>NaN</td>\n    </tr>\n    <tr>\n      <th>3836</th>\n      <td>6038df3058e7618ae577e8c9</td>\n      <td>2019</td>\n      <td>77200</td>\n      <td>39300</td>\n      <td>Providence-Warwick, RI-MA</td>\n      <td>44</td>\n      <td>77200</td>\n      <td>Providence-Warwick, RI-MA</td>\n      <td>00-0000</td>\n      <td>All Occupations</td>\n      <td>...</td>\n      <td>33.20</td>\n      <td>49.06</td>\n      <td>24480</td>\n      <td>28940</td>\n      <td>42700</td>\n      <td>69050</td>\n      <td>102050</td>\n      <td>NaN</td>\n      <td>NaN</td>\n      <td>NaN</td>\n    </tr>\n    <tr>\n      <th>3837</th>\n      <td>6038df3058e7618ae577e8ca</td>\n      <td>2019</td>\n      <td>78100</td>\n      <td>44140</td>\n      <td>Springfield, MA</td>\n      <td>25</td>\n      <td>78100</td>\n      <td>Springfield, MA-CT</td>\n      <td>00-0000</td>\n      <td>All Occupations</td>\n      <td>...</td>\n      <td>31.19</td>\n      <td>45.62</td>\n      <td>25510</td>\n      <td>29910</td>\n      <td>42230</td>\n      <td>64870</td>\n      <td>94890</td>\n      <td>NaN</td>\n      <td>NaN</td>\n      <td>NaN</td>\n    </tr>\n    <tr>\n      <th>3838</th>\n      <td>6038df3058e7618ae577e8cb</td>\n      <td>2019</td>\n      <td>79600</td>\n      <td>49340</td>\n      <td>Worcester, MA-CT</td>\n      <td>25</td>\n      <td>79600</td>\n      <td>Worcester, MA-CT</td>\n      <td>00-0000</td>\n      <td>All Occupations</td>\n      <td>...</td>\n      <td>32.76</td>\n      <td>48.03</td>\n      <td>25630</td>\n      <td>30450</td>\n      <td>44000</td>\n      <td>68140</td>\n      <td>99900</td>\n      <td>NaN</td>\n      <td>NaN</td>\n      <td>NaN</td>\n    </tr>\n    <tr>\n      <th>3839</th>\n      <td>6038df3058e7618ae577e8cc</td>\n      <td>2019</td>\n      <td>39100</td>\n      <td>39100</td>\n      <td>Poughkeepsie-Newburgh-Middletown, NY</td>\n      <td>36</td>\n      <td>NaN</td>\n      <td>NaN</td>\n      <td>00-0000</td>\n      <td>All Occupations</td>\n      <td>...</td>\n      <td>28.98</td>\n      <td>41.93</td>\n      <td>24340</td>\n      <td>28130</td>\n      <td>39380</td>\n      <td>60270</td>\n      <td>87210</td>\n      <td>NaN</td>\n      <td>NaN</td>\n      <td>NaN</td>\n    </tr>\n  </tbody>\n</table>\n<p>3840 rows × 31 columns</p>\n</div>"
     },
     "metadata": {},
     "execution_count": 69
    }
   ],
   "source": [
    "### Now the AnnualMeanWage\n",
    "\n",
    "# Create instance of MongoClient\n",
    "client = MongoClient()\n",
    "# Connection URI\n",
    "connStr = os.getenv('MONGO_CONN')\n",
    "client = MongoClient(connStr)\n",
    "# Select database\n",
    "db = client['MSA']\n",
    "# Select the collection within the database\n",
    "data = db.OES_raw\n",
    "# Convert entire collection to Pandas dataframe\n",
    "df_total = pd.DataFrame(list(data.find()))\n",
    "df_total"
   ]
  },
  {
   "cell_type": "code",
   "execution_count": 70,
   "metadata": {},
   "outputs": [
    {
     "output_type": "execute_result",
     "data": {
      "text/plain": [
       "Index(['_id', 'YEAR', 'AREA', 'CBSA', 'MSA_Name', 'state_code', 'PRIM_STATE',\n",
       "       'AREA_NAME', 'OCC_CODE', 'OCC_TITLE', 'GROUP', 'TOT_EMP', 'EMP_PRSE',\n",
       "       'JOBS_1000', 'LOC QUOTIENT', 'H_MEAN', 'A_MEAN', 'MEAN_PRSE', 'H_PCT10',\n",
       "       'H_PCT25', 'H_MEDIAN', 'H_PCT75', 'H_PCT90', 'A_PCT10', 'A_PCT25',\n",
       "       'A_MEDIAN', 'A_PCT75', 'A_PCT90', 'ANNUAL', 'HOURLY', 'OCC_GROUP'],\n",
       "      dtype='object')"
      ]
     },
     "metadata": {},
     "execution_count": 70
    }
   ],
   "source": [
    "df_total.columns"
   ]
  },
  {
   "cell_type": "code",
   "execution_count": 72,
   "metadata": {},
   "outputs": [],
   "source": [
    "df_wage = df_total.drop(columns=['_id', 'AREA', 'MSA_Name', 'state_code', 'PRIM_STATE',\n",
    "       'AREA_NAME', 'OCC_CODE', 'OCC_TITLE', 'GROUP', 'TOT_EMP', 'EMP_PRSE',\n",
    "       'JOBS_1000', 'LOC QUOTIENT', 'H_MEAN', 'MEAN_PRSE', 'H_PCT10',\n",
    "       'H_PCT25', 'H_MEDIAN', 'H_PCT75', 'H_PCT90', 'A_PCT10', 'A_PCT25',\n",
    "       'A_MEDIAN', 'A_PCT75', 'A_PCT90', 'ANNUAL', 'HOURLY', 'OCC_GROUP'])"
   ]
  },
  {
   "cell_type": "code",
   "execution_count": 73,
   "metadata": {},
   "outputs": [],
   "source": [
    "def clean_raw_data(df_raw):\n",
    "    # df_raw = df_raw[df_raw['month'] == 'December']\n",
    "    # df_raw.drop(columns=['month', 'MSA', '_id'], inplace=True)\n",
    "    # df_raw.drop(columns=['month', '_id'], inplace=True)\n",
    "    df_raw.sort_values(by='CBSA', inplace=True)\n",
    "    df_pivot = pd.pivot_table(df_raw, values = 'A_MEAN', index=['CBSA'], columns = 'YEAR').reset_index()\n",
    "    df_pivot = df_pivot.rename_axis(None, axis=1)\n",
    "    col_list = df_pivot.columns\n",
    "    new_col_list = []\n",
    "    for col in col_list:\n",
    "        new_col_list.append(str(col))\n",
    "    df_pivot.columns = new_col_list\n",
    "    return df_pivot"
   ]
  },
  {
   "cell_type": "code",
   "execution_count": 75,
   "metadata": {},
   "outputs": [],
   "source": [
    "df_meanwage = clean_raw_data(df_wage)"
   ]
  },
  {
   "cell_type": "code",
   "execution_count": 77,
   "metadata": {},
   "outputs": [
    {
     "output_type": "stream",
     "name": "stdout",
     "text": [
      "<class 'pandas.core.frame.DataFrame'>\nRangeIndex: 384 entries, 0 to 383\nData columns (total 11 columns):\n #   Column  Non-Null Count  Dtype\n---  ------  --------------  -----\n 0   CBSA    384 non-null    int64\n 1   2010    384 non-null    int64\n 2   2011    384 non-null    int64\n 3   2012    384 non-null    int64\n 4   2013    384 non-null    int64\n 5   2014    384 non-null    int64\n 6   2015    384 non-null    int64\n 7   2016    384 non-null    int64\n 8   2017    384 non-null    int64\n 9   2018    384 non-null    int64\n 10  2019    384 non-null    int64\ndtypes: int64(11)\nmemory usage: 33.1 KB\n"
     ]
    }
   ],
   "source": [
    "df_meanwage.info()"
   ]
  },
  {
   "cell_type": "code",
   "execution_count": 78,
   "metadata": {},
   "outputs": [
    {
     "output_type": "execute_result",
     "data": {
      "text/plain": [
       "<pymongo.results.InsertManyResult at 0x29a1269ab80>"
      ]
     },
     "metadata": {},
     "execution_count": 78
    }
   ],
   "source": [
    "# export annual mean wage clean dataframe back to mongo\n",
    "clean_collection = db.AnnualMeanWage_clean\n",
    "df_dict = df_meanwage.to_dict(orient = 'records')\n",
    "clean_collection.insert_many(df_dict)"
   ]
  },
  {
   "cell_type": "code",
   "execution_count": 79,
   "metadata": {},
   "outputs": [
    {
     "output_type": "execute_result",
     "data": {
      "text/plain": [
       "     CBSA Code  BA2010  BA2011  BA2012  BA2013  BA2014  BA2015  BA2016  \\\n",
       "0        10180   774.0   818.0   929.0   839.0   978.0  1032.0  1039.0   \n",
       "1        10420  4395.0  4610.0  4379.0  4327.0  4354.0  4639.0  4834.0   \n",
       "2        10500   923.0  1033.0  1060.0   966.0  1107.0  1041.0  1161.0   \n",
       "3        10540   564.0   544.0   537.0   509.0   631.0   608.0   687.0   \n",
       "4        10580  4825.0  5284.0  5150.0  5352.0  5216.0  5405.0  6050.0   \n",
       "..         ...     ...     ...     ...     ...     ...     ...     ...   \n",
       "379      49420   924.0  1042.0   908.0   891.0   932.0   974.0  1038.0   \n",
       "380      49620  2167.0  2151.0  2271.0  2123.0  2166.0  2232.0  2365.0   \n",
       "381      49660  2652.0  2808.0  2982.0  2858.0  2890.0  2848.0  2850.0   \n",
       "382      49700   655.0   648.0   614.0   690.0   656.0   715.0   666.0   \n",
       "383      49740   737.0   707.0   837.0   771.0   762.0   886.0   911.0   \n",
       "\n",
       "     BA2017  BA2018  BA2019  \n",
       "0    1053.0  1093.0  1170.0  \n",
       "1    5175.0  5511.0  5787.0  \n",
       "2    1183.0  1300.0  1686.0  \n",
       "3     744.0   843.0   831.0  \n",
       "4    7728.0  8960.0  7627.0  \n",
       "..      ...     ...     ...  \n",
       "379  1066.0  1213.0  1352.0  \n",
       "380  2561.0  2640.0  2756.0  \n",
       "381  3144.0  3319.0  3425.0  \n",
       "382   782.0   892.0  1005.0  \n",
       "383   903.0   958.0  1061.0  \n",
       "\n",
       "[384 rows x 11 columns]"
      ],
      "text/html": "<div>\n<style scoped>\n    .dataframe tbody tr th:only-of-type {\n        vertical-align: middle;\n    }\n\n    .dataframe tbody tr th {\n        vertical-align: top;\n    }\n\n    .dataframe thead th {\n        text-align: right;\n    }\n</style>\n<table border=\"1\" class=\"dataframe\">\n  <thead>\n    <tr style=\"text-align: right;\">\n      <th></th>\n      <th>CBSA Code</th>\n      <th>BA2010</th>\n      <th>BA2011</th>\n      <th>BA2012</th>\n      <th>BA2013</th>\n      <th>BA2014</th>\n      <th>BA2015</th>\n      <th>BA2016</th>\n      <th>BA2017</th>\n      <th>BA2018</th>\n      <th>BA2019</th>\n    </tr>\n  </thead>\n  <tbody>\n    <tr>\n      <th>0</th>\n      <td>10180</td>\n      <td>774.0</td>\n      <td>818.0</td>\n      <td>929.0</td>\n      <td>839.0</td>\n      <td>978.0</td>\n      <td>1032.0</td>\n      <td>1039.0</td>\n      <td>1053.0</td>\n      <td>1093.0</td>\n      <td>1170.0</td>\n    </tr>\n    <tr>\n      <th>1</th>\n      <td>10420</td>\n      <td>4395.0</td>\n      <td>4610.0</td>\n      <td>4379.0</td>\n      <td>4327.0</td>\n      <td>4354.0</td>\n      <td>4639.0</td>\n      <td>4834.0</td>\n      <td>5175.0</td>\n      <td>5511.0</td>\n      <td>5787.0</td>\n    </tr>\n    <tr>\n      <th>2</th>\n      <td>10500</td>\n      <td>923.0</td>\n      <td>1033.0</td>\n      <td>1060.0</td>\n      <td>966.0</td>\n      <td>1107.0</td>\n      <td>1041.0</td>\n      <td>1161.0</td>\n      <td>1183.0</td>\n      <td>1300.0</td>\n      <td>1686.0</td>\n    </tr>\n    <tr>\n      <th>3</th>\n      <td>10540</td>\n      <td>564.0</td>\n      <td>544.0</td>\n      <td>537.0</td>\n      <td>509.0</td>\n      <td>631.0</td>\n      <td>608.0</td>\n      <td>687.0</td>\n      <td>744.0</td>\n      <td>843.0</td>\n      <td>831.0</td>\n    </tr>\n    <tr>\n      <th>4</th>\n      <td>10580</td>\n      <td>4825.0</td>\n      <td>5284.0</td>\n      <td>5150.0</td>\n      <td>5352.0</td>\n      <td>5216.0</td>\n      <td>5405.0</td>\n      <td>6050.0</td>\n      <td>7728.0</td>\n      <td>8960.0</td>\n      <td>7627.0</td>\n    </tr>\n    <tr>\n      <th>...</th>\n      <td>...</td>\n      <td>...</td>\n      <td>...</td>\n      <td>...</td>\n      <td>...</td>\n      <td>...</td>\n      <td>...</td>\n      <td>...</td>\n      <td>...</td>\n      <td>...</td>\n      <td>...</td>\n    </tr>\n    <tr>\n      <th>379</th>\n      <td>49420</td>\n      <td>924.0</td>\n      <td>1042.0</td>\n      <td>908.0</td>\n      <td>891.0</td>\n      <td>932.0</td>\n      <td>974.0</td>\n      <td>1038.0</td>\n      <td>1066.0</td>\n      <td>1213.0</td>\n      <td>1352.0</td>\n    </tr>\n    <tr>\n      <th>380</th>\n      <td>49620</td>\n      <td>2167.0</td>\n      <td>2151.0</td>\n      <td>2271.0</td>\n      <td>2123.0</td>\n      <td>2166.0</td>\n      <td>2232.0</td>\n      <td>2365.0</td>\n      <td>2561.0</td>\n      <td>2640.0</td>\n      <td>2756.0</td>\n    </tr>\n    <tr>\n      <th>381</th>\n      <td>49660</td>\n      <td>2652.0</td>\n      <td>2808.0</td>\n      <td>2982.0</td>\n      <td>2858.0</td>\n      <td>2890.0</td>\n      <td>2848.0</td>\n      <td>2850.0</td>\n      <td>3144.0</td>\n      <td>3319.0</td>\n      <td>3425.0</td>\n    </tr>\n    <tr>\n      <th>382</th>\n      <td>49700</td>\n      <td>655.0</td>\n      <td>648.0</td>\n      <td>614.0</td>\n      <td>690.0</td>\n      <td>656.0</td>\n      <td>715.0</td>\n      <td>666.0</td>\n      <td>782.0</td>\n      <td>892.0</td>\n      <td>1005.0</td>\n    </tr>\n    <tr>\n      <th>383</th>\n      <td>49740</td>\n      <td>737.0</td>\n      <td>707.0</td>\n      <td>837.0</td>\n      <td>771.0</td>\n      <td>762.0</td>\n      <td>886.0</td>\n      <td>911.0</td>\n      <td>903.0</td>\n      <td>958.0</td>\n      <td>1061.0</td>\n    </tr>\n  </tbody>\n</table>\n<p>384 rows × 11 columns</p>\n</div>"
     },
     "metadata": {},
     "execution_count": 79
    }
   ],
   "source": [
    "## Now business applications\n",
    "\n",
    "df_biz = pd.read_csv('../../../temp/CityStats/business_apps_grouped.csv')\n",
    "df_biz"
   ]
  },
  {
   "cell_type": "code",
   "execution_count": 80,
   "metadata": {},
   "outputs": [
    {
     "output_type": "execute_result",
     "data": {
      "text/plain": [
       "Index(['CBSA Code', 'BA2010', 'BA2011', 'BA2012', 'BA2013', 'BA2014', 'BA2015',\n",
       "       'BA2016', 'BA2017', 'BA2018', 'BA2019'],\n",
       "      dtype='object')"
      ]
     },
     "metadata": {},
     "execution_count": 80
    }
   ],
   "source": [
    "df_biz.columns"
   ]
  },
  {
   "cell_type": "code",
   "execution_count": 81,
   "metadata": {},
   "outputs": [
    {
     "output_type": "execute_result",
     "data": {
      "text/plain": [
       "      CBSA    2010    2011    2012    2013    2014    2015    2016    2017  \\\n",
       "0    10180   774.0   818.0   929.0   839.0   978.0  1032.0  1039.0  1053.0   \n",
       "1    10420  4395.0  4610.0  4379.0  4327.0  4354.0  4639.0  4834.0  5175.0   \n",
       "2    10500   923.0  1033.0  1060.0   966.0  1107.0  1041.0  1161.0  1183.0   \n",
       "3    10540   564.0   544.0   537.0   509.0   631.0   608.0   687.0   744.0   \n",
       "4    10580  4825.0  5284.0  5150.0  5352.0  5216.0  5405.0  6050.0  7728.0   \n",
       "..     ...     ...     ...     ...     ...     ...     ...     ...     ...   \n",
       "379  49420   924.0  1042.0   908.0   891.0   932.0   974.0  1038.0  1066.0   \n",
       "380  49620  2167.0  2151.0  2271.0  2123.0  2166.0  2232.0  2365.0  2561.0   \n",
       "381  49660  2652.0  2808.0  2982.0  2858.0  2890.0  2848.0  2850.0  3144.0   \n",
       "382  49700   655.0   648.0   614.0   690.0   656.0   715.0   666.0   782.0   \n",
       "383  49740   737.0   707.0   837.0   771.0   762.0   886.0   911.0   903.0   \n",
       "\n",
       "       2018    2019  \n",
       "0    1093.0  1170.0  \n",
       "1    5511.0  5787.0  \n",
       "2    1300.0  1686.0  \n",
       "3     843.0   831.0  \n",
       "4    8960.0  7627.0  \n",
       "..      ...     ...  \n",
       "379  1213.0  1352.0  \n",
       "380  2640.0  2756.0  \n",
       "381  3319.0  3425.0  \n",
       "382   892.0  1005.0  \n",
       "383   958.0  1061.0  \n",
       "\n",
       "[384 rows x 11 columns]"
      ],
      "text/html": "<div>\n<style scoped>\n    .dataframe tbody tr th:only-of-type {\n        vertical-align: middle;\n    }\n\n    .dataframe tbody tr th {\n        vertical-align: top;\n    }\n\n    .dataframe thead th {\n        text-align: right;\n    }\n</style>\n<table border=\"1\" class=\"dataframe\">\n  <thead>\n    <tr style=\"text-align: right;\">\n      <th></th>\n      <th>CBSA</th>\n      <th>2010</th>\n      <th>2011</th>\n      <th>2012</th>\n      <th>2013</th>\n      <th>2014</th>\n      <th>2015</th>\n      <th>2016</th>\n      <th>2017</th>\n      <th>2018</th>\n      <th>2019</th>\n    </tr>\n  </thead>\n  <tbody>\n    <tr>\n      <th>0</th>\n      <td>10180</td>\n      <td>774.0</td>\n      <td>818.0</td>\n      <td>929.0</td>\n      <td>839.0</td>\n      <td>978.0</td>\n      <td>1032.0</td>\n      <td>1039.0</td>\n      <td>1053.0</td>\n      <td>1093.0</td>\n      <td>1170.0</td>\n    </tr>\n    <tr>\n      <th>1</th>\n      <td>10420</td>\n      <td>4395.0</td>\n      <td>4610.0</td>\n      <td>4379.0</td>\n      <td>4327.0</td>\n      <td>4354.0</td>\n      <td>4639.0</td>\n      <td>4834.0</td>\n      <td>5175.0</td>\n      <td>5511.0</td>\n      <td>5787.0</td>\n    </tr>\n    <tr>\n      <th>2</th>\n      <td>10500</td>\n      <td>923.0</td>\n      <td>1033.0</td>\n      <td>1060.0</td>\n      <td>966.0</td>\n      <td>1107.0</td>\n      <td>1041.0</td>\n      <td>1161.0</td>\n      <td>1183.0</td>\n      <td>1300.0</td>\n      <td>1686.0</td>\n    </tr>\n    <tr>\n      <th>3</th>\n      <td>10540</td>\n      <td>564.0</td>\n      <td>544.0</td>\n      <td>537.0</td>\n      <td>509.0</td>\n      <td>631.0</td>\n      <td>608.0</td>\n      <td>687.0</td>\n      <td>744.0</td>\n      <td>843.0</td>\n      <td>831.0</td>\n    </tr>\n    <tr>\n      <th>4</th>\n      <td>10580</td>\n      <td>4825.0</td>\n      <td>5284.0</td>\n      <td>5150.0</td>\n      <td>5352.0</td>\n      <td>5216.0</td>\n      <td>5405.0</td>\n      <td>6050.0</td>\n      <td>7728.0</td>\n      <td>8960.0</td>\n      <td>7627.0</td>\n    </tr>\n    <tr>\n      <th>...</th>\n      <td>...</td>\n      <td>...</td>\n      <td>...</td>\n      <td>...</td>\n      <td>...</td>\n      <td>...</td>\n      <td>...</td>\n      <td>...</td>\n      <td>...</td>\n      <td>...</td>\n      <td>...</td>\n    </tr>\n    <tr>\n      <th>379</th>\n      <td>49420</td>\n      <td>924.0</td>\n      <td>1042.0</td>\n      <td>908.0</td>\n      <td>891.0</td>\n      <td>932.0</td>\n      <td>974.0</td>\n      <td>1038.0</td>\n      <td>1066.0</td>\n      <td>1213.0</td>\n      <td>1352.0</td>\n    </tr>\n    <tr>\n      <th>380</th>\n      <td>49620</td>\n      <td>2167.0</td>\n      <td>2151.0</td>\n      <td>2271.0</td>\n      <td>2123.0</td>\n      <td>2166.0</td>\n      <td>2232.0</td>\n      <td>2365.0</td>\n      <td>2561.0</td>\n      <td>2640.0</td>\n      <td>2756.0</td>\n    </tr>\n    <tr>\n      <th>381</th>\n      <td>49660</td>\n      <td>2652.0</td>\n      <td>2808.0</td>\n      <td>2982.0</td>\n      <td>2858.0</td>\n      <td>2890.0</td>\n      <td>2848.0</td>\n      <td>2850.0</td>\n      <td>3144.0</td>\n      <td>3319.0</td>\n      <td>3425.0</td>\n    </tr>\n    <tr>\n      <th>382</th>\n      <td>49700</td>\n      <td>655.0</td>\n      <td>648.0</td>\n      <td>614.0</td>\n      <td>690.0</td>\n      <td>656.0</td>\n      <td>715.0</td>\n      <td>666.0</td>\n      <td>782.0</td>\n      <td>892.0</td>\n      <td>1005.0</td>\n    </tr>\n    <tr>\n      <th>383</th>\n      <td>49740</td>\n      <td>737.0</td>\n      <td>707.0</td>\n      <td>837.0</td>\n      <td>771.0</td>\n      <td>762.0</td>\n      <td>886.0</td>\n      <td>911.0</td>\n      <td>903.0</td>\n      <td>958.0</td>\n      <td>1061.0</td>\n    </tr>\n  </tbody>\n</table>\n<p>384 rows × 11 columns</p>\n</div>"
     },
     "metadata": {},
     "execution_count": 81
    }
   ],
   "source": [
    "df_biz.columns = ['CBSA', '2010', '2011', '2012', '2013', '2014', '2015',\n",
    "       '2016', '2017', '2018', '2019']\n",
    "df_biz"
   ]
  },
  {
   "cell_type": "code",
   "execution_count": 82,
   "metadata": {},
   "outputs": [
    {
     "output_type": "execute_result",
     "data": {
      "text/plain": [
       "<pymongo.results.InsertManyResult at 0x29a12d9a440>"
      ]
     },
     "metadata": {},
     "execution_count": 82
    }
   ],
   "source": [
    "# export business apps clean dataframe back to mongo\n",
    "clean_collection = db.BusinessApplications_clean\n",
    "df_dict = df_biz.to_dict(orient = 'records')\n",
    "clean_collection.insert_many(df_dict)"
   ]
  },
  {
   "cell_type": "code",
   "execution_count": 83,
   "metadata": {},
   "outputs": [
    {
     "output_type": "execute_result",
     "data": {
      "text/plain": [
       "                          _id Region    series id  year period period_name  \\\n",
       "0    60375e722690f89598dfbb16      1  CUUR0100SA0  2019    M12    December   \n",
       "1    60375e722690f89598dfbb17      1  CUUR0100SA0  2019    M11    November   \n",
       "2    60375e722690f89598dfbb18      1  CUUR0100SA0  2019    M10     October   \n",
       "3    60375e722690f89598dfbb19      1  CUUR0100SA0  2019    M09   September   \n",
       "4    60375e722690f89598dfbb1a      1  CUUR0100SA0  2019    M08      August   \n",
       "..                        ...    ...          ...   ...    ...         ...   \n",
       "475  60375e722690f89598dfbcf1      4  CUUR0400SA0  2010    M05         May   \n",
       "476  60375e722690f89598dfbcf2      4  CUUR0400SA0  2010    M04       April   \n",
       "477  60375e722690f89598dfbcf3      4  CUUR0400SA0  2010    M03       March   \n",
       "478  60375e722690f89598dfbcf4      4  CUUR0400SA0  2010    M02    February   \n",
       "479  60375e722690f89598dfbcf5      4  CUUR0400SA0  2010    M01     January   \n",
       "\n",
       "       value  \n",
       "0    270.429  \n",
       "1    270.643  \n",
       "2    270.348  \n",
       "3    270.563  \n",
       "4    270.548  \n",
       "..       ...  \n",
       "475  221.417  \n",
       "476  221.202  \n",
       "477  220.809  \n",
       "478  220.179  \n",
       "479  219.989  \n",
       "\n",
       "[480 rows x 7 columns]"
      ],
      "text/html": "<div>\n<style scoped>\n    .dataframe tbody tr th:only-of-type {\n        vertical-align: middle;\n    }\n\n    .dataframe tbody tr th {\n        vertical-align: top;\n    }\n\n    .dataframe thead th {\n        text-align: right;\n    }\n</style>\n<table border=\"1\" class=\"dataframe\">\n  <thead>\n    <tr style=\"text-align: right;\">\n      <th></th>\n      <th>_id</th>\n      <th>Region</th>\n      <th>series id</th>\n      <th>year</th>\n      <th>period</th>\n      <th>period_name</th>\n      <th>value</th>\n    </tr>\n  </thead>\n  <tbody>\n    <tr>\n      <th>0</th>\n      <td>60375e722690f89598dfbb16</td>\n      <td>1</td>\n      <td>CUUR0100SA0</td>\n      <td>2019</td>\n      <td>M12</td>\n      <td>December</td>\n      <td>270.429</td>\n    </tr>\n    <tr>\n      <th>1</th>\n      <td>60375e722690f89598dfbb17</td>\n      <td>1</td>\n      <td>CUUR0100SA0</td>\n      <td>2019</td>\n      <td>M11</td>\n      <td>November</td>\n      <td>270.643</td>\n    </tr>\n    <tr>\n      <th>2</th>\n      <td>60375e722690f89598dfbb18</td>\n      <td>1</td>\n      <td>CUUR0100SA0</td>\n      <td>2019</td>\n      <td>M10</td>\n      <td>October</td>\n      <td>270.348</td>\n    </tr>\n    <tr>\n      <th>3</th>\n      <td>60375e722690f89598dfbb19</td>\n      <td>1</td>\n      <td>CUUR0100SA0</td>\n      <td>2019</td>\n      <td>M09</td>\n      <td>September</td>\n      <td>270.563</td>\n    </tr>\n    <tr>\n      <th>4</th>\n      <td>60375e722690f89598dfbb1a</td>\n      <td>1</td>\n      <td>CUUR0100SA0</td>\n      <td>2019</td>\n      <td>M08</td>\n      <td>August</td>\n      <td>270.548</td>\n    </tr>\n    <tr>\n      <th>...</th>\n      <td>...</td>\n      <td>...</td>\n      <td>...</td>\n      <td>...</td>\n      <td>...</td>\n      <td>...</td>\n      <td>...</td>\n    </tr>\n    <tr>\n      <th>475</th>\n      <td>60375e722690f89598dfbcf1</td>\n      <td>4</td>\n      <td>CUUR0400SA0</td>\n      <td>2010</td>\n      <td>M05</td>\n      <td>May</td>\n      <td>221.417</td>\n    </tr>\n    <tr>\n      <th>476</th>\n      <td>60375e722690f89598dfbcf2</td>\n      <td>4</td>\n      <td>CUUR0400SA0</td>\n      <td>2010</td>\n      <td>M04</td>\n      <td>April</td>\n      <td>221.202</td>\n    </tr>\n    <tr>\n      <th>477</th>\n      <td>60375e722690f89598dfbcf3</td>\n      <td>4</td>\n      <td>CUUR0400SA0</td>\n      <td>2010</td>\n      <td>M03</td>\n      <td>March</td>\n      <td>220.809</td>\n    </tr>\n    <tr>\n      <th>478</th>\n      <td>60375e722690f89598dfbcf4</td>\n      <td>4</td>\n      <td>CUUR0400SA0</td>\n      <td>2010</td>\n      <td>M02</td>\n      <td>February</td>\n      <td>220.179</td>\n    </tr>\n    <tr>\n      <th>479</th>\n      <td>60375e722690f89598dfbcf5</td>\n      <td>4</td>\n      <td>CUUR0400SA0</td>\n      <td>2010</td>\n      <td>M01</td>\n      <td>January</td>\n      <td>219.989</td>\n    </tr>\n  </tbody>\n</table>\n<p>480 rows × 7 columns</p>\n</div>"
     },
     "metadata": {},
     "execution_count": 83
    }
   ],
   "source": [
    "### Now the CPI\n",
    "\n",
    "# Create instance of MongoClient\n",
    "client = MongoClient()\n",
    "# Connection URI\n",
    "connStr = os.getenv('MONGO_CONN')\n",
    "client = MongoClient(connStr)\n",
    "# Select database\n",
    "db = client['MSA']\n",
    "# Select the collection within the database\n",
    "data = db.CPI_RegionUrban_raw\n",
    "# Convert entire collection to Pandas dataframe\n",
    "df_total = pd.DataFrame(list(data.find()))\n",
    "df_total"
   ]
  },
  {
   "cell_type": "code",
   "execution_count": 85,
   "metadata": {},
   "outputs": [
    {
     "output_type": "execute_result",
     "data": {
      "text/plain": [
       "                         _id Region    series id  year period period_name  \\\n",
       "0   60375e722690f89598dfbb16      1  CUUR0100SA0  2019    M12    December   \n",
       "12  60375e722690f89598dfbb22      1  CUUR0100SA0  2018    M12    December   \n",
       "24  60375e722690f89598dfbb2e      1  CUUR0100SA0  2017    M12    December   \n",
       "36  60375e722690f89598dfbb3a      1  CUUR0100SA0  2016    M12    December   \n",
       "48  60375e722690f89598dfbb46      1  CUUR0100SA0  2015    M12    December   \n",
       "\n",
       "      value  \n",
       "0   270.429  \n",
       "12  265.286  \n",
       "24  260.791  \n",
       "36  256.427  \n",
       "48  251.670  "
      ],
      "text/html": "<div>\n<style scoped>\n    .dataframe tbody tr th:only-of-type {\n        vertical-align: middle;\n    }\n\n    .dataframe tbody tr th {\n        vertical-align: top;\n    }\n\n    .dataframe thead th {\n        text-align: right;\n    }\n</style>\n<table border=\"1\" class=\"dataframe\">\n  <thead>\n    <tr style=\"text-align: right;\">\n      <th></th>\n      <th>_id</th>\n      <th>Region</th>\n      <th>series id</th>\n      <th>year</th>\n      <th>period</th>\n      <th>period_name</th>\n      <th>value</th>\n    </tr>\n  </thead>\n  <tbody>\n    <tr>\n      <th>0</th>\n      <td>60375e722690f89598dfbb16</td>\n      <td>1</td>\n      <td>CUUR0100SA0</td>\n      <td>2019</td>\n      <td>M12</td>\n      <td>December</td>\n      <td>270.429</td>\n    </tr>\n    <tr>\n      <th>12</th>\n      <td>60375e722690f89598dfbb22</td>\n      <td>1</td>\n      <td>CUUR0100SA0</td>\n      <td>2018</td>\n      <td>M12</td>\n      <td>December</td>\n      <td>265.286</td>\n    </tr>\n    <tr>\n      <th>24</th>\n      <td>60375e722690f89598dfbb2e</td>\n      <td>1</td>\n      <td>CUUR0100SA0</td>\n      <td>2017</td>\n      <td>M12</td>\n      <td>December</td>\n      <td>260.791</td>\n    </tr>\n    <tr>\n      <th>36</th>\n      <td>60375e722690f89598dfbb3a</td>\n      <td>1</td>\n      <td>CUUR0100SA0</td>\n      <td>2016</td>\n      <td>M12</td>\n      <td>December</td>\n      <td>256.427</td>\n    </tr>\n    <tr>\n      <th>48</th>\n      <td>60375e722690f89598dfbb46</td>\n      <td>1</td>\n      <td>CUUR0100SA0</td>\n      <td>2015</td>\n      <td>M12</td>\n      <td>December</td>\n      <td>251.670</td>\n    </tr>\n  </tbody>\n</table>\n</div>"
     },
     "metadata": {},
     "execution_count": 85
    }
   ],
   "source": [
    "df_raw = df_total[df_total['period_name'] == 'December']\n",
    "df_raw.head()"
   ]
  },
  {
   "cell_type": "code",
   "execution_count": 86,
   "metadata": {},
   "outputs": [
    {
     "output_type": "execute_result",
     "data": {
      "text/plain": [
       "    Region  year    value\n",
       "0        1  2019  270.429\n",
       "12       1  2018  265.286\n",
       "24       1  2017  260.791\n",
       "36       1  2016  256.427\n",
       "48       1  2015  251.670\n",
       "60       1  2014  250.519\n",
       "72       1  2013  249.567\n",
       "84       1  2012  246.456\n",
       "96       1  2011  241.987\n",
       "108      1  2010  235.141\n",
       "216      2  2011  215.173\n",
       "204      2  2012  219.033\n",
       "192      2  2013  221.194\n",
       "180      2  2014  222.821\n",
       "228      2  2010  209.270\n",
       "156      2  2016  226.794\n",
       "144      2  2017  230.548\n",
       "132      2  2018  233.458\n",
       "120      2  2019  238.734\n",
       "168      2  2015  222.722\n",
       "348      3  2010  212.488\n",
       "336      3  2011  219.469\n",
       "312      3  2013  227.082\n",
       "300      3  2014  228.451\n",
       "324      3  2012  223.109\n",
       "276      3  2016  234.204\n",
       "264      3  2017  238.512\n",
       "252      3  2018  242.150\n",
       "240      3  2019  247.289\n",
       "288      3  2015  229.581\n",
       "456      4  2011  228.117\n",
       "360      4  2019  272.584\n",
       "372      4  2018  265.209\n",
       "384      4  2017  257.347\n",
       "396      4  2016  249.516\n",
       "408      4  2015  243.434\n",
       "420      4  2014  239.095\n",
       "432      4  2013  236.096\n",
       "444      4  2012  232.029\n",
       "468      4  2010  222.081"
      ],
      "text/html": "<div>\n<style scoped>\n    .dataframe tbody tr th:only-of-type {\n        vertical-align: middle;\n    }\n\n    .dataframe tbody tr th {\n        vertical-align: top;\n    }\n\n    .dataframe thead th {\n        text-align: right;\n    }\n</style>\n<table border=\"1\" class=\"dataframe\">\n  <thead>\n    <tr style=\"text-align: right;\">\n      <th></th>\n      <th>Region</th>\n      <th>year</th>\n      <th>value</th>\n    </tr>\n  </thead>\n  <tbody>\n    <tr>\n      <th>0</th>\n      <td>1</td>\n      <td>2019</td>\n      <td>270.429</td>\n    </tr>\n    <tr>\n      <th>12</th>\n      <td>1</td>\n      <td>2018</td>\n      <td>265.286</td>\n    </tr>\n    <tr>\n      <th>24</th>\n      <td>1</td>\n      <td>2017</td>\n      <td>260.791</td>\n    </tr>\n    <tr>\n      <th>36</th>\n      <td>1</td>\n      <td>2016</td>\n      <td>256.427</td>\n    </tr>\n    <tr>\n      <th>48</th>\n      <td>1</td>\n      <td>2015</td>\n      <td>251.670</td>\n    </tr>\n    <tr>\n      <th>60</th>\n      <td>1</td>\n      <td>2014</td>\n      <td>250.519</td>\n    </tr>\n    <tr>\n      <th>72</th>\n      <td>1</td>\n      <td>2013</td>\n      <td>249.567</td>\n    </tr>\n    <tr>\n      <th>84</th>\n      <td>1</td>\n      <td>2012</td>\n      <td>246.456</td>\n    </tr>\n    <tr>\n      <th>96</th>\n      <td>1</td>\n      <td>2011</td>\n      <td>241.987</td>\n    </tr>\n    <tr>\n      <th>108</th>\n      <td>1</td>\n      <td>2010</td>\n      <td>235.141</td>\n    </tr>\n    <tr>\n      <th>216</th>\n      <td>2</td>\n      <td>2011</td>\n      <td>215.173</td>\n    </tr>\n    <tr>\n      <th>204</th>\n      <td>2</td>\n      <td>2012</td>\n      <td>219.033</td>\n    </tr>\n    <tr>\n      <th>192</th>\n      <td>2</td>\n      <td>2013</td>\n      <td>221.194</td>\n    </tr>\n    <tr>\n      <th>180</th>\n      <td>2</td>\n      <td>2014</td>\n      <td>222.821</td>\n    </tr>\n    <tr>\n      <th>228</th>\n      <td>2</td>\n      <td>2010</td>\n      <td>209.270</td>\n    </tr>\n    <tr>\n      <th>156</th>\n      <td>2</td>\n      <td>2016</td>\n      <td>226.794</td>\n    </tr>\n    <tr>\n      <th>144</th>\n      <td>2</td>\n      <td>2017</td>\n      <td>230.548</td>\n    </tr>\n    <tr>\n      <th>132</th>\n      <td>2</td>\n      <td>2018</td>\n      <td>233.458</td>\n    </tr>\n    <tr>\n      <th>120</th>\n      <td>2</td>\n      <td>2019</td>\n      <td>238.734</td>\n    </tr>\n    <tr>\n      <th>168</th>\n      <td>2</td>\n      <td>2015</td>\n      <td>222.722</td>\n    </tr>\n    <tr>\n      <th>348</th>\n      <td>3</td>\n      <td>2010</td>\n      <td>212.488</td>\n    </tr>\n    <tr>\n      <th>336</th>\n      <td>3</td>\n      <td>2011</td>\n      <td>219.469</td>\n    </tr>\n    <tr>\n      <th>312</th>\n      <td>3</td>\n      <td>2013</td>\n      <td>227.082</td>\n    </tr>\n    <tr>\n      <th>300</th>\n      <td>3</td>\n      <td>2014</td>\n      <td>228.451</td>\n    </tr>\n    <tr>\n      <th>324</th>\n      <td>3</td>\n      <td>2012</td>\n      <td>223.109</td>\n    </tr>\n    <tr>\n      <th>276</th>\n      <td>3</td>\n      <td>2016</td>\n      <td>234.204</td>\n    </tr>\n    <tr>\n      <th>264</th>\n      <td>3</td>\n      <td>2017</td>\n      <td>238.512</td>\n    </tr>\n    <tr>\n      <th>252</th>\n      <td>3</td>\n      <td>2018</td>\n      <td>242.150</td>\n    </tr>\n    <tr>\n      <th>240</th>\n      <td>3</td>\n      <td>2019</td>\n      <td>247.289</td>\n    </tr>\n    <tr>\n      <th>288</th>\n      <td>3</td>\n      <td>2015</td>\n      <td>229.581</td>\n    </tr>\n    <tr>\n      <th>456</th>\n      <td>4</td>\n      <td>2011</td>\n      <td>228.117</td>\n    </tr>\n    <tr>\n      <th>360</th>\n      <td>4</td>\n      <td>2019</td>\n      <td>272.584</td>\n    </tr>\n    <tr>\n      <th>372</th>\n      <td>4</td>\n      <td>2018</td>\n      <td>265.209</td>\n    </tr>\n    <tr>\n      <th>384</th>\n      <td>4</td>\n      <td>2017</td>\n      <td>257.347</td>\n    </tr>\n    <tr>\n      <th>396</th>\n      <td>4</td>\n      <td>2016</td>\n      <td>249.516</td>\n    </tr>\n    <tr>\n      <th>408</th>\n      <td>4</td>\n      <td>2015</td>\n      <td>243.434</td>\n    </tr>\n    <tr>\n      <th>420</th>\n      <td>4</td>\n      <td>2014</td>\n      <td>239.095</td>\n    </tr>\n    <tr>\n      <th>432</th>\n      <td>4</td>\n      <td>2013</td>\n      <td>236.096</td>\n    </tr>\n    <tr>\n      <th>444</th>\n      <td>4</td>\n      <td>2012</td>\n      <td>232.029</td>\n    </tr>\n    <tr>\n      <th>468</th>\n      <td>4</td>\n      <td>2010</td>\n      <td>222.081</td>\n    </tr>\n  </tbody>\n</table>\n</div>"
     },
     "metadata": {},
     "execution_count": 86
    }
   ],
   "source": [
    "# df_raw.drop(columns=['month', 'MSA', '_id'], inplace=True)\n",
    "df_raw.drop(columns=['series id', '_id', 'period', 'period_name'], inplace=True)\n",
    "df_raw.sort_values(by='Region', inplace=True)\n",
    "df_raw"
   ]
  },
  {
   "cell_type": "code",
   "execution_count": 87,
   "metadata": {},
   "outputs": [],
   "source": [
    "df_pivot = pd.pivot_table(df_raw, values = 'value', index=['Region'], columns = 'year').reset_index()\n",
    "df_pivot = df_pivot.rename_axis(None, axis=1)\n",
    "col_list = df_pivot.columns\n",
    "new_col_list = []\n",
    "for col in col_list:\n",
    "    new_col_list.append(str(col))\n",
    "df_pivot.columns = new_col_list"
   ]
  },
  {
   "cell_type": "code",
   "execution_count": 88,
   "metadata": {},
   "outputs": [
    {
     "output_type": "execute_result",
     "data": {
      "text/plain": [
       "  Region     2010     2011     2012     2013     2014     2015     2016  \\\n",
       "0      1  235.141  241.987  246.456  249.567  250.519  251.670  256.427   \n",
       "1      2  209.270  215.173  219.033  221.194  222.821  222.722  226.794   \n",
       "2      3  212.488  219.469  223.109  227.082  228.451  229.581  234.204   \n",
       "3      4  222.081  228.117  232.029  236.096  239.095  243.434  249.516   \n",
       "\n",
       "      2017     2018     2019  \n",
       "0  260.791  265.286  270.429  \n",
       "1  230.548  233.458  238.734  \n",
       "2  238.512  242.150  247.289  \n",
       "3  257.347  265.209  272.584  "
      ],
      "text/html": "<div>\n<style scoped>\n    .dataframe tbody tr th:only-of-type {\n        vertical-align: middle;\n    }\n\n    .dataframe tbody tr th {\n        vertical-align: top;\n    }\n\n    .dataframe thead th {\n        text-align: right;\n    }\n</style>\n<table border=\"1\" class=\"dataframe\">\n  <thead>\n    <tr style=\"text-align: right;\">\n      <th></th>\n      <th>Region</th>\n      <th>2010</th>\n      <th>2011</th>\n      <th>2012</th>\n      <th>2013</th>\n      <th>2014</th>\n      <th>2015</th>\n      <th>2016</th>\n      <th>2017</th>\n      <th>2018</th>\n      <th>2019</th>\n    </tr>\n  </thead>\n  <tbody>\n    <tr>\n      <th>0</th>\n      <td>1</td>\n      <td>235.141</td>\n      <td>241.987</td>\n      <td>246.456</td>\n      <td>249.567</td>\n      <td>250.519</td>\n      <td>251.670</td>\n      <td>256.427</td>\n      <td>260.791</td>\n      <td>265.286</td>\n      <td>270.429</td>\n    </tr>\n    <tr>\n      <th>1</th>\n      <td>2</td>\n      <td>209.270</td>\n      <td>215.173</td>\n      <td>219.033</td>\n      <td>221.194</td>\n      <td>222.821</td>\n      <td>222.722</td>\n      <td>226.794</td>\n      <td>230.548</td>\n      <td>233.458</td>\n      <td>238.734</td>\n    </tr>\n    <tr>\n      <th>2</th>\n      <td>3</td>\n      <td>212.488</td>\n      <td>219.469</td>\n      <td>223.109</td>\n      <td>227.082</td>\n      <td>228.451</td>\n      <td>229.581</td>\n      <td>234.204</td>\n      <td>238.512</td>\n      <td>242.150</td>\n      <td>247.289</td>\n    </tr>\n    <tr>\n      <th>3</th>\n      <td>4</td>\n      <td>222.081</td>\n      <td>228.117</td>\n      <td>232.029</td>\n      <td>236.096</td>\n      <td>239.095</td>\n      <td>243.434</td>\n      <td>249.516</td>\n      <td>257.347</td>\n      <td>265.209</td>\n      <td>272.584</td>\n    </tr>\n  </tbody>\n</table>\n</div>"
     },
     "metadata": {},
     "execution_count": 88
    }
   ],
   "source": [
    "df_pivot"
   ]
  },
  {
   "cell_type": "code",
   "execution_count": 89,
   "metadata": {},
   "outputs": [
    {
     "output_type": "execute_result",
     "data": {
      "text/plain": [
       "<pymongo.results.InsertManyResult at 0x29a13206040>"
      ]
     },
     "metadata": {},
     "execution_count": 89
    }
   ],
   "source": [
    "# export CPI clean dataframe back to mongo\n",
    "clean_collection = db.CPI_RegionUrban_clean\n",
    "df_dict = df_pivot.to_dict(orient = 'records')\n",
    "clean_collection.insert_many(df_dict)"
   ]
  },
  {
   "cell_type": "code",
   "execution_count": 90,
   "metadata": {},
   "outputs": [
    {
     "output_type": "execute_result",
     "data": {
      "text/plain": [
       "                          _id   CBSA    2010    2011    2012    2013    2014  \\\n",
       "0    603dbd31680af8db371b1fb4  10180   76486   76723   76209   76347   75197   \n",
       "1    603dbd31680af8db371b1fb5  10420  369203  361648  360436  356986  359933   \n",
       "2    603dbd31680af8db371b1fb6  10500   70825   71135   69101   67391   65957   \n",
       "3    603dbd31680af8db371b1fb7  10540   56691   56016   54190   53221   54075   \n",
       "4    603dbd31680af8db371b1fb8  10580  449154  447519  453433  445629  438706   \n",
       "..                        ...    ...     ...     ...     ...     ...     ...   \n",
       "379  603dbd31680af8db371b212f  49420  114826  115596  114403  112408  115915   \n",
       "380  603dbd31680af8db371b2130  49620  229344  231145  232525  228768  229489   \n",
       "381  603dbd31680af8db371b2131  49660  265800  261511  259693  254507  251949   \n",
       "382  603dbd31680af8db371b2132  49700   74371   74220   72725   71203   70521   \n",
       "383  603dbd31680af8db371b2133  49740   91811   92140   94341   93805   93026   \n",
       "\n",
       "       2015    2016    2017    2018    2019  \n",
       "0     74411   74615   76071   77323   79499  \n",
       "1    358167  359554  358853  360974  357787  \n",
       "2     66377   68471   67478   67082   66999  \n",
       "3     55841   56853   57888   58764   58446  \n",
       "4    444496  441435  440205  444430  449737  \n",
       "..      ...     ...     ...     ...     ...  \n",
       "379  116743  119089  121256  124890  128962  \n",
       "380  232244  233206  232871  234409  237714  \n",
       "381  253137  245454  241154  240643  236372  \n",
       "382   71757   71897   72796   72979   77036  \n",
       "383   91577   93528   96511  100793  101964  \n",
       "\n",
       "[384 rows x 12 columns]"
      ],
      "text/html": "<div>\n<style scoped>\n    .dataframe tbody tr th:only-of-type {\n        vertical-align: middle;\n    }\n\n    .dataframe tbody tr th {\n        vertical-align: top;\n    }\n\n    .dataframe thead th {\n        text-align: right;\n    }\n</style>\n<table border=\"1\" class=\"dataframe\">\n  <thead>\n    <tr style=\"text-align: right;\">\n      <th></th>\n      <th>_id</th>\n      <th>CBSA</th>\n      <th>2010</th>\n      <th>2011</th>\n      <th>2012</th>\n      <th>2013</th>\n      <th>2014</th>\n      <th>2015</th>\n      <th>2016</th>\n      <th>2017</th>\n      <th>2018</th>\n      <th>2019</th>\n    </tr>\n  </thead>\n  <tbody>\n    <tr>\n      <th>0</th>\n      <td>603dbd31680af8db371b1fb4</td>\n      <td>10180</td>\n      <td>76486</td>\n      <td>76723</td>\n      <td>76209</td>\n      <td>76347</td>\n      <td>75197</td>\n      <td>74411</td>\n      <td>74615</td>\n      <td>76071</td>\n      <td>77323</td>\n      <td>79499</td>\n    </tr>\n    <tr>\n      <th>1</th>\n      <td>603dbd31680af8db371b1fb5</td>\n      <td>10420</td>\n      <td>369203</td>\n      <td>361648</td>\n      <td>360436</td>\n      <td>356986</td>\n      <td>359933</td>\n      <td>358167</td>\n      <td>359554</td>\n      <td>358853</td>\n      <td>360974</td>\n      <td>357787</td>\n    </tr>\n    <tr>\n      <th>2</th>\n      <td>603dbd31680af8db371b1fb6</td>\n      <td>10500</td>\n      <td>70825</td>\n      <td>71135</td>\n      <td>69101</td>\n      <td>67391</td>\n      <td>65957</td>\n      <td>66377</td>\n      <td>68471</td>\n      <td>67478</td>\n      <td>67082</td>\n      <td>66999</td>\n    </tr>\n    <tr>\n      <th>3</th>\n      <td>603dbd31680af8db371b1fb7</td>\n      <td>10540</td>\n      <td>56691</td>\n      <td>56016</td>\n      <td>54190</td>\n      <td>53221</td>\n      <td>54075</td>\n      <td>55841</td>\n      <td>56853</td>\n      <td>57888</td>\n      <td>58764</td>\n      <td>58446</td>\n    </tr>\n    <tr>\n      <th>4</th>\n      <td>603dbd31680af8db371b1fb8</td>\n      <td>10580</td>\n      <td>449154</td>\n      <td>447519</td>\n      <td>453433</td>\n      <td>445629</td>\n      <td>438706</td>\n      <td>444496</td>\n      <td>441435</td>\n      <td>440205</td>\n      <td>444430</td>\n      <td>449737</td>\n    </tr>\n    <tr>\n      <th>...</th>\n      <td>...</td>\n      <td>...</td>\n      <td>...</td>\n      <td>...</td>\n      <td>...</td>\n      <td>...</td>\n      <td>...</td>\n      <td>...</td>\n      <td>...</td>\n      <td>...</td>\n      <td>...</td>\n      <td>...</td>\n    </tr>\n    <tr>\n      <th>379</th>\n      <td>603dbd31680af8db371b212f</td>\n      <td>49420</td>\n      <td>114826</td>\n      <td>115596</td>\n      <td>114403</td>\n      <td>112408</td>\n      <td>115915</td>\n      <td>116743</td>\n      <td>119089</td>\n      <td>121256</td>\n      <td>124890</td>\n      <td>128962</td>\n    </tr>\n    <tr>\n      <th>380</th>\n      <td>603dbd31680af8db371b2130</td>\n      <td>49620</td>\n      <td>229344</td>\n      <td>231145</td>\n      <td>232525</td>\n      <td>228768</td>\n      <td>229489</td>\n      <td>232244</td>\n      <td>233206</td>\n      <td>232871</td>\n      <td>234409</td>\n      <td>237714</td>\n    </tr>\n    <tr>\n      <th>381</th>\n      <td>603dbd31680af8db371b2131</td>\n      <td>49660</td>\n      <td>265800</td>\n      <td>261511</td>\n      <td>259693</td>\n      <td>254507</td>\n      <td>251949</td>\n      <td>253137</td>\n      <td>245454</td>\n      <td>241154</td>\n      <td>240643</td>\n      <td>236372</td>\n    </tr>\n    <tr>\n      <th>382</th>\n      <td>603dbd31680af8db371b2132</td>\n      <td>49700</td>\n      <td>74371</td>\n      <td>74220</td>\n      <td>72725</td>\n      <td>71203</td>\n      <td>70521</td>\n      <td>71757</td>\n      <td>71897</td>\n      <td>72796</td>\n      <td>72979</td>\n      <td>77036</td>\n    </tr>\n    <tr>\n      <th>383</th>\n      <td>603dbd31680af8db371b2133</td>\n      <td>49740</td>\n      <td>91811</td>\n      <td>92140</td>\n      <td>94341</td>\n      <td>93805</td>\n      <td>93026</td>\n      <td>91577</td>\n      <td>93528</td>\n      <td>96511</td>\n      <td>100793</td>\n      <td>101964</td>\n    </tr>\n  </tbody>\n</table>\n<p>384 rows × 12 columns</p>\n</div>"
     },
     "metadata": {},
     "execution_count": 90
    }
   ],
   "source": [
    "### Now we need to create a Labor Participation table\n",
    "\n",
    "# Select the collection within the database\n",
    "data = db.LaborForce_clean\n",
    "# Convert entire collection to Pandas dataframe\n",
    "df_labor = pd.DataFrame(list(data.find()))\n",
    "df_labor"
   ]
  },
  {
   "cell_type": "code",
   "execution_count": 94,
   "metadata": {},
   "outputs": [
    {
     "output_type": "execute_result",
     "data": {
      "text/plain": [
       "                          _id   CBSA     2010     2011     2012     2013  \\\n",
       "0    603dc65f680af8db371b2438  11540   225948   227548   228656   229978   \n",
       "1    603dc65f680af8db371b2439  12020   193439   194375   195984   197590   \n",
       "2    603dc65f680af8db371b243a  14010   169810   170909   172721   175037   \n",
       "3    603dc65f680af8db371b243b  15540   211538   213235   213962   214827   \n",
       "4    603dc65f680af8db371b243c  19660   590506   591926   594969   600236   \n",
       "..                        ...    ...      ...      ...      ...      ...   \n",
       "379  603dc65f680af8db371b25b3  38340   131317   130547   130284   129488   \n",
       "380  603dc65f680af8db371b25b4  41700  2153009  2193923  2236981  2280002   \n",
       "381  603dc65f680af8db371b25b5  42100   263147   264858   266340   268816   \n",
       "382  603dc65f680af8db371b25b6  44180   437349   440432   444329   448427   \n",
       "383  603dc65f680af8db371b25b7  44700   687127   694354   699593   702046   \n",
       "\n",
       "        2014     2015     2016     2017     2018     2019  \n",
       "0     231627   233146   234200   235811   237011   237974  \n",
       "1     198361   202565   205402   209106   211468   213750  \n",
       "2     174105   173141   173070   172754   172410   171517  \n",
       "3     215676   217152   217447   218975   219939   220411  \n",
       "4     608604   621166   635859   647867   658186   668365  \n",
       "..       ...      ...      ...      ...      ...      ...  \n",
       "379   128856   127858   127067   126353   125901   124944  \n",
       "380  2328894  2379232  2426276  2472121  2512379  2550960  \n",
       "381   270861   273503   274396   274856   273841   273213  \n",
       "382   451556   455593   457917   462090   466273   470300  \n",
       "383   711579   722271   732809   743296   752491   762148  \n",
       "\n",
       "[384 rows x 12 columns]"
      ],
      "text/html": "<div>\n<style scoped>\n    .dataframe tbody tr th:only-of-type {\n        vertical-align: middle;\n    }\n\n    .dataframe tbody tr th {\n        vertical-align: top;\n    }\n\n    .dataframe thead th {\n        text-align: right;\n    }\n</style>\n<table border=\"1\" class=\"dataframe\">\n  <thead>\n    <tr style=\"text-align: right;\">\n      <th></th>\n      <th>_id</th>\n      <th>CBSA</th>\n      <th>2010</th>\n      <th>2011</th>\n      <th>2012</th>\n      <th>2013</th>\n      <th>2014</th>\n      <th>2015</th>\n      <th>2016</th>\n      <th>2017</th>\n      <th>2018</th>\n      <th>2019</th>\n    </tr>\n  </thead>\n  <tbody>\n    <tr>\n      <th>0</th>\n      <td>603dc65f680af8db371b2438</td>\n      <td>11540</td>\n      <td>225948</td>\n      <td>227548</td>\n      <td>228656</td>\n      <td>229978</td>\n      <td>231627</td>\n      <td>233146</td>\n      <td>234200</td>\n      <td>235811</td>\n      <td>237011</td>\n      <td>237974</td>\n    </tr>\n    <tr>\n      <th>1</th>\n      <td>603dc65f680af8db371b2439</td>\n      <td>12020</td>\n      <td>193439</td>\n      <td>194375</td>\n      <td>195984</td>\n      <td>197590</td>\n      <td>198361</td>\n      <td>202565</td>\n      <td>205402</td>\n      <td>209106</td>\n      <td>211468</td>\n      <td>213750</td>\n    </tr>\n    <tr>\n      <th>2</th>\n      <td>603dc65f680af8db371b243a</td>\n      <td>14010</td>\n      <td>169810</td>\n      <td>170909</td>\n      <td>172721</td>\n      <td>175037</td>\n      <td>174105</td>\n      <td>173141</td>\n      <td>173070</td>\n      <td>172754</td>\n      <td>172410</td>\n      <td>171517</td>\n    </tr>\n    <tr>\n      <th>3</th>\n      <td>603dc65f680af8db371b243b</td>\n      <td>15540</td>\n      <td>211538</td>\n      <td>213235</td>\n      <td>213962</td>\n      <td>214827</td>\n      <td>215676</td>\n      <td>217152</td>\n      <td>217447</td>\n      <td>218975</td>\n      <td>219939</td>\n      <td>220411</td>\n    </tr>\n    <tr>\n      <th>4</th>\n      <td>603dc65f680af8db371b243c</td>\n      <td>19660</td>\n      <td>590506</td>\n      <td>591926</td>\n      <td>594969</td>\n      <td>600236</td>\n      <td>608604</td>\n      <td>621166</td>\n      <td>635859</td>\n      <td>647867</td>\n      <td>658186</td>\n      <td>668365</td>\n    </tr>\n    <tr>\n      <th>...</th>\n      <td>...</td>\n      <td>...</td>\n      <td>...</td>\n      <td>...</td>\n      <td>...</td>\n      <td>...</td>\n      <td>...</td>\n      <td>...</td>\n      <td>...</td>\n      <td>...</td>\n      <td>...</td>\n      <td>...</td>\n    </tr>\n    <tr>\n      <th>379</th>\n      <td>603dc65f680af8db371b25b3</td>\n      <td>38340</td>\n      <td>131317</td>\n      <td>130547</td>\n      <td>130284</td>\n      <td>129488</td>\n      <td>128856</td>\n      <td>127858</td>\n      <td>127067</td>\n      <td>126353</td>\n      <td>125901</td>\n      <td>124944</td>\n    </tr>\n    <tr>\n      <th>380</th>\n      <td>603dc65f680af8db371b25b4</td>\n      <td>41700</td>\n      <td>2153009</td>\n      <td>2193923</td>\n      <td>2236981</td>\n      <td>2280002</td>\n      <td>2328894</td>\n      <td>2379232</td>\n      <td>2426276</td>\n      <td>2472121</td>\n      <td>2512379</td>\n      <td>2550960</td>\n    </tr>\n    <tr>\n      <th>381</th>\n      <td>603dc65f680af8db371b25b5</td>\n      <td>42100</td>\n      <td>263147</td>\n      <td>264858</td>\n      <td>266340</td>\n      <td>268816</td>\n      <td>270861</td>\n      <td>273503</td>\n      <td>274396</td>\n      <td>274856</td>\n      <td>273841</td>\n      <td>273213</td>\n    </tr>\n    <tr>\n      <th>382</th>\n      <td>603dc65f680af8db371b25b6</td>\n      <td>44180</td>\n      <td>437349</td>\n      <td>440432</td>\n      <td>444329</td>\n      <td>448427</td>\n      <td>451556</td>\n      <td>455593</td>\n      <td>457917</td>\n      <td>462090</td>\n      <td>466273</td>\n      <td>470300</td>\n    </tr>\n    <tr>\n      <th>383</th>\n      <td>603dc65f680af8db371b25b7</td>\n      <td>44700</td>\n      <td>687127</td>\n      <td>694354</td>\n      <td>699593</td>\n      <td>702046</td>\n      <td>711579</td>\n      <td>722271</td>\n      <td>732809</td>\n      <td>743296</td>\n      <td>752491</td>\n      <td>762148</td>\n    </tr>\n  </tbody>\n</table>\n<p>384 rows × 12 columns</p>\n</div>"
     },
     "metadata": {},
     "execution_count": 94
    }
   ],
   "source": [
    "# Select the collection within the database\n",
    "data = db.Population_clean\n",
    "# Convert entire collection to Pandas dataframe\n",
    "df_pop = pd.DataFrame(list(data.find()))\n",
    "df_pop"
   ]
  },
  {
   "cell_type": "code",
   "execution_count": 95,
   "metadata": {},
   "outputs": [
    {
     "output_type": "execute_result",
     "data": {
      "text/plain": [
       "                          _id   CBSA    2010    2011    2012    2013    2014  \\\n",
       "0    603dc65f680af8db371b2522  10180  165585  166634  167442  167473  168342   \n",
       "1    603dc65f680af8db371b2541  10420  703031  703200  702109  703621  704908   \n",
       "2    603dc65f680af8db371b2469  10500  154145  154545  153976  152667  151949   \n",
       "3    603dc65f680af8db371b2583  10540  116891  118164  118273  118405  119042   \n",
       "4    603dc65f680af8db371b2523  10580  871082  872778  874698  877065  878113   \n",
       "..                        ...    ...     ...     ...     ...     ...     ...   \n",
       "379  603dc65f680af8db371b2581  49420  244256  245926  246127  246485  246870   \n",
       "380  603dc65f680af8db371b256e  49620  435413  436701  437466  438932  440475   \n",
       "381  603dc65f680af8db371b24a5  49660  564826  562347  558530  555850  553039   \n",
       "382  603dc65f680af8db371b259e  49700  167099  166971  166963  167597  168311   \n",
       "383  603dc65f680af8db371b2582  49740  197127  202841  202475  202420  204054   \n",
       "\n",
       "       2015    2016    2017    2018    2019  \n",
       "0    169688  170017  170429  171150  172060  \n",
       "1    704382  703524  703987  703855  703479  \n",
       "2    150387  149137  148090  147840  146726  \n",
       "3    120236  122769  125035  127451  129749  \n",
       "4    879085  879792  882158  882263  880381  \n",
       "..      ...     ...     ...     ...     ...  \n",
       "379  247800  249327  249922  250562  250873  \n",
       "380  441741  443693  445484  447847  449058  \n",
       "381  548798  544582  541545  538226  536081  \n",
       "382  169327  170694  172782  173905  175639  \n",
       "383  205186  207247  209507  211612  213787  \n",
       "\n",
       "[384 rows x 12 columns]"
      ],
      "text/html": "<div>\n<style scoped>\n    .dataframe tbody tr th:only-of-type {\n        vertical-align: middle;\n    }\n\n    .dataframe tbody tr th {\n        vertical-align: top;\n    }\n\n    .dataframe thead th {\n        text-align: right;\n    }\n</style>\n<table border=\"1\" class=\"dataframe\">\n  <thead>\n    <tr style=\"text-align: right;\">\n      <th></th>\n      <th>_id</th>\n      <th>CBSA</th>\n      <th>2010</th>\n      <th>2011</th>\n      <th>2012</th>\n      <th>2013</th>\n      <th>2014</th>\n      <th>2015</th>\n      <th>2016</th>\n      <th>2017</th>\n      <th>2018</th>\n      <th>2019</th>\n    </tr>\n  </thead>\n  <tbody>\n    <tr>\n      <th>0</th>\n      <td>603dc65f680af8db371b2522</td>\n      <td>10180</td>\n      <td>165585</td>\n      <td>166634</td>\n      <td>167442</td>\n      <td>167473</td>\n      <td>168342</td>\n      <td>169688</td>\n      <td>170017</td>\n      <td>170429</td>\n      <td>171150</td>\n      <td>172060</td>\n    </tr>\n    <tr>\n      <th>1</th>\n      <td>603dc65f680af8db371b2541</td>\n      <td>10420</td>\n      <td>703031</td>\n      <td>703200</td>\n      <td>702109</td>\n      <td>703621</td>\n      <td>704908</td>\n      <td>704382</td>\n      <td>703524</td>\n      <td>703987</td>\n      <td>703855</td>\n      <td>703479</td>\n    </tr>\n    <tr>\n      <th>2</th>\n      <td>603dc65f680af8db371b2469</td>\n      <td>10500</td>\n      <td>154145</td>\n      <td>154545</td>\n      <td>153976</td>\n      <td>152667</td>\n      <td>151949</td>\n      <td>150387</td>\n      <td>149137</td>\n      <td>148090</td>\n      <td>147840</td>\n      <td>146726</td>\n    </tr>\n    <tr>\n      <th>3</th>\n      <td>603dc65f680af8db371b2583</td>\n      <td>10540</td>\n      <td>116891</td>\n      <td>118164</td>\n      <td>118273</td>\n      <td>118405</td>\n      <td>119042</td>\n      <td>120236</td>\n      <td>122769</td>\n      <td>125035</td>\n      <td>127451</td>\n      <td>129749</td>\n    </tr>\n    <tr>\n      <th>4</th>\n      <td>603dc65f680af8db371b2523</td>\n      <td>10580</td>\n      <td>871082</td>\n      <td>872778</td>\n      <td>874698</td>\n      <td>877065</td>\n      <td>878113</td>\n      <td>879085</td>\n      <td>879792</td>\n      <td>882158</td>\n      <td>882263</td>\n      <td>880381</td>\n    </tr>\n    <tr>\n      <th>...</th>\n      <td>...</td>\n      <td>...</td>\n      <td>...</td>\n      <td>...</td>\n      <td>...</td>\n      <td>...</td>\n      <td>...</td>\n      <td>...</td>\n      <td>...</td>\n      <td>...</td>\n      <td>...</td>\n      <td>...</td>\n    </tr>\n    <tr>\n      <th>379</th>\n      <td>603dc65f680af8db371b2581</td>\n      <td>49420</td>\n      <td>244256</td>\n      <td>245926</td>\n      <td>246127</td>\n      <td>246485</td>\n      <td>246870</td>\n      <td>247800</td>\n      <td>249327</td>\n      <td>249922</td>\n      <td>250562</td>\n      <td>250873</td>\n    </tr>\n    <tr>\n      <th>380</th>\n      <td>603dc65f680af8db371b256e</td>\n      <td>49620</td>\n      <td>435413</td>\n      <td>436701</td>\n      <td>437466</td>\n      <td>438932</td>\n      <td>440475</td>\n      <td>441741</td>\n      <td>443693</td>\n      <td>445484</td>\n      <td>447847</td>\n      <td>449058</td>\n    </tr>\n    <tr>\n      <th>381</th>\n      <td>603dc65f680af8db371b24a5</td>\n      <td>49660</td>\n      <td>564826</td>\n      <td>562347</td>\n      <td>558530</td>\n      <td>555850</td>\n      <td>553039</td>\n      <td>548798</td>\n      <td>544582</td>\n      <td>541545</td>\n      <td>538226</td>\n      <td>536081</td>\n    </tr>\n    <tr>\n      <th>382</th>\n      <td>603dc65f680af8db371b259e</td>\n      <td>49700</td>\n      <td>167099</td>\n      <td>166971</td>\n      <td>166963</td>\n      <td>167597</td>\n      <td>168311</td>\n      <td>169327</td>\n      <td>170694</td>\n      <td>172782</td>\n      <td>173905</td>\n      <td>175639</td>\n    </tr>\n    <tr>\n      <th>383</th>\n      <td>603dc65f680af8db371b2582</td>\n      <td>49740</td>\n      <td>197127</td>\n      <td>202841</td>\n      <td>202475</td>\n      <td>202420</td>\n      <td>204054</td>\n      <td>205186</td>\n      <td>207247</td>\n      <td>209507</td>\n      <td>211612</td>\n      <td>213787</td>\n    </tr>\n  </tbody>\n</table>\n<p>384 rows × 12 columns</p>\n</div>"
     },
     "metadata": {},
     "execution_count": 95
    }
   ],
   "source": [
    "df_pop = df_pop.sort_values(by='CBSA').reset_index(drop=True)\n",
    "df_pop"
   ]
  },
  {
   "cell_type": "code",
   "execution_count": 96,
   "metadata": {},
   "outputs": [
    {
     "output_type": "execute_result",
     "data": {
      "text/plain": [
       "Index(['_id', 'CBSA', '2010', '2011', '2012', '2013', '2014', '2015', '2016',\n",
       "       '2017', '2018', '2019'],\n",
       "      dtype='object')"
      ]
     },
     "metadata": {},
     "execution_count": 96
    }
   ],
   "source": [
    "df_labor.columns"
   ]
  },
  {
   "cell_type": "code",
   "execution_count": 102,
   "metadata": {},
   "outputs": [
    {
     "output_type": "execute_result",
     "data": {
      "text/plain": [
       "      CBSA      2010      2011      2012      2013      2014      2015  \\\n",
       "0    10180  0.461914  0.460428  0.455137  0.455876  0.446692  0.438517   \n",
       "1    10420  0.525159  0.514289  0.513362  0.507356  0.510610  0.508484   \n",
       "2    10500  0.459470  0.460287  0.448778  0.441425  0.434073  0.441375   \n",
       "3    10540  0.484990  0.474053  0.458177  0.449483  0.454251  0.464428   \n",
       "4    10580  0.515628  0.512752  0.518388  0.508091  0.499601  0.505635   \n",
       "..     ...       ...       ...       ...       ...       ...       ...   \n",
       "379  49420  0.470105  0.470044  0.464813  0.456044  0.469539  0.471118   \n",
       "380  49620  0.526727  0.529298  0.531527  0.521192  0.521003  0.525747   \n",
       "381  49660  0.470587  0.465035  0.464958  0.457870  0.455572  0.461257   \n",
       "382  49700  0.445071  0.444508  0.435576  0.424847  0.418992  0.423778   \n",
       "383  49740  0.465745  0.454247  0.465939  0.463418  0.455889  0.446312   \n",
       "\n",
       "         2016      2017      2018      2019  \n",
       "0    0.438868  0.446350  0.451785  0.462042  \n",
       "1    0.511076  0.509744  0.512853  0.508597  \n",
       "2    0.459115  0.455655  0.453747  0.456627  \n",
       "3    0.463089  0.462974  0.461071  0.450454  \n",
       "4    0.501749  0.499009  0.503739  0.510844  \n",
       "..        ...       ...       ...       ...  \n",
       "379  0.477642  0.485175  0.498440  0.514053  \n",
       "380  0.525602  0.522737  0.523413  0.529361  \n",
       "381  0.450720  0.445307  0.447104  0.440926  \n",
       "382  0.421204  0.421317  0.419649  0.438604  \n",
       "383  0.451288  0.460658  0.476310  0.476942  \n",
       "\n",
       "[384 rows x 11 columns]"
      ],
      "text/html": "<div>\n<style scoped>\n    .dataframe tbody tr th:only-of-type {\n        vertical-align: middle;\n    }\n\n    .dataframe tbody tr th {\n        vertical-align: top;\n    }\n\n    .dataframe thead th {\n        text-align: right;\n    }\n</style>\n<table border=\"1\" class=\"dataframe\">\n  <thead>\n    <tr style=\"text-align: right;\">\n      <th></th>\n      <th>CBSA</th>\n      <th>2010</th>\n      <th>2011</th>\n      <th>2012</th>\n      <th>2013</th>\n      <th>2014</th>\n      <th>2015</th>\n      <th>2016</th>\n      <th>2017</th>\n      <th>2018</th>\n      <th>2019</th>\n    </tr>\n  </thead>\n  <tbody>\n    <tr>\n      <th>0</th>\n      <td>10180</td>\n      <td>0.461914</td>\n      <td>0.460428</td>\n      <td>0.455137</td>\n      <td>0.455876</td>\n      <td>0.446692</td>\n      <td>0.438517</td>\n      <td>0.438868</td>\n      <td>0.446350</td>\n      <td>0.451785</td>\n      <td>0.462042</td>\n    </tr>\n    <tr>\n      <th>1</th>\n      <td>10420</td>\n      <td>0.525159</td>\n      <td>0.514289</td>\n      <td>0.513362</td>\n      <td>0.507356</td>\n      <td>0.510610</td>\n      <td>0.508484</td>\n      <td>0.511076</td>\n      <td>0.509744</td>\n      <td>0.512853</td>\n      <td>0.508597</td>\n    </tr>\n    <tr>\n      <th>2</th>\n      <td>10500</td>\n      <td>0.459470</td>\n      <td>0.460287</td>\n      <td>0.448778</td>\n      <td>0.441425</td>\n      <td>0.434073</td>\n      <td>0.441375</td>\n      <td>0.459115</td>\n      <td>0.455655</td>\n      <td>0.453747</td>\n      <td>0.456627</td>\n    </tr>\n    <tr>\n      <th>3</th>\n      <td>10540</td>\n      <td>0.484990</td>\n      <td>0.474053</td>\n      <td>0.458177</td>\n      <td>0.449483</td>\n      <td>0.454251</td>\n      <td>0.464428</td>\n      <td>0.463089</td>\n      <td>0.462974</td>\n      <td>0.461071</td>\n      <td>0.450454</td>\n    </tr>\n    <tr>\n      <th>4</th>\n      <td>10580</td>\n      <td>0.515628</td>\n      <td>0.512752</td>\n      <td>0.518388</td>\n      <td>0.508091</td>\n      <td>0.499601</td>\n      <td>0.505635</td>\n      <td>0.501749</td>\n      <td>0.499009</td>\n      <td>0.503739</td>\n      <td>0.510844</td>\n    </tr>\n    <tr>\n      <th>...</th>\n      <td>...</td>\n      <td>...</td>\n      <td>...</td>\n      <td>...</td>\n      <td>...</td>\n      <td>...</td>\n      <td>...</td>\n      <td>...</td>\n      <td>...</td>\n      <td>...</td>\n      <td>...</td>\n    </tr>\n    <tr>\n      <th>379</th>\n      <td>49420</td>\n      <td>0.470105</td>\n      <td>0.470044</td>\n      <td>0.464813</td>\n      <td>0.456044</td>\n      <td>0.469539</td>\n      <td>0.471118</td>\n      <td>0.477642</td>\n      <td>0.485175</td>\n      <td>0.498440</td>\n      <td>0.514053</td>\n    </tr>\n    <tr>\n      <th>380</th>\n      <td>49620</td>\n      <td>0.526727</td>\n      <td>0.529298</td>\n      <td>0.531527</td>\n      <td>0.521192</td>\n      <td>0.521003</td>\n      <td>0.525747</td>\n      <td>0.525602</td>\n      <td>0.522737</td>\n      <td>0.523413</td>\n      <td>0.529361</td>\n    </tr>\n    <tr>\n      <th>381</th>\n      <td>49660</td>\n      <td>0.470587</td>\n      <td>0.465035</td>\n      <td>0.464958</td>\n      <td>0.457870</td>\n      <td>0.455572</td>\n      <td>0.461257</td>\n      <td>0.450720</td>\n      <td>0.445307</td>\n      <td>0.447104</td>\n      <td>0.440926</td>\n    </tr>\n    <tr>\n      <th>382</th>\n      <td>49700</td>\n      <td>0.445071</td>\n      <td>0.444508</td>\n      <td>0.435576</td>\n      <td>0.424847</td>\n      <td>0.418992</td>\n      <td>0.423778</td>\n      <td>0.421204</td>\n      <td>0.421317</td>\n      <td>0.419649</td>\n      <td>0.438604</td>\n    </tr>\n    <tr>\n      <th>383</th>\n      <td>49740</td>\n      <td>0.465745</td>\n      <td>0.454247</td>\n      <td>0.465939</td>\n      <td>0.463418</td>\n      <td>0.455889</td>\n      <td>0.446312</td>\n      <td>0.451288</td>\n      <td>0.460658</td>\n      <td>0.476310</td>\n      <td>0.476942</td>\n    </tr>\n  </tbody>\n</table>\n<p>384 rows × 11 columns</p>\n</div>"
     },
     "metadata": {},
     "execution_count": 102
    }
   ],
   "source": [
    "years = ['2010', '2011', '2012', '2013', '2014', '2015', '2016', '2017', '2018', '2019']\n",
    "df_part = pd.DataFrame()\n",
    "df_part['CBSA'] = df_labor['CBSA']\n",
    "for year in years:\n",
    "    df_part[year] = df_labor[year]/df_pop[year]\n",
    "df_part"
   ]
  },
  {
   "cell_type": "code",
   "execution_count": 103,
   "metadata": {},
   "outputs": [
    {
     "output_type": "execute_result",
     "data": {
      "text/plain": [
       "<pymongo.results.InsertManyResult at 0x29a124bacc0>"
      ]
     },
     "metadata": {},
     "execution_count": 103
    }
   ],
   "source": [
    "# export labor participation dataframe back to mongo\n",
    "clean_collection = db.LaborParticipation_clean\n",
    "df_dict = df_part.to_dict(orient = 'records')\n",
    "clean_collection.insert_many(df_dict)"
   ]
  },
  {
   "cell_type": "code",
   "execution_count": null,
   "metadata": {},
   "outputs": [],
   "source": []
  }
 ]
}