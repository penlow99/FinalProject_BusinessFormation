{
 "cells": [
  {
   "cell_type": "code",
   "execution_count": 1,
   "id": "considerable-photographer",
   "metadata": {},
   "outputs": [],
   "source": [
    "import pandas as pd\n",
    "from statsmodels.tsa.arima.model import ARIMA\n",
    "from sklearn.metrics import mean_squared_error\n",
    "import matplotlib.pyplot as plt\n",
    "import pmdarima as pm\n",
    "from statsmodels.tsa.statespace.sarimax import SARIMAX\n",
    "from sklearn.metrics import accuracy_score\n",
    "from math import sqrt"
   ]
  },
  {
   "cell_type": "code",
   "execution_count": 2,
   "id": "parental-ontario",
   "metadata": {},
   "outputs": [
    {
     "data": {
      "text/html": [
       "<div>\n",
       "<style scoped>\n",
       "    .dataframe tbody tr th:only-of-type {\n",
       "        vertical-align: middle;\n",
       "    }\n",
       "\n",
       "    .dataframe tbody tr th {\n",
       "        vertical-align: top;\n",
       "    }\n",
       "\n",
       "    .dataframe thead th {\n",
       "        text-align: right;\n",
       "    }\n",
       "</style>\n",
       "<table border=\"1\" class=\"dataframe\">\n",
       "  <thead>\n",
       "    <tr style=\"text-align: right;\">\n",
       "      <th></th>\n",
       "      <th>CBSA</th>\n",
       "      <th>NAME</th>\n",
       "      <th>POPESTIMATE2010</th>\n",
       "      <th>POPESTIMATE2011</th>\n",
       "      <th>POPESTIMATE2012</th>\n",
       "      <th>POPESTIMATE2013</th>\n",
       "      <th>POPESTIMATE2014</th>\n",
       "      <th>POPESTIMATE2015</th>\n",
       "      <th>POPESTIMATE2016</th>\n",
       "      <th>POPESTIMATE2017</th>\n",
       "      <th>POPESTIMATE2018</th>\n",
       "      <th>POPESTIMATE2019</th>\n",
       "    </tr>\n",
       "  </thead>\n",
       "  <tbody>\n",
       "    <tr>\n",
       "      <th>0</th>\n",
       "      <td>10180</td>\n",
       "      <td>Abilene, TX</td>\n",
       "      <td>165585</td>\n",
       "      <td>166634</td>\n",
       "      <td>167442</td>\n",
       "      <td>167473</td>\n",
       "      <td>168342</td>\n",
       "      <td>169688</td>\n",
       "      <td>170017</td>\n",
       "      <td>170429</td>\n",
       "      <td>171150</td>\n",
       "      <td>172060</td>\n",
       "    </tr>\n",
       "    <tr>\n",
       "      <th>1</th>\n",
       "      <td>10420</td>\n",
       "      <td>Akron, OH</td>\n",
       "      <td>703031</td>\n",
       "      <td>703200</td>\n",
       "      <td>702109</td>\n",
       "      <td>703621</td>\n",
       "      <td>704908</td>\n",
       "      <td>704382</td>\n",
       "      <td>703524</td>\n",
       "      <td>703987</td>\n",
       "      <td>703855</td>\n",
       "      <td>703479</td>\n",
       "    </tr>\n",
       "    <tr>\n",
       "      <th>2</th>\n",
       "      <td>10500</td>\n",
       "      <td>Albany, GA</td>\n",
       "      <td>154145</td>\n",
       "      <td>154545</td>\n",
       "      <td>153976</td>\n",
       "      <td>152667</td>\n",
       "      <td>151949</td>\n",
       "      <td>150387</td>\n",
       "      <td>149137</td>\n",
       "      <td>148090</td>\n",
       "      <td>147840</td>\n",
       "      <td>146726</td>\n",
       "    </tr>\n",
       "    <tr>\n",
       "      <th>3</th>\n",
       "      <td>10540</td>\n",
       "      <td>Albany-Lebanon, OR</td>\n",
       "      <td>116891</td>\n",
       "      <td>118164</td>\n",
       "      <td>118273</td>\n",
       "      <td>118405</td>\n",
       "      <td>119042</td>\n",
       "      <td>120236</td>\n",
       "      <td>122769</td>\n",
       "      <td>125035</td>\n",
       "      <td>127451</td>\n",
       "      <td>129749</td>\n",
       "    </tr>\n",
       "    <tr>\n",
       "      <th>4</th>\n",
       "      <td>10580</td>\n",
       "      <td>Albany-Schenectady-Troy, NY</td>\n",
       "      <td>871082</td>\n",
       "      <td>872778</td>\n",
       "      <td>874698</td>\n",
       "      <td>877065</td>\n",
       "      <td>878113</td>\n",
       "      <td>879085</td>\n",
       "      <td>879792</td>\n",
       "      <td>882158</td>\n",
       "      <td>882263</td>\n",
       "      <td>880381</td>\n",
       "    </tr>\n",
       "  </tbody>\n",
       "</table>\n",
       "</div>"
      ],
      "text/plain": [
       "    CBSA                         NAME  POPESTIMATE2010  POPESTIMATE2011  \\\n",
       "0  10180                  Abilene, TX           165585           166634   \n",
       "1  10420                    Akron, OH           703031           703200   \n",
       "2  10500                   Albany, GA           154145           154545   \n",
       "3  10540           Albany-Lebanon, OR           116891           118164   \n",
       "4  10580  Albany-Schenectady-Troy, NY           871082           872778   \n",
       "\n",
       "   POPESTIMATE2012  POPESTIMATE2013  POPESTIMATE2014  POPESTIMATE2015  \\\n",
       "0           167442           167473           168342           169688   \n",
       "1           702109           703621           704908           704382   \n",
       "2           153976           152667           151949           150387   \n",
       "3           118273           118405           119042           120236   \n",
       "4           874698           877065           878113           879085   \n",
       "\n",
       "   POPESTIMATE2016  POPESTIMATE2017  POPESTIMATE2018  POPESTIMATE2019  \n",
       "0           170017           170429           171150           172060  \n",
       "1           703524           703987           703855           703479  \n",
       "2           149137           148090           147840           146726  \n",
       "3           122769           125035           127451           129749  \n",
       "4           879792           882158           882263           880381  "
      ]
     },
     "execution_count": 2,
     "metadata": {},
     "output_type": "execute_result"
    }
   ],
   "source": [
    "df = pd.read_csv('metro_pop_change_year_MSA_clean.csv')\n",
    "df.head()"
   ]
  },
  {
   "cell_type": "code",
   "execution_count": 7,
   "id": "golden-consideration",
   "metadata": {},
   "outputs": [],
   "source": [
    "df0 = df.iloc[2, 2:].values"
   ]
  },
  {
   "cell_type": "code",
   "execution_count": 8,
   "id": "smart-indicator",
   "metadata": {},
   "outputs": [
    {
     "name": "stderr",
     "output_type": "stream",
     "text": [
      "C:\\Users\\Joshua\\anaconda3\\envs\\mlenv\\lib\\site-packages\\statsmodels\\tsa\\statespace\\sarimax.py:966: UserWarning: Non-stationary starting autoregressive parameters found. Using zeros as starting parameters.\n",
      "  warn('Non-stationary starting autoregressive parameters'\n",
      "C:\\Users\\Joshua\\anaconda3\\envs\\mlenv\\lib\\site-packages\\statsmodels\\base\\model.py:568: ConvergenceWarning: Maximum Likelihood optimization failed to converge. Check mle_retvals\n",
      "  ConvergenceWarning)\n",
      "C:\\Users\\Joshua\\anaconda3\\envs\\mlenv\\lib\\site-packages\\statsmodels\\base\\model.py:568: ConvergenceWarning: Maximum Likelihood optimization failed to converge. Check mle_retvals\n",
      "  ConvergenceWarning)\n",
      "C:\\Users\\Joshua\\anaconda3\\envs\\mlenv\\lib\\site-packages\\statsmodels\\tsa\\statespace\\sarimax.py:978: UserWarning: Non-invertible starting MA parameters found. Using zeros as starting parameters.\n",
      "  warn('Non-invertible starting MA parameters found.'\n"
     ]
    },
    {
     "name": "stdout",
     "output_type": "stream",
     "text": [
      "predicted=149079.176879, expected=149137.000000\n",
      "predicted=147891.921884, expected=148090.000000\n",
      "predicted=147386.361247, expected=147840.000000\n",
      "predicted=147178.617104, expected=146726.000000\n",
      "Test RMSE: 336.611\n"
     ]
    },
    {
     "name": "stderr",
     "output_type": "stream",
     "text": [
      "C:\\Users\\Joshua\\anaconda3\\envs\\mlenv\\lib\\site-packages\\statsmodels\\base\\model.py:568: ConvergenceWarning: Maximum Likelihood optimization failed to converge. Check mle_retvals\n",
      "  ConvergenceWarning)\n"
     ]
    },
    {
     "data": {
      "image/png": "[encoded data removed]",
      "text/plain": [
       "<Figure size 432x288 with 1 Axes>"
      ]
     },
     "metadata": {
      "needs_background": "light"
     },
     "output_type": "display_data"
    }
   ],
   "source": [
    "# run a rolling forecast\n",
    "size = int(len(df0) * 0.66)\n",
    "train, test = df0[0:size], df0[size:len(df0)]\n",
    "history = [x for x in train]\n",
    "predictions = list()\n",
    "error = list()\n",
    "# walk-forward validation\n",
    "for t in range(len(test)):\n",
    "    model = ARIMA(history, order=(2,1,1))\n",
    "    model_fit = model.fit()\n",
    "    output = model_fit.forecast()\n",
    "    yhat = output[0]\n",
    "    predictions.append(yhat)\n",
    "    obs = test[t]\n",
    "    history.append(obs)\n",
    "    print('predicted=%f, expected=%f' % (yhat, obs))\n",
    "    error.append((yhat-obs)/obs*100)\n",
    "# evaluate forecasts\n",
    "Rmse = sqrt(mean_squared_error(test, predictions))\n",
    "print('Test RMSE: %.3f' % Rmse)\n",
    "# plot forecasts against actual outcomes\n",
    "plt.plot(test)\n",
    "plt.plot(predictions, color='red')\n",
    "plt.show()"
   ]
  },
  {
   "cell_type": "code",
   "execution_count": null,
   "id": "prepared-webcam",
   "metadata": {},
   "outputs": [],
   "source": []
  }
 ],
 "metadata": {
  "kernelspec": {
   "display_name": "mlenv",
   "language": "python",
   "name": "mlenv"
  },
  "language_info": {
   "codemirror_mode": {
    "name": "ipython",
    "version": 3
   },
   "file_extension": ".py",
   "mimetype": "text/x-python",
   "name": "python",
   "nbconvert_exporter": "python",
   "pygments_lexer": "ipython3",
   "version": "3.7.9"
  }
 },
 "nbformat": 4,
 "nbformat_minor": 5
}
