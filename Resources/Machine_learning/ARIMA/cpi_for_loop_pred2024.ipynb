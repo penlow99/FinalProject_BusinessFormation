{
 "metadata": {
  "language_info": {
   "codemirror_mode": {
    "name": "ipython",
    "version": 3
   },
   "file_extension": ".py",
   "mimetype": "text/x-python",
   "name": "python",
   "nbconvert_exporter": "python",
   "pygments_lexer": "ipython3",
   "version": "3.8.5-final"
  },
  "orig_nbformat": 2,
  "kernelspec": {
   "name": "python3",
   "display_name": "Python 3.8.5 64-bit ('PythonData': conda)",
   "metadata": {
    "interpreter": {
     "hash": "e23f4f60931143176db9ec6317533e574a91510be5bd7dc0753f3d7ca18e38be"
    }
   }
  }
 },
 "nbformat": 4,
 "nbformat_minor": 2,
 "cells": [
  {
   "cell_type": "code",
   "execution_count": 1,
   "metadata": {},
   "outputs": [],
   "source": [
    "import pandas as pd\n",
    "from statsmodels.tsa.arima.model import ARIMA\n",
    "import pymongo\n",
    "from pymongo import MongoClient"
   ]
  },
  {
   "cell_type": "code",
   "execution_count": 2,
   "metadata": {},
   "outputs": [
    {
     "output_type": "execute_result",
     "data": {
      "text/plain": [
       "                        _id Region     2010     2011     2012     2013  \\\n",
       "0  603dd586680af8db371b28bc      1  235.141  241.987  246.456  249.567   \n",
       "1  603dd586680af8db371b28bd      2  209.270  215.173  219.033  221.194   \n",
       "2  603dd586680af8db371b28be      3  212.488  219.469  223.109  227.082   \n",
       "3  603dd586680af8db371b28bf      4  222.081  228.117  232.029  236.096   \n",
       "\n",
       "      2014     2015     2016     2017     2018     2019  \n",
       "0  250.519  251.670  256.427  260.791  265.286  270.429  \n",
       "1  222.821  222.722  226.794  230.548  233.458  238.734  \n",
       "2  228.451  229.581  234.204  238.512  242.150  247.289  \n",
       "3  239.095  243.434  249.516  257.347  265.209  272.584  "
      ],
      "text/html": "<div>\n<style scoped>\n    .dataframe tbody tr th:only-of-type {\n        vertical-align: middle;\n    }\n\n    .dataframe tbody tr th {\n        vertical-align: top;\n    }\n\n    .dataframe thead th {\n        text-align: right;\n    }\n</style>\n<table border=\"1\" class=\"dataframe\">\n  <thead>\n    <tr style=\"text-align: right;\">\n      <th></th>\n      <th>_id</th>\n      <th>Region</th>\n      <th>2010</th>\n      <th>2011</th>\n      <th>2012</th>\n      <th>2013</th>\n      <th>2014</th>\n      <th>2015</th>\n      <th>2016</th>\n      <th>2017</th>\n      <th>2018</th>\n      <th>2019</th>\n    </tr>\n  </thead>\n  <tbody>\n    <tr>\n      <th>0</th>\n      <td>603dd586680af8db371b28bc</td>\n      <td>1</td>\n      <td>235.141</td>\n      <td>241.987</td>\n      <td>246.456</td>\n      <td>249.567</td>\n      <td>250.519</td>\n      <td>251.670</td>\n      <td>256.427</td>\n      <td>260.791</td>\n      <td>265.286</td>\n      <td>270.429</td>\n    </tr>\n    <tr>\n      <th>1</th>\n      <td>603dd586680af8db371b28bd</td>\n      <td>2</td>\n      <td>209.270</td>\n      <td>215.173</td>\n      <td>219.033</td>\n      <td>221.194</td>\n      <td>222.821</td>\n      <td>222.722</td>\n      <td>226.794</td>\n      <td>230.548</td>\n      <td>233.458</td>\n      <td>238.734</td>\n    </tr>\n    <tr>\n      <th>2</th>\n      <td>603dd586680af8db371b28be</td>\n      <td>3</td>\n      <td>212.488</td>\n      <td>219.469</td>\n      <td>223.109</td>\n      <td>227.082</td>\n      <td>228.451</td>\n      <td>229.581</td>\n      <td>234.204</td>\n      <td>238.512</td>\n      <td>242.150</td>\n      <td>247.289</td>\n    </tr>\n    <tr>\n      <th>3</th>\n      <td>603dd586680af8db371b28bf</td>\n      <td>4</td>\n      <td>222.081</td>\n      <td>228.117</td>\n      <td>232.029</td>\n      <td>236.096</td>\n      <td>239.095</td>\n      <td>243.434</td>\n      <td>249.516</td>\n      <td>257.347</td>\n      <td>265.209</td>\n      <td>272.584</td>\n    </tr>\n  </tbody>\n</table>\n</div>"
     },
     "metadata": {},
     "execution_count": 2
    }
   ],
   "source": [
    "# Create instance of MongoClient\n",
    "client = MongoClient()\n",
    "# Connection URI\n",
    "client = MongoClient(os.getenv('MONGO_CONN'))\n",
    "# Select database\n",
    "db = client['MSA']\n",
    "# Select the collection within the database (in this case its GDP_raw data, check list below for other collections)\n",
    "data = db.CPI_RegionUrban_clean\n",
    "# Convert entire collection to Pandas dataframe\n",
    "df = pd.DataFrame(list(data.find()))\n",
    "df"
   ]
  },
  {
   "cell_type": "code",
   "execution_count": 3,
   "metadata": {},
   "outputs": [
    {
     "output_type": "stream",
     "name": "stdout",
     "text": [
      "<class 'pandas.core.frame.DataFrame'>\nRangeIndex: 4 entries, 0 to 3\nData columns (total 12 columns):\n #   Column  Non-Null Count  Dtype  \n---  ------  --------------  -----  \n 0   _id     4 non-null      object \n 1   Region  4 non-null      object \n 2   2010    4 non-null      float64\n 3   2011    4 non-null      float64\n 4   2012    4 non-null      float64\n 5   2013    4 non-null      float64\n 6   2014    4 non-null      float64\n 7   2015    4 non-null      float64\n 8   2016    4 non-null      float64\n 9   2017    4 non-null      float64\n 10  2018    4 non-null      float64\n 11  2019    4 non-null      float64\ndtypes: float64(10), object(2)\nmemory usage: 512.0+ bytes\n"
     ]
    }
   ],
   "source": [
    "df.info()"
   ]
  },
  {
   "cell_type": "code",
   "execution_count": 4,
   "metadata": {},
   "outputs": [],
   "source": [
    "df.drop(columns='_id', inplace=True)"
   ]
  },
  {
   "cell_type": "code",
   "execution_count": 5,
   "metadata": {},
   "outputs": [
    {
     "output_type": "execute_result",
     "data": {
      "text/plain": [
       "Index(['Region', '2010', '2011', '2012', '2013', '2014', '2015', '2016',\n",
       "       '2017', '2018', '2019'],\n",
       "      dtype='object')"
      ]
     },
     "metadata": {},
     "execution_count": 5
    }
   ],
   "source": [
    "df.columns"
   ]
  },
  {
   "cell_type": "code",
   "execution_count": 6,
   "metadata": {},
   "outputs": [],
   "source": [
    "df[['2010', '2011', '2012', '2013', '2014', '2015', '2016', '2017', '2018', '2019']] = df[['2010', '2011', '2012', '2013', '2014', '2015', '2016', '2017', '2018', '2019']].astype(int)"
   ]
  },
  {
   "cell_type": "code",
   "execution_count": 7,
   "metadata": {},
   "outputs": [
    {
     "output_type": "execute_result",
     "data": {
      "text/plain": [
       "Region    object\n",
       "2010       int32\n",
       "2011       int32\n",
       "2012       int32\n",
       "2013       int32\n",
       "2014       int32\n",
       "2015       int32\n",
       "2016       int32\n",
       "2017       int32\n",
       "2018       int32\n",
       "2019       int32\n",
       "dtype: object"
      ]
     },
     "metadata": {},
     "execution_count": 7
    }
   ],
   "source": [
    "df.dtypes"
   ]
  },
  {
   "cell_type": "code",
   "execution_count": 8,
   "metadata": {},
   "outputs": [],
   "source": [
    "# for loop to predict 2024 values\n",
    "predictions = []\n",
    "for i in range(0,4):\n",
    "    y = df.iloc[i, 1:].values\n",
    "    series = pd.Series(y, dtype='int')\n",
    "    model = ARIMA(series, order=(2, 1, 1))\n",
    "    model_fit = model.fit()\n",
    "    pred = model_fit.forecast(5)\n",
    "    predictions.append(pred.values.tolist()[-1])\n",
    "df['2024'] = predictions"
   ]
  },
  {
   "cell_type": "code",
   "execution_count": 9,
   "metadata": {},
   "outputs": [
    {
     "output_type": "execute_result",
     "data": {
      "text/plain": [
       "  Region  2010  2011  2012  2013  2014  2015  2016  2017  2018  2019  \\\n",
       "0      1   235   241   246   249   250   251   256   260   265   270   \n",
       "1      2   209   215   219   221   222   222   226   230   233   238   \n",
       "2      3   212   219   223   227   228   229   234   238   242   247   \n",
       "3      4   222   228   232   236   239   243   249   257   265   272   \n",
       "\n",
       "         2024  \n",
       "0  289.633993  \n",
       "1  255.833767  \n",
       "2  265.925504  \n",
       "3  299.767120  "
      ],
      "text/html": "<div>\n<style scoped>\n    .dataframe tbody tr th:only-of-type {\n        vertical-align: middle;\n    }\n\n    .dataframe tbody tr th {\n        vertical-align: top;\n    }\n\n    .dataframe thead th {\n        text-align: right;\n    }\n</style>\n<table border=\"1\" class=\"dataframe\">\n  <thead>\n    <tr style=\"text-align: right;\">\n      <th></th>\n      <th>Region</th>\n      <th>2010</th>\n      <th>2011</th>\n      <th>2012</th>\n      <th>2013</th>\n      <th>2014</th>\n      <th>2015</th>\n      <th>2016</th>\n      <th>2017</th>\n      <th>2018</th>\n      <th>2019</th>\n      <th>2024</th>\n    </tr>\n  </thead>\n  <tbody>\n    <tr>\n      <th>0</th>\n      <td>1</td>\n      <td>235</td>\n      <td>241</td>\n      <td>246</td>\n      <td>249</td>\n      <td>250</td>\n      <td>251</td>\n      <td>256</td>\n      <td>260</td>\n      <td>265</td>\n      <td>270</td>\n      <td>289.633993</td>\n    </tr>\n    <tr>\n      <th>1</th>\n      <td>2</td>\n      <td>209</td>\n      <td>215</td>\n      <td>219</td>\n      <td>221</td>\n      <td>222</td>\n      <td>222</td>\n      <td>226</td>\n      <td>230</td>\n      <td>233</td>\n      <td>238</td>\n      <td>255.833767</td>\n    </tr>\n    <tr>\n      <th>2</th>\n      <td>3</td>\n      <td>212</td>\n      <td>219</td>\n      <td>223</td>\n      <td>227</td>\n      <td>228</td>\n      <td>229</td>\n      <td>234</td>\n      <td>238</td>\n      <td>242</td>\n      <td>247</td>\n      <td>265.925504</td>\n    </tr>\n    <tr>\n      <th>3</th>\n      <td>4</td>\n      <td>222</td>\n      <td>228</td>\n      <td>232</td>\n      <td>236</td>\n      <td>239</td>\n      <td>243</td>\n      <td>249</td>\n      <td>257</td>\n      <td>265</td>\n      <td>272</td>\n      <td>299.767120</td>\n    </tr>\n  </tbody>\n</table>\n</div>"
     },
     "metadata": {},
     "execution_count": 9
    }
   ],
   "source": [
    "df"
   ]
  },
  {
   "cell_type": "code",
   "execution_count": 10,
   "metadata": {},
   "outputs": [
    {
     "output_type": "execute_result",
     "data": {
      "text/plain": [
       "  Region  2010  2011  2012  2013  2014  2015  2016  2017  2018  2019  \\\n",
       "1      2   209   215   219   221   222   222   226   230   233   238   \n",
       "2      3   212   219   223   227   228   229   234   238   242   247   \n",
       "0      1   235   241   246   249   250   251   256   260   265   270   \n",
       "3      4   222   228   232   236   239   243   249   257   265   272   \n",
       "\n",
       "         2024  \n",
       "1  255.833767  \n",
       "2  265.925504  \n",
       "0  289.633993  \n",
       "3  299.767120  "
      ],
      "text/html": "<div>\n<style scoped>\n    .dataframe tbody tr th:only-of-type {\n        vertical-align: middle;\n    }\n\n    .dataframe tbody tr th {\n        vertical-align: top;\n    }\n\n    .dataframe thead th {\n        text-align: right;\n    }\n</style>\n<table border=\"1\" class=\"dataframe\">\n  <thead>\n    <tr style=\"text-align: right;\">\n      <th></th>\n      <th>Region</th>\n      <th>2010</th>\n      <th>2011</th>\n      <th>2012</th>\n      <th>2013</th>\n      <th>2014</th>\n      <th>2015</th>\n      <th>2016</th>\n      <th>2017</th>\n      <th>2018</th>\n      <th>2019</th>\n      <th>2024</th>\n    </tr>\n  </thead>\n  <tbody>\n    <tr>\n      <th>1</th>\n      <td>2</td>\n      <td>209</td>\n      <td>215</td>\n      <td>219</td>\n      <td>221</td>\n      <td>222</td>\n      <td>222</td>\n      <td>226</td>\n      <td>230</td>\n      <td>233</td>\n      <td>238</td>\n      <td>255.833767</td>\n    </tr>\n    <tr>\n      <th>2</th>\n      <td>3</td>\n      <td>212</td>\n      <td>219</td>\n      <td>223</td>\n      <td>227</td>\n      <td>228</td>\n      <td>229</td>\n      <td>234</td>\n      <td>238</td>\n      <td>242</td>\n      <td>247</td>\n      <td>265.925504</td>\n    </tr>\n    <tr>\n      <th>0</th>\n      <td>1</td>\n      <td>235</td>\n      <td>241</td>\n      <td>246</td>\n      <td>249</td>\n      <td>250</td>\n      <td>251</td>\n      <td>256</td>\n      <td>260</td>\n      <td>265</td>\n      <td>270</td>\n      <td>289.633993</td>\n    </tr>\n    <tr>\n      <th>3</th>\n      <td>4</td>\n      <td>222</td>\n      <td>228</td>\n      <td>232</td>\n      <td>236</td>\n      <td>239</td>\n      <td>243</td>\n      <td>249</td>\n      <td>257</td>\n      <td>265</td>\n      <td>272</td>\n      <td>299.767120</td>\n    </tr>\n  </tbody>\n</table>\n</div>"
     },
     "metadata": {},
     "execution_count": 10
    }
   ],
   "source": [
    "df.sort_values(by='2024', inplace=True)\n",
    "df"
   ]
  },
  {
   "cell_type": "code",
   "execution_count": 11,
   "metadata": {},
   "outputs": [
    {
     "output_type": "execute_result",
     "data": {
      "text/plain": [
       "  Region  2010  2011  2012  2013  2014  2015  2016  2017  2018  2019  \\\n",
       "0      2   209   215   219   221   222   222   226   230   233   238   \n",
       "1      3   212   219   223   227   228   229   234   238   242   247   \n",
       "2      1   235   241   246   249   250   251   256   260   265   270   \n",
       "3      4   222   228   232   236   239   243   249   257   265   272   \n",
       "\n",
       "         2024  \n",
       "0  255.833767  \n",
       "1  265.925504  \n",
       "2  289.633993  \n",
       "3  299.767120  "
      ],
      "text/html": "<div>\n<style scoped>\n    .dataframe tbody tr th:only-of-type {\n        vertical-align: middle;\n    }\n\n    .dataframe tbody tr th {\n        vertical-align: top;\n    }\n\n    .dataframe thead th {\n        text-align: right;\n    }\n</style>\n<table border=\"1\" class=\"dataframe\">\n  <thead>\n    <tr style=\"text-align: right;\">\n      <th></th>\n      <th>Region</th>\n      <th>2010</th>\n      <th>2011</th>\n      <th>2012</th>\n      <th>2013</th>\n      <th>2014</th>\n      <th>2015</th>\n      <th>2016</th>\n      <th>2017</th>\n      <th>2018</th>\n      <th>2019</th>\n      <th>2024</th>\n    </tr>\n  </thead>\n  <tbody>\n    <tr>\n      <th>0</th>\n      <td>2</td>\n      <td>209</td>\n      <td>215</td>\n      <td>219</td>\n      <td>221</td>\n      <td>222</td>\n      <td>222</td>\n      <td>226</td>\n      <td>230</td>\n      <td>233</td>\n      <td>238</td>\n      <td>255.833767</td>\n    </tr>\n    <tr>\n      <th>1</th>\n      <td>3</td>\n      <td>212</td>\n      <td>219</td>\n      <td>223</td>\n      <td>227</td>\n      <td>228</td>\n      <td>229</td>\n      <td>234</td>\n      <td>238</td>\n      <td>242</td>\n      <td>247</td>\n      <td>265.925504</td>\n    </tr>\n    <tr>\n      <th>2</th>\n      <td>1</td>\n      <td>235</td>\n      <td>241</td>\n      <td>246</td>\n      <td>249</td>\n      <td>250</td>\n      <td>251</td>\n      <td>256</td>\n      <td>260</td>\n      <td>265</td>\n      <td>270</td>\n      <td>289.633993</td>\n    </tr>\n    <tr>\n      <th>3</th>\n      <td>4</td>\n      <td>222</td>\n      <td>228</td>\n      <td>232</td>\n      <td>236</td>\n      <td>239</td>\n      <td>243</td>\n      <td>249</td>\n      <td>257</td>\n      <td>265</td>\n      <td>272</td>\n      <td>299.767120</td>\n    </tr>\n  </tbody>\n</table>\n</div>"
     },
     "metadata": {},
     "execution_count": 11
    }
   ],
   "source": [
    "df.reset_index(inplace=True, drop=True)\n",
    "df"
   ]
  },
  {
   "cell_type": "code",
   "execution_count": 12,
   "metadata": {},
   "outputs": [
    {
     "output_type": "execute_result",
     "data": {
      "text/plain": [
       "  Region  2010  2011  2012  2013  2014  2015  2016  2017  2018  2019  \\\n",
       "0      2   209   215   219   221   222   222   226   230   233   238   \n",
       "1      3   212   219   223   227   228   229   234   238   242   247   \n",
       "2      1   235   241   246   249   250   251   256   260   265   270   \n",
       "3      4   222   228   232   236   239   243   249   257   265   272   \n",
       "\n",
       "         2024  Weighted  \n",
       "0  255.833767     192.0  \n",
       "1  265.925504     177.0  \n",
       "2  289.633993     162.0  \n",
       "3  299.767120     147.0  "
      ],
      "text/html": "<div>\n<style scoped>\n    .dataframe tbody tr th:only-of-type {\n        vertical-align: middle;\n    }\n\n    .dataframe tbody tr th {\n        vertical-align: top;\n    }\n\n    .dataframe thead th {\n        text-align: right;\n    }\n</style>\n<table border=\"1\" class=\"dataframe\">\n  <thead>\n    <tr style=\"text-align: right;\">\n      <th></th>\n      <th>Region</th>\n      <th>2010</th>\n      <th>2011</th>\n      <th>2012</th>\n      <th>2013</th>\n      <th>2014</th>\n      <th>2015</th>\n      <th>2016</th>\n      <th>2017</th>\n      <th>2018</th>\n      <th>2019</th>\n      <th>2024</th>\n      <th>Weighted</th>\n    </tr>\n  </thead>\n  <tbody>\n    <tr>\n      <th>0</th>\n      <td>2</td>\n      <td>209</td>\n      <td>215</td>\n      <td>219</td>\n      <td>221</td>\n      <td>222</td>\n      <td>222</td>\n      <td>226</td>\n      <td>230</td>\n      <td>233</td>\n      <td>238</td>\n      <td>255.833767</td>\n      <td>192.0</td>\n    </tr>\n    <tr>\n      <th>1</th>\n      <td>3</td>\n      <td>212</td>\n      <td>219</td>\n      <td>223</td>\n      <td>227</td>\n      <td>228</td>\n      <td>229</td>\n      <td>234</td>\n      <td>238</td>\n      <td>242</td>\n      <td>247</td>\n      <td>265.925504</td>\n      <td>177.0</td>\n    </tr>\n    <tr>\n      <th>2</th>\n      <td>1</td>\n      <td>235</td>\n      <td>241</td>\n      <td>246</td>\n      <td>249</td>\n      <td>250</td>\n      <td>251</td>\n      <td>256</td>\n      <td>260</td>\n      <td>265</td>\n      <td>270</td>\n      <td>289.633993</td>\n      <td>162.0</td>\n    </tr>\n    <tr>\n      <th>3</th>\n      <td>4</td>\n      <td>222</td>\n      <td>228</td>\n      <td>232</td>\n      <td>236</td>\n      <td>239</td>\n      <td>243</td>\n      <td>249</td>\n      <td>257</td>\n      <td>265</td>\n      <td>272</td>\n      <td>299.767120</td>\n      <td>147.0</td>\n    </tr>\n  </tbody>\n</table>\n</div>"
     },
     "metadata": {},
     "execution_count": 12
    }
   ],
   "source": [
    "i = 192 # half of 384, which lowers the weight since this is an averaged data point\n",
    "for index, row in df.iterrows():\n",
    "    df.loc[index, 'Weighted'] = i\n",
    "    i = i - 15\n",
    "df"
   ]
  },
  {
   "cell_type": "code",
   "execution_count": 13,
   "metadata": {},
   "outputs": [
    {
     "output_type": "execute_result",
     "data": {
      "text/plain": [
       "Index(['Region', '2010', '2011', '2012', '2013', '2014', '2015', '2016',\n",
       "       '2017', '2018', '2019', '2024', 'Weighted'],\n",
       "      dtype='object')"
      ]
     },
     "metadata": {},
     "execution_count": 13
    }
   ],
   "source": [
    "df.columns"
   ]
  },
  {
   "cell_type": "code",
   "execution_count": 14,
   "metadata": {},
   "outputs": [],
   "source": [
    "df.drop(columns=['2010', '2011', '2012', '2013', '2014', '2015', '2016',\n",
    "       '2017', '2018', '2019', ], inplace=True)"
   ]
  },
  {
   "cell_type": "code",
   "execution_count": 17,
   "metadata": {},
   "outputs": [
    {
     "output_type": "execute_result",
     "data": {
      "text/plain": [
       "  Region        2024  Score\n",
       "0      2  255.833767  192.0\n",
       "1      3  265.925504  177.0\n",
       "2      1  289.633993  162.0\n",
       "3      4  299.767120  147.0"
      ],
      "text/html": "<div>\n<style scoped>\n    .dataframe tbody tr th:only-of-type {\n        vertical-align: middle;\n    }\n\n    .dataframe tbody tr th {\n        vertical-align: top;\n    }\n\n    .dataframe thead th {\n        text-align: right;\n    }\n</style>\n<table border=\"1\" class=\"dataframe\">\n  <thead>\n    <tr style=\"text-align: right;\">\n      <th></th>\n      <th>Region</th>\n      <th>2024</th>\n      <th>Score</th>\n    </tr>\n  </thead>\n  <tbody>\n    <tr>\n      <th>0</th>\n      <td>2</td>\n      <td>255.833767</td>\n      <td>192.0</td>\n    </tr>\n    <tr>\n      <th>1</th>\n      <td>3</td>\n      <td>265.925504</td>\n      <td>177.0</td>\n    </tr>\n    <tr>\n      <th>2</th>\n      <td>1</td>\n      <td>289.633993</td>\n      <td>162.0</td>\n    </tr>\n    <tr>\n      <th>3</th>\n      <td>4</td>\n      <td>299.767120</td>\n      <td>147.0</td>\n    </tr>\n  </tbody>\n</table>\n</div>"
     },
     "metadata": {},
     "execution_count": 17
    }
   ],
   "source": [
    "df.rename(columns={'Weighted' : 'Score'}, inplace=True)\n",
    "df"
   ]
  },
  {
   "cell_type": "code",
   "execution_count": 18,
   "metadata": {},
   "outputs": [
    {
     "output_type": "execute_result",
     "data": {
      "text/plain": [
       "  Region    2024_CPI  CPI_Score\n",
       "0      2  255.833767      192.0\n",
       "1      3  265.925504      177.0\n",
       "2      1  289.633993      162.0\n",
       "3      4  299.767120      147.0"
      ],
      "text/html": "<div>\n<style scoped>\n    .dataframe tbody tr th:only-of-type {\n        vertical-align: middle;\n    }\n\n    .dataframe tbody tr th {\n        vertical-align: top;\n    }\n\n    .dataframe thead th {\n        text-align: right;\n    }\n</style>\n<table border=\"1\" class=\"dataframe\">\n  <thead>\n    <tr style=\"text-align: right;\">\n      <th></th>\n      <th>Region</th>\n      <th>2024_CPI</th>\n      <th>CPI_Score</th>\n    </tr>\n  </thead>\n  <tbody>\n    <tr>\n      <th>0</th>\n      <td>2</td>\n      <td>255.833767</td>\n      <td>192.0</td>\n    </tr>\n    <tr>\n      <th>1</th>\n      <td>3</td>\n      <td>265.925504</td>\n      <td>177.0</td>\n    </tr>\n    <tr>\n      <th>2</th>\n      <td>1</td>\n      <td>289.633993</td>\n      <td>162.0</td>\n    </tr>\n    <tr>\n      <th>3</th>\n      <td>4</td>\n      <td>299.767120</td>\n      <td>147.0</td>\n    </tr>\n  </tbody>\n</table>\n</div>"
     },
     "metadata": {},
     "execution_count": 18
    }
   ],
   "source": [
    "df.rename(columns={'2024' : '2024_CPI', 'Score' : 'CPI_Score'}, inplace=True)\n",
    "df"
   ]
  },
  {
   "cell_type": "code",
   "execution_count": 20,
   "metadata": {},
   "outputs": [
    {
     "output_type": "execute_result",
     "data": {
      "text/plain": [
       "                        _id FIPS             State  Region Region_Name  \\\n",
       "0  603f3e2de251dabd4e0b32e4   09  Connecticut            1   Northeast   \n",
       "1  603f3e2de251dabd4e0b32e5   23  Maine                  1   Northeast   \n",
       "2  603f3e2de251dabd4e0b32e6   25  Massachusetts          1   Northeast   \n",
       "3  603f3e2de251dabd4e0b32e7   33  New Hampshire          1   Northeast   \n",
       "4  603f3e2de251dabd4e0b32e8   44  Rhode Island           1   Northeast   \n",
       "\n",
       "   Division Division_Name  \n",
       "0         1   New England  \n",
       "1         1   New England  \n",
       "2         1   New England  \n",
       "3         1   New England  \n",
       "4         1   New England  "
      ],
      "text/html": "<div>\n<style scoped>\n    .dataframe tbody tr th:only-of-type {\n        vertical-align: middle;\n    }\n\n    .dataframe tbody tr th {\n        vertical-align: top;\n    }\n\n    .dataframe thead th {\n        text-align: right;\n    }\n</style>\n<table border=\"1\" class=\"dataframe\">\n  <thead>\n    <tr style=\"text-align: right;\">\n      <th></th>\n      <th>_id</th>\n      <th>FIPS</th>\n      <th>State</th>\n      <th>Region</th>\n      <th>Region_Name</th>\n      <th>Division</th>\n      <th>Division_Name</th>\n    </tr>\n  </thead>\n  <tbody>\n    <tr>\n      <th>0</th>\n      <td>603f3e2de251dabd4e0b32e4</td>\n      <td>09</td>\n      <td>Connecticut</td>\n      <td>1</td>\n      <td>Northeast</td>\n      <td>1</td>\n      <td>New England</td>\n    </tr>\n    <tr>\n      <th>1</th>\n      <td>603f3e2de251dabd4e0b32e5</td>\n      <td>23</td>\n      <td>Maine</td>\n      <td>1</td>\n      <td>Northeast</td>\n      <td>1</td>\n      <td>New England</td>\n    </tr>\n    <tr>\n      <th>2</th>\n      <td>603f3e2de251dabd4e0b32e6</td>\n      <td>25</td>\n      <td>Massachusetts</td>\n      <td>1</td>\n      <td>Northeast</td>\n      <td>1</td>\n      <td>New England</td>\n    </tr>\n    <tr>\n      <th>3</th>\n      <td>603f3e2de251dabd4e0b32e7</td>\n      <td>33</td>\n      <td>New Hampshire</td>\n      <td>1</td>\n      <td>Northeast</td>\n      <td>1</td>\n      <td>New England</td>\n    </tr>\n    <tr>\n      <th>4</th>\n      <td>603f3e2de251dabd4e0b32e8</td>\n      <td>44</td>\n      <td>Rhode Island</td>\n      <td>1</td>\n      <td>Northeast</td>\n      <td>1</td>\n      <td>New England</td>\n    </tr>\n  </tbody>\n</table>\n</div>"
     },
     "metadata": {},
     "execution_count": 20
    }
   ],
   "source": [
    "# Select the collection within the database (in this case its GDP_raw data, check list below for other collections)\n",
    "data = db.regions_divisions\n",
    "# Convert entire collection to Pandas dataframe\n",
    "df_region = pd.DataFrame(list(data.find()))\n",
    "df_region.head()"
   ]
  },
  {
   "cell_type": "code",
   "execution_count": 22,
   "metadata": {},
   "outputs": [],
   "source": [
    "df.Region = df.Region.astype(int)"
   ]
  },
  {
   "cell_type": "code",
   "execution_count": 24,
   "metadata": {},
   "outputs": [
    {
     "output_type": "execute_result",
     "data": {
      "text/plain": [
       "                        _id FIPS             State  Region Region_Name  \\\n",
       "0  603f3e2de251dabd4e0b32e4   09  Connecticut            1   Northeast   \n",
       "1  603f3e2de251dabd4e0b32e5   23  Maine                  1   Northeast   \n",
       "2  603f3e2de251dabd4e0b32e6   25  Massachusetts          1   Northeast   \n",
       "3  603f3e2de251dabd4e0b32e7   33  New Hampshire          1   Northeast   \n",
       "4  603f3e2de251dabd4e0b32e8   44  Rhode Island           1   Northeast   \n",
       "\n",
       "   Division Division_Name    2024_CPI  CPI_Score  \n",
       "0         1   New England  289.633993      162.0  \n",
       "1         1   New England  289.633993      162.0  \n",
       "2         1   New England  289.633993      162.0  \n",
       "3         1   New England  289.633993      162.0  \n",
       "4         1   New England  289.633993      162.0  "
      ],
      "text/html": "<div>\n<style scoped>\n    .dataframe tbody tr th:only-of-type {\n        vertical-align: middle;\n    }\n\n    .dataframe tbody tr th {\n        vertical-align: top;\n    }\n\n    .dataframe thead th {\n        text-align: right;\n    }\n</style>\n<table border=\"1\" class=\"dataframe\">\n  <thead>\n    <tr style=\"text-align: right;\">\n      <th></th>\n      <th>_id</th>\n      <th>FIPS</th>\n      <th>State</th>\n      <th>Region</th>\n      <th>Region_Name</th>\n      <th>Division</th>\n      <th>Division_Name</th>\n      <th>2024_CPI</th>\n      <th>CPI_Score</th>\n    </tr>\n  </thead>\n  <tbody>\n    <tr>\n      <th>0</th>\n      <td>603f3e2de251dabd4e0b32e4</td>\n      <td>09</td>\n      <td>Connecticut</td>\n      <td>1</td>\n      <td>Northeast</td>\n      <td>1</td>\n      <td>New England</td>\n      <td>289.633993</td>\n      <td>162.0</td>\n    </tr>\n    <tr>\n      <th>1</th>\n      <td>603f3e2de251dabd4e0b32e5</td>\n      <td>23</td>\n      <td>Maine</td>\n      <td>1</td>\n      <td>Northeast</td>\n      <td>1</td>\n      <td>New England</td>\n      <td>289.633993</td>\n      <td>162.0</td>\n    </tr>\n    <tr>\n      <th>2</th>\n      <td>603f3e2de251dabd4e0b32e6</td>\n      <td>25</td>\n      <td>Massachusetts</td>\n      <td>1</td>\n      <td>Northeast</td>\n      <td>1</td>\n      <td>New England</td>\n      <td>289.633993</td>\n      <td>162.0</td>\n    </tr>\n    <tr>\n      <th>3</th>\n      <td>603f3e2de251dabd4e0b32e7</td>\n      <td>33</td>\n      <td>New Hampshire</td>\n      <td>1</td>\n      <td>Northeast</td>\n      <td>1</td>\n      <td>New England</td>\n      <td>289.633993</td>\n      <td>162.0</td>\n    </tr>\n    <tr>\n      <th>4</th>\n      <td>603f3e2de251dabd4e0b32e8</td>\n      <td>44</td>\n      <td>Rhode Island</td>\n      <td>1</td>\n      <td>Northeast</td>\n      <td>1</td>\n      <td>New England</td>\n      <td>289.633993</td>\n      <td>162.0</td>\n    </tr>\n  </tbody>\n</table>\n</div>"
     },
     "metadata": {},
     "execution_count": 24
    }
   ],
   "source": [
    "df_reg_comb = df_region.merge(df, on='Region')\n",
    "df_reg_comb.head()"
   ]
  },
  {
   "cell_type": "code",
   "execution_count": 26,
   "metadata": {},
   "outputs": [
    {
     "output_type": "execute_result",
     "data": {
      "text/plain": [
       "                        _id   CBSA                         Name Primary_City  \\\n",
       "0  603dedea9226a0b6c19374de  10180                  Abilene, TX      Abilene   \n",
       "1  603dedea9226a0b6c19374df  10420                    Akron, OH        Akron   \n",
       "2  603dedea9226a0b6c19374e0  10500                   Albany, GA       Albany   \n",
       "3  603dedea9226a0b6c19374e1  10540           Albany-Lebanon, OR       Albany   \n",
       "4  603dedea9226a0b6c19374e2  10580  Albany-Schenectady-Troy, NY       Albany   \n",
       "\n",
       "  Primary_State_Code Primary_State_FIPS  Latitude  Longitude  \\\n",
       "0                 TX                 48   32.4543   -99.7384   \n",
       "1                 OH                 39   41.0798   -81.5219   \n",
       "2                 GA                 13   31.5776   -84.1762   \n",
       "3                 OR                 41   44.6274  -123.0966   \n",
       "4                 NY                 36   42.6664   -73.7987   \n",
       "\n",
       "                     County_FIPS_agg  \n",
       "0                48059, 48253, 48441  \n",
       "1                       39133, 39153  \n",
       "2         13095, 13177, 13273, 13321  \n",
       "3                              41043  \n",
       "4  36001, 36083, 36091, 36093, 36095  "
      ],
      "text/html": "<div>\n<style scoped>\n    .dataframe tbody tr th:only-of-type {\n        vertical-align: middle;\n    }\n\n    .dataframe tbody tr th {\n        vertical-align: top;\n    }\n\n    .dataframe thead th {\n        text-align: right;\n    }\n</style>\n<table border=\"1\" class=\"dataframe\">\n  <thead>\n    <tr style=\"text-align: right;\">\n      <th></th>\n      <th>_id</th>\n      <th>CBSA</th>\n      <th>Name</th>\n      <th>Primary_City</th>\n      <th>Primary_State_Code</th>\n      <th>Primary_State_FIPS</th>\n      <th>Latitude</th>\n      <th>Longitude</th>\n      <th>County_FIPS_agg</th>\n    </tr>\n  </thead>\n  <tbody>\n    <tr>\n      <th>0</th>\n      <td>603dedea9226a0b6c19374de</td>\n      <td>10180</td>\n      <td>Abilene, TX</td>\n      <td>Abilene</td>\n      <td>TX</td>\n      <td>48</td>\n      <td>32.4543</td>\n      <td>-99.7384</td>\n      <td>48059, 48253, 48441</td>\n    </tr>\n    <tr>\n      <th>1</th>\n      <td>603dedea9226a0b6c19374df</td>\n      <td>10420</td>\n      <td>Akron, OH</td>\n      <td>Akron</td>\n      <td>OH</td>\n      <td>39</td>\n      <td>41.0798</td>\n      <td>-81.5219</td>\n      <td>39133, 39153</td>\n    </tr>\n    <tr>\n      <th>2</th>\n      <td>603dedea9226a0b6c19374e0</td>\n      <td>10500</td>\n      <td>Albany, GA</td>\n      <td>Albany</td>\n      <td>GA</td>\n      <td>13</td>\n      <td>31.5776</td>\n      <td>-84.1762</td>\n      <td>13095, 13177, 13273, 13321</td>\n    </tr>\n    <tr>\n      <th>3</th>\n      <td>603dedea9226a0b6c19374e1</td>\n      <td>10540</td>\n      <td>Albany-Lebanon, OR</td>\n      <td>Albany</td>\n      <td>OR</td>\n      <td>41</td>\n      <td>44.6274</td>\n      <td>-123.0966</td>\n      <td>41043</td>\n    </tr>\n    <tr>\n      <th>4</th>\n      <td>603dedea9226a0b6c19374e2</td>\n      <td>10580</td>\n      <td>Albany-Schenectady-Troy, NY</td>\n      <td>Albany</td>\n      <td>NY</td>\n      <td>36</td>\n      <td>42.6664</td>\n      <td>-73.7987</td>\n      <td>36001, 36083, 36091, 36093, 36095</td>\n    </tr>\n  </tbody>\n</table>\n</div>"
     },
     "metadata": {},
     "execution_count": 26
    }
   ],
   "source": [
    "# Select the collection within the database (in this case its GDP_raw data, check list below for other collections)\n",
    "data = db.msa_codes\n",
    "# Convert entire collection to Pandas dataframe\n",
    "df_msa = pd.DataFrame(list(data.find()))\n",
    "df_msa.head()"
   ]
  },
  {
   "cell_type": "code",
   "execution_count": 27,
   "metadata": {},
   "outputs": [
    {
     "output_type": "execute_result",
     "data": {
      "text/plain": [
       "                        _id_x   CBSA  \\\n",
       "0    603dedea9226a0b6c19374de  10180   \n",
       "1    603dedea9226a0b6c19374e7  11100   \n",
       "2    603dedea9226a0b6c19374f3  12420   \n",
       "3    603dedea9226a0b6c19374fb  13140   \n",
       "4    603dedea9226a0b6c193750d  15180   \n",
       "..                        ...    ...   \n",
       "379  603dedea9226a0b6c19375b7  31700   \n",
       "380  603dedea9226a0b6c19375f6  39300   \n",
       "381  603dedea9226a0b6c19375fc  39660   \n",
       "382  603dedea9226a0b6c1937626  43620   \n",
       "383  603dedea9226a0b6c193764b  47900   \n",
       "\n",
       "                                             Name Primary_City  \\\n",
       "0                                     Abilene, TX      Abilene   \n",
       "1                                    Amarillo, TX     Amarillo   \n",
       "2                Austin-Round Rock-Georgetown, TX       Austin   \n",
       "3                        Beaumont-Port Arthur, TX     Beaumont   \n",
       "4                       Brownsville-Harlingen, TX  Brownsville   \n",
       "..                                            ...          ...   \n",
       "379                         Manchester-Nashua, NH   Manchester   \n",
       "380                     Providence-Warwick, RI-MA   Providence   \n",
       "381                                Rapid City, SD   Rapid City   \n",
       "382                               Sioux Falls, SD  Sioux Falls   \n",
       "383  Washington-Arlington-Alexandria, DC-VA-MD-WV   Washington   \n",
       "\n",
       "    Primary_State_Code Primary_State_FIPS  Latitude  Longitude  \\\n",
       "0                   TX                 48   32.4543   -99.7384   \n",
       "1                   TX                 48   35.1988  -101.8311   \n",
       "2                   TX                 48   30.3004   -97.7522   \n",
       "3                   TX                 48   30.0849   -94.1451   \n",
       "4                   TX                 48   25.9980   -97.4565   \n",
       "..                 ...                ...       ...        ...   \n",
       "379                 NH                 33   42.9848   -71.4447   \n",
       "380                 RI                 44   41.8230   -71.4187   \n",
       "381                 SD                 46   44.0716  -103.2204   \n",
       "382                 SD                 46   43.5397   -96.7320   \n",
       "383                 DC                 11   38.9047   -77.0163   \n",
       "\n",
       "                                       County_FIPS_agg  \\\n",
       "0                                  48059, 48253, 48441   \n",
       "1                    48011, 48065, 48359, 48375, 48381   \n",
       "2                    48021, 48055, 48209, 48453, 48491   \n",
       "3                                  48199, 48245, 48361   \n",
       "4                                                48061   \n",
       "..                                                 ...   \n",
       "379                                              33011   \n",
       "380           25005, 44001, 44003, 44005, 44007, 44009   \n",
       "381                                       46093, 46103   \n",
       "382                         46083, 46087, 46099, 46125   \n",
       "383  24021, 24031, 11001, 24009, 24017, 24033, 5101...   \n",
       "\n",
       "                        _id_y FIPS                  State  Region Region_Name  \\\n",
       "0    603f3e2de251dabd4e0b3309   48       Texas                  3       South   \n",
       "1    603f3e2de251dabd4e0b3309   48       Texas                  3       South   \n",
       "2    603f3e2de251dabd4e0b3309   48       Texas                  3       South   \n",
       "3    603f3e2de251dabd4e0b3309   48       Texas                  3       South   \n",
       "4    603f3e2de251dabd4e0b3309   48       Texas                  3       South   \n",
       "..                        ...  ...                    ...     ...         ...   \n",
       "379  603f3e2de251dabd4e0b32e7   33       New Hampshire          1   Northeast   \n",
       "380  603f3e2de251dabd4e0b32e8   44       Rhode Island           1   Northeast   \n",
       "381  603f3e2de251dabd4e0b32f8   46       South Dakota           2     Midwest   \n",
       "382  603f3e2de251dabd4e0b32f8   46       South Dakota           2     Midwest   \n",
       "383  603f3e2de251dabd4e0b32fa   11  District of Columbia        3       South   \n",
       "\n",
       "     Division       Division_Name    2024_CPI  CPI_Score  \n",
       "0           7  West South Central  265.925504      177.0  \n",
       "1           7  West South Central  265.925504      177.0  \n",
       "2           7  West South Central  265.925504      177.0  \n",
       "3           7  West South Central  265.925504      177.0  \n",
       "4           7  West South Central  265.925504      177.0  \n",
       "..        ...                 ...         ...        ...  \n",
       "379         1         New England  289.633993      162.0  \n",
       "380         1         New England  289.633993      162.0  \n",
       "381         4  West North Central  255.833767      192.0  \n",
       "382         4  West North Central  255.833767      192.0  \n",
       "383         5      South Atlantic  265.925504      177.0  \n",
       "\n",
       "[384 rows x 18 columns]"
      ],
      "text/html": "<div>\n<style scoped>\n    .dataframe tbody tr th:only-of-type {\n        vertical-align: middle;\n    }\n\n    .dataframe tbody tr th {\n        vertical-align: top;\n    }\n\n    .dataframe thead th {\n        text-align: right;\n    }\n</style>\n<table border=\"1\" class=\"dataframe\">\n  <thead>\n    <tr style=\"text-align: right;\">\n      <th></th>\n      <th>_id_x</th>\n      <th>CBSA</th>\n      <th>Name</th>\n      <th>Primary_City</th>\n      <th>Primary_State_Code</th>\n      <th>Primary_State_FIPS</th>\n      <th>Latitude</th>\n      <th>Longitude</th>\n      <th>County_FIPS_agg</th>\n      <th>_id_y</th>\n      <th>FIPS</th>\n      <th>State</th>\n      <th>Region</th>\n      <th>Region_Name</th>\n      <th>Division</th>\n      <th>Division_Name</th>\n      <th>2024_CPI</th>\n      <th>CPI_Score</th>\n    </tr>\n  </thead>\n  <tbody>\n    <tr>\n      <th>0</th>\n      <td>603dedea9226a0b6c19374de</td>\n      <td>10180</td>\n      <td>Abilene, TX</td>\n      <td>Abilene</td>\n      <td>TX</td>\n      <td>48</td>\n      <td>32.4543</td>\n      <td>-99.7384</td>\n      <td>48059, 48253, 48441</td>\n      <td>603f3e2de251dabd4e0b3309</td>\n      <td>48</td>\n      <td>Texas</td>\n      <td>3</td>\n      <td>South</td>\n      <td>7</td>\n      <td>West South Central</td>\n      <td>265.925504</td>\n      <td>177.0</td>\n    </tr>\n    <tr>\n      <th>1</th>\n      <td>603dedea9226a0b6c19374e7</td>\n      <td>11100</td>\n      <td>Amarillo, TX</td>\n      <td>Amarillo</td>\n      <td>TX</td>\n      <td>48</td>\n      <td>35.1988</td>\n      <td>-101.8311</td>\n      <td>48011, 48065, 48359, 48375, 48381</td>\n      <td>603f3e2de251dabd4e0b3309</td>\n      <td>48</td>\n      <td>Texas</td>\n      <td>3</td>\n      <td>South</td>\n      <td>7</td>\n      <td>West South Central</td>\n      <td>265.925504</td>\n      <td>177.0</td>\n    </tr>\n    <tr>\n      <th>2</th>\n      <td>603dedea9226a0b6c19374f3</td>\n      <td>12420</td>\n      <td>Austin-Round Rock-Georgetown, TX</td>\n      <td>Austin</td>\n      <td>TX</td>\n      <td>48</td>\n      <td>30.3004</td>\n      <td>-97.7522</td>\n      <td>48021, 48055, 48209, 48453, 48491</td>\n      <td>603f3e2de251dabd4e0b3309</td>\n      <td>48</td>\n      <td>Texas</td>\n      <td>3</td>\n      <td>South</td>\n      <td>7</td>\n      <td>West South Central</td>\n      <td>265.925504</td>\n      <td>177.0</td>\n    </tr>\n    <tr>\n      <th>3</th>\n      <td>603dedea9226a0b6c19374fb</td>\n      <td>13140</td>\n      <td>Beaumont-Port Arthur, TX</td>\n      <td>Beaumont</td>\n      <td>TX</td>\n      <td>48</td>\n      <td>30.0849</td>\n      <td>-94.1451</td>\n      <td>48199, 48245, 48361</td>\n      <td>603f3e2de251dabd4e0b3309</td>\n      <td>48</td>\n      <td>Texas</td>\n      <td>3</td>\n      <td>South</td>\n      <td>7</td>\n      <td>West South Central</td>\n      <td>265.925504</td>\n      <td>177.0</td>\n    </tr>\n    <tr>\n      <th>4</th>\n      <td>603dedea9226a0b6c193750d</td>\n      <td>15180</td>\n      <td>Brownsville-Harlingen, TX</td>\n      <td>Brownsville</td>\n      <td>TX</td>\n      <td>48</td>\n      <td>25.9980</td>\n      <td>-97.4565</td>\n      <td>48061</td>\n      <td>603f3e2de251dabd4e0b3309</td>\n      <td>48</td>\n      <td>Texas</td>\n      <td>3</td>\n      <td>South</td>\n      <td>7</td>\n      <td>West South Central</td>\n      <td>265.925504</td>\n      <td>177.0</td>\n    </tr>\n    <tr>\n      <th>...</th>\n      <td>...</td>\n      <td>...</td>\n      <td>...</td>\n      <td>...</td>\n      <td>...</td>\n      <td>...</td>\n      <td>...</td>\n      <td>...</td>\n      <td>...</td>\n      <td>...</td>\n      <td>...</td>\n      <td>...</td>\n      <td>...</td>\n      <td>...</td>\n      <td>...</td>\n      <td>...</td>\n      <td>...</td>\n      <td>...</td>\n    </tr>\n    <tr>\n      <th>379</th>\n      <td>603dedea9226a0b6c19375b7</td>\n      <td>31700</td>\n      <td>Manchester-Nashua, NH</td>\n      <td>Manchester</td>\n      <td>NH</td>\n      <td>33</td>\n      <td>42.9848</td>\n      <td>-71.4447</td>\n      <td>33011</td>\n      <td>603f3e2de251dabd4e0b32e7</td>\n      <td>33</td>\n      <td>New Hampshire</td>\n      <td>1</td>\n      <td>Northeast</td>\n      <td>1</td>\n      <td>New England</td>\n      <td>289.633993</td>\n      <td>162.0</td>\n    </tr>\n    <tr>\n      <th>380</th>\n      <td>603dedea9226a0b6c19375f6</td>\n      <td>39300</td>\n      <td>Providence-Warwick, RI-MA</td>\n      <td>Providence</td>\n      <td>RI</td>\n      <td>44</td>\n      <td>41.8230</td>\n      <td>-71.4187</td>\n      <td>25005, 44001, 44003, 44005, 44007, 44009</td>\n      <td>603f3e2de251dabd4e0b32e8</td>\n      <td>44</td>\n      <td>Rhode Island</td>\n      <td>1</td>\n      <td>Northeast</td>\n      <td>1</td>\n      <td>New England</td>\n      <td>289.633993</td>\n      <td>162.0</td>\n    </tr>\n    <tr>\n      <th>381</th>\n      <td>603dedea9226a0b6c19375fc</td>\n      <td>39660</td>\n      <td>Rapid City, SD</td>\n      <td>Rapid City</td>\n      <td>SD</td>\n      <td>46</td>\n      <td>44.0716</td>\n      <td>-103.2204</td>\n      <td>46093, 46103</td>\n      <td>603f3e2de251dabd4e0b32f8</td>\n      <td>46</td>\n      <td>South Dakota</td>\n      <td>2</td>\n      <td>Midwest</td>\n      <td>4</td>\n      <td>West North Central</td>\n      <td>255.833767</td>\n      <td>192.0</td>\n    </tr>\n    <tr>\n      <th>382</th>\n      <td>603dedea9226a0b6c1937626</td>\n      <td>43620</td>\n      <td>Sioux Falls, SD</td>\n      <td>Sioux Falls</td>\n      <td>SD</td>\n      <td>46</td>\n      <td>43.5397</td>\n      <td>-96.7320</td>\n      <td>46083, 46087, 46099, 46125</td>\n      <td>603f3e2de251dabd4e0b32f8</td>\n      <td>46</td>\n      <td>South Dakota</td>\n      <td>2</td>\n      <td>Midwest</td>\n      <td>4</td>\n      <td>West North Central</td>\n      <td>255.833767</td>\n      <td>192.0</td>\n    </tr>\n    <tr>\n      <th>383</th>\n      <td>603dedea9226a0b6c193764b</td>\n      <td>47900</td>\n      <td>Washington-Arlington-Alexandria, DC-VA-MD-WV</td>\n      <td>Washington</td>\n      <td>DC</td>\n      <td>11</td>\n      <td>38.9047</td>\n      <td>-77.0163</td>\n      <td>24021, 24031, 11001, 24009, 24017, 24033, 5101...</td>\n      <td>603f3e2de251dabd4e0b32fa</td>\n      <td>11</td>\n      <td>District of Columbia</td>\n      <td>3</td>\n      <td>South</td>\n      <td>5</td>\n      <td>South Atlantic</td>\n      <td>265.925504</td>\n      <td>177.0</td>\n    </tr>\n  </tbody>\n</table>\n<p>384 rows × 18 columns</p>\n</div>"
     },
     "metadata": {},
     "execution_count": 27
    }
   ],
   "source": [
    "df_final = df_msa.merge(df_reg_comb, left_on='Primary_State_FIPS', right_on='FIPS')\n",
    "df_final"
   ]
  },
  {
   "cell_type": "code",
   "execution_count": 28,
   "metadata": {},
   "outputs": [
    {
     "output_type": "execute_result",
     "data": {
      "text/plain": [
       "Index(['_id_x', 'CBSA', 'Name', 'Primary_City', 'Primary_State_Code',\n",
       "       'Primary_State_FIPS', 'Latitude', 'Longitude', 'County_FIPS_agg',\n",
       "       '_id_y', 'FIPS', 'State', 'Region', 'Region_Name', 'Division',\n",
       "       'Division_Name', '2024_CPI', 'CPI_Score'],\n",
       "      dtype='object')"
      ]
     },
     "metadata": {},
     "execution_count": 28
    }
   ],
   "source": [
    "df_final.columns"
   ]
  },
  {
   "cell_type": "code",
   "execution_count": 30,
   "metadata": {},
   "outputs": [
    {
     "output_type": "execute_result",
     "data": {
      "text/plain": [
       "      CBSA    2024_CPI  CPI_Score\n",
       "0    10180  265.925504      177.0\n",
       "1    11100  265.925504      177.0\n",
       "2    12420  265.925504      177.0\n",
       "3    13140  265.925504      177.0\n",
       "4    15180  265.925504      177.0\n",
       "..     ...         ...        ...\n",
       "379  31700  289.633993      162.0\n",
       "380  39300  289.633993      162.0\n",
       "381  39660  255.833767      192.0\n",
       "382  43620  255.833767      192.0\n",
       "383  47900  265.925504      177.0\n",
       "\n",
       "[384 rows x 3 columns]"
      ],
      "text/html": "<div>\n<style scoped>\n    .dataframe tbody tr th:only-of-type {\n        vertical-align: middle;\n    }\n\n    .dataframe tbody tr th {\n        vertical-align: top;\n    }\n\n    .dataframe thead th {\n        text-align: right;\n    }\n</style>\n<table border=\"1\" class=\"dataframe\">\n  <thead>\n    <tr style=\"text-align: right;\">\n      <th></th>\n      <th>CBSA</th>\n      <th>2024_CPI</th>\n      <th>CPI_Score</th>\n    </tr>\n  </thead>\n  <tbody>\n    <tr>\n      <th>0</th>\n      <td>10180</td>\n      <td>265.925504</td>\n      <td>177.0</td>\n    </tr>\n    <tr>\n      <th>1</th>\n      <td>11100</td>\n      <td>265.925504</td>\n      <td>177.0</td>\n    </tr>\n    <tr>\n      <th>2</th>\n      <td>12420</td>\n      <td>265.925504</td>\n      <td>177.0</td>\n    </tr>\n    <tr>\n      <th>3</th>\n      <td>13140</td>\n      <td>265.925504</td>\n      <td>177.0</td>\n    </tr>\n    <tr>\n      <th>4</th>\n      <td>15180</td>\n      <td>265.925504</td>\n      <td>177.0</td>\n    </tr>\n    <tr>\n      <th>...</th>\n      <td>...</td>\n      <td>...</td>\n      <td>...</td>\n    </tr>\n    <tr>\n      <th>379</th>\n      <td>31700</td>\n      <td>289.633993</td>\n      <td>162.0</td>\n    </tr>\n    <tr>\n      <th>380</th>\n      <td>39300</td>\n      <td>289.633993</td>\n      <td>162.0</td>\n    </tr>\n    <tr>\n      <th>381</th>\n      <td>39660</td>\n      <td>255.833767</td>\n      <td>192.0</td>\n    </tr>\n    <tr>\n      <th>382</th>\n      <td>43620</td>\n      <td>255.833767</td>\n      <td>192.0</td>\n    </tr>\n    <tr>\n      <th>383</th>\n      <td>47900</td>\n      <td>265.925504</td>\n      <td>177.0</td>\n    </tr>\n  </tbody>\n</table>\n<p>384 rows × 3 columns</p>\n</div>"
     },
     "metadata": {},
     "execution_count": 30
    }
   ],
   "source": [
    "df_final.drop(columns=['_id_x', 'Name', 'Primary_City', 'Primary_State_Code',\n",
    "       'Primary_State_FIPS', 'Latitude', 'Longitude', 'County_FIPS_agg',\n",
    "       '_id_y', 'FIPS', 'State', 'Region', 'Region_Name', 'Division',\n",
    "       'Division_Name'], inplace=True)\n",
    "df_final"
   ]
  },
  {
   "cell_type": "code",
   "execution_count": 31,
   "metadata": {},
   "outputs": [
    {
     "output_type": "execute_result",
     "data": {
      "text/plain": [
       "<pymongo.results.InsertManyResult at 0x1f12fe24280>"
      ]
     },
     "metadata": {},
     "execution_count": 31
    }
   ],
   "source": [
    "# create new collection\n",
    "collection = db.arima_cpi_pred_score\n",
    "# turn dataframe into readable format for mongo\n",
    "df_dict = df_final.to_dict(orient='records')\n",
    "# write dataframe to unemployment_predicted_2024 collection\n",
    "collection.insert_many(df_dict)"
   ]
  },
  {
   "cell_type": "code",
   "execution_count": null,
   "metadata": {},
   "outputs": [],
   "source": []
  }
 ]
}