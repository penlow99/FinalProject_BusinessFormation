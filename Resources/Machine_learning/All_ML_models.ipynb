{
 "cells": [
  {
   "cell_type": "code",
   "execution_count": 1,
   "id": "fixed-central",
   "metadata": {},
   "outputs": [],
   "source": [
    "import numpy as np\n",
    "import pandas as pd\n",
    "from sklearn.model_selection import train_test_split\n",
    "from sklearn.linear_model import LogisticRegression\n",
    "from sklearn.metrics import accuracy_score\n",
    "from sklearn.metrics import classification_report\n",
    "from sklearn.metrics import confusion_matrix\n",
    "from sklearn.ensemble import RandomForestClassifier\n",
    "from sklearn.svm import SVC\n",
    "from sklearn.ensemble import GradientBoostingClassifier\n",
    "from imblearn.over_sampling import SMOTE\n",
    "from collections import Counter\n",
    "from sklearn.metrics import balanced_accuracy_score\n",
    "from imblearn.metrics import classification_report_imbalanced"
   ]
  },
  {
   "cell_type": "code",
   "execution_count": 2,
   "id": "fuzzy-boundary",
   "metadata": {},
   "outputs": [
    {
     "data": {
      "text/html": [
       "<div>\n",
       "<style scoped>\n",
       "    .dataframe tbody tr th:only-of-type {\n",
       "        vertical-align: middle;\n",
       "    }\n",
       "\n",
       "    .dataframe tbody tr th {\n",
       "        vertical-align: top;\n",
       "    }\n",
       "\n",
       "    .dataframe thead th {\n",
       "        text-align: right;\n",
       "    }\n",
       "</style>\n",
       "<table border=\"1\" class=\"dataframe\">\n",
       "  <thead>\n",
       "    <tr style=\"text-align: right;\">\n",
       "      <th></th>\n",
       "      <th>CBSA</th>\n",
       "      <th>MSA</th>\n",
       "      <th>Employment</th>\n",
       "      <th>GDP</th>\n",
       "      <th>Population</th>\n",
       "      <th>Unemployment</th>\n",
       "      <th>Total</th>\n",
       "    </tr>\n",
       "  </thead>\n",
       "  <tbody>\n",
       "    <tr>\n",
       "      <th>0</th>\n",
       "      <td>10180</td>\n",
       "      <td>abilene, tx</td>\n",
       "      <td>4.672014</td>\n",
       "      <td>16.444673</td>\n",
       "      <td>1.397860</td>\n",
       "      <td>3.0</td>\n",
       "      <td>670.5</td>\n",
       "    </tr>\n",
       "    <tr>\n",
       "      <th>1</th>\n",
       "      <td>10420</td>\n",
       "      <td>akron, oh</td>\n",
       "      <td>1.819752</td>\n",
       "      <td>11.310636</td>\n",
       "      <td>-0.128197</td>\n",
       "      <td>4.3</td>\n",
       "      <td>1139.5</td>\n",
       "    </tr>\n",
       "    <tr>\n",
       "      <th>2</th>\n",
       "      <td>10500</td>\n",
       "      <td>albany, ga</td>\n",
       "      <td>2.294333</td>\n",
       "      <td>16.066871</td>\n",
       "      <td>-2.434386</td>\n",
       "      <td>4.3</td>\n",
       "      <td>1101.5</td>\n",
       "    </tr>\n",
       "    <tr>\n",
       "      <th>3</th>\n",
       "      <td>10540</td>\n",
       "      <td>albany-lebanon, or</td>\n",
       "      <td>8.949608</td>\n",
       "      <td>25.114448</td>\n",
       "      <td>7.911940</td>\n",
       "      <td>4.3</td>\n",
       "      <td>446.5</td>\n",
       "    </tr>\n",
       "    <tr>\n",
       "      <th>4</th>\n",
       "      <td>10580</td>\n",
       "      <td>albany-schenectady-troy, ny</td>\n",
       "      <td>4.109291</td>\n",
       "      <td>18.285130</td>\n",
       "      <td>0.147426</td>\n",
       "      <td>3.7</td>\n",
       "      <td>825.5</td>\n",
       "    </tr>\n",
       "    <tr>\n",
       "      <th>...</th>\n",
       "      <td>...</td>\n",
       "      <td>...</td>\n",
       "      <td>...</td>\n",
       "      <td>...</td>\n",
       "      <td>...</td>\n",
       "      <td>...</td>\n",
       "      <td>...</td>\n",
       "    </tr>\n",
       "    <tr>\n",
       "      <th>379</th>\n",
       "      <td>49420</td>\n",
       "      <td>yakima, wa</td>\n",
       "      <td>6.186625</td>\n",
       "      <td>24.300861</td>\n",
       "      <td>1.240113</td>\n",
       "      <td>7.0</td>\n",
       "      <td>815.0</td>\n",
       "    </tr>\n",
       "    <tr>\n",
       "      <th>380</th>\n",
       "      <td>49620</td>\n",
       "      <td>york-hanover, pa</td>\n",
       "      <td>4.926748</td>\n",
       "      <td>12.935877</td>\n",
       "      <td>1.656400</td>\n",
       "      <td>3.8</td>\n",
       "      <td>856.0</td>\n",
       "    </tr>\n",
       "    <tr>\n",
       "      <th>381</th>\n",
       "      <td>49660</td>\n",
       "      <td>youngstown-warren-boardman, oh-pa</td>\n",
       "      <td>-1.471502</td>\n",
       "      <td>8.218357</td>\n",
       "      <td>-2.317246</td>\n",
       "      <td>5.7</td>\n",
       "      <td>1414.5</td>\n",
       "    </tr>\n",
       "    <tr>\n",
       "      <th>382</th>\n",
       "      <td>49700</td>\n",
       "      <td>yuba city, ca</td>\n",
       "      <td>10.104159</td>\n",
       "      <td>24.611951</td>\n",
       "      <td>3.727698</td>\n",
       "      <td>6.8</td>\n",
       "      <td>614.0</td>\n",
       "    </tr>\n",
       "    <tr>\n",
       "      <th>383</th>\n",
       "      <td>49740</td>\n",
       "      <td>yuma, az</td>\n",
       "      <td>6.405594</td>\n",
       "      <td>23.802286</td>\n",
       "      <td>4.191806</td>\n",
       "      <td>16.4</td>\n",
       "      <td>698.0</td>\n",
       "    </tr>\n",
       "  </tbody>\n",
       "</table>\n",
       "<p>384 rows × 7 columns</p>\n",
       "</div>"
      ],
      "text/plain": [
       "      CBSA                                MSA  Employment        GDP  \\\n",
       "0    10180                        abilene, tx    4.672014  16.444673   \n",
       "1    10420                          akron, oh    1.819752  11.310636   \n",
       "2    10500                         albany, ga    2.294333  16.066871   \n",
       "3    10540                 albany-lebanon, or    8.949608  25.114448   \n",
       "4    10580        albany-schenectady-troy, ny    4.109291  18.285130   \n",
       "..     ...                                ...         ...        ...   \n",
       "379  49420                         yakima, wa    6.186625  24.300861   \n",
       "380  49620                   york-hanover, pa    4.926748  12.935877   \n",
       "381  49660  youngstown-warren-boardman, oh-pa   -1.471502   8.218357   \n",
       "382  49700                      yuba city, ca   10.104159  24.611951   \n",
       "383  49740                           yuma, az    6.405594  23.802286   \n",
       "\n",
       "     Population  Unemployment   Total  \n",
       "0      1.397860           3.0   670.5  \n",
       "1     -0.128197           4.3  1139.5  \n",
       "2     -2.434386           4.3  1101.5  \n",
       "3      7.911940           4.3   446.5  \n",
       "4      0.147426           3.7   825.5  \n",
       "..          ...           ...     ...  \n",
       "379    1.240113           7.0   815.0  \n",
       "380    1.656400           3.8   856.0  \n",
       "381   -2.317246           5.7  1414.5  \n",
       "382    3.727698           6.8   614.0  \n",
       "383    4.191806          16.4   698.0  \n",
       "\n",
       "[384 rows x 7 columns]"
      ]
     },
     "execution_count": 2,
     "metadata": {},
     "output_type": "execute_result"
    }
   ],
   "source": [
    "df = pd.read_csv('features_for_fit.csv')\n",
    "df"
   ]
  },
  {
   "cell_type": "code",
   "execution_count": 3,
   "id": "grave-diving",
   "metadata": {},
   "outputs": [
    {
     "data": {
      "text/html": [
       "<div>\n",
       "<style scoped>\n",
       "    .dataframe tbody tr th:only-of-type {\n",
       "        vertical-align: middle;\n",
       "    }\n",
       "\n",
       "    .dataframe tbody tr th {\n",
       "        vertical-align: top;\n",
       "    }\n",
       "\n",
       "    .dataframe thead th {\n",
       "        text-align: right;\n",
       "    }\n",
       "</style>\n",
       "<table border=\"1\" class=\"dataframe\">\n",
       "  <thead>\n",
       "    <tr style=\"text-align: right;\">\n",
       "      <th></th>\n",
       "      <th>CBSA</th>\n",
       "      <th>MSA</th>\n",
       "      <th>Employment</th>\n",
       "      <th>GDP</th>\n",
       "      <th>Population</th>\n",
       "      <th>Unemployment</th>\n",
       "      <th>Total</th>\n",
       "      <th>Target</th>\n",
       "    </tr>\n",
       "  </thead>\n",
       "  <tbody>\n",
       "    <tr>\n",
       "      <th>0</th>\n",
       "      <td>10180</td>\n",
       "      <td>abilene, tx</td>\n",
       "      <td>4.672014</td>\n",
       "      <td>16.444673</td>\n",
       "      <td>1.397860</td>\n",
       "      <td>3.0</td>\n",
       "      <td>670.5</td>\n",
       "      <td>Static</td>\n",
       "    </tr>\n",
       "    <tr>\n",
       "      <th>1</th>\n",
       "      <td>10420</td>\n",
       "      <td>akron, oh</td>\n",
       "      <td>1.819752</td>\n",
       "      <td>11.310636</td>\n",
       "      <td>-0.128197</td>\n",
       "      <td>4.3</td>\n",
       "      <td>1139.5</td>\n",
       "      <td>Static</td>\n",
       "    </tr>\n",
       "    <tr>\n",
       "      <th>2</th>\n",
       "      <td>10500</td>\n",
       "      <td>albany, ga</td>\n",
       "      <td>2.294333</td>\n",
       "      <td>16.066871</td>\n",
       "      <td>-2.434386</td>\n",
       "      <td>4.3</td>\n",
       "      <td>1101.5</td>\n",
       "      <td>Static</td>\n",
       "    </tr>\n",
       "    <tr>\n",
       "      <th>3</th>\n",
       "      <td>10540</td>\n",
       "      <td>albany-lebanon, or</td>\n",
       "      <td>8.949608</td>\n",
       "      <td>25.114448</td>\n",
       "      <td>7.911940</td>\n",
       "      <td>4.3</td>\n",
       "      <td>446.5</td>\n",
       "      <td>Static</td>\n",
       "    </tr>\n",
       "    <tr>\n",
       "      <th>4</th>\n",
       "      <td>10580</td>\n",
       "      <td>albany-schenectady-troy, ny</td>\n",
       "      <td>4.109291</td>\n",
       "      <td>18.285130</td>\n",
       "      <td>0.147426</td>\n",
       "      <td>3.7</td>\n",
       "      <td>825.5</td>\n",
       "      <td>Static</td>\n",
       "    </tr>\n",
       "    <tr>\n",
       "      <th>...</th>\n",
       "      <td>...</td>\n",
       "      <td>...</td>\n",
       "      <td>...</td>\n",
       "      <td>...</td>\n",
       "      <td>...</td>\n",
       "      <td>...</td>\n",
       "      <td>...</td>\n",
       "      <td>...</td>\n",
       "    </tr>\n",
       "    <tr>\n",
       "      <th>379</th>\n",
       "      <td>49420</td>\n",
       "      <td>yakima, wa</td>\n",
       "      <td>6.186625</td>\n",
       "      <td>24.300861</td>\n",
       "      <td>1.240113</td>\n",
       "      <td>7.0</td>\n",
       "      <td>815.0</td>\n",
       "      <td>Static</td>\n",
       "    </tr>\n",
       "    <tr>\n",
       "      <th>380</th>\n",
       "      <td>49620</td>\n",
       "      <td>york-hanover, pa</td>\n",
       "      <td>4.926748</td>\n",
       "      <td>12.935877</td>\n",
       "      <td>1.656400</td>\n",
       "      <td>3.8</td>\n",
       "      <td>856.0</td>\n",
       "      <td>Static</td>\n",
       "    </tr>\n",
       "    <tr>\n",
       "      <th>381</th>\n",
       "      <td>49660</td>\n",
       "      <td>youngstown-warren-boardman, oh-pa</td>\n",
       "      <td>-1.471502</td>\n",
       "      <td>8.218357</td>\n",
       "      <td>-2.317246</td>\n",
       "      <td>5.7</td>\n",
       "      <td>1414.5</td>\n",
       "      <td>Static</td>\n",
       "    </tr>\n",
       "    <tr>\n",
       "      <th>382</th>\n",
       "      <td>49700</td>\n",
       "      <td>yuba city, ca</td>\n",
       "      <td>10.104159</td>\n",
       "      <td>24.611951</td>\n",
       "      <td>3.727698</td>\n",
       "      <td>6.8</td>\n",
       "      <td>614.0</td>\n",
       "      <td>Static</td>\n",
       "    </tr>\n",
       "    <tr>\n",
       "      <th>383</th>\n",
       "      <td>49740</td>\n",
       "      <td>yuma, az</td>\n",
       "      <td>6.405594</td>\n",
       "      <td>23.802286</td>\n",
       "      <td>4.191806</td>\n",
       "      <td>16.4</td>\n",
       "      <td>698.0</td>\n",
       "      <td>Static</td>\n",
       "    </tr>\n",
       "  </tbody>\n",
       "</table>\n",
       "<p>384 rows × 8 columns</p>\n",
       "</div>"
      ],
      "text/plain": [
       "      CBSA                                MSA  Employment        GDP  \\\n",
       "0    10180                        abilene, tx    4.672014  16.444673   \n",
       "1    10420                          akron, oh    1.819752  11.310636   \n",
       "2    10500                         albany, ga    2.294333  16.066871   \n",
       "3    10540                 albany-lebanon, or    8.949608  25.114448   \n",
       "4    10580        albany-schenectady-troy, ny    4.109291  18.285130   \n",
       "..     ...                                ...         ...        ...   \n",
       "379  49420                         yakima, wa    6.186625  24.300861   \n",
       "380  49620                   york-hanover, pa    4.926748  12.935877   \n",
       "381  49660  youngstown-warren-boardman, oh-pa   -1.471502   8.218357   \n",
       "382  49700                      yuba city, ca   10.104159  24.611951   \n",
       "383  49740                           yuma, az    6.405594  23.802286   \n",
       "\n",
       "     Population  Unemployment   Total  Target  \n",
       "0      1.397860           3.0   670.5  Static  \n",
       "1     -0.128197           4.3  1139.5  Static  \n",
       "2     -2.434386           4.3  1101.5  Static  \n",
       "3      7.911940           4.3   446.5  Static  \n",
       "4      0.147426           3.7   825.5  Static  \n",
       "..          ...           ...     ...     ...  \n",
       "379    1.240113           7.0   815.0  Static  \n",
       "380    1.656400           3.8   856.0  Static  \n",
       "381   -2.317246           5.7  1414.5  Static  \n",
       "382    3.727698           6.8   614.0  Static  \n",
       "383    4.191806          16.4   698.0  Static  \n",
       "\n",
       "[384 rows x 8 columns]"
      ]
     },
     "execution_count": 3,
     "metadata": {},
     "output_type": "execute_result"
    }
   ],
   "source": [
    "# Target \"Emerging\" and \"Static\" based off of top 40 MSA's with best ranking score.\n",
    "df.loc[df['Total'] < 300, 'Target'] = \"Emerging\"\n",
    "df.loc[df['Total'] >300, 'Target'] = \"Static\"\n",
    "df"
   ]
  },
  {
   "cell_type": "code",
   "execution_count": 4,
   "id": "departmental-purchase",
   "metadata": {},
   "outputs": [],
   "source": [
    "y = df['Target']\n",
    "X = df.drop(columns=['CBSA','MSA', 'Total', 'Target'])"
   ]
  },
  {
   "cell_type": "code",
   "execution_count": 5,
   "id": "generic-colony",
   "metadata": {},
   "outputs": [
    {
     "data": {
      "text/plain": [
       "Counter({'Static': 257, 'Emerging': 31})"
      ]
     },
     "execution_count": 5,
     "metadata": {},
     "output_type": "execute_result"
    }
   ],
   "source": [
    "X_train, X_test, y_train, y_test = train_test_split(X, y, random_state=42)\n",
    "Counter(y_train)"
   ]
  },
  {
   "cell_type": "code",
   "execution_count": 6,
   "id": "agreed-crossing",
   "metadata": {},
   "outputs": [
    {
     "data": {
      "text/plain": [
       "LogisticRegression(max_iter=200, random_state=42)"
      ]
     },
     "execution_count": 6,
     "metadata": {},
     "output_type": "execute_result"
    }
   ],
   "source": [
    "model = LogisticRegression(solver='lbfgs', max_iter=200, random_state=42)\n",
    "model.fit(X_train, y_train)"
   ]
  },
  {
   "cell_type": "code",
   "execution_count": 7,
   "id": "pointed-minneapolis",
   "metadata": {},
   "outputs": [
    {
     "name": "stdout",
     "output_type": "stream",
     "text": [
      "0.9791666666666666\n",
      "[[ 8  1]\n",
      " [ 1 86]]\n",
      "              precision    recall  f1-score   support\n",
      "\n",
      "    Emerging       0.89      0.89      0.89         9\n",
      "      Static       0.99      0.99      0.99        87\n",
      "\n",
      "    accuracy                           0.98        96\n",
      "   macro avg       0.94      0.94      0.94        96\n",
      "weighted avg       0.98      0.98      0.98        96\n",
      "\n"
     ]
    }
   ],
   "source": [
    "y_pred = model.predict(X_test)\n",
    "print(accuracy_score(y_test, y_pred))\n",
    "print(confusion_matrix(y_test, y_pred))\n",
    "print(classification_report(y_test, y_pred))"
   ]
  },
  {
   "cell_type": "code",
   "execution_count": 8,
   "id": "secret-singles",
   "metadata": {},
   "outputs": [
    {
     "name": "stdout",
     "output_type": "stream",
     "text": [
      "Learning rate:  0.05\n",
      "Accuracy score (training): 0.990\n",
      "Accuracy score (validation): 0.969\n",
      "Learning rate:  0.1\n",
      "Accuracy score (training): 1.000\n",
      "Accuracy score (validation): 0.958\n",
      "Learning rate:  0.25\n",
      "Accuracy score (training): 1.000\n",
      "Accuracy score (validation): 0.969\n",
      "Learning rate:  0.5\n",
      "Accuracy score (training): 1.000\n",
      "Accuracy score (validation): 0.958\n",
      "Learning rate:  0.75\n",
      "Accuracy score (training): 1.000\n",
      "Accuracy score (validation): 0.958\n",
      "Learning rate:  1\n",
      "Accuracy score (training): 1.000\n",
      "Accuracy score (validation): 0.958\n"
     ]
    }
   ],
   "source": [
    "# Create a gradient boosting classifier object\n",
    "learning_rates = [0.05, 0.1, 0.25, 0.5, 0.75, 1]\n",
    "for learning_rate in learning_rates:\n",
    "    classifier = GradientBoostingClassifier(n_estimators=20,\n",
    "                                            learning_rate=learning_rate,\n",
    "                                            max_features=3,\n",
    "                                            max_depth=3,\n",
    "                                            random_state=42)\n",
    "\n",
    "    # Fit the model\n",
    "    classifier.fit(X_train, y_train)\n",
    "    print(\"Learning rate: \", learning_rate)\n",
    "\n",
    "    # Score the model\n",
    "    print(\"Accuracy score (training): {0:.3f}\".format(\n",
    "        classifier.score(\n",
    "            X_train,\n",
    "            y_train)))\n",
    "    print(\"Accuracy score (validation): {0:.3f}\".format(\n",
    "        classifier.score(\n",
    "            X_test,\n",
    "            y_test)))"
   ]
  },
  {
   "cell_type": "code",
   "execution_count": 9,
   "id": "considerable-killing",
   "metadata": {},
   "outputs": [],
   "source": [
    "# Choose a learning rate and create classifier\n",
    "classifier = GradientBoostingClassifier(n_estimators=20,\n",
    "                                        learning_rate=0.25,\n",
    "                                        max_features=3,\n",
    "                                        max_depth=3,\n",
    "                                        random_state=42)\n",
    "\n",
    "# Fit the model\n",
    "classifier.fit(X_train, y_train)\n",
    "\n",
    "# Make Prediction\n",
    "predictions = classifier.predict(X_test)"
   ]
  },
  {
   "cell_type": "code",
   "execution_count": 10,
   "id": "varied-pulse",
   "metadata": {},
   "outputs": [
    {
     "name": "stdout",
     "output_type": "stream",
     "text": [
      "0.96875\n",
      "[[ 8  1]\n",
      " [ 2 85]]\n",
      "              precision    recall  f1-score   support\n",
      "\n",
      "    Emerging       0.80      0.89      0.84         9\n",
      "      Static       0.99      0.98      0.98        87\n",
      "\n",
      "    accuracy                           0.97        96\n",
      "   macro avg       0.89      0.93      0.91        96\n",
      "weighted avg       0.97      0.97      0.97        96\n",
      "\n"
     ]
    }
   ],
   "source": [
    "print(accuracy_score(y_test, predictions))\n",
    "print(confusion_matrix(y_test, predictions))\n",
    "print(classification_report(y_test, predictions))"
   ]
  },
  {
   "cell_type": "code",
   "execution_count": 11,
   "id": "sustainable-tiger",
   "metadata": {},
   "outputs": [],
   "source": [
    "# Creating a random forest classifier\n",
    "rf_model = RandomForestClassifier(n_estimators=500, random_state=42)"
   ]
  },
  {
   "cell_type": "code",
   "execution_count": 12,
   "id": "cardiovascular-science",
   "metadata": {},
   "outputs": [],
   "source": [
    "rf_model.fit(X_train, y_train)\n",
    "forest_predict = rf_model.predict(X_test)"
   ]
  },
  {
   "cell_type": "code",
   "execution_count": 13,
   "id": "graphic-stand",
   "metadata": {},
   "outputs": [
    {
     "name": "stdout",
     "output_type": "stream",
     "text": [
      "0.96875\n",
      "[[ 8  1]\n",
      " [ 2 85]]\n",
      "              precision    recall  f1-score   support\n",
      "\n",
      "    Emerging       0.80      0.89      0.84         9\n",
      "      Static       0.99      0.98      0.98        87\n",
      "\n",
      "    accuracy                           0.97        96\n",
      "   macro avg       0.89      0.93      0.91        96\n",
      "weighted avg       0.97      0.97      0.97        96\n",
      "\n"
     ]
    }
   ],
   "source": [
    "print(accuracy_score(y_test, forest_predict))\n",
    "print(confusion_matrix(y_test, forest_predict))\n",
    "print(classification_report(y_test, forest_predict))"
   ]
  },
  {
   "cell_type": "code",
   "execution_count": 14,
   "id": "technological-campus",
   "metadata": {},
   "outputs": [
    {
     "data": {
      "text/plain": [
       "[(0.3832108657624258, 'Employment'),\n",
       " (0.22907188137675114, 'Population'),\n",
       " (0.2288012310050099, 'Unemployment'),\n",
       " (0.15891602185581316, 'GDP')]"
      ]
     },
     "execution_count": 14,
     "metadata": {},
     "output_type": "execute_result"
    }
   ],
   "source": [
    "importances = rf_model.feature_importances_\n",
    "sorted(zip(rf_model.feature_importances_, X.columns), reverse=True)"
   ]
  },
  {
   "cell_type": "code",
   "execution_count": 15,
   "id": "controlled-mongolia",
   "metadata": {},
   "outputs": [
    {
     "data": {
      "text/plain": [
       "SVC(kernel='linear')"
      ]
     },
     "execution_count": 15,
     "metadata": {},
     "output_type": "execute_result"
    }
   ],
   "source": [
    "# create SVM classifier\n",
    "model_svm = SVC(kernel='linear')\n",
    "model_svm.fit(X_train, y_train)"
   ]
  },
  {
   "cell_type": "code",
   "execution_count": 16,
   "id": "ranking-madrid",
   "metadata": {},
   "outputs": [
    {
     "name": "stdout",
     "output_type": "stream",
     "text": [
      "0.9583333333333334\n",
      "[[ 7  2]\n",
      " [ 2 85]]\n",
      "              precision    recall  f1-score   support\n",
      "\n",
      "    Emerging       0.78      0.78      0.78         9\n",
      "      Static       0.98      0.98      0.98        87\n",
      "\n",
      "    accuracy                           0.96        96\n",
      "   macro avg       0.88      0.88      0.88        96\n",
      "weighted avg       0.96      0.96      0.96        96\n",
      "\n"
     ]
    }
   ],
   "source": [
    "y_pred_svm = model_svm.predict(X_test)\n",
    "print(accuracy_score(y_test, y_pred_svm))\n",
    "print(confusion_matrix(y_test, y_pred_svm))\n",
    "print(classification_report(y_test, y_pred_svm))"
   ]
  },
  {
   "cell_type": "code",
   "execution_count": 17,
   "id": "paperback-fifth",
   "metadata": {},
   "outputs": [
    {
     "data": {
      "text/plain": [
       "Counter({'Static': 257, 'Emerging': 257})"
      ]
     },
     "execution_count": 17,
     "metadata": {},
     "output_type": "execute_result"
    }
   ],
   "source": [
    "# using SMOTE to over sample the \"emerging\" cities\n",
    "X_resampled, y_resampled = SMOTE(random_state=1, sampling_strategy='auto').fit_resample(X_train, y_train)\n",
    "Counter(y_resampled)"
   ]
  },
  {
   "cell_type": "code",
   "execution_count": 18,
   "id": "historical-routine",
   "metadata": {},
   "outputs": [
    {
     "data": {
      "text/plain": [
       "LogisticRegression(max_iter=200, random_state=1)"
      ]
     },
     "execution_count": 18,
     "metadata": {},
     "output_type": "execute_result"
    }
   ],
   "source": [
    "model_smote_LR = LogisticRegression(solver='lbfgs', max_iter=200, random_state=1)\n",
    "model_smote_LR.fit(X_resampled, y_resampled)"
   ]
  },
  {
   "cell_type": "code",
   "execution_count": 19,
   "id": "collective-collaboration",
   "metadata": {},
   "outputs": [
    {
     "name": "stdout",
     "output_type": "stream",
     "text": [
      "0.9655172413793103\n",
      "[[ 9  0]\n",
      " [ 6 81]]\n",
      "                   pre       rec       spe        f1       geo       iba       sup\n",
      "\n",
      "   Emerging       0.60      1.00      0.93      0.75      0.96      0.94         9\n",
      "     Static       1.00      0.93      1.00      0.96      0.96      0.92        87\n",
      "\n",
      "avg / total       0.96      0.94      0.99      0.94      0.96      0.93        96\n",
      "\n"
     ]
    }
   ],
   "source": [
    "y_pred_smote_LR = model_smote_LR.predict(X_test)\n",
    "print(balanced_accuracy_score(y_test, y_pred_smote_LR))\n",
    "print(confusion_matrix(y_test, y_pred_smote_LR))\n",
    "print(classification_report_imbalanced(y_test, y_pred_smote_LR))"
   ]
  },
  {
   "cell_type": "code",
   "execution_count": 20,
   "id": "broke-detective",
   "metadata": {},
   "outputs": [
    {
     "data": {
      "text/plain": [
       "SVC(kernel='linear')"
      ]
     },
     "execution_count": 20,
     "metadata": {},
     "output_type": "execute_result"
    }
   ],
   "source": [
    "# rerun svm model with smote oversampling\n",
    "model_svm2 = SVC(kernel='linear')\n",
    "model_svm2.fit(X_resampled, y_resampled)"
   ]
  },
  {
   "cell_type": "code",
   "execution_count": 21,
   "id": "insured-princess",
   "metadata": {},
   "outputs": [
    {
     "name": "stdout",
     "output_type": "stream",
     "text": [
      "0.9583333333333334\n",
      "[[ 9  0]\n",
      " [ 4 83]]\n",
      "              precision    recall  f1-score   support\n",
      "\n",
      "    Emerging       0.69      1.00      0.82         9\n",
      "      Static       1.00      0.95      0.98        87\n",
      "\n",
      "    accuracy                           0.96        96\n",
      "   macro avg       0.85      0.98      0.90        96\n",
      "weighted avg       0.97      0.96      0.96        96\n",
      "\n"
     ]
    }
   ],
   "source": [
    "y_pred_svm2 = model_svm2.predict(X_test)\n",
    "print(accuracy_score(y_test, y_pred_svm2))\n",
    "print(confusion_matrix(y_test, y_pred_svm2))\n",
    "print(classification_report(y_test, y_pred_svm2))"
   ]
  }
 ],
 "metadata": {
  "kernelspec": {
   "display_name": "mlenv",
   "language": "python",
   "name": "mlenv"
  },
  "language_info": {
   "codemirror_mode": {
    "name": "ipython",
    "version": 3
   },
   "file_extension": ".py",
   "mimetype": "text/x-python",
   "name": "python",
   "nbconvert_exporter": "python",
   "pygments_lexer": "ipython3",
   "version": "3.7.9"
  }
 },
 "nbformat": 4,
 "nbformat_minor": 5
}
