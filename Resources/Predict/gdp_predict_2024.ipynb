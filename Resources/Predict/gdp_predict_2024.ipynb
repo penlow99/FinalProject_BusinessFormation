{
 "metadata": {
  "language_info": {
   "codemirror_mode": {
    "name": "ipython",
    "version": 3
   },
   "file_extension": ".py",
   "mimetype": "text/x-python",
   "name": "python",
   "nbconvert_exporter": "python",
   "pygments_lexer": "ipython3",
   "version": "3.8.5-final"
  },
  "orig_nbformat": 2,
  "kernelspec": {
   "name": "python3",
   "display_name": "Python 3.8.5 64-bit ('PythonData': conda)",
   "metadata": {
    "interpreter": {
     "hash": "e23f4f60931143176db9ec6317533e574a91510be5bd7dc0753f3d7ca18e38be"
    }
   }
  }
 },
 "nbformat": 4,
 "nbformat_minor": 2,
 "cells": [
  {
   "cell_type": "code",
   "execution_count": 22,
   "metadata": {},
   "outputs": [],
   "source": [
    "import pymongo\n",
    "import pandas as pd\n",
    "from pymongo import MongoClient\n",
    "import os\n",
    "from sklearn.linear_model import LinearRegression"
   ]
  },
  {
   "cell_type": "code",
   "execution_count": 23,
   "metadata": {},
   "outputs": [
    {
     "output_type": "execute_result",
     "data": {
      "text/plain": [
       "                        _id   CBSA      2010      2011      2012      2013  \\\n",
       "0  60329bde9efa42f38169dc16  10180   5839625   5996498   6285840   6450382   \n",
       "1  60329bde9efa42f38169dc17  10420  28983322  29589772  30484007  31447075   \n",
       "2  60329bde9efa42f38169dc18  10500   5097990   5279579   5436011   5530836   \n",
       "3  60329bde9efa42f38169dc19  10540   3476449   3574061   3642763   3792310   \n",
       "4  60329bde9efa42f38169dc1a  10580  46985416  47754508  49077007  50933123   \n",
       "\n",
       "       2014      2015      2016      2017      2018      2019  \n",
       "0   6678674   6638709   6631955   6833064   7348112   7730423  \n",
       "1  32753646  33868052  34458540  35193942  36624333  37698744  \n",
       "2   5577624   5676239   5874144   5956081   6166172   6588233  \n",
       "3   3921082   4242542   4498372   4642425   5102768   5308033  \n",
       "4  52822054  55451680  57904993  60255221  62666517  65591092  "
      ],
      "text/html": "<div>\n<style scoped>\n    .dataframe tbody tr th:only-of-type {\n        vertical-align: middle;\n    }\n\n    .dataframe tbody tr th {\n        vertical-align: top;\n    }\n\n    .dataframe thead th {\n        text-align: right;\n    }\n</style>\n<table border=\"1\" class=\"dataframe\">\n  <thead>\n    <tr style=\"text-align: right;\">\n      <th></th>\n      <th>_id</th>\n      <th>CBSA</th>\n      <th>2010</th>\n      <th>2011</th>\n      <th>2012</th>\n      <th>2013</th>\n      <th>2014</th>\n      <th>2015</th>\n      <th>2016</th>\n      <th>2017</th>\n      <th>2018</th>\n      <th>2019</th>\n    </tr>\n  </thead>\n  <tbody>\n    <tr>\n      <th>0</th>\n      <td>60329bde9efa42f38169dc16</td>\n      <td>10180</td>\n      <td>5839625</td>\n      <td>5996498</td>\n      <td>6285840</td>\n      <td>6450382</td>\n      <td>6678674</td>\n      <td>6638709</td>\n      <td>6631955</td>\n      <td>6833064</td>\n      <td>7348112</td>\n      <td>7730423</td>\n    </tr>\n    <tr>\n      <th>1</th>\n      <td>60329bde9efa42f38169dc17</td>\n      <td>10420</td>\n      <td>28983322</td>\n      <td>29589772</td>\n      <td>30484007</td>\n      <td>31447075</td>\n      <td>32753646</td>\n      <td>33868052</td>\n      <td>34458540</td>\n      <td>35193942</td>\n      <td>36624333</td>\n      <td>37698744</td>\n    </tr>\n    <tr>\n      <th>2</th>\n      <td>60329bde9efa42f38169dc18</td>\n      <td>10500</td>\n      <td>5097990</td>\n      <td>5279579</td>\n      <td>5436011</td>\n      <td>5530836</td>\n      <td>5577624</td>\n      <td>5676239</td>\n      <td>5874144</td>\n      <td>5956081</td>\n      <td>6166172</td>\n      <td>6588233</td>\n    </tr>\n    <tr>\n      <th>3</th>\n      <td>60329bde9efa42f38169dc19</td>\n      <td>10540</td>\n      <td>3476449</td>\n      <td>3574061</td>\n      <td>3642763</td>\n      <td>3792310</td>\n      <td>3921082</td>\n      <td>4242542</td>\n      <td>4498372</td>\n      <td>4642425</td>\n      <td>5102768</td>\n      <td>5308033</td>\n    </tr>\n    <tr>\n      <th>4</th>\n      <td>60329bde9efa42f38169dc1a</td>\n      <td>10580</td>\n      <td>46985416</td>\n      <td>47754508</td>\n      <td>49077007</td>\n      <td>50933123</td>\n      <td>52822054</td>\n      <td>55451680</td>\n      <td>57904993</td>\n      <td>60255221</td>\n      <td>62666517</td>\n      <td>65591092</td>\n    </tr>\n  </tbody>\n</table>\n</div>"
     },
     "metadata": {},
     "execution_count": 23
    }
   ],
   "source": [
    "# Create instance of MongoClient\n",
    "client = MongoClient()\n",
    "# Connection URI\n",
    "connStr = os.getenv(\"MONGO_CONN\")\n",
    "client = MongoClient(connStr)\n",
    "# Select database\n",
    "db = client['MSA']\n",
    "# Select the collection within the database (in this case its GDP_raw data, check list below for other collections)\n",
    "gdp = db.GDP_clean\n",
    "# Convert entire collection to Pandas dataframe\n",
    "df_gdp = pd.DataFrame(list(gdp.find()))\n",
    "df_gdp.head()"
   ]
  },
  {
   "cell_type": "code",
   "execution_count": 24,
   "metadata": {},
   "outputs": [],
   "source": [
    "# Drop _id column from mongodb\n",
    "df_gdp.drop(columns='_id', inplace=True)"
   ]
  },
  {
   "cell_type": "code",
   "execution_count": 25,
   "metadata": {},
   "outputs": [
    {
     "output_type": "stream",
     "name": "stdout",
     "text": [
      "<class 'pandas.core.frame.DataFrame'>\nRangeIndex: 384 entries, 0 to 383\nData columns (total 11 columns):\n #   Column  Non-Null Count  Dtype\n---  ------  --------------  -----\n 0   CBSA    384 non-null    int64\n 1   2010    384 non-null    int64\n 2   2011    384 non-null    int64\n 3   2012    384 non-null    int64\n 4   2013    384 non-null    int64\n 5   2014    384 non-null    int64\n 6   2015    384 non-null    int64\n 7   2016    384 non-null    int64\n 8   2017    384 non-null    int64\n 9   2018    384 non-null    int64\n 10  2019    384 non-null    int64\ndtypes: int64(11)\nmemory usage: 33.1 KB\n"
     ]
    }
   ],
   "source": [
    "df_gdp.info()"
   ]
  },
  {
   "cell_type": "code",
   "execution_count": 26,
   "metadata": {},
   "outputs": [
    {
     "output_type": "execute_result",
     "data": {
      "text/plain": [
       "2010    28983322\n",
       "2011    29589772\n",
       "2012    30484007\n",
       "2013    31447075\n",
       "2014    32753646\n",
       "2015    33868052\n",
       "2016    34458540\n",
       "2017    35193942\n",
       "2018    36624333\n",
       "2019    37698744\n",
       "Name: 1, dtype: int64"
      ]
     },
     "metadata": {},
     "execution_count": 26
    }
   ],
   "source": [
    "# check to see what values we need for the model\n",
    "df_gdp.iloc[1,1:]"
   ]
  },
  {
   "cell_type": "code",
   "execution_count": 27,
   "metadata": {},
   "outputs": [],
   "source": [
    "# create instance of model\n",
    "model = LinearRegression()"
   ]
  },
  {
   "cell_type": "code",
   "execution_count": 28,
   "metadata": {},
   "outputs": [
    {
     "output_type": "execute_result",
     "data": {
      "text/plain": [
       "    CBSA      2010      2011      2012      2013      2014      2015  \\\n",
       "0  10180   5839625   5996498   6285840   6450382   6678674   6638709   \n",
       "1  10420  28983322  29589772  30484007  31447075  32753646  33868052   \n",
       "2  10500   5097990   5279579   5436011   5530836   5577624   5676239   \n",
       "3  10540   3476449   3574061   3642763   3792310   3921082   4242542   \n",
       "4  10580  46985416  47754508  49077007  50933123  52822054  55451680   \n",
       "\n",
       "       2016      2017      2018      2019  Predicted_2024_amount  \n",
       "0   6631955   6833064   7348112   7730423           8.354443e+06  \n",
       "1  34458540  35193942  36624333  37698744           4.240167e+07  \n",
       "2   5874144   5956081   6166172   6588233           7.062525e+06  \n",
       "3   4498372   4642425   5102768   5308033           6.213535e+06  \n",
       "4  57904993  60255221  62666517  65591092           7.516888e+07  "
      ],
      "text/html": "<div>\n<style scoped>\n    .dataframe tbody tr th:only-of-type {\n        vertical-align: middle;\n    }\n\n    .dataframe tbody tr th {\n        vertical-align: top;\n    }\n\n    .dataframe thead th {\n        text-align: right;\n    }\n</style>\n<table border=\"1\" class=\"dataframe\">\n  <thead>\n    <tr style=\"text-align: right;\">\n      <th></th>\n      <th>CBSA</th>\n      <th>2010</th>\n      <th>2011</th>\n      <th>2012</th>\n      <th>2013</th>\n      <th>2014</th>\n      <th>2015</th>\n      <th>2016</th>\n      <th>2017</th>\n      <th>2018</th>\n      <th>2019</th>\n      <th>Predicted_2024_amount</th>\n    </tr>\n  </thead>\n  <tbody>\n    <tr>\n      <th>0</th>\n      <td>10180</td>\n      <td>5839625</td>\n      <td>5996498</td>\n      <td>6285840</td>\n      <td>6450382</td>\n      <td>6678674</td>\n      <td>6638709</td>\n      <td>6631955</td>\n      <td>6833064</td>\n      <td>7348112</td>\n      <td>7730423</td>\n      <td>8.354443e+06</td>\n    </tr>\n    <tr>\n      <th>1</th>\n      <td>10420</td>\n      <td>28983322</td>\n      <td>29589772</td>\n      <td>30484007</td>\n      <td>31447075</td>\n      <td>32753646</td>\n      <td>33868052</td>\n      <td>34458540</td>\n      <td>35193942</td>\n      <td>36624333</td>\n      <td>37698744</td>\n      <td>4.240167e+07</td>\n    </tr>\n    <tr>\n      <th>2</th>\n      <td>10500</td>\n      <td>5097990</td>\n      <td>5279579</td>\n      <td>5436011</td>\n      <td>5530836</td>\n      <td>5577624</td>\n      <td>5676239</td>\n      <td>5874144</td>\n      <td>5956081</td>\n      <td>6166172</td>\n      <td>6588233</td>\n      <td>7.062525e+06</td>\n    </tr>\n    <tr>\n      <th>3</th>\n      <td>10540</td>\n      <td>3476449</td>\n      <td>3574061</td>\n      <td>3642763</td>\n      <td>3792310</td>\n      <td>3921082</td>\n      <td>4242542</td>\n      <td>4498372</td>\n      <td>4642425</td>\n      <td>5102768</td>\n      <td>5308033</td>\n      <td>6.213535e+06</td>\n    </tr>\n    <tr>\n      <th>4</th>\n      <td>10580</td>\n      <td>46985416</td>\n      <td>47754508</td>\n      <td>49077007</td>\n      <td>50933123</td>\n      <td>52822054</td>\n      <td>55451680</td>\n      <td>57904993</td>\n      <td>60255221</td>\n      <td>62666517</td>\n      <td>65591092</td>\n      <td>7.516888e+07</td>\n    </tr>\n  </tbody>\n</table>\n</div>"
     },
     "metadata": {},
     "execution_count": 28
    }
   ],
   "source": [
    "# create a list to hold predictions\n",
    "predictions = []\n",
    "for i in range(0,384):\n",
    "    # the years of data to use in the model\n",
    "    x = [[2010],[2011],[2012],[2013],[2014],[2015],[2016],[2017],[2018],[2019]]\n",
    "    # get just the values we need per row\n",
    "    y = df_gdp.iloc[i, 1:].values\n",
    "    model.fit(x,y)\n",
    "    y_pred = model.predict([[2024]])\n",
    "    predictions.append(y_pred)\n",
    "# a list inside a list was created, so we flatten it\n",
    "flat_list = [item for sublist in predictions for item in sublist]\n",
    "# add column with predicted values to df\n",
    "df_gdp['Predicted_2024_amount'] = flat_list\n",
    "df_gdp.head()"
   ]
  },
  {
   "cell_type": "code",
   "execution_count": 29,
   "metadata": {},
   "outputs": [
    {
     "output_type": "execute_result",
     "data": {
      "text/plain": [
       "    CBSA      2010      2011      2012      2013      2014      2015  \\\n",
       "0  10180   5839625   5996498   6285840   6450382   6678674   6638709   \n",
       "1  10420  28983322  29589772  30484007  31447075  32753646  33868052   \n",
       "2  10500   5097990   5279579   5436011   5530836   5577624   5676239   \n",
       "3  10540   3476449   3574061   3642763   3792310   3921082   4242542   \n",
       "4  10580  46985416  47754508  49077007  50933123  52822054  55451680   \n",
       "\n",
       "       2016      2017      2018      2019  Predicted_2024_amount  \n",
       "0   6631955   6833064   7348112   7730423             8354442.52  \n",
       "1  34458540  35193942  36624333  37698744            42401673.05  \n",
       "2   5874144   5956081   6166172   6588233             7062525.18  \n",
       "3   4498372   4642425   5102768   5308033             6213535.22  \n",
       "4  57904993  60255221  62666517  65591092            75168881.12  "
      ],
      "text/html": "<div>\n<style scoped>\n    .dataframe tbody tr th:only-of-type {\n        vertical-align: middle;\n    }\n\n    .dataframe tbody tr th {\n        vertical-align: top;\n    }\n\n    .dataframe thead th {\n        text-align: right;\n    }\n</style>\n<table border=\"1\" class=\"dataframe\">\n  <thead>\n    <tr style=\"text-align: right;\">\n      <th></th>\n      <th>CBSA</th>\n      <th>2010</th>\n      <th>2011</th>\n      <th>2012</th>\n      <th>2013</th>\n      <th>2014</th>\n      <th>2015</th>\n      <th>2016</th>\n      <th>2017</th>\n      <th>2018</th>\n      <th>2019</th>\n      <th>Predicted_2024_amount</th>\n    </tr>\n  </thead>\n  <tbody>\n    <tr>\n      <th>0</th>\n      <td>10180</td>\n      <td>5839625</td>\n      <td>5996498</td>\n      <td>6285840</td>\n      <td>6450382</td>\n      <td>6678674</td>\n      <td>6638709</td>\n      <td>6631955</td>\n      <td>6833064</td>\n      <td>7348112</td>\n      <td>7730423</td>\n      <td>8354442.52</td>\n    </tr>\n    <tr>\n      <th>1</th>\n      <td>10420</td>\n      <td>28983322</td>\n      <td>29589772</td>\n      <td>30484007</td>\n      <td>31447075</td>\n      <td>32753646</td>\n      <td>33868052</td>\n      <td>34458540</td>\n      <td>35193942</td>\n      <td>36624333</td>\n      <td>37698744</td>\n      <td>42401673.05</td>\n    </tr>\n    <tr>\n      <th>2</th>\n      <td>10500</td>\n      <td>5097990</td>\n      <td>5279579</td>\n      <td>5436011</td>\n      <td>5530836</td>\n      <td>5577624</td>\n      <td>5676239</td>\n      <td>5874144</td>\n      <td>5956081</td>\n      <td>6166172</td>\n      <td>6588233</td>\n      <td>7062525.18</td>\n    </tr>\n    <tr>\n      <th>3</th>\n      <td>10540</td>\n      <td>3476449</td>\n      <td>3574061</td>\n      <td>3642763</td>\n      <td>3792310</td>\n      <td>3921082</td>\n      <td>4242542</td>\n      <td>4498372</td>\n      <td>4642425</td>\n      <td>5102768</td>\n      <td>5308033</td>\n      <td>6213535.22</td>\n    </tr>\n    <tr>\n      <th>4</th>\n      <td>10580</td>\n      <td>46985416</td>\n      <td>47754508</td>\n      <td>49077007</td>\n      <td>50933123</td>\n      <td>52822054</td>\n      <td>55451680</td>\n      <td>57904993</td>\n      <td>60255221</td>\n      <td>62666517</td>\n      <td>65591092</td>\n      <td>75168881.12</td>\n    </tr>\n  </tbody>\n</table>\n</div>"
     },
     "metadata": {},
     "execution_count": 29
    }
   ],
   "source": [
    "# round to two decimals, cuz its money and why not\n",
    "df_gdp['Predicted_2024_amount'] = df_gdp['Predicted_2024_amount'].round(2)\n",
    "df_gdp.head()"
   ]
  },
  {
   "cell_type": "code",
   "execution_count": 30,
   "metadata": {},
   "outputs": [
    {
     "output_type": "execute_result",
     "data": {
      "text/plain": [
       "    CBSA      2010      2011      2012      2013      2014      2015  \\\n",
       "0  10180   5839625   5996498   6285840   6450382   6678674   6638709   \n",
       "1  10420  28983322  29589772  30484007  31447075  32753646  33868052   \n",
       "2  10500   5097990   5279579   5436011   5530836   5577624   5676239   \n",
       "3  10540   3476449   3574061   3642763   3792310   3921082   4242542   \n",
       "4  10580  46985416  47754508  49077007  50933123  52822054  55451680   \n",
       "\n",
       "       2016      2017      2018      2019  Predicted_2024_amount   2024_ROC  \n",
       "0   6631955   6833064   7348112   7730423             8354442.52   8.072256  \n",
       "1  34458540  35193942  36624333  37698744            42401673.05  12.475028  \n",
       "2   5874144   5956081   6166172   6588233             7062525.18   7.199080  \n",
       "3   4498372   4642425   5102768   5308033             6213535.22  17.059092  \n",
       "4  57904993  60255221  62666517  65591092            75168881.12  14.602271  "
      ],
      "text/html": "<div>\n<style scoped>\n    .dataframe tbody tr th:only-of-type {\n        vertical-align: middle;\n    }\n\n    .dataframe tbody tr th {\n        vertical-align: top;\n    }\n\n    .dataframe thead th {\n        text-align: right;\n    }\n</style>\n<table border=\"1\" class=\"dataframe\">\n  <thead>\n    <tr style=\"text-align: right;\">\n      <th></th>\n      <th>CBSA</th>\n      <th>2010</th>\n      <th>2011</th>\n      <th>2012</th>\n      <th>2013</th>\n      <th>2014</th>\n      <th>2015</th>\n      <th>2016</th>\n      <th>2017</th>\n      <th>2018</th>\n      <th>2019</th>\n      <th>Predicted_2024_amount</th>\n      <th>2024_ROC</th>\n    </tr>\n  </thead>\n  <tbody>\n    <tr>\n      <th>0</th>\n      <td>10180</td>\n      <td>5839625</td>\n      <td>5996498</td>\n      <td>6285840</td>\n      <td>6450382</td>\n      <td>6678674</td>\n      <td>6638709</td>\n      <td>6631955</td>\n      <td>6833064</td>\n      <td>7348112</td>\n      <td>7730423</td>\n      <td>8354442.52</td>\n      <td>8.072256</td>\n    </tr>\n    <tr>\n      <th>1</th>\n      <td>10420</td>\n      <td>28983322</td>\n      <td>29589772</td>\n      <td>30484007</td>\n      <td>31447075</td>\n      <td>32753646</td>\n      <td>33868052</td>\n      <td>34458540</td>\n      <td>35193942</td>\n      <td>36624333</td>\n      <td>37698744</td>\n      <td>42401673.05</td>\n      <td>12.475028</td>\n    </tr>\n    <tr>\n      <th>2</th>\n      <td>10500</td>\n      <td>5097990</td>\n      <td>5279579</td>\n      <td>5436011</td>\n      <td>5530836</td>\n      <td>5577624</td>\n      <td>5676239</td>\n      <td>5874144</td>\n      <td>5956081</td>\n      <td>6166172</td>\n      <td>6588233</td>\n      <td>7062525.18</td>\n      <td>7.199080</td>\n    </tr>\n    <tr>\n      <th>3</th>\n      <td>10540</td>\n      <td>3476449</td>\n      <td>3574061</td>\n      <td>3642763</td>\n      <td>3792310</td>\n      <td>3921082</td>\n      <td>4242542</td>\n      <td>4498372</td>\n      <td>4642425</td>\n      <td>5102768</td>\n      <td>5308033</td>\n      <td>6213535.22</td>\n      <td>17.059092</td>\n    </tr>\n    <tr>\n      <th>4</th>\n      <td>10580</td>\n      <td>46985416</td>\n      <td>47754508</td>\n      <td>49077007</td>\n      <td>50933123</td>\n      <td>52822054</td>\n      <td>55451680</td>\n      <td>57904993</td>\n      <td>60255221</td>\n      <td>62666517</td>\n      <td>65591092</td>\n      <td>75168881.12</td>\n      <td>14.602271</td>\n    </tr>\n  </tbody>\n</table>\n</div>"
     },
     "metadata": {},
     "execution_count": 30
    }
   ],
   "source": [
    "# calculate rate of change\n",
    "df_gdp['2024_ROC'] = (df_gdp['Predicted_2024_amount'] - df_gdp['2019'])/df_gdp['2019']*100\n",
    "df_gdp.head()"
   ]
  },
  {
   "cell_type": "code",
   "execution_count": 33,
   "metadata": {},
   "outputs": [
    {
     "output_type": "execute_result",
     "data": {
      "text/plain": [
       "Empty DataFrame\n",
       "Columns: [CBSA, 2010, 2011, 2012, 2013, 2014, 2015, 2016, 2017, 2018, 2019, Predicted_2024_amount, 2024_ROC]\n",
       "Index: []"
      ],
      "text/html": "<div>\n<style scoped>\n    .dataframe tbody tr th:only-of-type {\n        vertical-align: middle;\n    }\n\n    .dataframe tbody tr th {\n        vertical-align: top;\n    }\n\n    .dataframe thead th {\n        text-align: right;\n    }\n</style>\n<table border=\"1\" class=\"dataframe\">\n  <thead>\n    <tr style=\"text-align: right;\">\n      <th></th>\n      <th>CBSA</th>\n      <th>2010</th>\n      <th>2011</th>\n      <th>2012</th>\n      <th>2013</th>\n      <th>2014</th>\n      <th>2015</th>\n      <th>2016</th>\n      <th>2017</th>\n      <th>2018</th>\n      <th>2019</th>\n      <th>Predicted_2024_amount</th>\n      <th>2024_ROC</th>\n    </tr>\n  </thead>\n  <tbody>\n  </tbody>\n</table>\n</div>"
     },
     "metadata": {},
     "execution_count": 33
    }
   ],
   "source": [
    "# check for duplicates before ranking\n",
    "df_gdp[df_gdp.duplicated(['2024_ROC'])]"
   ]
  },
  {
   "cell_type": "code",
   "execution_count": 34,
   "metadata": {},
   "outputs": [
    {
     "output_type": "execute_result",
     "data": {
      "text/plain": [
       "    CBSA      2010      2011      2012      2013      2014      2015  \\\n",
       "0  10180   5839625   5996498   6285840   6450382   6678674   6638709   \n",
       "1  10420  28983322  29589772  30484007  31447075  32753646  33868052   \n",
       "2  10500   5097990   5279579   5436011   5530836   5577624   5676239   \n",
       "3  10540   3476449   3574061   3642763   3792310   3921082   4242542   \n",
       "4  10580  46985416  47754508  49077007  50933123  52822054  55451680   \n",
       "\n",
       "       2016      2017      2018      2019  Predicted_2024_amount   2024_ROC  \\\n",
       "0   6631955   6833064   7348112   7730423             8354442.52   8.072256   \n",
       "1  34458540  35193942  36624333  37698744            42401673.05  12.475028   \n",
       "2   5874144   5956081   6166172   6588233             7062525.18   7.199080   \n",
       "3   4498372   4642425   5102768   5308033             6213535.22  17.059092   \n",
       "4  57904993  60255221  62666517  65591092            75168881.12  14.602271   \n",
       "\n",
       "   2024_Rank  \n",
       "0      297.0  \n",
       "1      201.0  \n",
       "2      312.0  \n",
       "3       88.0  \n",
       "4      155.0  "
      ],
      "text/html": "<div>\n<style scoped>\n    .dataframe tbody tr th:only-of-type {\n        vertical-align: middle;\n    }\n\n    .dataframe tbody tr th {\n        vertical-align: top;\n    }\n\n    .dataframe thead th {\n        text-align: right;\n    }\n</style>\n<table border=\"1\" class=\"dataframe\">\n  <thead>\n    <tr style=\"text-align: right;\">\n      <th></th>\n      <th>CBSA</th>\n      <th>2010</th>\n      <th>2011</th>\n      <th>2012</th>\n      <th>2013</th>\n      <th>2014</th>\n      <th>2015</th>\n      <th>2016</th>\n      <th>2017</th>\n      <th>2018</th>\n      <th>2019</th>\n      <th>Predicted_2024_amount</th>\n      <th>2024_ROC</th>\n      <th>2024_Rank</th>\n    </tr>\n  </thead>\n  <tbody>\n    <tr>\n      <th>0</th>\n      <td>10180</td>\n      <td>5839625</td>\n      <td>5996498</td>\n      <td>6285840</td>\n      <td>6450382</td>\n      <td>6678674</td>\n      <td>6638709</td>\n      <td>6631955</td>\n      <td>6833064</td>\n      <td>7348112</td>\n      <td>7730423</td>\n      <td>8354442.52</td>\n      <td>8.072256</td>\n      <td>297.0</td>\n    </tr>\n    <tr>\n      <th>1</th>\n      <td>10420</td>\n      <td>28983322</td>\n      <td>29589772</td>\n      <td>30484007</td>\n      <td>31447075</td>\n      <td>32753646</td>\n      <td>33868052</td>\n      <td>34458540</td>\n      <td>35193942</td>\n      <td>36624333</td>\n      <td>37698744</td>\n      <td>42401673.05</td>\n      <td>12.475028</td>\n      <td>201.0</td>\n    </tr>\n    <tr>\n      <th>2</th>\n      <td>10500</td>\n      <td>5097990</td>\n      <td>5279579</td>\n      <td>5436011</td>\n      <td>5530836</td>\n      <td>5577624</td>\n      <td>5676239</td>\n      <td>5874144</td>\n      <td>5956081</td>\n      <td>6166172</td>\n      <td>6588233</td>\n      <td>7062525.18</td>\n      <td>7.199080</td>\n      <td>312.0</td>\n    </tr>\n    <tr>\n      <th>3</th>\n      <td>10540</td>\n      <td>3476449</td>\n      <td>3574061</td>\n      <td>3642763</td>\n      <td>3792310</td>\n      <td>3921082</td>\n      <td>4242542</td>\n      <td>4498372</td>\n      <td>4642425</td>\n      <td>5102768</td>\n      <td>5308033</td>\n      <td>6213535.22</td>\n      <td>17.059092</td>\n      <td>88.0</td>\n    </tr>\n    <tr>\n      <th>4</th>\n      <td>10580</td>\n      <td>46985416</td>\n      <td>47754508</td>\n      <td>49077007</td>\n      <td>50933123</td>\n      <td>52822054</td>\n      <td>55451680</td>\n      <td>57904993</td>\n      <td>60255221</td>\n      <td>62666517</td>\n      <td>65591092</td>\n      <td>75168881.12</td>\n      <td>14.602271</td>\n      <td>155.0</td>\n    </tr>\n  </tbody>\n</table>\n</div>"
     },
     "metadata": {},
     "execution_count": 34
    }
   ],
   "source": [
    "# rank the values descending by ROC\n",
    "df_gdp['2024_Rank'] = df_gdp['2024_ROC'].rank(ascending=False)\n",
    "df_gdp.head()"
   ]
  },
  {
   "cell_type": "code",
   "execution_count": 36,
   "metadata": {},
   "outputs": [
    {
     "output_type": "execute_result",
     "data": {
      "text/plain": [
       "      CBSA      2010      2011      2012      2013      2014      2015  \\\n",
       "296  40580   6583419   6193876   5579311   5760276   7329627   9011475   \n",
       "371  48540   6129452   6369342   6446153   7180473   8397012   8665041   \n",
       "107  21140   9265583   9095516   9622682  10519924  11706483  13267137   \n",
       "32   13460   5022378   5091721   5407947   5875268   6558294   7320179   \n",
       "140  24540  10071686  10976437  11937442  13745206  16304556  14847684   \n",
       "\n",
       "         2016      2017      2018      2019  Predicted_2024_amount   2024_ROC  \\\n",
       "296   9539431   9188754   9278142   7689597            11220323.67  45.915627   \n",
       "371   9365988  11548497  12686215  11939964            16291393.24  36.444241   \n",
       "107  14645512  16320319  16389054  16193156            21962360.82  35.627427   \n",
       "32    8078986   8983549   9597273  10042937            13069137.85  30.132628   \n",
       "140  14798021  16991143  20267534  19889946            25368025.63  27.541953   \n",
       "\n",
       "     2024_Rank  \n",
       "296        1.0  \n",
       "371        2.0  \n",
       "107        3.0  \n",
       "32         4.0  \n",
       "140        5.0  "
      ],
      "text/html": "<div>\n<style scoped>\n    .dataframe tbody tr th:only-of-type {\n        vertical-align: middle;\n    }\n\n    .dataframe tbody tr th {\n        vertical-align: top;\n    }\n\n    .dataframe thead th {\n        text-align: right;\n    }\n</style>\n<table border=\"1\" class=\"dataframe\">\n  <thead>\n    <tr style=\"text-align: right;\">\n      <th></th>\n      <th>CBSA</th>\n      <th>2010</th>\n      <th>2011</th>\n      <th>2012</th>\n      <th>2013</th>\n      <th>2014</th>\n      <th>2015</th>\n      <th>2016</th>\n      <th>2017</th>\n      <th>2018</th>\n      <th>2019</th>\n      <th>Predicted_2024_amount</th>\n      <th>2024_ROC</th>\n      <th>2024_Rank</th>\n    </tr>\n  </thead>\n  <tbody>\n    <tr>\n      <th>296</th>\n      <td>40580</td>\n      <td>6583419</td>\n      <td>6193876</td>\n      <td>5579311</td>\n      <td>5760276</td>\n      <td>7329627</td>\n      <td>9011475</td>\n      <td>9539431</td>\n      <td>9188754</td>\n      <td>9278142</td>\n      <td>7689597</td>\n      <td>11220323.67</td>\n      <td>45.915627</td>\n      <td>1.0</td>\n    </tr>\n    <tr>\n      <th>371</th>\n      <td>48540</td>\n      <td>6129452</td>\n      <td>6369342</td>\n      <td>6446153</td>\n      <td>7180473</td>\n      <td>8397012</td>\n      <td>8665041</td>\n      <td>9365988</td>\n      <td>11548497</td>\n      <td>12686215</td>\n      <td>11939964</td>\n      <td>16291393.24</td>\n      <td>36.444241</td>\n      <td>2.0</td>\n    </tr>\n    <tr>\n      <th>107</th>\n      <td>21140</td>\n      <td>9265583</td>\n      <td>9095516</td>\n      <td>9622682</td>\n      <td>10519924</td>\n      <td>11706483</td>\n      <td>13267137</td>\n      <td>14645512</td>\n      <td>16320319</td>\n      <td>16389054</td>\n      <td>16193156</td>\n      <td>21962360.82</td>\n      <td>35.627427</td>\n      <td>3.0</td>\n    </tr>\n    <tr>\n      <th>32</th>\n      <td>13460</td>\n      <td>5022378</td>\n      <td>5091721</td>\n      <td>5407947</td>\n      <td>5875268</td>\n      <td>6558294</td>\n      <td>7320179</td>\n      <td>8078986</td>\n      <td>8983549</td>\n      <td>9597273</td>\n      <td>10042937</td>\n      <td>13069137.85</td>\n      <td>30.132628</td>\n      <td>4.0</td>\n    </tr>\n    <tr>\n      <th>140</th>\n      <td>24540</td>\n      <td>10071686</td>\n      <td>10976437</td>\n      <td>11937442</td>\n      <td>13745206</td>\n      <td>16304556</td>\n      <td>14847684</td>\n      <td>14798021</td>\n      <td>16991143</td>\n      <td>20267534</td>\n      <td>19889946</td>\n      <td>25368025.63</td>\n      <td>27.541953</td>\n      <td>5.0</td>\n    </tr>\n  </tbody>\n</table>\n</div>"
     },
     "metadata": {},
     "execution_count": 36
    }
   ],
   "source": [
    "# Check to see if ranking worked\n",
    "df_gdp.sort_values(by='2024_ROC', inplace=True, ascending=False)\n",
    "df_gdp.head()"
   ]
  },
  {
   "cell_type": "code",
   "execution_count": 37,
   "metadata": {},
   "outputs": [],
   "source": [
    "df_gdp.sort_values(by='CBSA', inplace=True)"
   ]
  },
  {
   "cell_type": "code",
   "execution_count": 43,
   "metadata": {},
   "outputs": [
    {
     "output_type": "execute_result",
     "data": {
      "text/plain": [
       "{'CBSA': 10180, '2024_ROC': 8.072255813168304, '2024_Rank': 297.0}"
      ]
     },
     "metadata": {},
     "execution_count": 43
    }
   ],
   "source": [
    "# turn dataframe into readable format for mongo with only the columns we need\n",
    "df_dict = df_gdp[['CBSA', '2024_ROC','2024_Rank']].to_dict(orient='records')\n",
    "df_dict[0]"
   ]
  },
  {
   "cell_type": "code",
   "execution_count": 44,
   "metadata": {},
   "outputs": [],
   "source": [
    "# create new collection for dataframe with predicted ROC and rank\n",
    "predicted_2024 = db.GDP_predicted_2024"
   ]
  },
  {
   "cell_type": "code",
   "execution_count": 45,
   "metadata": {},
   "outputs": [
    {
     "output_type": "execute_result",
     "data": {
      "text/plain": [
       "<pymongo.results.InsertManyResult at 0x298fd09d3c0>"
      ]
     },
     "metadata": {},
     "execution_count": 45
    }
   ],
   "source": [
    "# write dataframe to unemployment_predicted_2024 collection\n",
    "predicted_2024.insert_many(df_dict)"
   ]
  },
  {
   "cell_type": "code",
   "execution_count": null,
   "metadata": {},
   "outputs": [],
   "source": []
  }
 ]
}