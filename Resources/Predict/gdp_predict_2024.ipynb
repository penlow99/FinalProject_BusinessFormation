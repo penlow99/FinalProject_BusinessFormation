{
 "metadata": {
  "language_info": {
   "codemirror_mode": {
    "name": "ipython",
    "version": 3
   },
   "file_extension": ".py",
   "mimetype": "text/x-python",
   "name": "python",
   "nbconvert_exporter": "python",
   "pygments_lexer": "ipython3",
   "version": "3.8.5-final"
  },
  "orig_nbformat": 2,
  "kernelspec": {
   "name": "python3",
   "display_name": "Python 3.8.5 64-bit ('PythonData': conda)",
   "metadata": {
    "interpreter": {
     "hash": "e23f4f60931143176db9ec6317533e574a91510be5bd7dc0753f3d7ca18e38be"
    }
   }
  }
 },
 "nbformat": 4,
 "nbformat_minor": 2,
 "cells": [
  {
   "cell_type": "code",
   "execution_count": 1,
   "metadata": {},
   "outputs": [],
   "source": [
    "import pymongo\n",
    "import pandas as pd\n",
    "from pymongo import MongoClient\n",
    "import os"
   ]
  },
  {
   "cell_type": "code",
   "execution_count": 2,
   "metadata": {},
   "outputs": [
    {
     "output_type": "execute_result",
     "data": {
      "text/plain": [
       "                        _id   CBSA      2001      2002      2003      2004  \\\n",
       "0  60328a749a8d003a38e3f282  10180   3638709   3746156   3929394   4174103   \n",
       "1  60328a749a8d003a38e3f283  10420  22000408  23265354  24197690  25375844   \n",
       "2  60328a749a8d003a38e3f284  10500   4244508   4397147   4504367   4663416   \n",
       "3  60328a749a8d003a38e3f285  10540   2663058   2858852   2788285   3140305   \n",
       "4  60328a749a8d003a38e3f286  10580  32529530  33665629  35400585  37188847   \n",
       "\n",
       "       2005      2006      2007      2008  ...      2010      2011      2012  \\\n",
       "0   4423342   4991087   5379170   5666044  ...   5839625   5996498   6285840   \n",
       "1  26682888  27552749  28701949  29054310  ...  28983322  29589772  30484007   \n",
       "2   4890707   5027430   5089528   5097879  ...   5097990   5279579   5436011   \n",
       "3   3252690   3692652   3643383   3562291  ...   3476449   3574061   3642763   \n",
       "4  38824009  41337414  42725907  44187767  ...  46985416  47754508  49077007   \n",
       "\n",
       "       2013      2014      2015      2016      2017      2018      2019  \n",
       "0   6450382   6678674   6638709   6631955   6833064   7348112   7730423  \n",
       "1  31447075  32753646  33868052  34458540  35193942  36624333  37698744  \n",
       "2   5530836   5577624   5676239   5874144   5956081   6166172   6588233  \n",
       "3   3792310   3921082   4242542   4498372   4642425   5102768   5308033  \n",
       "4  50933123  52822054  55451680  57904993  60255221  62666517  65591092  \n",
       "\n",
       "[5 rows x 21 columns]"
      ],
      "text/html": "<div>\n<style scoped>\n    .dataframe tbody tr th:only-of-type {\n        vertical-align: middle;\n    }\n\n    .dataframe tbody tr th {\n        vertical-align: top;\n    }\n\n    .dataframe thead th {\n        text-align: right;\n    }\n</style>\n<table border=\"1\" class=\"dataframe\">\n  <thead>\n    <tr style=\"text-align: right;\">\n      <th></th>\n      <th>_id</th>\n      <th>CBSA</th>\n      <th>2001</th>\n      <th>2002</th>\n      <th>2003</th>\n      <th>2004</th>\n      <th>2005</th>\n      <th>2006</th>\n      <th>2007</th>\n      <th>2008</th>\n      <th>...</th>\n      <th>2010</th>\n      <th>2011</th>\n      <th>2012</th>\n      <th>2013</th>\n      <th>2014</th>\n      <th>2015</th>\n      <th>2016</th>\n      <th>2017</th>\n      <th>2018</th>\n      <th>2019</th>\n    </tr>\n  </thead>\n  <tbody>\n    <tr>\n      <th>0</th>\n      <td>60328a749a8d003a38e3f282</td>\n      <td>10180</td>\n      <td>3638709</td>\n      <td>3746156</td>\n      <td>3929394</td>\n      <td>4174103</td>\n      <td>4423342</td>\n      <td>4991087</td>\n      <td>5379170</td>\n      <td>5666044</td>\n      <td>...</td>\n      <td>5839625</td>\n      <td>5996498</td>\n      <td>6285840</td>\n      <td>6450382</td>\n      <td>6678674</td>\n      <td>6638709</td>\n      <td>6631955</td>\n      <td>6833064</td>\n      <td>7348112</td>\n      <td>7730423</td>\n    </tr>\n    <tr>\n      <th>1</th>\n      <td>60328a749a8d003a38e3f283</td>\n      <td>10420</td>\n      <td>22000408</td>\n      <td>23265354</td>\n      <td>24197690</td>\n      <td>25375844</td>\n      <td>26682888</td>\n      <td>27552749</td>\n      <td>28701949</td>\n      <td>29054310</td>\n      <td>...</td>\n      <td>28983322</td>\n      <td>29589772</td>\n      <td>30484007</td>\n      <td>31447075</td>\n      <td>32753646</td>\n      <td>33868052</td>\n      <td>34458540</td>\n      <td>35193942</td>\n      <td>36624333</td>\n      <td>37698744</td>\n    </tr>\n    <tr>\n      <th>2</th>\n      <td>60328a749a8d003a38e3f284</td>\n      <td>10500</td>\n      <td>4244508</td>\n      <td>4397147</td>\n      <td>4504367</td>\n      <td>4663416</td>\n      <td>4890707</td>\n      <td>5027430</td>\n      <td>5089528</td>\n      <td>5097879</td>\n      <td>...</td>\n      <td>5097990</td>\n      <td>5279579</td>\n      <td>5436011</td>\n      <td>5530836</td>\n      <td>5577624</td>\n      <td>5676239</td>\n      <td>5874144</td>\n      <td>5956081</td>\n      <td>6166172</td>\n      <td>6588233</td>\n    </tr>\n    <tr>\n      <th>3</th>\n      <td>60328a749a8d003a38e3f285</td>\n      <td>10540</td>\n      <td>2663058</td>\n      <td>2858852</td>\n      <td>2788285</td>\n      <td>3140305</td>\n      <td>3252690</td>\n      <td>3692652</td>\n      <td>3643383</td>\n      <td>3562291</td>\n      <td>...</td>\n      <td>3476449</td>\n      <td>3574061</td>\n      <td>3642763</td>\n      <td>3792310</td>\n      <td>3921082</td>\n      <td>4242542</td>\n      <td>4498372</td>\n      <td>4642425</td>\n      <td>5102768</td>\n      <td>5308033</td>\n    </tr>\n    <tr>\n      <th>4</th>\n      <td>60328a749a8d003a38e3f286</td>\n      <td>10580</td>\n      <td>32529530</td>\n      <td>33665629</td>\n      <td>35400585</td>\n      <td>37188847</td>\n      <td>38824009</td>\n      <td>41337414</td>\n      <td>42725907</td>\n      <td>44187767</td>\n      <td>...</td>\n      <td>46985416</td>\n      <td>47754508</td>\n      <td>49077007</td>\n      <td>50933123</td>\n      <td>52822054</td>\n      <td>55451680</td>\n      <td>57904993</td>\n      <td>60255221</td>\n      <td>62666517</td>\n      <td>65591092</td>\n    </tr>\n  </tbody>\n</table>\n<p>5 rows × 21 columns</p>\n</div>"
     },
     "metadata": {},
     "execution_count": 2
    }
   ],
   "source": [
    "# Create instance of MongoClient\n",
    "client = MongoClient()\n",
    "# Connection URI\n",
    "connStr = os.getenv(\"MONGO_CONN\")\n",
    "client = MongoClient(connStr)\n",
    "# Select database\n",
    "db = client['MSA']\n",
    "# Select the collection within the database (in this case its GDP_raw data, check list below for other collections)\n",
    "gdp = db.GDP_clean\n",
    "# Convert entire collection to Pandas dataframe\n",
    "df_gdp = pd.DataFrame(list(gdp.find()))\n",
    "df_gdp.head()"
   ]
  },
  {
   "cell_type": "code",
   "execution_count": 3,
   "metadata": {},
   "outputs": [],
   "source": [
    "df_gdp.drop(columns='_id', inplace=True)"
   ]
  },
  {
   "cell_type": "code",
   "execution_count": 4,
   "metadata": {},
   "outputs": [
    {
     "output_type": "stream",
     "name": "stdout",
     "text": [
      "<class 'pandas.core.frame.DataFrame'>\nRangeIndex: 384 entries, 0 to 383\nData columns (total 20 columns):\n #   Column  Non-Null Count  Dtype\n---  ------  --------------  -----\n 0   CBSA    384 non-null    int64\n 1   2001    384 non-null    int64\n 2   2002    384 non-null    int64\n 3   2003    384 non-null    int64\n 4   2004    384 non-null    int64\n 5   2005    384 non-null    int64\n 6   2006    384 non-null    int64\n 7   2007    384 non-null    int64\n 8   2008    384 non-null    int64\n 9   2009    384 non-null    int64\n 10  2010    384 non-null    int64\n 11  2011    384 non-null    int64\n 12  2012    384 non-null    int64\n 13  2013    384 non-null    int64\n 14  2014    384 non-null    int64\n 15  2015    384 non-null    int64\n 16  2016    384 non-null    int64\n 17  2017    384 non-null    int64\n 18  2018    384 non-null    int64\n 19  2019    384 non-null    int64\ndtypes: int64(20)\nmemory usage: 60.1 KB\n"
     ]
    }
   ],
   "source": [
    "df_gdp.info()"
   ]
  },
  {
   "cell_type": "code",
   "execution_count": null,
   "metadata": {},
   "outputs": [],
   "source": [
    "predictions = []\n",
    "for i in range(0,383):\n",
    "    x = [[2010],[2011],[2012],[2013],[2014],[2015],[2016],[2017],[2018],[2019]]\n",
    "    y = df.iloc[i, 2:6].values\n",
    "    model.fit(x,y)\n",
    "    y_pred = model.predict([[2024]])\n",
    "    predictions.append(y_pred)\n",
    "flat_list = [item for sublist in predictions for item in sublist]"
   ]
  }
 ]
}