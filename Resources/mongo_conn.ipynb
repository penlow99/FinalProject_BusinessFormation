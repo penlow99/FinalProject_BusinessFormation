{
 "metadata": {
  "language_info": {
   "codemirror_mode": {
    "name": "ipython",
    "version": 3
   },
   "file_extension": ".py",
   "mimetype": "text/x-python",
   "name": "python",
   "nbconvert_exporter": "python",
   "pygments_lexer": "ipython3",
   "version": "3.7.9-final"
  },
  "orig_nbformat": 2,
  "kernelspec": {
   "name": "python3",
   "display_name": "Python 3.7.9 64-bit ('PythonData': conda)",
   "metadata": {
    "interpreter": {
     "hash": "e23f4f60931143176db9ec6317533e574a91510be5bd7dc0753f3d7ca18e38be"
    }
   }
  }
 },
 "nbformat": 4,
 "nbformat_minor": 2,
 "cells": [
  {
   "cell_type": "code",
   "execution_count": 1,
   "metadata": {},
   "outputs": [],
   "source": [
    "import pymongo\n",
    "import pandas as pd\n",
    "from pymongo import MongoClient"
   ]
  },
  {
   "cell_type": "code",
   "execution_count": 2,
   "metadata": {},
   "outputs": [
    {
     "output_type": "execute_result",
     "data": {
      "text/plain": [
       "                        _id  GeoFips  \\\n",
       "0  602caa7558615f560c4ebd11      998   \n",
       "1  602caa7558615f560c4ebd12    10420   \n",
       "2  602caa7558615f560c4ebd13    10180   \n",
       "3  602caa7558615f560c4ebd14    10500   \n",
       "4  602caa7558615f560c4ebd15    10540   \n",
       "\n",
       "                                             GeoName        2001        2002  \\\n",
       "0             United States (Metropolitan Portion) *  9418732584  9735363130   \n",
       "1          Akron, OH (Metropolitan Statistical Area)    22000408    23265354   \n",
       "2        Abilene, TX (Metropolitan Statistical Area)     3638709     3746156   \n",
       "3         Albany, GA (Metropolitan Statistical Area)     4244508     4397147   \n",
       "4  Albany-Lebanon, OR (Metropolitan Statistical A...     2663058     2858852   \n",
       "\n",
       "          2003         2004         2005         2006         2007  ...  \\\n",
       "0  10187621298  10856715428  11597353935  12265005314  12826079941  ...   \n",
       "1     24197690     25375844     26682888     27552749     28701949  ...   \n",
       "2      3929394      4174103      4423342      4991087      5379170  ...   \n",
       "3      4504367      4663416      4890707      5027430      5089528  ...   \n",
       "4      2788285      3140305      3252690      3692652      3643383  ...   \n",
       "\n",
       "          2010         2011         2012         2013         2014  \\\n",
       "0  13269729812  13726940780  14332171020  14832150055  15512337494   \n",
       "1     28983322     29589772     30484007     31447075     32753646   \n",
       "2      5839625      5996498      6285840      6450382      6678674   \n",
       "3      5097990      5279579      5436011      5530836      5577624   \n",
       "4      3476449      3574061      3642763      3792310      3921082   \n",
       "\n",
       "          2015         2016         2017         2018         2019  \n",
       "0  16278284578  16794932722  17510245896  18470552775  19221575535  \n",
       "1     33868052     34458540     35193942     36624333     37698744  \n",
       "2      6638709      6631955      6833064      7348112      7730423  \n",
       "3      5676239      5874144      5956081      6166172      6588233  \n",
       "4      4242542      4498372      4642425      5102768      5308033  \n",
       "\n",
       "[5 rows x 22 columns]"
      ],
      "text/html": "<div>\n<style scoped>\n    .dataframe tbody tr th:only-of-type {\n        vertical-align: middle;\n    }\n\n    .dataframe tbody tr th {\n        vertical-align: top;\n    }\n\n    .dataframe thead th {\n        text-align: right;\n    }\n</style>\n<table border=\"1\" class=\"dataframe\">\n  <thead>\n    <tr style=\"text-align: right;\">\n      <th></th>\n      <th>_id</th>\n      <th>GeoFips</th>\n      <th>GeoName</th>\n      <th>2001</th>\n      <th>2002</th>\n      <th>2003</th>\n      <th>2004</th>\n      <th>2005</th>\n      <th>2006</th>\n      <th>2007</th>\n      <th>...</th>\n      <th>2010</th>\n      <th>2011</th>\n      <th>2012</th>\n      <th>2013</th>\n      <th>2014</th>\n      <th>2015</th>\n      <th>2016</th>\n      <th>2017</th>\n      <th>2018</th>\n      <th>2019</th>\n    </tr>\n  </thead>\n  <tbody>\n    <tr>\n      <th>0</th>\n      <td>602caa7558615f560c4ebd11</td>\n      <td>998</td>\n      <td>United States (Metropolitan Portion) *</td>\n      <td>9418732584</td>\n      <td>9735363130</td>\n      <td>10187621298</td>\n      <td>10856715428</td>\n      <td>11597353935</td>\n      <td>12265005314</td>\n      <td>12826079941</td>\n      <td>...</td>\n      <td>13269729812</td>\n      <td>13726940780</td>\n      <td>14332171020</td>\n      <td>14832150055</td>\n      <td>15512337494</td>\n      <td>16278284578</td>\n      <td>16794932722</td>\n      <td>17510245896</td>\n      <td>18470552775</td>\n      <td>19221575535</td>\n    </tr>\n    <tr>\n      <th>1</th>\n      <td>602caa7558615f560c4ebd12</td>\n      <td>10420</td>\n      <td>Akron, OH (Metropolitan Statistical Area)</td>\n      <td>22000408</td>\n      <td>23265354</td>\n      <td>24197690</td>\n      <td>25375844</td>\n      <td>26682888</td>\n      <td>27552749</td>\n      <td>28701949</td>\n      <td>...</td>\n      <td>28983322</td>\n      <td>29589772</td>\n      <td>30484007</td>\n      <td>31447075</td>\n      <td>32753646</td>\n      <td>33868052</td>\n      <td>34458540</td>\n      <td>35193942</td>\n      <td>36624333</td>\n      <td>37698744</td>\n    </tr>\n    <tr>\n      <th>2</th>\n      <td>602caa7558615f560c4ebd13</td>\n      <td>10180</td>\n      <td>Abilene, TX (Metropolitan Statistical Area)</td>\n      <td>3638709</td>\n      <td>3746156</td>\n      <td>3929394</td>\n      <td>4174103</td>\n      <td>4423342</td>\n      <td>4991087</td>\n      <td>5379170</td>\n      <td>...</td>\n      <td>5839625</td>\n      <td>5996498</td>\n      <td>6285840</td>\n      <td>6450382</td>\n      <td>6678674</td>\n      <td>6638709</td>\n      <td>6631955</td>\n      <td>6833064</td>\n      <td>7348112</td>\n      <td>7730423</td>\n    </tr>\n    <tr>\n      <th>3</th>\n      <td>602caa7558615f560c4ebd14</td>\n      <td>10500</td>\n      <td>Albany, GA (Metropolitan Statistical Area)</td>\n      <td>4244508</td>\n      <td>4397147</td>\n      <td>4504367</td>\n      <td>4663416</td>\n      <td>4890707</td>\n      <td>5027430</td>\n      <td>5089528</td>\n      <td>...</td>\n      <td>5097990</td>\n      <td>5279579</td>\n      <td>5436011</td>\n      <td>5530836</td>\n      <td>5577624</td>\n      <td>5676239</td>\n      <td>5874144</td>\n      <td>5956081</td>\n      <td>6166172</td>\n      <td>6588233</td>\n    </tr>\n    <tr>\n      <th>4</th>\n      <td>602caa7558615f560c4ebd15</td>\n      <td>10540</td>\n      <td>Albany-Lebanon, OR (Metropolitan Statistical A...</td>\n      <td>2663058</td>\n      <td>2858852</td>\n      <td>2788285</td>\n      <td>3140305</td>\n      <td>3252690</td>\n      <td>3692652</td>\n      <td>3643383</td>\n      <td>...</td>\n      <td>3476449</td>\n      <td>3574061</td>\n      <td>3642763</td>\n      <td>3792310</td>\n      <td>3921082</td>\n      <td>4242542</td>\n      <td>4498372</td>\n      <td>4642425</td>\n      <td>5102768</td>\n      <td>5308033</td>\n    </tr>\n  </tbody>\n</table>\n<p>5 rows × 22 columns</p>\n</div>"
     },
     "metadata": {},
     "execution_count": 2
    }
   ],
   "source": [
    "# Create instance of MongoClient\n",
    "client = MongoClient()\n",
    "# Connection URI\n",
    "client = MongoClient('mongodb+srv://<username>:<password>@cluster0.l3pqt.mongodb.net/MSA?retryWrites=true&w=majority')\n",
    "# Select database\n",
    "db = client['MSA']\n",
    "# Select the collection within the database (in this case its GDP_raw data, check list below for other collections)\n",
    "gdp = db.GDP_raw\n",
    "# Convert entire collection to Pandas dataframe\n",
    "df_gdp = pd.DataFrame(list(gdp.find()))\n",
    "df_gdp.head()"
   ]
  },
  {
   "cell_type": "code",
   "execution_count": 3,
   "metadata": {},
   "outputs": [
    {
     "output_type": "execute_result",
     "data": {
      "text/plain": [
       "['GDP_raw',\n",
       " 'employment_raw',\n",
       " 'msa_codes',\n",
       " 'population_raw',\n",
       " 'unemployment_raw']"
      ]
     },
     "metadata": {},
     "execution_count": 3
    }
   ],
   "source": [
    "# This is how to get a list of the collection names in the MSA db\n",
    "client.MSA.collection_names()"
   ]
  },
  {
   "cell_type": "code",
   "execution_count": null,
   "metadata": {},
   "outputs": [],
   "source": []
  }
 ]
}